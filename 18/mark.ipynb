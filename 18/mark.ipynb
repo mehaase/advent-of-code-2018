{
 "cells": [
  {
   "cell_type": "markdown",
   "metadata": {},
   "source": [
    "# Part 1"
   ]
  },
  {
   "cell_type": "code",
   "execution_count": 1,
   "metadata": {},
   "outputs": [],
   "source": [
    "# Stolen from day 6 and modified for today.\n",
    "import itertools\n",
    "\n",
    "class Matrix:\n",
    "    ''' A dense matrix. '''\n",
    "    def __init__(self, rows, cols, initial=' '):\n",
    "        self._rows = rows\n",
    "        self._cols = cols\n",
    "        self._cells = [[initial] * cols for _ in range(rows)]\n",
    "    \n",
    "    def __repr__(self):\n",
    "        return 'Matrix<{}x{}>'.format(self._rows, self._cols)\n",
    "    \n",
    "    def __str__(self):\n",
    "        render = ''\n",
    "        for row in self._cells:\n",
    "            render += ''.join(str(v) for v in row) + '\\n'\n",
    "        return render\n",
    "\n",
    "    def __getitem__(self, key):\n",
    "        row, col = key\n",
    "        if row < 0 or row >= self._rows or col < 0 or col >= self._cols:\n",
    "            raise KeyError(key)\n",
    "        return self._cells[row][col]\n",
    "    \n",
    "    def __setitem__(self, key, val):\n",
    "        row, col = key\n",
    "        if row < 0 or row >= self._rows or col < 0 or col >= self._cols:\n",
    "            raise KeyError(key)\n",
    "        self._cells[row][col] = val\n",
    "    \n",
    "    def clone(self):\n",
    "        m = Matrix(self._rows, self._cols)\n",
    "        for row, col in itertools.product(range(self._rows), range(self._cols)):\n",
    "            m[row,col] = self[row,col]\n",
    "        return m\n",
    "\n",
    "    def get(self, row, col, default=None):\n",
    "        try:\n",
    "            return self[row,col]\n",
    "        except (IndexError,KeyError):\n",
    "            return default\n",
    "    \n",
    "    @property\n",
    "    def size(self):\n",
    "        return self._rows, self._cols\n",
    "\n",
    "    def values(self):\n",
    "        for row, col in itertools.product(range(self._rows), range(self._cols)):\n",
    "            yield self[row, col]"
   ]
  },
  {
   "cell_type": "code",
   "execution_count": 2,
   "metadata": {},
   "outputs": [],
   "source": [
    "def parse_map(text):\n",
    "    ''' Parse text into a map. '''\n",
    "    lines = text.split('\\n')\n",
    "    rows = len(lines)\n",
    "    cols = len(lines[0])\n",
    "    mat = Matrix(rows, cols, initial='.')\n",
    "    for row, line in enumerate(lines):\n",
    "        for col, char in enumerate(line):\n",
    "            if char != '.':\n",
    "                mat[row,col] = char\n",
    "    return mat"
   ]
  },
  {
   "cell_type": "code",
   "execution_count": 3,
   "metadata": {},
   "outputs": [
    {
     "name": "stdout",
     "output_type": "stream",
     "text": [
      ".#.#...|#.\n",
      ".....#|##|\n",
      ".|..|...#.\n",
      "..|#.....#\n",
      "#.#|||#|#|\n",
      "...#.||...\n",
      ".|....|...\n",
      "||...#|.#|\n",
      "|.||||..|.\n",
      "...#.|..|.\n",
      "\n"
     ]
    }
   ],
   "source": [
    "test_text = '''.#.#...|#.\n",
    ".....#|##|\n",
    ".|..|...#.\n",
    "..|#.....#\n",
    "#.#|||#|#|\n",
    "...#.||...\n",
    ".|....|...\n",
    "||...#|.#|\n",
    "|.||||..|.\n",
    "...#.|..|.'''\n",
    "test_map = parse_map(test_text)\n",
    "print(test_map)"
   ]
  },
  {
   "cell_type": "code",
   "execution_count": 4,
   "metadata": {},
   "outputs": [],
   "source": [
    "from collections import Counter\n",
    "\n",
    "def adjacents(map_, x,y):\n",
    "    ''' Return counts of the types of the 8 adjacent cells, ignoring \n",
    "    cells that are outside the bounds. '''\n",
    "    counter = Counter([\n",
    "        map_.get(x-1, y-1), map_.get(x  , y-1), map_.get(x+1, y-1),\n",
    "        map_.get(x-1, y  ),                     map_.get(x+1, y  ),\n",
    "        map_.get(x-1, y+1), map_.get(x  , y+1), map_.get(x+1, y+1),\n",
    "    ])\n",
    "    del counter[None]\n",
    "    return counter"
   ]
  },
  {
   "cell_type": "code",
   "execution_count": 5,
   "metadata": {},
   "outputs": [
    {
     "data": {
      "text/plain": [
       "Counter({'.': 2, '#': 1})"
      ]
     },
     "execution_count": 5,
     "metadata": {},
     "output_type": "execute_result"
    }
   ],
   "source": [
    "adjacents(test_map, 0, 0)"
   ]
  },
  {
   "cell_type": "code",
   "execution_count": 6,
   "metadata": {},
   "outputs": [
    {
     "data": {
      "text/plain": [
       "Counter({'.': 2, '#': 1})"
      ]
     },
     "execution_count": 6,
     "metadata": {},
     "output_type": "execute_result"
    }
   ],
   "source": [
    "adjacents(test_map, 0, 0)"
   ]
  },
  {
   "cell_type": "code",
   "execution_count": 7,
   "metadata": {},
   "outputs": [],
   "source": [
    "def play_round(map_):\n",
    "    ''' Play one round and return an updated copy of map. '''\n",
    "    map2 = map_.clone()\n",
    "    rows, cols = map_.size\n",
    "    for x, y in itertools.product(range(rows), range(cols)):\n",
    "        cell = map_[x, y]\n",
    "        adj = adjacents(map_, x, y)\n",
    "        if cell == '.' and adj['|'] >= 3:\n",
    "            map2[x,y] = '|'\n",
    "        elif cell == '|' and adj['#'] >= 3:\n",
    "            map2[x,y] = '#'\n",
    "        elif cell == '#' and not (adj['#'] >= 1 and adj['|'] >= 1):\n",
    "            map2[x,y] = '.'\n",
    "    return map2"
   ]
  },
  {
   "cell_type": "code",
   "execution_count": 8,
   "metadata": {},
   "outputs": [],
   "source": [
    "test_text = '''.#.#...|#.\n",
    ".....#|##|\n",
    ".|..|...#.\n",
    "..|#.....#\n",
    "#.#|||#|#|\n",
    "...#.||...\n",
    ".|....|...\n",
    "||...#|.#|\n",
    "|.||||..|.\n",
    "...#.|..|.'''\n",
    "test_map = parse_map(test_text)\n",
    "n = 0"
   ]
  },
  {
   "cell_type": "code",
   "execution_count": 9,
   "metadata": {},
   "outputs": [
    {
     "name": "stdout",
     "output_type": "stream",
     "text": [
      ".......##.\n",
      "......|###\n",
      ".|..|...#.\n",
      "..|#||...#\n",
      "..##||.|#|\n",
      "...#||||..\n",
      "||...|||..\n",
      "|||||.||.|\n",
      "||||||||||\n",
      "....||..|.\n",
      "\n",
      "1\n"
     ]
    }
   ],
   "source": [
    "# Run this cell multiple times\n",
    "test_map = play_round(test_map)\n",
    "print(test_map)\n",
    "n += 1\n",
    "print(n)"
   ]
  },
  {
   "cell_type": "code",
   "execution_count": 10,
   "metadata": {},
   "outputs": [],
   "source": [
    "def map_value(map_):\n",
    "    counter = Counter(cell for cell in map_.values())\n",
    "    return counter['|'] * counter['#']"
   ]
  },
  {
   "cell_type": "code",
   "execution_count": 11,
   "metadata": {},
   "outputs": [
    {
     "data": {
      "text/plain": [
       "480"
      ]
     },
     "execution_count": 11,
     "metadata": {},
     "output_type": "execute_result"
    }
   ],
   "source": [
    "map_value(test_map)"
   ]
  },
  {
   "cell_type": "code",
   "execution_count": 12,
   "metadata": {},
   "outputs": [],
   "source": [
    "with open('input.txt') as input_:\n",
    "    map_ = parse_map(input_.read().strip())"
   ]
  },
  {
   "cell_type": "code",
   "execution_count": 13,
   "metadata": {},
   "outputs": [
    {
     "name": "stdout",
     "output_type": "stream",
     "text": [
      ".|#..|#.|.#.#..|.#..##......#...#..#...|.#.#|.|..#\n",
      ".|||.##.#|#..|#.|#.|.............|.....|.....|#||.\n",
      "|...#.||.#.|.|#.#....##..||#...#|..|#...##...|#...\n",
      "...|.##|...|.||...##.#.##.|...#.|#..|..........#.#\n",
      "#..#....#.#.|....#...#|#....|.###........|#.....#.\n",
      "#.##.#..#|##.|||.|..|.|#.....|#.....|||||.#.#.|#..\n",
      "..|....#|...#...#|##...#...|.|...#.#.||.|.|..#.|#.\n",
      "..##.|..||...|.#..#.|.#..|..#.###.#....###........\n",
      "#.....#|.....#.|#....#.|.||||.##..||.#.|.#|.....#|\n",
      "....##...#.......#..|..#||...#||#.|.|.||..#.|||##.\n",
      "###.##..||..###.#..#.#.|.....#.|#..#.#|...|#..|.#.\n",
      "...#|###|||.||...#.||..##..|#|...||#....#...||.#..\n",
      "|..####..#.....|..#..||.#.....##|....||..|......#|\n",
      "|##...|.#......#||#|......#|#.|#....|..#||....|.||\n",
      "...#..||#.||..#|.###|.#.|...|...|##|...##....|.||#\n",
      ".||.|####.#|..|#.....|..#.#.|#.....|.|...##..|....\n",
      "|.#.........#|....|....#||........#.#.....#....|||\n",
      "...|#|..#|...|.|..#.##|#..|......#.....|.||..#||#|\n",
      ".#.....||.#..##.|....#...|.|.#...|.#...|#|..|#|#..\n",
      ".#.#|.|#.#.|.#.#.||.....|#..|.##|#.##..#|..|#|.|..\n",
      "....#......|.....##.......##....|#.........#.....|\n",
      ".......|.......#|...#.|#|.#||...#|..|..||.#...|...\n",
      "#|..#|....|..||.||..|..##|#..##..#|.#.#.#|.|...|#.\n",
      "..#.|#.#..|#..#.|.....#|.#..#...#|....|.|.....|...\n",
      ".#.##|......#.......|#||.|.....#..#.#...|##.#....|\n",
      "...##..#..#.||..|.|#..#.#.....#......|.|..|.....|.\n",
      ".|##..|.|..#||....|....|..#.....|..#...#...#|#||#.\n",
      "...#|#.....#..|.|.|...|##...||###....||...#......#\n",
      ".#|..#..........|.#......|...#..|#|..#.|#|......|.\n",
      "#..#.......||#|..##.#.|...#.|.|||#.....#..|......#\n",
      "....|..|#..#..#.......#..|...#.#.|#.#.#.##||....|.\n",
      "#|#|#.|..|..|.#...|..#.|||......#.........|#.|..||\n",
      "|..||.|..|....#.|..#...#..#.|..##...#||..|........\n",
      ".##..#||..|||.##|###|...###...|...##|......|.|.#..\n",
      "#..##..#....|..|..||.#|.|.#.|.....|.||..|#.|||.##.\n",
      "....#|...|...|.|#....##.#.|.#......##..|.|..#.|#..\n",
      "#||..||#..###||....|..|.|...#..#...|.#..###..|#.|.\n",
      ".#||.|#..##|#|......|.....#|#|......#..||##|.##..|\n",
      ".#|.|..|..###|.#|....||...|...||.||...|...##..||..\n",
      "||#........#..##.....|.|#......|...#..|.##..#...|.\n",
      ".#.#|........||...|#.||.#|.|...|#.#..|....|.|..#..\n",
      ".|.|||||....|.#|...###..|...||.||..........#|...##\n",
      "#||..#...#.#.##|#.|..##..#|#....#.|.|#|....#|.|##|\n",
      "|..|........|.#..........#|..##....|.#|.#.#.|#...|\n",
      ".#.##|..##.#..#...|..#||#.|.#...#|...|#.#..|#..|.|\n",
      ".|.|.#..|#...#.|....#.#......#..|.....|#..........\n",
      "|.#...|#...|........#....#.|.#.#....#....|..|..##.\n",
      ".|....#.#........|..|..|##....###..#..#..#..|#....\n",
      ".|#..#....##...#.....#|##....|##........|.#.#|..|.\n",
      "|.|#.|.#||#....||.#|...#...#.|##......#.|...|..#|#\n",
      "\n"
     ]
    }
   ],
   "source": [
    "print(map_)"
   ]
  },
  {
   "cell_type": "code",
   "execution_count": 14,
   "metadata": {},
   "outputs": [
    {
     "data": {
      "text/plain": [
       "514944"
      ]
     },
     "execution_count": 14,
     "metadata": {},
     "output_type": "execute_result"
    }
   ],
   "source": [
    "for _ in range(10):\n",
    "    map_ = play_round(map_)\n",
    "map_value(map_)"
   ]
  },
  {
   "cell_type": "code",
   "execution_count": 15,
   "metadata": {},
   "outputs": [
    {
     "name": "stdout",
     "output_type": "stream",
     "text": [
      "|||||||........#|||....||||||||...##|||||||||||||.\n",
      "||||||||......###|||..|||||||||...##||||###|||#|||\n",
      "||||||||........#.....||||||#|||...##|######||#||.\n",
      "||||||||.............|||||####||.#######..##|||||.\n",
      "||||||||.............|||||##.#.||######...##||||..\n",
      "|||||||..............||||##.....|#####....||||##..\n",
      "|||||###...............#####.....##......||||##...\n",
      "|||||##....###..........####.............|||###...\n",
      ".|||##.....#####........####..............####....\n",
      ".||||##....#####.........###..............##......\n",
      "|||||##....##|||..................................\n",
      "||||||##..###|||........###...............####....\n",
      "|||||||#######||........###.............######....\n",
      "|||||||||#####..........###.........######||##....\n",
      "|||||##||||##....##.........####....##########....\n",
      "|||||##|||##....###.#####...####||.##||######.....\n",
      "||||||||||##......######|..###|||||||||##.........\n",
      "||||||||||####....###||||..##|||||||||###.........\n",
      "|||||||||||###|...##|||##..##|||||||||##..........\n",
      "|||#||||||||||##...######..##||||||||##...........\n",
      "||||#|||||||||##...###########||||||||##..........\n",
      "||||||||||||||###.......###.#|||.|||||###......###\n",
      ".|..|||||||||||#####.............||||||##....####|\n",
      "....|||||||#|||||####...........|||||||##..####|||\n",
      ".....|||||||#||||||###...|||....||||||||##.##|||||\n",
      "..||||||||||||||||||||||||||....||||||||##.##|||||\n",
      ".||||||||||#|||||||||||##||#....||||||||##.##|||#|\n",
      "|||||||||||#|||####|||#######....|||||||####|||||#\n",
      "||#||||||||||#######||#####......|||||||###|||||||\n",
      "#####|||||||###....##|##.....#||.||||||#||||||||||\n",
      "##.####|||||##....##||##....##||||||||##||||||||||\n",
      ".....###|||##......|||#.....##|||||||####|||###|||\n",
      "......#######.......|.......##||||||.#.########|||\n",
      ".......#####................###|||||.....###..#|||\n",
      ".............................##|||||...........|||\n",
      "..............................##||||............##\n",
      ".........##...................##|||##....###......\n",
      "........###|..................##|||##...####......\n",
      ".......###|||................##||||##..#####....##\n",
      "......###||||................##||||##.####......##\n",
      "......##|||||...###..........##|||###.#####....##|\n",
      "......##||||...||###.........##|||##..##|##....##|\n",
      "......##||||..||||||.........##||##...##||......||\n",
      "##....##|||...|||||||.......##|||##....|||........\n",
      "###..##||||..||||||||......###|||##...............\n",
      "|######||||.||||||||||...####|||||###.....||##....\n",
      "|||##||||..|||||||||||...|#||||||||#|....|||##.###\n",
      "||||||||...||||||||||||..||||||||||||.....|######|\n",
      "||#|||||..#.|||||||||||...|||||||||||...|...###|||\n",
      "|||#|||.||#.|||||||||||.....|||||||.....|...||||||\n",
      "\n"
     ]
    }
   ],
   "source": [
    "print(map_)"
   ]
  },
  {
   "cell_type": "markdown",
   "metadata": {},
   "source": [
    "# Part 2"
   ]
  },
  {
   "cell_type": "code",
   "execution_count": 17,
   "metadata": {},
   "outputs": [],
   "source": [
    "with open('input.txt') as input_:\n",
    "    map_ = parse_map(input_.read().strip())\n",
    "last = 0\n",
    "val = 0\n",
    "i = 0"
   ]
  },
  {
   "cell_type": "code",
   "execution_count": 24,
   "metadata": {},
   "outputs": [
    {
     "name": "stdout",
     "output_type": "stream",
     "text": [
      "round=601 val=184034 delta=3962\n",
      "round=602 val=186930 delta=2896\n",
      "round=603 val=190619 delta=3689\n",
      "round=604 val=193890 delta=3271\n",
      "round=605 val=195300 delta=1410\n",
      "round=606 val=195300 delta=0\n",
      "round=607 val=194856 delta=-444\n",
      "round=608 val=193050 delta=-1806\n",
      "round=609 val=192765 delta=-285\n",
      "round=610 val=191700 delta=-1065\n",
      "round=611 val=188682 delta=-3018\n",
      "round=612 val=186017 delta=-2665\n",
      "round=613 val=182320 delta=-3697\n",
      "round=614 val=180687 delta=-1633\n",
      "round=615 val=180348 delta=-339\n",
      "round=616 val=179820 delta=-528\n",
      "round=617 val=181440 delta=1620\n",
      "round=618 val=182910 delta=1470\n",
      "round=619 val=185433 delta=2523\n",
      "round=620 val=188020 delta=2587\n",
      "round=621 val=189405 delta=1385\n",
      "round=622 val=190704 delta=1299\n",
      "round=623 val=189660 delta=-1044\n",
      "round=624 val=187074 delta=-2586\n",
      "round=625 val=186186 delta=-888\n",
      "round=626 val=187000 delta=814\n",
      "round=627 val=186238 delta=-762\n",
      "round=628 val=187152 delta=914\n",
      "round=629 val=190494 delta=3342\n",
      "round=630 val=193328 delta=2834\n",
      "round=631 val=195789 delta=2461\n",
      "round=632 val=197050 delta=1261\n",
      "round=633 val=197532 delta=482\n",
      "round=634 val=195300 delta=-2232\n",
      "round=635 val=194856 delta=-444\n",
      "round=636 val=193050 delta=-1806\n",
      "round=637 val=192765 delta=-285\n",
      "round=638 val=191700 delta=-1065\n",
      "round=639 val=188682 delta=-3018\n",
      "round=640 val=186017 delta=-2665\n",
      "round=641 val=182320 delta=-3697\n",
      "round=642 val=180687 delta=-1633\n",
      "round=643 val=180348 delta=-339\n",
      "round=644 val=179820 delta=-528\n",
      "round=645 val=181440 delta=1620\n",
      "round=646 val=182910 delta=1470\n",
      "round=647 val=185433 delta=2523\n",
      "round=648 val=188020 delta=2587\n",
      "round=649 val=189405 delta=1385\n",
      "round=650 val=190704 delta=1299\n",
      "round=651 val=189660 delta=-1044\n",
      "round=652 val=187074 delta=-2586\n",
      "round=653 val=186186 delta=-888\n",
      "round=654 val=187000 delta=814\n",
      "round=655 val=186238 delta=-762\n",
      "round=656 val=187152 delta=914\n",
      "round=657 val=190494 delta=3342\n",
      "round=658 val=193328 delta=2834\n",
      "round=659 val=195789 delta=2461\n",
      "round=660 val=197050 delta=1261\n",
      "round=661 val=197532 delta=482\n",
      "round=662 val=195300 delta=-2232\n",
      "round=663 val=194856 delta=-444\n",
      "round=664 val=193050 delta=-1806\n",
      "round=665 val=192765 delta=-285\n",
      "round=666 val=191700 delta=-1065\n",
      "round=667 val=188682 delta=-3018\n",
      "round=668 val=186017 delta=-2665\n",
      "round=669 val=182320 delta=-3697\n",
      "round=670 val=180687 delta=-1633\n",
      "round=671 val=180348 delta=-339\n",
      "round=672 val=179820 delta=-528\n",
      "round=673 val=181440 delta=1620\n",
      "round=674 val=182910 delta=1470\n",
      "round=675 val=185433 delta=2523\n",
      "round=676 val=188020 delta=2587\n",
      "round=677 val=189405 delta=1385\n",
      "round=678 val=190704 delta=1299\n",
      "round=679 val=189660 delta=-1044\n",
      "round=680 val=187074 delta=-2586\n",
      "round=681 val=186186 delta=-888\n",
      "round=682 val=187000 delta=814\n",
      "round=683 val=186238 delta=-762\n",
      "round=684 val=187152 delta=914\n",
      "round=685 val=190494 delta=3342\n",
      "round=686 val=193328 delta=2834\n",
      "round=687 val=195789 delta=2461\n",
      "round=688 val=197050 delta=1261\n",
      "round=689 val=197532 delta=482\n",
      "round=690 val=195300 delta=-2232\n",
      "round=691 val=194856 delta=-444\n",
      "round=692 val=193050 delta=-1806\n",
      "round=693 val=192765 delta=-285\n",
      "round=694 val=191700 delta=-1065\n",
      "round=695 val=188682 delta=-3018\n",
      "round=696 val=186017 delta=-2665\n",
      "round=697 val=182320 delta=-3697\n",
      "round=698 val=180687 delta=-1633\n",
      "round=699 val=180348 delta=-339\n",
      "round=700 val=179820 delta=-528\n"
     ]
    }
   ],
   "source": [
    "# Run this cell repeatedly until map seems to converge\n",
    "for _ in range(100):\n",
    "    i += 1\n",
    "    map_ = play_round(map_)\n",
    "    last, val = val, map_value(map_)\n",
    "    print('round={} val={} delta={}'.format(i, val, val-last))"
   ]
  },
  {
   "cell_type": "markdown",
   "metadata": {},
   "source": [
    "After playing a few hundred rounds, it seems like it settles into a pattern. Notice how this sequence goes through the same 28 values twice.\n",
    "\n",
    "    round=611 val=188682 delta=-3018\n",
    "    round=612 val=186017 delta=-2665\n",
    "    round=613 val=182320 delta=-3697\n",
    "    round=614 val=180687 delta=-1633\n",
    "    round=615 val=180348 delta=-339\n",
    "    round=616 val=179820 delta=-528\n",
    "    round=617 val=181440 delta=1620\n",
    "    round=618 val=182910 delta=1470\n",
    "    round=619 val=185433 delta=2523\n",
    "    round=620 val=188020 delta=2587\n",
    "    round=621 val=189405 delta=1385\n",
    "    round=622 val=190704 delta=1299\n",
    "    round=623 val=189660 delta=-1044\n",
    "    round=624 val=187074 delta=-2586\n",
    "    round=625 val=186186 delta=-888\n",
    "    round=626 val=187000 delta=814\n",
    "    round=627 val=186238 delta=-762\n",
    "    round=628 val=187152 delta=914\n",
    "    round=629 val=190494 delta=3342\n",
    "    round=630 val=193328 delta=2834\n",
    "    round=631 val=195789 delta=2461\n",
    "    round=632 val=197050 delta=1261\n",
    "    round=633 val=197532 delta=482\n",
    "    round=634 val=195300 delta=-2232\n",
    "    round=635 val=194856 delta=-444\n",
    "    round=636 val=193050 delta=-1806\n",
    "    round=637 val=192765 delta=-285\n",
    "    round=638 val=191700 delta=-1065\n",
    "\n",
    "    round=639 val=188682 delta=-3018\n",
    "    round=640 val=186017 delta=-2665\n",
    "    round=641 val=182320 delta=-3697\n",
    "    round=642 val=180687 delta=-1633\n",
    "    round=643 val=180348 delta=-339\n",
    "    round=644 val=179820 delta=-528\n",
    "    round=645 val=181440 delta=1620\n",
    "    round=646 val=182910 delta=1470\n",
    "    round=647 val=185433 delta=2523\n",
    "    round=648 val=188020 delta=2587\n",
    "    round=649 val=189405 delta=1385\n",
    "    round=650 val=190704 delta=1299\n",
    "    round=651 val=189660 delta=-1044\n",
    "    round=652 val=187074 delta=-2586\n",
    "    round=653 val=186186 delta=-888\n",
    "    round=654 val=187000 delta=814\n",
    "    round=655 val=186238 delta=-762\n",
    "    round=656 val=187152 delta=914\n",
    "    round=657 val=190494 delta=3342\n",
    "    round=658 val=193328 delta=2834\n",
    "    round=659 val=195789 delta=2461\n",
    "    round=660 val=197050 delta=1261\n",
    "    round=661 val=197532 delta=482\n",
    "    round=662 val=195300 delta=-2232\n",
    "    round=663 val=194856 delta=-444\n",
    "    round=664 val=193050 delta=-1806\n",
    "    round=665 val=192765 delta=-285\n",
    "    round=666 val=191700 delta=-1065\n",
    "\n",
    "So it seems like I can predict round 1e9 using modular arithmetic."
   ]
  },
  {
   "cell_type": "code",
   "execution_count": 25,
   "metadata": {},
   "outputs": [],
   "source": [
    "def compute_value(age):    \n",
    "    \n",
    "    pattern = [188682,186017,182320,180687,180348,179820,181440,182910,185433,188020,\n",
    "               189405,190704,189660,187074,186186,187000,186238,187152,190494,193328,\n",
    "               195789,197050,197532,195300,194856,193050,192765,191700]\n",
    "    starts_at = 611\n",
    "    idx = (age - starts_at) % len(pattern)\n",
    "    return pattern[idx]"
   ]
  },
  {
   "cell_type": "code",
   "execution_count": 27,
   "metadata": {},
   "outputs": [],
   "source": [
    "# Compare these to the output from above.\n",
    "assert compute_value(611) == 188682\n",
    "assert compute_value(635) == 194856\n",
    "assert compute_value(650) == 190704\n",
    "assert compute_value(665) == 192765"
   ]
  },
  {
   "cell_type": "code",
   "execution_count": 28,
   "metadata": {},
   "outputs": [
    {
     "data": {
      "text/plain": [
       "193050"
      ]
     },
     "execution_count": 28,
     "metadata": {},
     "output_type": "execute_result"
    }
   ],
   "source": [
    "compute_value(1_000_000_000)"
   ]
  },
  {
   "cell_type": "code",
   "execution_count": 29,
   "metadata": {
    "scrolled": false
   },
   "outputs": [
    {
     "name": "stdout",
     "output_type": "stream",
     "text": [
      "...........#||||.........#||||.........#||||......\n",
      "...........##|||.........##|||.........##|||......\n",
      "...........##||||........##||||........##||||.....\n",
      "............##|||.........##|||.........##|||.....\n",
      "...........##||||.........##||||........##||||....\n",
      ".........####|||...........##|||.........##|||....\n",
      ".......||###||||..........##|||.........##|||.....\n",
      ".......|||||||||||........##|||.........##|||.....\n",
      ".......|||||||||||#......##|||.........##|||......\n",
      "........|||||..||##......##|||.........##|||......\n",
      "..........|....|||##...###|||.........##|||.......\n",
      "................||#######||||.........##|||.......\n",
      "................||||###|||||.........##|||........\n",
      ".................||||||||||..........##|||........\n",
      "##................|||||||...........##|||.........\n",
      "##..................|||.............##|||.........\n",
      "|###...............................##|||..........\n",
      "||####.............................##|||..........\n",
      "||||####..........................##|||.........##\n",
      "||||||####.......................###|||.........##\n",
      "..||||||####...................####|||.........##|\n",
      "....||||||####...............####|||||.........##|\n",
      "......||||||####...........####||||||.........##||\n",
      "........||||||####.......####||||||...........##||\n",
      "..........||||||####...####||||||............##|||\n",
      "............||||||#######||||||..............##|||\n",
      "..............||||||###||||||...............##|||.\n",
      "................|||||||||||.................##|||.\n",
      "..................|||||||..................##|||..\n",
      "##..................|||..................####|||..\n",
      "####...................................####||||...\n",
      "||####...............................####||||||...\n",
      "||||####...........................####||||||.....\n",
      "||||||####.......................####||||||.......\n",
      "..||||||####...................####||||||.........\n",
      "....||||||####...............####||||||...........\n",
      "......||||||####...........####||||||.............\n",
      "........||||||####.......####||||||...............\n",
      "..........||||||####...####||||||.................\n",
      "............||||||#######||||||...................\n",
      "..............||||||###||||||..................###\n",
      "................|||||||||||..................####|\n",
      "..................|||||||..................####|||\n",
      "##..................|||..................####|||||\n",
      "####...................................####||||||.\n",
      "||####...............................####||||||...\n",
      "||||####...........................####||||||.....\n",
      "||||||####.......................####||||||.......\n",
      "..||||||####...................####||||||.........\n",
      "....||||||##...................##||||||...........\n",
      "\n"
     ]
    }
   ],
   "source": [
    "# The map looks purdy.\n",
    "print(map_)"
   ]
  }
 ],
 "metadata": {
  "kernelspec": {
   "display_name": "Python 3",
   "language": "python",
   "name": "python3"
  },
  "language_info": {
   "codemirror_mode": {
    "name": "ipython",
    "version": 3
   },
   "file_extension": ".py",
   "mimetype": "text/x-python",
   "name": "python",
   "nbconvert_exporter": "python",
   "pygments_lexer": "ipython3",
   "version": "3.6.7"
  }
 },
 "nbformat": 4,
 "nbformat_minor": 2
}
