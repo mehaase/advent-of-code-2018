{
 "cells": [
  {
   "cell_type": "markdown",
   "metadata": {},
   "source": [
    "# Part 1"
   ]
  },
  {
   "cell_type": "code",
   "execution_count": 1,
   "metadata": {},
   "outputs": [],
   "source": [
    "# Stolen from day 6 and modified for today.\n",
    "import itertools\n",
    "\n",
    "class Matrix:\n",
    "    ''' A dense matrix. '''\n",
    "    def __init__(self, rows, cols, initial=' '):\n",
    "        self._rows = rows\n",
    "        self._cols = cols\n",
    "        self._cells = [[initial] * cols for _ in range(rows)]\n",
    "    \n",
    "    def __repr__(self):\n",
    "        return 'Matrix<{}x{}>'.format(self._rows, self._cols)\n",
    "    \n",
    "    def __str__(self):\n",
    "        render = ''\n",
    "        for row in self._cells:\n",
    "            render += ''.join(str(v) for v in row) + '\\n'\n",
    "        return render\n",
    "\n",
    "    def __getitem__(self, key):\n",
    "        row, col = key\n",
    "        if row < 0 or row >= self._rows or col < 0 or col >= self._cols:\n",
    "            raise KeyError(key)\n",
    "        return self._cells[row][col]\n",
    "    \n",
    "    def __setitem__(self, key, val):\n",
    "        row, col = key\n",
    "        if row < 0 or row >= self._rows or col < 0 or col >= self._cols:\n",
    "            raise KeyError(key)\n",
    "        self._cells[row][col] = val\n",
    "    \n",
    "    def clone(self):\n",
    "        m = Matrix(self._rows, self._cols)\n",
    "        for row, col in itertools.product(range(self._rows), range(self._cols)):\n",
    "            m[row,col] = self[row,col]\n",
    "        return m\n",
    "\n",
    "    def get(self, row, col, default=None):\n",
    "        try:\n",
    "            return self[row,col]\n",
    "        except (IndexError,KeyError):\n",
    "            return default\n",
    "    \n",
    "    @property\n",
    "    def size(self):\n",
    "        return self._rows, self._cols\n",
    "\n",
    "    def values(self):\n",
    "        for row, col in itertools.product(range(self._rows), range(self._cols)):\n",
    "            yield self[row, col]\n",
    "    \n",
    "    def visit(self):\n",
    "        ''' Yield each cell and its coordinates. '''\n",
    "        for row, col in itertools.product(range(self._rows), range(self._cols)):\n",
    "            yield row, col, self[row,col]"
   ]
  },
  {
   "cell_type": "code",
   "execution_count": 2,
   "metadata": {},
   "outputs": [],
   "source": [
    "def build_map(depth, target_x, target_y, map_x, map_y):\n",
    "    ''' Build a map of the given depth from 0,0 to map_x, map_y. '''\n",
    "    # Create a map that stores erosion levels.\n",
    "    erosion_levels = Matrix(map_x+1, map_y+1, initial=None)\n",
    "\n",
    "    def geologic_index(x, y):\n",
    "        nonlocal target_x, target_y\n",
    "        if x == y == 0:\n",
    "            gi = 0\n",
    "        elif (x, y) == (target_x, target_y):\n",
    "            gi = 0\n",
    "        elif x == 0:\n",
    "            gi = y * 48271\n",
    "        elif y == 0:\n",
    "            gi = x * 16807\n",
    "        else:\n",
    "            gi = (erosion_levels[x-1,y] * erosion_levels[x,y-1])\n",
    "        return gi\n",
    "\n",
    "    def erosion_level(x, y):\n",
    "        return (geologic_index(x, y) + depth) % 20183\n",
    "\n",
    "    # Fill in the origin and axes first.\n",
    "    erosion_levels[0,0] = erosion_level(0, 0)\n",
    "    for x in range(1, map_x+1):\n",
    "        erosion_levels[x,0] = erosion_level(x, 0)\n",
    "    for y in range(1, map_y+1):\n",
    "        erosion_levels[0,y] = erosion_level(0, y)\n",
    "    \n",
    "    # Fill in the rest of the map.\n",
    "    for x, y in itertools.product(range(1, map_x+1), range(1, map_y+1)):\n",
    "        erosion_levels[x,y] = erosion_level(x,y)\n",
    "\n",
    "    # Convert map from erosion levels to region types.\n",
    "    regions = Matrix(*erosion_levels.size)\n",
    "    for x, y, erosion_level in erosion_levels.visit():\n",
    "        regions[x,y] = erosion_level % 3\n",
    "    return regions\n",
    "\n",
    "def render_regions(regions, target_x, target_y):\n",
    "    # Note that the Matrix class uses r,c coordinates, which are flipped\n",
    "    # from the x,y coordinates used in this problem. When visualizing the\n",
    "    # matrix, we compute a transpose and display that instead, so that\n",
    "    # our visuals match up with the examples in the problem.\n",
    "    REGION_CHARS = ['.', '=', '|']\n",
    "    rows, cols = regions.size\n",
    "    mat = Matrix(cols, rows)\n",
    "    for x, y, region in regions.visit():\n",
    "        if (x,y) == (0,0):\n",
    "            char = 'M'\n",
    "        elif (x,y) == (target_x, target_y):\n",
    "            char = 'T'\n",
    "        else:\n",
    "            char = REGION_CHARS[regions[x,y]]\n",
    "        mat[y,x] = char\n",
    "    return str(mat)\n",
    "\n",
    "def print_regions(regions, target_x, target_y):\n",
    "    print(render_regions(regions, target_x, target_y))"
   ]
  },
  {
   "cell_type": "code",
   "execution_count": 3,
   "metadata": {},
   "outputs": [
    {
     "name": "stdout",
     "output_type": "stream",
     "text": [
      "M=.|=.|.|=.|=|=.\n",
      ".|=|=|||..|.=...\n",
      ".==|....||=..|==\n",
      "=.|....|.==.|==.\n",
      "=|..==...=.|==..\n",
      "=||.=.=||=|=..|=\n",
      "|.=.===|||..=..|\n",
      "|..==||=.|==|===\n",
      ".=..===..=|.|||.\n",
      ".======|||=|=.|=\n",
      ".===|=|===T===||\n",
      "=|||...|==..|=.|\n",
      "=.=|=.=..=.||==|\n",
      "||=|=...|==.=|==\n",
      "|=.=||===.|||===\n",
      "||.|==.|.|.||=||\n",
      "\n"
     ]
    }
   ],
   "source": [
    "regions = build_map(510, 10, 10, 15, 15)\n",
    "print_regions(regions, 10, 10)"
   ]
  },
  {
   "cell_type": "code",
   "execution_count": 4,
   "metadata": {},
   "outputs": [],
   "source": [
    "def sum_regions(mat, target_x, target_y):\n",
    "    sum_ = 0\n",
    "    for x, y, val in mat.visit():\n",
    "        if x <= target_x and y <= target_y:\n",
    "            sum_ += val\n",
    "    return sum_"
   ]
  },
  {
   "cell_type": "code",
   "execution_count": 5,
   "metadata": {},
   "outputs": [
    {
     "data": {
      "text/plain": [
       "114"
      ]
     },
     "execution_count": 5,
     "metadata": {},
     "output_type": "execute_result"
    }
   ],
   "source": [
    "sum_regions(regions, 10, 10)"
   ]
  },
  {
   "cell_type": "code",
   "execution_count": 6,
   "metadata": {},
   "outputs": [],
   "source": [
    "# This is the problem input:\n",
    "regions = build_map(5616, 10, 785, 10, 785)"
   ]
  },
  {
   "cell_type": "code",
   "execution_count": 7,
   "metadata": {},
   "outputs": [],
   "source": [
    "with open('output.txt', 'w') as output_:\n",
    "    output_.write(render_regions(regions, 10, 785))"
   ]
  },
  {
   "cell_type": "code",
   "execution_count": 8,
   "metadata": {},
   "outputs": [
    {
     "data": {
      "text/plain": [
       "8681"
      ]
     },
     "execution_count": 8,
     "metadata": {},
     "output_type": "execute_result"
    }
   ],
   "source": [
    "sum_regions(regions, 10, 785)"
   ]
  },
  {
   "cell_type": "markdown",
   "metadata": {},
   "source": [
    "# Part 2"
   ]
  },
  {
   "cell_type": "markdown",
   "metadata": {},
   "source": [
    "Part 2 is totally different from part 1, and it is way more difficult. My general strategy here is to create a matrix where each cell stores the lowest cost path from the origin to that cell.\n",
    "\n",
    "To accomplish this, I define a function that computes the cost for all neighbors of a given cell. The cost for each neighbor is equal to the cost of the current cell plus the cost of moving to that neighbor. If this cost is less than the neighbor's current cost, then the neighbor's cost is updated to this lower cost, and the neighbor is placed on a stack of cells to recompute. This algorithm completes when the stack is empty.\n",
    "\n",
    "There are two complications: first, the cost varies depending on which tool is currently equipped. Therefore, instead of storing one cost at each cell, I'm going to store three costs: the cost for arriving at that cell with that particular tool equipped. The cost of moving between two cells depends on their respective regions. If the two regions are same, then the cost is +1 for the two gears that are allowed and NA for the gear that is not allowed.\n",
    "\n",
    "If two regions are different, then one gear will be in common between both regions. That gear is +1. One gear is not allowed in the new region and stays NA. The third gear is not allowed in the old region but is allowed in the new region, so it is equal to the first gear + 7, because you could move to this region and then switch gear.\n",
    "\n",
    "    Wet -> Rock      (C in common, N not allowed, T=C+7)\n",
    "    Wet -> Narrow    (N in common, C not allowed, T=N+7)\n",
    "    Rock -> Wet      (C in common, T not allowed, N=C+7)\n",
    "    Rock -> Narrow   (T in common, C not allowed, N=T+7)\n",
    "    Narrow -> Wet    (N in common, T not allowed, C=N+7)\n",
    "    Narrow -> Rock   (T in common, N not allowed, C=T+7)\n",
    "\n",
    "The second complication is that the map grows infinitely in the positive x and y directions. If you're currently adjacent to a destination and you need to switch tools, then it takes 8 minutes to move there. If you try to go around on a path that doesn't require changing tools, you cannot go more than 3 steps out of the way spaces without losing optimality.\n",
    "\n",
    "    Source      → 1 → 2 → 3\n",
    "      ↓                   ↓\n",
    "    Destination ← 6 ← 5 ← 4\n",
    "\n",
    "If you had to go 4 steps out of the way, it would be just as fast to change tools and move directly to the destination. For this reason, I think I need to compute a matrix that is 3 units larger in each direction."
   ]
  },
  {
   "cell_type": "code",
   "execution_count": 9,
   "metadata": {},
   "outputs": [],
   "source": [
    "from dataclasses import dataclass, field\n",
    "\n",
    "@dataclass\n",
    "class PathCost:\n",
    "    torch: int = field(default=None)\n",
    "    climbing: int = field(default=None)\n",
    "    neither: int = field(default=None)\n",
    "\n",
    "    def __repr__(self):\n",
    "        ''' This representation is a bit cryptic, but its just compact enough to \n",
    "        display 10 columns on my laptop screen. '''\n",
    "        fmt = '{:02d}'\n",
    "        torch = 'NA' if self.torch is None else fmt.format(self.torch)\n",
    "        climbing = 'NA' if self.climbing is None else fmt.format(self.climbing)\n",
    "        neither = 'NA' if self.neither is None else fmt.format(self.neither)\n",
    "        return '{}{}{}'.format(torch, climbing, neither)\n",
    "    \n",
    "    def update(self, new_cost):\n",
    "        ''' Copy any values in new cost that are less than the corresponding \n",
    "        values in this cost. Return True if any of the old values were modified. '''\n",
    "        updated = False\n",
    "        if new_cost.torch is not None and new_cost.torch < self.torch:\n",
    "            self.torch = new_cost.torch\n",
    "            updated = True\n",
    "        if new_cost.climbing is not None and new_cost.climbing < self.climbing:\n",
    "            self.climbing = new_cost.climbing\n",
    "            updated = True\n",
    "        if new_cost.neither is not None and new_cost.neither < self.neither:\n",
    "            self.neither = new_cost.neither\n",
    "            updated = True\n",
    "        return updated"
   ]
  },
  {
   "cell_type": "code",
   "execution_count": 10,
   "metadata": {},
   "outputs": [],
   "source": [
    "def get_move_cost(start_cost, start_region, new_region):\n",
    "    ''' Return the cost associated with moving to a new region. See discussion\n",
    "    above. '''\n",
    "    if new_region == 0:\n",
    "        if start_region == 0:\n",
    "            # Rock -> Rock (C & T allowed, N not allowed)\n",
    "            return PathCost(\n",
    "                torch=start_cost.torch + 1,\n",
    "                climbing=start_cost.climbing + 1,\n",
    "                neither=None)\n",
    "        elif start_region == 1:\n",
    "            # Wet -> Rock (C in common, N not allowed, T=C+7)\n",
    "            return PathCost(\n",
    "                torch=start_cost.climbing + 8,\n",
    "                climbing=start_cost.climbing + 1,\n",
    "                neither=None)\n",
    "        elif start_region == 2:\n",
    "            # Narrow -> Rock (T in common, N not allowed, C=T+7)\n",
    "            return PathCost(\n",
    "                torch=start_cost.torch + 1,\n",
    "                climbing=start_cost.torch + 8,\n",
    "                neither=None)\n",
    "    elif new_region == 1:\n",
    "        if start_region == 0:\n",
    "            # Rock -> Wet (C in common, T not allowed, N=C+7)\n",
    "            return PathCost(\n",
    "                torch=None,\n",
    "                climbing=start_cost.climbing + 1,\n",
    "                neither=start_cost.climbing + 8)\n",
    "        elif start_region == 1:\n",
    "            # Wet -> Wet (C & N allowed, T not allowed)\n",
    "            return PathCost(\n",
    "                torch=None,\n",
    "                climbing=start_cost.climbing+1,\n",
    "                neither=start_cost.neither+1)\n",
    "        elif start_region == 2:\n",
    "            # Narrow -> Wet (N in common, T not allowed, C=N+7)\n",
    "            return PathCost(\n",
    "                torch=None,\n",
    "                climbing=start_cost.neither + 8,\n",
    "                neither=start_cost.neither + 1)\n",
    "    elif new_region == 2:\n",
    "        if start_region == 0:\n",
    "            # Rock -> Narrow (T in common, C not allowed, N=T+7)\n",
    "            return PathCost(\n",
    "                torch=start_cost.torch + 1,\n",
    "                climbing=None,\n",
    "                neither=start_cost.torch + 8)\n",
    "        elif start_region == 1:\n",
    "            # Wet -> Narrow (N in common, C not allowed, T=N+7)\n",
    "            return PathCost(\n",
    "                torch=start_cost.neither + 8,\n",
    "                climbing=None,\n",
    "                neither=start_cost.neither + 1)\n",
    "        elif start_region == 2:\n",
    "            # Narrow -> Narrow (T & N allowed, C not allowed)\n",
    "            return PathCost(\n",
    "                torch=start_cost.torch+1,\n",
    "                climbing=None,\n",
    "                neither=start_cost.neither+1)\n",
    "    raise Exception('Should not happen')"
   ]
  },
  {
   "cell_type": "code",
   "execution_count": 11,
   "metadata": {},
   "outputs": [
    {
     "data": {
      "text/plain": [
       "0101NA"
      ]
     },
     "execution_count": 11,
     "metadata": {},
     "output_type": "execute_result"
    }
   ],
   "source": [
    "# Moving from rock->rock. Torch and climbing should both go up by 1,\n",
    "# and neither should be NA.\n",
    "get_move_cost(PathCost(torch=0, climbing=0, neither=None), 0, 0)"
   ]
  },
  {
   "cell_type": "code",
   "execution_count": 12,
   "metadata": {},
   "outputs": [
    {
     "data": {
      "text/plain": [
       "NA0108"
      ]
     },
     "execution_count": 12,
     "metadata": {},
     "output_type": "execute_result"
    }
   ],
   "source": [
    "# Moving from rock->wet, climbing should go up 1 because it is allowed\n",
    "# in both regions. Torch should be NA because it is not allowed in wet.\n",
    "# Neither should be 8, because you can take climbing gear (1 minute) \n",
    "# and then switch to neither (7 minutes).\n",
    "get_move_cost(PathCost(torch=0, climbing=0, neither=None), 0, 1)"
   ]
  },
  {
   "cell_type": "code",
   "execution_count": 35,
   "metadata": {},
   "outputs": [],
   "source": [
    "def shortest_path(regions, target_x, target_y, debug=False):\n",
    "    ''' Compute the cost of the shortest path through the regions matrix\n",
    "    to reach the target coordinates. '''\n",
    "    # The cost at the origin is zero when you have the torch. If you switch\n",
    "    # equipment right there, then you incur cost before you move.\n",
    "    costs = Matrix(*regions.size, initial=None)\n",
    "    costs[0,0] = PathCost(torch=0, climbing=7, neither=None)\n",
    "    map_x, map_y = regions.size\n",
    "\n",
    "    # Keep a set of cells that need to be processed.\n",
    "    to_process = set()\n",
    "    to_process.add((0,0))\n",
    "    while to_process:\n",
    "        # Get the next cell to process.\n",
    "        start_x, start_y = to_process.pop()\n",
    "        start_cost = costs[start_x, start_y]\n",
    "        start_region = regions[start_x, start_y]\n",
    "        \n",
    "        # Check the 4 neighbors\n",
    "        neighbors = (\n",
    "            (start_x-1,start_y  ),\n",
    "            (start_x+1,start_y  ),\n",
    "            (start_x  ,start_y-1),\n",
    "            (start_x  ,start_y+1),\n",
    "        )\n",
    "        for neighbor_x, neighbor_y in neighbors:\n",
    "            if neighbor_x < 0 or neighbor_y < 0 or \\\n",
    "               neighbor_x >= map_x or neighbor_y >= map_y:\n",
    "                continue\n",
    "            neighbor_region = regions[neighbor_x, neighbor_y]\n",
    "            old_cost = costs[neighbor_x, neighbor_y]\n",
    "            new_cost = get_move_cost(start_cost, start_region, neighbor_region)\n",
    "            if old_cost is None:\n",
    "                # If there is no previous cost computed for this neighbor, then this cost\n",
    "                # is the new optimal cost.\n",
    "                costs[neighbor_x, neighbor_y] = new_cost\n",
    "                to_process.add((neighbor_x, neighbor_y))\n",
    "            else:\n",
    "                # If any of the the new costs are lower than the old costs, then\n",
    "                # update the cost and put the neighbor on the stack.\n",
    "                if old_cost.update(new_cost):\n",
    "                    to_process.add((neighbor_x, neighbor_y))\n",
    "    if debug:\n",
    "        print_costs(costs, regions)\n",
    "    return costs[target_x,target_y].torch\n",
    "\n",
    "def print_costs(costs, regions):\n",
    "    ''' For debugging. '''\n",
    "    REGION_CHARS = ['.', '=', '|']\n",
    "    cx, cy = costs.size\n",
    "    print('   {}'.format(' '.join('{:7d}'.format(x) for x in range(cx))))\n",
    "    for y in range(cy):\n",
    "        line = ' '.join(REGION_CHARS[regions[x,y]] + str(costs[x,y] if costs[x,y] is not None else 'NA')\n",
    "            for x in range(cx))\n",
    "        print('{:2d} {}'.format(y, line))"
   ]
  },
  {
   "cell_type": "code",
   "execution_count": 14,
   "metadata": {},
   "outputs": [
    {
     "name": "stdout",
     "output_type": "stream",
     "text": [
      "M=.|=.|.|=.|=|\n",
      ".|=|=|||..|.=.\n",
      ".==|....||=..|\n",
      "=.|....|.==.|=\n",
      "=|..==...=.|==\n",
      "=||.=.=||=|=..\n",
      "|.=.===|||..=.\n",
      "|..==||=.|==|=\n",
      ".=..===..=|.||\n",
      ".======|||=|=.\n",
      ".===|=|===T===\n",
      "=|||...|==..|=\n",
      "=.=|=.=..=.||=\n",
      "||=|=...|==.=|\n",
      "\n"
     ]
    }
   ],
   "source": [
    "# Sample problem. Note that I'm building regions with 3 extra units in each dimension:\n",
    "# 13 instead of 10.\n",
    "regions = build_map(510, 10, 10, 13, 13)\n",
    "print_regions(regions, 10, 10)"
   ]
  },
  {
   "cell_type": "code",
   "execution_count": 15,
   "metadata": {},
   "outputs": [
    {
     "name": "stdout",
     "output_type": "stream",
     "text": [
      "         0       1       2       3       4       5       6       7       8       9      10      11      12      13\n",
      " 0 .0007NA =NA0810 .1609NA |17NA12 =NA2013 .2121NA |22NA15 .2330NA |24NA31 =NA3232 .2633NA |27NA34 =NA3435 |31NA36\n",
      " 1 .0108NA |02NA09 =NA1010 |18NA11 =NA1912 |20NA13 |21NA14 |22NA15 .2330NA .2431NA |25NA32 .2632NA =NA3336 .3034NA\n",
      " 2 .0209NA =NA1010 =NA1111 |19NA12 .2020NA .2121NA .2222NA .2323NA |24NA31 |25NA32 =NA3033 .2731NA .2832NA |29NA36\n",
      " 3 =NA1017 .1811NA |19NA12 .2022NA .2121NA .2222NA .2323NA |24NA31 .2527NA =NA2833 =NA2934 .2830NA |29NA36 =NA4337\n",
      " 4 =NA1118 |19NA19 .2024NA .2123NA =NA2229 =NA2330 .2424NA .2525NA .2626NA =NA2734 .3028NA |29NA36 =NA4137 =NA4238\n",
      " 5 =NA1219 |20NA20 |21NA21 .2224NA =NA2330 .3124NA =NA2532 |26NA33 |27NA34 =NA2835 |31NA36 =NA3937 .4740NA .4841NA\n",
      " 6 |22NA20 .2127NA =NA2622 .2325NA =NA2431 =NA2532 =NA2633 |27NA34 |28NA35 |29NA36 .3037NA .3138NA =NA3941 .4740NA\n",
      " 7 |23NA21 .2228NA .2327NA =NA2633 =NA2532 |40NA33 |41NA34 =NA3035 .2931NA |30NA37 =NA3838 =NA3939 |47NA40 =NA4141\n",
      " 8 .2430NA =NA2936 .2428NA .2527NA =NA2633 =NA2734 =NA2835 .3129NA .3030NA =NA3138 |46NA39 .4740NA |48NA41 |49NA42\n",
      " 9 .2531NA =NA3037 =NA2936 =NA2835 =NA2734 =NA2835 =NA2936 |32NA37 |31NA38 |32NA39 =NA3940 |48NA41 =NA4142 .4942NA\n",
      "10 .2632NA =NA3138 =NA3037 =NA2936 |39NA35 =NA2936 |39NA37 =NA3738 =NA3639 =NA3740 .4538NA =NA3942 =NA4043 =NA4144\n",
      "11 =NA3340 |41NA39 |40NA38 |39NA37 .3831NA .3730NA .3831NA |39NA39 =NA3540 =NA3641 .4437NA .4538NA |46NA44 =NA4245\n",
      "12 =NA3441 .4235NA =NA3639 |40NA38 =NA3239 .3831NA =NA3239 .4033NA .4134NA =NA3542 .4336NA |44NA46 |45NA45 =NA4346\n",
      "13 |44NA42 |43NA41 =NA3740 |41NA39 =NA3340 .3932NA .4033NA .4134NA |42NA44 =NA3643 =NA3744 .4538NA =NA3946 |54NA47\n"
     ]
    },
    {
     "data": {
      "text/plain": [
       "45"
      ]
     },
     "execution_count": 15,
     "metadata": {},
     "output_type": "execute_result"
    }
   ],
   "source": [
    "shortest_path(regions, 10, 10, debug=True)"
   ]
  },
  {
   "cell_type": "code",
   "execution_count": 16,
   "metadata": {},
   "outputs": [],
   "source": [
    "# This is the problem input. Again, I'm building 3 extra units in each dimension.\n",
    "regions = build_map(5616, 10, 785, 13, 788)"
   ]
  },
  {
   "cell_type": "code",
   "execution_count": 17,
   "metadata": {},
   "outputs": [
    {
     "name": "stdout",
     "output_type": "stream",
     "text": [
      "CPU times: user 14.9 s, sys: 31.2 ms, total: 14.9 s\n",
      "Wall time: 14.9 s\n"
     ]
    },
    {
     "data": {
      "text/plain": [
       "1130"
      ]
     },
     "execution_count": 17,
     "metadata": {},
     "output_type": "execute_result"
    }
   ],
   "source": [
    "%%time\n",
    "# This is too high!\n",
    "print(shortest_path(regions, 10, 785))"
   ]
  },
  {
   "cell_type": "code",
   "execution_count": 37,
   "metadata": {},
   "outputs": [],
   "source": [
    "# Let's try a bigger regions map.\n",
    "regions = build_map(5616, 10, 785, 15, 790)"
   ]
  },
  {
   "cell_type": "code",
   "execution_count": 38,
   "metadata": {},
   "outputs": [
    {
     "name": "stdout",
     "output_type": "stream",
     "text": [
      "CPU times: user 16.7 s, sys: 16.7 ms, total: 16.7 s\n",
      "Wall time: 16.7 s\n"
     ]
    },
    {
     "data": {
      "text/plain": [
       "1122"
      ]
     },
     "execution_count": 38,
     "metadata": {},
     "output_type": "execute_result"
    }
   ],
   "source": [
    "%%time\n",
    "# 1122 is still too high! But clearly my reasoning about making a map\n",
    "# that is 3 units larger is faulty: this map is 5 units larger than the target,\n",
    "# and it has a smaller total than the previous map. I will try making larger\n",
    "# and larger maps until the path stops decreasing.\n",
    "shortest_path(regions, 10, 785)"
   ]
  },
  {
   "cell_type": "code",
   "execution_count": 39,
   "metadata": {},
   "outputs": [],
   "source": [
    "regions = build_map(5616, 10, 785, 20, 800)"
   ]
  },
  {
   "cell_type": "code",
   "execution_count": 40,
   "metadata": {},
   "outputs": [
    {
     "name": "stdout",
     "output_type": "stream",
     "text": [
      "CPU times: user 24.1 s, sys: 48.1 ms, total: 24.2 s\n",
      "Wall time: 24.2 s\n"
     ]
    },
    {
     "data": {
      "text/plain": [
       "1108"
      ]
     },
     "execution_count": 40,
     "metadata": {},
     "output_type": "execute_result"
    }
   ],
   "source": [
    "%%time\n",
    "shortest_path(regions, 10, 785)"
   ]
  },
  {
   "cell_type": "code",
   "execution_count": 41,
   "metadata": {},
   "outputs": [],
   "source": [
    "regions = build_map(5616, 10, 785, 25, 810)"
   ]
  },
  {
   "cell_type": "code",
   "execution_count": 42,
   "metadata": {},
   "outputs": [
    {
     "name": "stdout",
     "output_type": "stream",
     "text": [
      "CPU times: user 30.8 s, sys: 17.6 ms, total: 30.8 s\n",
      "Wall time: 30.8 s\n"
     ]
    },
    {
     "data": {
      "text/plain": [
       "1088"
      ]
     },
     "execution_count": 42,
     "metadata": {},
     "output_type": "execute_result"
    }
   ],
   "source": [
    "%%time\n",
    "shortest_path(regions, 10, 785)"
   ]
  },
  {
   "cell_type": "code",
   "execution_count": 43,
   "metadata": {},
   "outputs": [],
   "source": [
    "regions = build_map(5616, 10, 785, 30, 820)"
   ]
  },
  {
   "cell_type": "code",
   "execution_count": 45,
   "metadata": {},
   "outputs": [
    {
     "name": "stdout",
     "output_type": "stream",
     "text": [
      "CPU times: user 47.3 s, sys: 63.3 ms, total: 47.4 s\n",
      "Wall time: 47.5 s\n"
     ]
    },
    {
     "data": {
      "text/plain": [
       "1075"
      ]
     },
     "execution_count": 45,
     "metadata": {},
     "output_type": "execute_result"
    }
   ],
   "source": [
    "%%time\n",
    "shortest_path(regions, 10, 785)"
   ]
  },
  {
   "cell_type": "code",
   "execution_count": 46,
   "metadata": {},
   "outputs": [],
   "source": [
    "regions = build_map(5616, 10, 785, 35, 830)"
   ]
  },
  {
   "cell_type": "code",
   "execution_count": 47,
   "metadata": {},
   "outputs": [
    {
     "name": "stdout",
     "output_type": "stream",
     "text": [
      "CPU times: user 1min, sys: 76.1 ms, total: 1min 1s\n",
      "Wall time: 1min 1s\n"
     ]
    },
    {
     "data": {
      "text/plain": [
       "1075"
      ]
     },
     "execution_count": 47,
     "metadata": {},
     "output_type": "execute_result"
    }
   ],
   "source": [
    "%%time\n",
    "# Got the same answer twice! But it still says my answer is too high.\n",
    "shortest_path(regions, 10, 785)"
   ]
  },
  {
   "cell_type": "code",
   "execution_count": 48,
   "metadata": {},
   "outputs": [],
   "source": [
    "regions = build_map(5616, 10, 785, 40, 840)"
   ]
  },
  {
   "cell_type": "code",
   "execution_count": 49,
   "metadata": {},
   "outputs": [
    {
     "name": "stdout",
     "output_type": "stream",
     "text": [
      "CPU times: user 1min 10s, sys: 81.8 ms, total: 1min 10s\n",
      "Wall time: 1min 10s\n"
     ]
    },
    {
     "data": {
      "text/plain": [
       "1075"
      ]
     },
     "execution_count": 49,
     "metadata": {},
     "output_type": "execute_result"
    }
   ],
   "source": [
    "%%time\n",
    "shortest_path(regions, 10, 785)"
   ]
  },
  {
   "cell_type": "code",
   "execution_count": 50,
   "metadata": {},
   "outputs": [],
   "source": [
    "regions = build_map(5616, 10, 785, 50, 860)"
   ]
  },
  {
   "cell_type": "code",
   "execution_count": 51,
   "metadata": {},
   "outputs": [
    {
     "name": "stdout",
     "output_type": "stream",
     "text": [
      "CPU times: user 1min 22s, sys: 74.6 ms, total: 1min 22s\n",
      "Wall time: 1min 22s\n"
     ]
    },
    {
     "data": {
      "text/plain": [
       "1070"
      ]
     },
     "execution_count": 51,
     "metadata": {},
     "output_type": "execute_result"
    }
   ],
   "source": [
    "%%time\n",
    "shortest_path(regions, 10, 785)"
   ]
  },
  {
   "cell_type": "code",
   "execution_count": 52,
   "metadata": {},
   "outputs": [],
   "source": [
    "regions = build_map(5616, 10, 785, 60, 880)"
   ]
  },
  {
   "cell_type": "code",
   "execution_count": 53,
   "metadata": {},
   "outputs": [
    {
     "name": "stdout",
     "output_type": "stream",
     "text": [
      "CPU times: user 1min 42s, sys: 153 ms, total: 1min 42s\n",
      "Wall time: 1min 42s\n"
     ]
    },
    {
     "data": {
      "text/plain": [
       "1070"
      ]
     },
     "execution_count": 53,
     "metadata": {},
     "output_type": "execute_result"
    }
   ],
   "source": [
    "%%time\n",
    "shortest_path(regions, 10, 785)"
   ]
  },
  {
   "cell_type": "code",
   "execution_count": 54,
   "metadata": {},
   "outputs": [],
   "source": [
    "regions = build_map(5616, 10, 785, 70, 900)"
   ]
  },
  {
   "cell_type": "code",
   "execution_count": 55,
   "metadata": {},
   "outputs": [
    {
     "name": "stdout",
     "output_type": "stream",
     "text": [
      "CPU times: user 2min, sys: 155 ms, total: 2min 1s\n",
      "Wall time: 2min 1s\n"
     ]
    },
    {
     "data": {
      "text/plain": [
       "1070"
      ]
     },
     "execution_count": 55,
     "metadata": {},
     "output_type": "execute_result"
    }
   ],
   "source": [
    "%%time\n",
    "# I got 1070 several times in a row, so check if its the right answer...\n",
    "# YES!\n",
    "shortest_path(regions, 10, 785)"
   ]
  }
 ],
 "metadata": {
  "kernelspec": {
   "display_name": "Python 3",
   "language": "python",
   "name": "python3"
  },
  "language_info": {
   "codemirror_mode": {
    "name": "ipython",
    "version": 3
   },
   "file_extension": ".py",
   "mimetype": "text/x-python",
   "name": "python",
   "nbconvert_exporter": "python",
   "pygments_lexer": "ipython3",
   "version": "3.7.0"
  }
 },
 "nbformat": 4,
 "nbformat_minor": 2
}
