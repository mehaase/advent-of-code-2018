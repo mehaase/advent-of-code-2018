{
 "cells": [
  {
   "cell_type": "markdown",
   "metadata": {},
   "source": [
    "# Part 1"
   ]
  },
  {
   "cell_type": "code",
   "execution_count": 1,
   "metadata": {},
   "outputs": [],
   "source": [
    "# Stolen from day 6 and modified for today.\n",
    "import itertools\n",
    "\n",
    "class Matrix:\n",
    "    ''' A dense matrix. '''\n",
    "    def __init__(self, rows, cols, initial=' '):\n",
    "        self._rows = rows\n",
    "        self._cols = cols\n",
    "        self._cells = [[initial] * cols for _ in range(rows)]\n",
    "    \n",
    "    def __repr__(self):\n",
    "        return 'Matrix<{}x{}>'.format(self._rows, self._cols)\n",
    "    \n",
    "    def __str__(self):\n",
    "        render = ''\n",
    "        for row in self._cells:\n",
    "            render += ''.join(str(v) for v in row) + '\\n'\n",
    "        return render\n",
    "\n",
    "    def __getitem__(self, key):\n",
    "        row, col = key\n",
    "        if row < 0 or row >= self._rows or col < 0 or col >= self._cols:\n",
    "            raise KeyError(key)\n",
    "        return self._cells[row][col]\n",
    "    \n",
    "    def __setitem__(self, key, val):\n",
    "        row, col = key\n",
    "        if row < 0 or row >= self._rows or col < 0 or col >= self._cols:\n",
    "            raise KeyError(key)\n",
    "        self._cells[row][col] = val\n",
    "    \n",
    "    def clone(self):\n",
    "        m = Matrix(self._rows, self._cols)\n",
    "        for row, col in itertools.product(range(self._rows), range(self._cols)):\n",
    "            m[row,col] = self[row,col]\n",
    "        return m\n",
    "\n",
    "    def get(self, row, col, default=None):\n",
    "        try:\n",
    "            return self[row,col]\n",
    "        except (IndexError,KeyError):\n",
    "            return default\n",
    "    \n",
    "    @property\n",
    "    def size(self):\n",
    "        return self._rows, self._cols\n",
    "\n",
    "    def values(self):\n",
    "        for row, col in itertools.product(range(self._rows), range(self._cols)):\n",
    "            yield self[row, col]"
   ]
  },
  {
   "cell_type": "code",
   "execution_count": 2,
   "metadata": {},
   "outputs": [],
   "source": [
    "class Player:\n",
    "    id_gen = itertools.count()\n",
    "    \n",
    "    def __init__(self, power=None):\n",
    "        self._id = next(Player.id_gen)\n",
    "        self._attack = power or 3\n",
    "        self._hp = 200\n",
    "    \n",
    "    @property\n",
    "    def hp(self):\n",
    "        return self._hp\n",
    "    \n",
    "    def attack(self, other):\n",
    "        other._hp -= self._attack\n",
    "\n",
    "    def __repr__(self):\n",
    "        return '<{} id={} hp={}>'.format(self.__class__.__name__, self._id, self._hp)\n",
    "    \n",
    "class Goblin(Player):\n",
    "    def __str__(self):\n",
    "        return 'G'\n",
    "\n",
    "class Elf(Player):\n",
    "    def __str__(self):\n",
    "        return 'E'"
   ]
  },
  {
   "cell_type": "code",
   "execution_count": 3,
   "metadata": {},
   "outputs": [],
   "source": [
    "def parse_map(text, elf_power=None):\n",
    "    ''' Parse text representation of map and return a matrix. '''\n",
    "    lines = text.split('\\n')\n",
    "    rows = len(lines)\n",
    "    cols = len(lines[0])\n",
    "    mat = Matrix(rows, cols)\n",
    "    for row, line in enumerate(lines):\n",
    "        for col, char in enumerate(line):\n",
    "            if char == 'E':\n",
    "                mat[row,col] = Elf(elf_power)\n",
    "            elif char == 'G':\n",
    "                mat[row,col] = Goblin()\n",
    "            else:\n",
    "                mat[row,col] = char\n",
    "    return mat"
   ]
  },
  {
   "cell_type": "code",
   "execution_count": 4,
   "metadata": {},
   "outputs": [],
   "source": [
    "import collections\n",
    "\n",
    "def print_map(mat):\n",
    "    ''' Display the map with player information in the margin. '''\n",
    "    rows, cols = mat.size\n",
    "    for r in range(rows):\n",
    "        players = ''\n",
    "        row = ''\n",
    "        for c in range(cols):\n",
    "            cell = mat[r,c]\n",
    "            if isinstance(cell, Player):\n",
    "                players += repr(cell) + ' '\n",
    "            row += str(cell)\n",
    "        print('{} {}'.format(row, players))"
   ]
  },
  {
   "cell_type": "code",
   "execution_count": 5,
   "metadata": {},
   "outputs": [
    {
     "name": "stdout",
     "output_type": "stream",
     "text": [
      "####### \n",
      "#E..G.# <Elf id=0 hp=200> <Goblin id=1 hp=200> \n",
      "#...#.# \n",
      "#.G.#G# <Goblin id=2 hp=200> <Goblin id=3 hp=200> \n",
      "####### \n"
     ]
    }
   ],
   "source": [
    "test_text = '''#######\n",
    "#E..G.#\n",
    "#...#.#\n",
    "#.G.#G#\n",
    "#######'''\n",
    "test_mat = parse_map(test_text)\n",
    "print_map(test_mat)"
   ]
  },
  {
   "cell_type": "code",
   "execution_count": 6,
   "metadata": {},
   "outputs": [],
   "source": [
    "def find_adjacent(mat, row, col, cls):\n",
    "    ''' Search the cells adjacent to (row,col) for a player of type cls. \n",
    "    If multiple adjacent, return the one with the fewest HP. '''\n",
    "    opponents = [\n",
    "        mat.get(row-1, col  ),\n",
    "        mat.get(row  , col-1),\n",
    "        mat.get(row  , col+1),\n",
    "        mat.get(row+1, col  ),\n",
    "    ]\n",
    "    opponents_hp = [(opp.hp, opp) for opp in opponents if isinstance(opp, cls)]\n",
    "    opponents_hp.sort(key=lambda t: t[0])\n",
    "    try:\n",
    "        return opponents_hp[0][1]\n",
    "    except IndexError:\n",
    "        return None"
   ]
  },
  {
   "cell_type": "code",
   "execution_count": 7,
   "metadata": {},
   "outputs": [],
   "source": [
    "find_adjacent(test_mat, 1, 2, Goblin)"
   ]
  },
  {
   "cell_type": "code",
   "execution_count": 8,
   "metadata": {},
   "outputs": [
    {
     "data": {
      "text/plain": [
       "<Elf id=0 hp=200>"
      ]
     },
     "execution_count": 8,
     "metadata": {},
     "output_type": "execute_result"
    }
   ],
   "source": [
    "find_adjacent(test_mat, 1, 2, Elf)"
   ]
  },
  {
   "cell_type": "code",
   "execution_count": 9,
   "metadata": {},
   "outputs": [],
   "source": [
    "def find_remote(mat, row, col, cls, debug=False):\n",
    "    ''' Search the map for the player of type cls closest to (row,col). \n",
    "    If multiple cells found, return the first one in \"reading order\". \n",
    "    Returns the new_row, new_col that the player should move to. Returns\n",
    "    None if no players can be reached. '''\n",
    "    # Make a map to store the distances from the initial cell.\n",
    "    dist_mat = mat.clone()\n",
    "    dist_mat[row, col] = '.'\n",
    "    stack = [((row,col),)]\n",
    "    while stack:\n",
    "        path = stack.pop(0)\n",
    "        r, c = path[0]\n",
    "        cell = dist_mat.get(r, c)\n",
    "        if cell == '.':\n",
    "            dist_mat[r,c] = len(path) - 1\n",
    "            stack += [\n",
    "                ((r-1, c  ), *path),\n",
    "                ((r  , c-1), *path),\n",
    "                ((r  , c+1), *path),\n",
    "                ((r+1, c  ), *path),\n",
    "            ]\n",
    "        elif isinstance(cell, cls):\n",
    "            break\n",
    "    else:\n",
    "        if debug:\n",
    "            print(dist_mat)\n",
    "        return None\n",
    "    if debug:\n",
    "        print(dist_mat)\n",
    "    return path[-2]"
   ]
  },
  {
   "cell_type": "code",
   "execution_count": 10,
   "metadata": {},
   "outputs": [
    {
     "name": "stdout",
     "output_type": "stream",
     "text": [
      "#########\n",
      "#G21012G#\n",
      "#.32123.#\n",
      "#..323..#\n",
      "#G..E..G#\n",
      "#.......#\n",
      "#.......#\n",
      "#G..G..G#\n",
      "#########\n",
      "\n"
     ]
    },
    {
     "data": {
      "text/plain": [
       "(2, 4)"
      ]
     },
     "execution_count": 10,
     "metadata": {},
     "output_type": "execute_result"
    }
   ],
   "source": [
    "test_text = '''#########\n",
    "#G..G..G#\n",
    "#.......#\n",
    "#.......#\n",
    "#G..E..G#\n",
    "#.......#\n",
    "#.......#\n",
    "#G..G..G#\n",
    "#########'''\n",
    "test_mat = parse_map(test_text)\n",
    "find_remote(test_mat, 1, 4, Elf, debug=True)"
   ]
  },
  {
   "cell_type": "code",
   "execution_count": 11,
   "metadata": {},
   "outputs": [
    {
     "name": "stdout",
     "output_type": "stream",
     "text": [
      "#########\n",
      "#G.6G210#\n",
      "#.654321#\n",
      "#..65432#\n",
      "#G..E54G#\n",
      "#.....5.#\n",
      "#.......#\n",
      "#G..G..G#\n",
      "#########\n",
      "\n"
     ]
    },
    {
     "data": {
      "text/plain": [
       "(1, 6)"
      ]
     },
     "execution_count": 11,
     "metadata": {},
     "output_type": "execute_result"
    }
   ],
   "source": [
    "find_remote(test_mat, 1, 7, Elf, debug=True)"
   ]
  },
  {
   "cell_type": "code",
   "execution_count": 12,
   "metadata": {},
   "outputs": [],
   "source": [
    "class GameOver(Exception):\n",
    "    pass\n",
    "\n",
    "def play_round(mat):\n",
    "    ''' Play one round of the game, updating mat in place. \n",
    "    Raises GameOver if the game is done. '''\n",
    "    # Determine order of play\n",
    "    players = list()\n",
    "    locations = dict()\n",
    "    rows, cols = mat.size\n",
    "    for r, c in itertools.product(range(rows), range(cols)):\n",
    "        cell = mat[r,c]\n",
    "        if isinstance(cell, Player):\n",
    "            locations[cell] = (r,c)\n",
    "            players.append(cell)\n",
    "\n",
    "    for player in players:\n",
    "        # If the player died, then skip this turn.\n",
    "        if player.hp <= 0:\n",
    "            continue\n",
    "\n",
    "        if ((isinstance(player, Elf) and\n",
    "             len([cell for cell in mat.values() if isinstance(cell, Goblin)])==0) or\n",
    "            (isinstance(player, Goblin) and \n",
    "             len([cell for cell in mat.values() if isinstance(cell, Elf)])==0)):\n",
    "            raise GameOver()\n",
    "\n",
    "        # Does the player need to move?\n",
    "        row, col = locations[player]\n",
    "        opp_class = Goblin if isinstance(player, Elf) else Elf\n",
    "        opp = find_adjacent(mat, row, col, opp_class)\n",
    "        if opp is None:\n",
    "            # Move towards opponent\n",
    "            move = find_remote(mat, row, col, opp_class)\n",
    "            if move is None:\n",
    "                continue\n",
    "            mat[row, col] = '.'\n",
    "            row, col = move\n",
    "            mat[row, col] = player\n",
    "            locations[player] = row, col\n",
    "        \n",
    "        # Can the player attack?\n",
    "        opp = find_adjacent(mat, row, col, Goblin if isinstance(player, Elf) else Elf)\n",
    "        if opp is not None:\n",
    "            # Do attack\n",
    "            player.attack(opp)\n",
    "            if opp.hp <= 0:\n",
    "                opp_row, opp_col = locations[opp]\n",
    "                mat[opp_row,opp_col] = '.'"
   ]
  },
  {
   "cell_type": "code",
   "execution_count": 13,
   "metadata": {},
   "outputs": [
    {
     "name": "stdout",
     "output_type": "stream",
     "text": [
      "######### \n",
      "#G..G..G# <Goblin id=13 hp=200> <Goblin id=14 hp=200> <Goblin id=15 hp=200> \n",
      "#.......# \n",
      "#.......# \n",
      "#G..E..G# <Goblin id=16 hp=200> <Elf id=17 hp=200> <Goblin id=18 hp=200> \n",
      "#.......# \n",
      "#.......# \n",
      "#G..G..G# <Goblin id=19 hp=200> <Goblin id=20 hp=200> <Goblin id=21 hp=200> \n",
      "######### \n"
     ]
    }
   ],
   "source": [
    "test_text = '''#########\n",
    "#G..G..G#\n",
    "#.......#\n",
    "#.......#\n",
    "#G..E..G#\n",
    "#.......#\n",
    "#.......#\n",
    "#G..G..G#\n",
    "#########'''\n",
    "test_mat = parse_map(test_text)\n",
    "print_map(test_mat)"
   ]
  },
  {
   "cell_type": "code",
   "execution_count": 16,
   "metadata": {},
   "outputs": [
    {
     "name": "stdout",
     "output_type": "stream",
     "text": [
      "######### \n",
      "#.......# \n",
      "#..GGG..# <Goblin id=13 hp=200> <Goblin id=14 hp=191> <Goblin id=15 hp=200> \n",
      "#..GEG..# <Goblin id=16 hp=200> <Elf id=17 hp=185> <Goblin id=18 hp=200> \n",
      "#G..G...# <Goblin id=19 hp=200> <Goblin id=20 hp=200> \n",
      "#......G# <Goblin id=21 hp=200> \n",
      "#.......# \n",
      "#.......# \n",
      "######### \n"
     ]
    }
   ],
   "source": [
    "# Run this cell multiple times.\n",
    "play_round(test_mat)\n",
    "print_map(test_mat)"
   ]
  },
  {
   "cell_type": "code",
   "execution_count": 17,
   "metadata": {},
   "outputs": [
    {
     "name": "stdout",
     "output_type": "stream",
     "text": [
      "#######    \n",
      "#.G...#    <Goblin id=22 hp=200> \n",
      "#...EG#    <Elf id=23 hp=200> <Goblin id=24 hp=200> \n",
      "#.#.#G#    <Goblin id=25 hp=200> \n",
      "#..G#E#    <Goblin id=26 hp=200> <Elf id=27 hp=200> \n",
      "#.....#    \n",
      "#######    \n"
     ]
    }
   ],
   "source": [
    "test_text = '''#######   \n",
    "#.G...#\n",
    "#...EG#\n",
    "#.#.#G#\n",
    "#..G#E#\n",
    "#.....#\n",
    "#######'''\n",
    "test_mat = parse_map(test_text)\n",
    "print_map(test_mat)\n",
    "rounds = 0"
   ]
  },
  {
   "cell_type": "code",
   "execution_count": 65,
   "metadata": {},
   "outputs": [
    {
     "name": "stdout",
     "output_type": "stream",
     "text": [
      "Game Over!\n",
      "#######    \n",
      "#G....#    <Goblin id=22 hp=200> \n",
      "#.G...#    <Goblin id=24 hp=131> \n",
      "#.#.#G#    <Goblin id=25 hp=59> \n",
      "#...#.#    \n",
      "#....G#    <Goblin id=26 hp=200> \n",
      "#######    \n",
      "48\n"
     ]
    }
   ],
   "source": [
    "# Run this cell multiple times.\n",
    "try:\n",
    "    play_round(test_mat)\n",
    "except GameOver:\n",
    "    print('Game Over!')\n",
    "print_map(test_mat)\n",
    "rounds += 1 \n",
    "print(rounds)"
   ]
  },
  {
   "cell_type": "code",
   "execution_count": 66,
   "metadata": {},
   "outputs": [],
   "source": [
    "def sum_hp(mat):\n",
    "    return sum(p.hp for p in mat.values() if isinstance(p, Player))"
   ]
  },
  {
   "cell_type": "code",
   "execution_count": 67,
   "metadata": {},
   "outputs": [
    {
     "data": {
      "text/plain": [
       "590"
      ]
     },
     "execution_count": 67,
     "metadata": {},
     "output_type": "execute_result"
    }
   ],
   "source": [
    "sum_hp(test_mat)"
   ]
  },
  {
   "cell_type": "code",
   "execution_count": 68,
   "metadata": {},
   "outputs": [
    {
     "data": {
      "text/plain": [
       "27730"
      ]
     },
     "execution_count": 68,
     "metadata": {},
     "output_type": "execute_result"
    }
   ],
   "source": [
    "47 * 590"
   ]
  },
  {
   "cell_type": "code",
   "execution_count": 72,
   "metadata": {},
   "outputs": [],
   "source": [
    "def play_all(mat):\n",
    "    round = 0\n",
    "    try:\n",
    "        while True:\n",
    "            play_round(mat)\n",
    "            round += 1\n",
    "    except:\n",
    "        pass\n",
    "    elves = len([cell for cell in mat.values() if isinstance(cell, Elf)])\n",
    "    goblins = len([cell for cell in mat.values() if isinstance(cell, Goblin)])\n",
    "    sum_ = sum_hp(mat)\n",
    "    print('elves={} goblins={} round={} sum={} total={}'.format(\n",
    "        elves, goblins, round, sum_, round * sum_))"
   ]
  },
  {
   "cell_type": "code",
   "execution_count": 73,
   "metadata": {},
   "outputs": [
    {
     "name": "stdout",
     "output_type": "stream",
     "text": [
      "elves=0 goblins=4 round=47 sum=590 total=27730\n"
     ]
    }
   ],
   "source": [
    "test_text = '''#######   \n",
    "#.G...#\n",
    "#...EG#\n",
    "#.#.#G#\n",
    "#..G#E#\n",
    "#.....#\n",
    "#######'''\n",
    "test_mat = parse_map(test_text)\n",
    "play_all(test_mat)"
   ]
  },
  {
   "cell_type": "code",
   "execution_count": 74,
   "metadata": {},
   "outputs": [
    {
     "name": "stdout",
     "output_type": "stream",
     "text": [
      "elves=5 goblins=0 round=37 sum=982 total=36334\n"
     ]
    }
   ],
   "source": [
    "test_text = '''#######\n",
    "#G..#E#\n",
    "#E#E.E#\n",
    "#G.##.#\n",
    "#...#E#\n",
    "#...E.#\n",
    "#######'''\n",
    "test_mat = parse_map(test_text)\n",
    "play_all(test_mat)"
   ]
  },
  {
   "cell_type": "code",
   "execution_count": 75,
   "metadata": {},
   "outputs": [
    {
     "name": "stdout",
     "output_type": "stream",
     "text": [
      "elves=5 goblins=0 round=46 sum=859 total=39514\n"
     ]
    }
   ],
   "source": [
    "test_text = '''#######\n",
    "#E..EG#\n",
    "#.#G.E#\n",
    "#E.##E#\n",
    "#G..#.#\n",
    "#..E#.#\n",
    "#######'''\n",
    "test_mat = parse_map(test_text)\n",
    "play_all(test_mat) "
   ]
  },
  {
   "cell_type": "code",
   "execution_count": 76,
   "metadata": {},
   "outputs": [
    {
     "name": "stdout",
     "output_type": "stream",
     "text": [
      "################################\n",
      "##########################..####\n",
      "##########################...###\n",
      "####################G..#......##\n",
      "##############.#####G....G....##\n",
      "##############...#####..##..#.##\n",
      "################..##...#########\n",
      "##############....#....#########\n",
      "#########..###G........E######.#\n",
      "#########........#..GG..####...#\n",
      "#########......................#\n",
      "#########..........G..G........#\n",
      "########...G..#####............#\n",
      "#######......#######........####\n",
      "#####.G.....#########E.......###\n",
      "######......#########........###\n",
      "#####.......#########....E######\n",
      "#####.G...G.#########.....######\n",
      "######..G...#########.....######\n",
      "#####...G....#######.......#####\n",
      "###....G......#####.......######\n",
      "#.#G.....E......E.........#..###\n",
      "#............G..G.G.#.#...E....#\n",
      "####.....................#####.#\n",
      "########...........EE.##.#######\n",
      "########..............##########\n",
      "#########.....G.....E.##########\n",
      "#########............###########\n",
      "##########..........############\n",
      "##########.......E.....#########\n",
      "##############..##.#..##########\n",
      "################################\n",
      "                                \n",
      "\n"
     ]
    }
   ],
   "source": [
    "with open('input.txt') as input_:\n",
    "    text = input_.read()\n",
    "mat = parse_map(text)\n",
    "print(mat)"
   ]
  },
  {
   "cell_type": "code",
   "execution_count": 77,
   "metadata": {},
   "outputs": [
    {
     "name": "stdout",
     "output_type": "stream",
     "text": [
      "elves=0 goblins=16 round=69 sum=2804 total=193476\n"
     ]
    }
   ],
   "source": [
    "play_all(mat)"
   ]
  },
  {
   "cell_type": "markdown",
   "metadata": {},
   "source": [
    "# Part 2\n",
    "\n",
    "How many elves do we start with?"
   ]
  },
  {
   "cell_type": "code",
   "execution_count": 78,
   "metadata": {},
   "outputs": [
    {
     "name": "stdout",
     "output_type": "stream",
     "text": [
      "10\n"
     ]
    }
   ],
   "source": [
    "with open('input.txt') as input_:\n",
    "    text = input_.read()\n",
    "mat = parse_map(text)\n",
    "elves = len([cell for cell in mat.values() if isinstance(cell, Elf)])\n",
    "print(elves)"
   ]
  },
  {
   "cell_type": "code",
   "execution_count": 80,
   "metadata": {},
   "outputs": [
    {
     "name": "stdout",
     "output_type": "stream",
     "text": [
      "elves=10 goblins=0 round=14 sum=1865 total=26110\n"
     ]
    }
   ],
   "source": [
    "with open('input.txt') as input_:\n",
    "    text = input_.read()\n",
    "mat = parse_map(text, elf_power=100)\n",
    "play_all(mat)"
   ]
  },
  {
   "cell_type": "code",
   "execution_count": 81,
   "metadata": {},
   "outputs": [
    {
     "name": "stdout",
     "output_type": "stream",
     "text": [
      "elves=10 goblins=0 round=20 sum=1667 total=33340\n"
     ]
    }
   ],
   "source": [
    "with open('input.txt') as input_:\n",
    "    text = input_.read()\n",
    "mat = parse_map(text, elf_power=50)\n",
    "play_all(mat)"
   ]
  },
  {
   "cell_type": "code",
   "execution_count": 82,
   "metadata": {},
   "outputs": [
    {
     "name": "stdout",
     "output_type": "stream",
     "text": [
      "elves=9 goblins=0 round=27 sum=1401 total=37827\n"
     ]
    }
   ],
   "source": [
    "with open('input.txt') as input_:\n",
    "    text = input_.read()\n",
    "mat = parse_map(text, elf_power=25)\n",
    "play_all(mat)"
   ]
  },
  {
   "cell_type": "code",
   "execution_count": 83,
   "metadata": {},
   "outputs": [
    {
     "name": "stdout",
     "output_type": "stream",
     "text": [
      "elves=9 goblins=0 round=25 sum=1479 total=36975\n"
     ]
    }
   ],
   "source": [
    "with open('input.txt') as input_:\n",
    "    text = input_.read()\n",
    "mat = parse_map(text, elf_power=32)\n",
    "play_all(mat)"
   ]
  },
  {
   "cell_type": "code",
   "execution_count": 84,
   "metadata": {},
   "outputs": [
    {
     "name": "stdout",
     "output_type": "stream",
     "text": [
      "elves=10 goblins=0 round=25 sum=1589 total=39725\n"
     ]
    }
   ],
   "source": [
    "with open('input.txt') as input_:\n",
    "    text = input_.read()\n",
    "mat = parse_map(text, elf_power=44)\n",
    "play_all(mat)"
   ]
  },
  {
   "cell_type": "code",
   "execution_count": 85,
   "metadata": {},
   "outputs": [
    {
     "name": "stdout",
     "output_type": "stream",
     "text": [
      "elves=10 goblins=0 round=24 sum=1532 total=36768\n"
     ]
    }
   ],
   "source": [
    "with open('input.txt') as input_:\n",
    "    text = input_.read()\n",
    "mat = parse_map(text, elf_power=38)\n",
    "play_all(mat)"
   ]
  },
  {
   "cell_type": "code",
   "execution_count": 86,
   "metadata": {},
   "outputs": [
    {
     "name": "stdout",
     "output_type": "stream",
     "text": [
      "elves=10 goblins=0 round=24 sum=1532 total=36768\n"
     ]
    }
   ],
   "source": [
    "with open('input.txt') as input_:\n",
    "    text = input_.read()\n",
    "mat = parse_map(text, elf_power=35)\n",
    "play_all(mat)"
   ]
  },
  {
   "cell_type": "code",
   "execution_count": 87,
   "metadata": {},
   "outputs": [
    {
     "name": "stdout",
     "output_type": "stream",
     "text": [
      "elves=10 goblins=0 round=24 sum=1532 total=36768\n"
     ]
    }
   ],
   "source": [
    "with open('input.txt') as input_:\n",
    "    text = input_.read()\n",
    "mat = parse_map(text, elf_power=34)\n",
    "play_all(mat)"
   ]
  },
  {
   "cell_type": "code",
   "execution_count": 88,
   "metadata": {},
   "outputs": [
    {
     "name": "stdout",
     "output_type": "stream",
     "text": [
      "elves=9 goblins=0 round=25 sum=1479 total=36975\n"
     ]
    }
   ],
   "source": [
    "with open('input.txt') as input_:\n",
    "    text = input_.read()\n",
    "mat = parse_map(text, elf_power=33)\n",
    "play_all(mat)"
   ]
  },
  {
   "cell_type": "code",
   "execution_count": null,
   "metadata": {},
   "outputs": [],
   "source": []
  }
 ],
 "metadata": {
  "kernelspec": {
   "display_name": "Python 3",
   "language": "python",
   "name": "python3"
  },
  "language_info": {
   "codemirror_mode": {
    "name": "ipython",
    "version": 3
   },
   "file_extension": ".py",
   "mimetype": "text/x-python",
   "name": "python",
   "nbconvert_exporter": "python",
   "pygments_lexer": "ipython3",
   "version": "3.7.0"
  }
 },
 "nbformat": 4,
 "nbformat_minor": 2
}
