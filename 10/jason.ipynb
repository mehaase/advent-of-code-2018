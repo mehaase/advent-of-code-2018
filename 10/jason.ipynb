{
 "cells": [
  {
   "cell_type": "code",
   "execution_count": 8,
   "metadata": {
    "collapsed": false
   },
   "outputs": [],
   "source": [
    "# %matplotlib inline  \n",
    "import re\n",
    "import numpy as np\n",
    "import cv2\n",
    "from cv2 import VideoWriter, VideoWriter_fourcc\n",
    "import matplotlib\n",
    "# matplotlib.use('TkAgg')\n",
    "from matplotlib import pyplot as plt"
   ]
  },
  {
   "cell_type": "code",
   "execution_count": null,
   "metadata": {
    "collapsed": true
   },
   "outputs": [],
   "source": []
  },
  {
   "cell_type": "code",
   "execution_count": 2,
   "metadata": {
    "collapsed": false
   },
   "outputs": [
    {
     "name": "stdout",
     "output_type": "stream",
     "text": [
      "Got 369 points\n"
     ]
    }
   ],
   "source": [
    "with open('jason.1.input') as f:\n",
    "    data = [ line.strip().rstrip() for line in f.readlines() ]\n",
    "print('Got {} points'.format(len(data)))"
   ]
  },
  {
   "cell_type": "code",
   "execution_count": 3,
   "metadata": {
    "collapsed": false
   },
   "outputs": [],
   "source": [
    "# position=<-30052,  -9918> velocity=< 3,  1>"
   ]
  },
  {
   "cell_type": "code",
   "execution_count": 4,
   "metadata": {
    "collapsed": true
   },
   "outputs": [],
   "source": [
    "class Point:\n",
    "    def __init__(self,x,y,vx,vy):\n",
    "        self.x0 = int(x)\n",
    "        self.y0 = int(y)\n",
    "        self.x = int(x)\n",
    "        self.y = int(y)\n",
    "        self.vx = int(vx)\n",
    "        self.vy = int(vy)\n",
    "        \n",
    "    def reset(self):\n",
    "        self.x=self.x0\n",
    "        self.y=self.y0\n",
    "        \n",
    "    def step(self, dt):\n",
    "        self.x += self.vx*dt\n",
    "        self.y += self.vy*dt\n",
    "        return (self.x,self.y)\n",
    "    \n",
    "    def get_pos(self):\n",
    "        return (self.x,self.y)"
   ]
  },
  {
   "cell_type": "code",
   "execution_count": 5,
   "metadata": {
    "collapsed": false
   },
   "outputs": [
    {
     "name": "stdout",
     "output_type": "stream",
     "text": [
      "-50269 50652\n",
      "-50263 50606\n"
     ]
    }
   ],
   "source": [
    "points = []\n",
    "r = \"position=<[ ]?([-]?\\d+), [ ]?([- ]?\\d+)> velocity=<([ ]?[- ]?\\d+), [ ]?([- ]?\\d+)>\"\n",
    "for d in data:\n",
    "    x,y,vx,vy = re.match(r,d).groups()\n",
    "    points.append(Point(x,y,vx,vy))\n",
    " \n",
    "    \n",
    "print(min(p.x for p in points),max(p.x for p in points))\n",
    "print(min(p.y for p in points),max(p.y for p in points))"
   ]
  },
  {
   "cell_type": "code",
   "execution_count": 23,
   "metadata": {
    "collapsed": false
   },
   "outputs": [
    {
     "name": "stdout",
     "output_type": "stream",
     "text": [
      "Spread 70 at 10086\n"
     ]
    },
    {
     "data": {
      "text/plain": [
       "<matplotlib.figure.Figure at 0x10b0abc18>"
      ]
     },
     "metadata": {},
     "output_type": "display_data"
    }
   ],
   "source": [
    "def get_spread(points):\n",
    "    return (max(p.x for p in points)-min(p.x for p in points)) + (max(p.y for p in points)-min(p.y for p in points))\n",
    "\n",
    "a=[ p.reset() for p in points ]\n",
    "\n",
    "dt = 1\n",
    "now = 0\n",
    "spread = []\n",
    "min_spread = 99999\n",
    "min_spread_time = 0\n",
    "frame = []\n",
    "while now<11000:\n",
    "    if now>9500:\n",
    "        if now>10080 and now<10092:\n",
    "            plt.scatter([e[0] for e in [p.get_pos() for p in points]], [e[1] for e in [p.get_pos() for p in points]])\n",
    "            plt.savefig('movie/{0:3}.jpg'.format(now))\n",
    "            plt.clf()\n",
    "            \n",
    "        s = get_spread(points)\n",
    "        if s < min_spread:\n",
    "            min_spread = s\n",
    "            min_spread_time = now\n",
    "            frame = [p.get_pos() for p in points]\n",
    "        spread.append((now, s))\n",
    "    [ p.step(dt) for p in points ]\n",
    "    now+=dt\n",
    "\n",
    "a=[ p.reset() for p in points ]\n",
    "print('Spread {} at {}'.format(min_spread, min_spread_time))"
   ]
  },
  {
   "cell_type": "code",
   "execution_count": 19,
   "metadata": {
    "collapsed": false
   },
   "outputs": [
    {
     "data": {
      "image/png": "[encoded data removed]",
      "text/plain": [
       "<matplotlib.figure.Figure at 0x106777400>"
      ]
     },
     "metadata": {},
     "output_type": "display_data"
    },
    {
     "name": "stdout",
     "output_type": "stream",
     "text": [
      "<built-in function min>\n"
     ]
    }
   ],
   "source": [
    "plt.scatter([e[0] for e in frame], [e[1] for e in frame])\n",
    "plt.savefig('movie/001.jpg')\n",
    "plt.show()\n",
    "print(min)"
   ]
  }
 ],
 "metadata": {
  "kernelspec": {
   "display_name": "Python 3",
   "language": "python",
   "name": "python3"
  },
  "language_info": {
   "codemirror_mode": {
    "name": "ipython",
    "version": 3
   },
   "file_extension": ".py",
   "mimetype": "text/x-python",
   "name": "python",
   "nbconvert_exporter": "python",
   "pygments_lexer": "ipython3",
   "version": "3.5.4"
  }
 },
 "nbformat": 4,
 "nbformat_minor": 2
}
