{
 "cells": [
  {
   "cell_type": "markdown",
   "metadata": {},
   "source": [
    "# Part 1"
   ]
  },
  {
   "cell_type": "code",
   "execution_count": 1,
   "metadata": {},
   "outputs": [],
   "source": [
    "class Point:\n",
    "    def __init__(self, x, y, dx, dy):\n",
    "        self.x = x\n",
    "        self.y = y\n",
    "        self.dx = dx\n",
    "        self.dy = dy\n",
    "    \n",
    "    def update(self):\n",
    "        self.x += self.dx\n",
    "        self.y += self.dy\n",
    "    \n",
    "    def __repr__(self):\n",
    "        return 'Point<x={},y={},dx={},dy={}>'.format(self.x, self.y, self.dx, self.dy)"
   ]
  },
  {
   "cell_type": "code",
   "execution_count": 2,
   "metadata": {},
   "outputs": [],
   "source": [
    "import re\n",
    "\n",
    "point_re = re.compile(r'^position=<\\s*(-?\\d+),\\s*(-?\\d+)> velocity=<\\s*(-?\\d+),\\s*(-?\\d+)>$')\n",
    "\n",
    "def parse_points(lines):\n",
    "    ''' Parse input lines into a list of points. '''\n",
    "    points = list()\n",
    "    for line in lines:\n",
    "        match = point_re.match(line)\n",
    "        if not match:\n",
    "            raise Exception('Could not parse: {}'.format(line))\n",
    "        x,y = int(match.group(1)), int(match.group(2))\n",
    "        dx,dy = int(match.group(3)), int(match.group(4))\n",
    "        points.append(Point(x, y, dx, dy))\n",
    "    return points"
   ]
  },
  {
   "cell_type": "code",
   "execution_count": 3,
   "metadata": {},
   "outputs": [],
   "source": [
    "test_text = '''position=< 9,  1> velocity=< 0,  2>\n",
    "position=< 7,  0> velocity=<-1,  0>\n",
    "position=< 3, -2> velocity=<-1,  1>\n",
    "position=< 6, 10> velocity=<-2, -1>\n",
    "position=< 2, -4> velocity=< 2,  2>\n",
    "position=<-6, 10> velocity=< 2, -2>\n",
    "position=< 1,  8> velocity=< 1, -1>\n",
    "position=< 1,  7> velocity=< 1,  0>\n",
    "position=<-3, 11> velocity=< 1, -2>\n",
    "position=< 7,  6> velocity=<-1, -1>\n",
    "position=<-2,  3> velocity=< 1,  0>\n",
    "position=<-4,  3> velocity=< 2,  0>\n",
    "position=<10, -3> velocity=<-1,  1>\n",
    "position=< 5, 11> velocity=< 1, -2>\n",
    "position=< 4,  7> velocity=< 0, -1>\n",
    "position=< 8, -2> velocity=< 0,  1>\n",
    "position=<15,  0> velocity=<-2,  0>\n",
    "position=< 1,  6> velocity=< 1,  0>\n",
    "position=< 8,  9> velocity=< 0, -1>\n",
    "position=< 3,  3> velocity=<-1,  1>\n",
    "position=< 0,  5> velocity=< 0, -1>\n",
    "position=<-2,  2> velocity=< 2,  0>\n",
    "position=< 5, -2> velocity=< 1,  2>\n",
    "position=< 1,  4> velocity=< 2,  1>\n",
    "position=<-2,  7> velocity=< 2, -2>\n",
    "position=< 3,  6> velocity=<-1, -1>\n",
    "position=< 5,  0> velocity=< 1,  0>\n",
    "position=<-6,  0> velocity=< 2,  0>\n",
    "position=< 5,  9> velocity=< 1, -2>\n",
    "position=<14,  7> velocity=<-2,  0>\n",
    "position=<-3,  6> velocity=< 2, -1>'''"
   ]
  },
  {
   "cell_type": "code",
   "execution_count": 4,
   "metadata": {},
   "outputs": [
    {
     "name": "stdout",
     "output_type": "stream",
     "text": [
      "31\n",
      "[Point<x=9,y=1,dx=0,dy=2>, Point<x=7,y=0,dx=-1,dy=0>, Point<x=3,y=-2,dx=-1,dy=1>, Point<x=6,y=10,dx=-2,dy=-1>, Point<x=2,y=-4,dx=2,dy=2>]\n"
     ]
    }
   ],
   "source": [
    "test_points = parse_points(test_text.split('\\n'))\n",
    "print(len(test_points))\n",
    "print(test_points[:5])"
   ]
  },
  {
   "cell_type": "code",
   "execution_count": 5,
   "metadata": {},
   "outputs": [],
   "source": [
    "def create_matrix(points):\n",
    "    ''' Return a sparse matrix as a set, where each element (x,y) represents a\n",
    "    point. Also returns min and max x and y values. '''\n",
    "    matrix = set()\n",
    "    for point in points:\n",
    "        matrix.add((point.x, point.y))\n",
    "    return matrix"
   ]
  },
  {
   "cell_type": "code",
   "execution_count": 6,
   "metadata": {},
   "outputs": [
    {
     "name": "stdout",
     "output_type": "stream",
     "text": [
      "31\n"
     ]
    }
   ],
   "source": [
    "test_mat = create_matrix(test_points)\n",
    "print(len(test_mat))"
   ]
  },
  {
   "cell_type": "code",
   "execution_count": 7,
   "metadata": {},
   "outputs": [],
   "source": [
    "def print_matrix(matrix):\n",
    "    ''' Render a matrix. '''\n",
    "    min_x, min_y =  99999999,  99999999\n",
    "    max_x, max_y = -99999999, -99999999\n",
    "    for (x, y) in matrix:\n",
    "        if x < min_x:\n",
    "            min_x = x\n",
    "        elif x > max_x:\n",
    "            max_x = x\n",
    "        if y < min_y:\n",
    "            min_y = y\n",
    "        elif y > max_y:\n",
    "            max_y = y\n",
    "    for y in range(min_y, max_y + 1):\n",
    "        print(''.join('#' if (x,y) in matrix else '.' for x in range(min_x, max_x + 1)))"
   ]
  },
  {
   "cell_type": "code",
   "execution_count": 8,
   "metadata": {},
   "outputs": [
    {
     "name": "stdout",
     "output_type": "stream",
     "text": [
      "........#.............\n",
      "................#.....\n",
      ".........#.#..#.......\n",
      "......................\n",
      "#..........#.#.......#\n",
      "...............#......\n",
      "....#.................\n",
      "..#.#....#............\n",
      ".......#..............\n",
      "......#...............\n",
      "...#...#.#...#........\n",
      "....#..#..#.........#.\n",
      ".......#..............\n",
      "...........#..#.......\n",
      "#...........#.........\n",
      "...#.......#..........\n"
     ]
    }
   ],
   "source": [
    "print_matrix(test_mat)"
   ]
  },
  {
   "cell_type": "code",
   "execution_count": 9,
   "metadata": {},
   "outputs": [],
   "source": [
    "def play_round(points):\n",
    "    ''' Update all points and print result. Note: this modifies the points passed in! '''\n",
    "    for point in points:\n",
    "        point.update()"
   ]
  },
  {
   "cell_type": "code",
   "execution_count": 10,
   "metadata": {},
   "outputs": [
    {
     "name": "stdout",
     "output_type": "stream",
     "text": [
      "31\n"
     ]
    }
   ],
   "source": [
    "# The next cell modifies test_points, so we have a cell here to recreate it.\n",
    "test_points = parse_points(test_text.split('\\n'))\n",
    "print(len(test_points))"
   ]
  },
  {
   "cell_type": "code",
   "execution_count": 13,
   "metadata": {},
   "outputs": [
    {
     "name": "stdout",
     "output_type": "stream",
     "text": [
      "#...#..###\n",
      "#...#...#.\n",
      "#...#...#.\n",
      "#####...#.\n",
      "#...#...#.\n",
      "#...#...#.\n",
      "#...#...#.\n",
      "#...#..###\n"
     ]
    }
   ],
   "source": [
    "# This cell can be run multiple times to animate the map.\n",
    "# I ran it just enough times to produce the message.\n",
    "play_round(test_points)\n",
    "print_matrix(create_matrix(test_points))"
   ]
  },
  {
   "cell_type": "code",
   "execution_count": 14,
   "metadata": {},
   "outputs": [],
   "source": [
    "def detect_vertical(matrix):\n",
    "    ''' I think the best way to recognize end state is to look for 8 # in a column,\n",
    "    since probably at least one letter will have this feature. The sample message HI\n",
    "    has three of them! '''\n",
    "    matrix = set(matrix)\n",
    "    while matrix:\n",
    "        x, y = matrix.pop()\n",
    "        count = 1\n",
    "        # Go up\n",
    "        while (x, y-1) in matrix:\n",
    "            y -= 1\n",
    "            matrix.remove((x,y))\n",
    "            count += 1\n",
    "        # Go down\n",
    "        while (x, y+1) in matrix:\n",
    "            y += 1\n",
    "            matrix.remove((x,y))\n",
    "            count += 1\n",
    "        if count == 8:\n",
    "            return True\n",
    "    return False"
   ]
  },
  {
   "cell_type": "code",
   "execution_count": 15,
   "metadata": {},
   "outputs": [
    {
     "data": {
      "text/plain": [
       "True"
      ]
     },
     "execution_count": 15,
     "metadata": {},
     "output_type": "execute_result"
    }
   ],
   "source": [
    "test_mat = create_matrix(test_points)\n",
    "detect_vertical(test_mat)"
   ]
  },
  {
   "cell_type": "code",
   "execution_count": 16,
   "metadata": {},
   "outputs": [
    {
     "data": {
      "text/plain": [
       "False"
      ]
     },
     "execution_count": 16,
     "metadata": {},
     "output_type": "execute_result"
    }
   ],
   "source": [
    "play_round(test_points)\n",
    "test_mat = create_matrix(test_points)\n",
    "detect_vertical(test_mat)"
   ]
  },
  {
   "cell_type": "code",
   "execution_count": 17,
   "metadata": {},
   "outputs": [
    {
     "name": "stdout",
     "output_type": "stream",
     "text": [
      "369\n"
     ]
    }
   ],
   "source": [
    "with open('input.txt') as input_:\n",
    "    points = parse_points([line for line in input_])\n",
    "print(len(points))"
   ]
  },
  {
   "cell_type": "code",
   "execution_count": 41,
   "metadata": {},
   "outputs": [
    {
     "name": "stdout",
     "output_type": "stream",
     "text": [
      "Found it?\n"
     ]
    }
   ],
   "source": [
    "# The original matrix is too big to display. Hopefully when the message appears\n",
    "# it is small enough to display. Run this cell a few times until it finds a mesage.\n",
    "for _ in range(5000):\n",
    "    play_round(points)\n",
    "    mat = create_matrix(points)\n",
    "    if detect_vertical(mat):\n",
    "        print('Found it?')\n",
    "        break\n",
    "else:\n",
    "    print(\"Didn't find it\")"
   ]
  },
  {
   "cell_type": "code",
   "execution_count": 42,
   "metadata": {},
   "outputs": [
    {
     "name": "stdout",
     "output_type": "stream",
     "text": [
      ".####...######....##....#....#..######..#....#..#....#.....###\n",
      "#....#..#........#..#...##...#..#.......#....#..#...#.......#.\n",
      "#.......#.......#....#..##...#..#.......#....#..#..#........#.\n",
      "#.......#.......#....#..#.#..#..#.......#....#..#.#.........#.\n",
      "#.......#####...#....#..#.#..#..#####...######..##..........#.\n",
      "#..###..#.......######..#..#.#..#.......#....#..##..........#.\n",
      "#....#..#.......#....#..#..#.#..#.......#....#..#.#.........#.\n",
      "#....#..#.......#....#..#...##..#.......#....#..#..#....#...#.\n",
      "#...##..#.......#....#..#...##..#.......#....#..#...#...#...#.\n",
      ".###.#..#.......#....#..#....#..######..#....#..#....#...###..\n"
     ]
    }
   ],
   "source": [
    "# Probably took 25k iterations of more of the above. Did it work?\n",
    "print_matrix(mat)"
   ]
  },
  {
   "cell_type": "markdown",
   "metadata": {},
   "source": [
    "# Part 2"
   ]
  },
  {
   "cell_type": "code",
   "execution_count": 47,
   "metadata": {},
   "outputs": [
    {
     "name": "stdout",
     "output_type": "stream",
     "text": [
      "31\n"
     ]
    }
   ],
   "source": [
    "# Can reuse code from above, just need to keep track of how many iterations\n",
    "# are used.\n",
    "test_points = parse_points(test_text.split('\\n'))\n",
    "print(len(test_points))"
   ]
  },
  {
   "cell_type": "code",
   "execution_count": 48,
   "metadata": {},
   "outputs": [
    {
     "name": "stdout",
     "output_type": "stream",
     "text": [
      "Found it?\n"
     ]
    }
   ],
   "source": [
    "import itertools\n",
    "\n",
    "for n in itertools.count():\n",
    "    play_round(test_points)\n",
    "    test_mat = create_matrix(test_points)\n",
    "    if detect_vertical(test_mat):\n",
    "        print('Found it?')\n",
    "        break"
   ]
  },
  {
   "cell_type": "code",
   "execution_count": 49,
   "metadata": {},
   "outputs": [
    {
     "name": "stdout",
     "output_type": "stream",
     "text": [
      "#...#..###\n",
      "#...#...#.\n",
      "#...#...#.\n",
      "#####...#.\n",
      "#...#...#.\n",
      "#...#...#.\n",
      "#...#...#.\n",
      "#...#..###\n"
     ]
    }
   ],
   "source": [
    "print_matrix(test_mat)"
   ]
  },
  {
   "cell_type": "code",
   "execution_count": 50,
   "metadata": {},
   "outputs": [
    {
     "data": {
      "text/plain": [
       "2"
      ]
     },
     "execution_count": 50,
     "metadata": {},
     "output_type": "execute_result"
    }
   ],
   "source": [
    "# Note this is one less than the total number, because itertools.count() started\n",
    "# at zero.\n",
    "n"
   ]
  },
  {
   "cell_type": "code",
   "execution_count": 53,
   "metadata": {},
   "outputs": [
    {
     "name": "stdout",
     "output_type": "stream",
     "text": [
      "369\n"
     ]
    }
   ],
   "source": [
    "with open('input.txt') as input_:\n",
    "    points = parse_points([line for line in input_])\n",
    "print(len(points))"
   ]
  },
  {
   "cell_type": "code",
   "execution_count": 54,
   "metadata": {},
   "outputs": [
    {
     "name": "stdout",
     "output_type": "stream",
     "text": [
      "Found it?\n"
     ]
    }
   ],
   "source": [
    "for n in itertools.count():\n",
    "    play_round(points)\n",
    "    mat = create_matrix(points)\n",
    "    if detect_vertical(mat):\n",
    "        print('Found it?')\n",
    "        break"
   ]
  },
  {
   "cell_type": "code",
   "execution_count": 55,
   "metadata": {},
   "outputs": [
    {
     "name": "stdout",
     "output_type": "stream",
     "text": [
      ".####...######....##....#....#..######..#....#..#....#.....###\n",
      "#....#..#........#..#...##...#..#.......#....#..#...#.......#.\n",
      "#.......#.......#....#..##...#..#.......#....#..#..#........#.\n",
      "#.......#.......#....#..#.#..#..#.......#....#..#.#.........#.\n",
      "#.......#####...#....#..#.#..#..#####...######..##..........#.\n",
      "#..###..#.......######..#..#.#..#.......#....#..##..........#.\n",
      "#....#..#.......#....#..#..#.#..#.......#....#..#.#.........#.\n",
      "#....#..#.......#....#..#...##..#.......#....#..#..#....#...#.\n",
      "#...##..#.......#....#..#...##..#.......#....#..#...#...#...#.\n",
      ".###.#..#.......#....#..#....#..######..#....#..#....#...###..\n"
     ]
    }
   ],
   "source": [
    "print_matrix(mat)"
   ]
  },
  {
   "cell_type": "code",
   "execution_count": 56,
   "metadata": {},
   "outputs": [
    {
     "data": {
      "text/plain": [
       "10086"
      ]
     },
     "execution_count": 56,
     "metadata": {},
     "output_type": "execute_result"
    }
   ],
   "source": [
    "n + 1"
   ]
  }
 ],
 "metadata": {
  "kernelspec": {
   "display_name": "Python 3",
   "language": "python",
   "name": "python3"
  },
  "language_info": {
   "codemirror_mode": {
    "name": "ipython",
    "version": 3
   },
   "file_extension": ".py",
   "mimetype": "text/x-python",
   "name": "python",
   "nbconvert_exporter": "python",
   "pygments_lexer": "ipython3",
   "version": "3.7.0"
  }
 },
 "nbformat": 4,
 "nbformat_minor": 2
}
