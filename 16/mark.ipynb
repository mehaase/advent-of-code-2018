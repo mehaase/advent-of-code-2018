{
 "cells": [
  {
   "cell_type": "markdown",
   "metadata": {},
   "source": [
    "# Part 1"
   ]
  },
  {
   "cell_type": "code",
   "execution_count": 1,
   "metadata": {},
   "outputs": [],
   "source": [
    "import functools\n",
    "import operator\n",
    "\n",
    "class CPU:\n",
    "    def __init__(self, registers):\n",
    "        self._registers = list(registers)\n",
    "\n",
    "    @property\n",
    "    def registers(self):\n",
    "        return tuple(self._registers)\n",
    "    \n",
    "    def _do_op_imm(self, op, a, b, c):\n",
    "        self._registers[c] = op(self._registers[a], b)\n",
    "        \n",
    "    def _do_op_reg(self, op, a, b, c):\n",
    "        self._registers[c] = op(self._registers[a], self._registers[b])\n",
    "\n",
    "    addi = functools.partialmethod(_do_op_imm, operator.add)\n",
    "    addr = functools.partialmethod(_do_op_reg, operator.add)\n",
    "    muli = functools.partialmethod(_do_op_imm, operator.mul)\n",
    "    mulr = functools.partialmethod(_do_op_reg, operator.mul)\n",
    "    bani = functools.partialmethod(_do_op_imm, operator.and_)\n",
    "    banr = functools.partialmethod(_do_op_reg, operator.and_)\n",
    "    bori = functools.partialmethod(_do_op_imm, operator.or_)\n",
    "    borr = functools.partialmethod(_do_op_reg, operator.or_)\n",
    "\n",
    "    def _do_cmp_reg_imm(self, cmp, a, b, c):\n",
    "        self._registers[c] = int(cmp(self._registers[a], b))\n",
    "        \n",
    "    def _do_cmp_imm_reg(self, cmp, a, b, c):\n",
    "        self._registers[c] = int(cmp(a, self._registers[b]))\n",
    "\n",
    "    def _do_cmp_reg_reg(self, cmp, a, b, c):\n",
    "        self._registers[c] = int(cmp(self._registers[a], self._registers[b]))\n",
    "\n",
    "    gtir = functools.partialmethod(_do_cmp_imm_reg, operator.gt)\n",
    "    gtri = functools.partialmethod(_do_cmp_reg_imm, operator.gt)\n",
    "    gtrr = functools.partialmethod(_do_cmp_reg_reg, operator.gt)\n",
    "    eqir = functools.partialmethod(_do_cmp_imm_reg, operator.eq)\n",
    "    eqri = functools.partialmethod(_do_cmp_reg_imm, operator.eq)\n",
    "    eqrr = functools.partialmethod(_do_cmp_reg_reg, operator.eq)\n",
    "\n",
    "    def seti(self, a, b, c):    \n",
    "        self._registers[c] = a\n",
    "        \n",
    "    def setr(self, a, b, c):\n",
    "        self._registers[c] = self._registers[a]\n"
   ]
  },
  {
   "cell_type": "code",
   "execution_count": 2,
   "metadata": {},
   "outputs": [],
   "source": [
    "cpu = CPU((1,2,3,4))\n",
    "cpu.addi(1, 5, 2)\n",
    "assert cpu.registers == (1, 2, 7, 4)"
   ]
  },
  {
   "cell_type": "code",
   "execution_count": 3,
   "metadata": {},
   "outputs": [],
   "source": [
    "cpu = CPU((1,1,1,1))\n",
    "cpu.addr(0, 1, 3)\n",
    "assert cpu.registers == (1, 1, 1, 2)"
   ]
  },
  {
   "cell_type": "code",
   "execution_count": 4,
   "metadata": {},
   "outputs": [],
   "source": [
    "cpu = CPU((1,0,0,0))\n",
    "cpu.bori(0, 2, 1)\n",
    "assert cpu.registers == (1, 3, 0, 0)"
   ]
  },
  {
   "cell_type": "code",
   "execution_count": 5,
   "metadata": {},
   "outputs": [],
   "source": [
    "cpu = CPU((7,3,0,0))\n",
    "cpu.banr(0, 1, 2)\n",
    "assert cpu.registers == (7, 3, 3, 0)"
   ]
  },
  {
   "cell_type": "code",
   "execution_count": 6,
   "metadata": {},
   "outputs": [],
   "source": [
    "cpu = CPU((2,1,0,0))\n",
    "cpu.gtrr(0, 1, 2)\n",
    "assert cpu.registers == (2, 1, 1, 0)"
   ]
  },
  {
   "cell_type": "code",
   "execution_count": 7,
   "metadata": {},
   "outputs": [],
   "source": [
    "cpu = CPU((1,2,1,0))\n",
    "cpu.gtrr(0, 1, 2)\n",
    "assert cpu.registers == (1, 2, 0, 0)"
   ]
  },
  {
   "cell_type": "code",
   "execution_count": 8,
   "metadata": {},
   "outputs": [],
   "source": [
    "cpu = CPU((2,1,9,9))\n",
    "cpu.eqir(1, 1, 2)\n",
    "assert cpu.registers == (2, 1, 1, 9)"
   ]
  },
  {
   "cell_type": "code",
   "execution_count": 9,
   "metadata": {},
   "outputs": [],
   "source": [
    "cpu = CPU((2,1,9,9))\n",
    "cpu.eqri(0, 1, 2)\n",
    "assert cpu.registers == (2, 1, 0, 9)"
   ]
  },
  {
   "cell_type": "code",
   "execution_count": 10,
   "metadata": {},
   "outputs": [],
   "source": [
    "from collections import namedtuple\n",
    "\n",
    "ExampleCommand = namedtuple('ExampleCommand', 'before instruction after')"
   ]
  },
  {
   "cell_type": "code",
   "execution_count": 11,
   "metadata": {},
   "outputs": [],
   "source": [
    "def test_command(cmd):\n",
    "    ''' Test a command against all known instructions and count how many are compatible. '''\n",
    "    instructions = ['addi','addr','muli','mulr','bani','banr','bori','borr',\n",
    "                    'gtir','gtri','gtrr','eqir','eqri','eqrr','seti','setr']\n",
    "    count = 0\n",
    "    for instruction in instructions:\n",
    "        cpu = CPU(cmd.before)\n",
    "        getattr(cpu, instruction)(*cmd.instruction[1:4])\n",
    "        if cpu.registers == cmd.after:\n",
    "            count += 1\n",
    "    return count"
   ]
  },
  {
   "cell_type": "code",
   "execution_count": 12,
   "metadata": {},
   "outputs": [
    {
     "name": "stdout",
     "output_type": "stream",
     "text": [
      "ExampleCommand(before=(3, 2, 1, 1), instruction=(9, 2, 1, 2), after=(3, 2, 2, 1))\n"
     ]
    },
    {
     "data": {
      "text/plain": [
       "3"
      ]
     },
     "execution_count": 12,
     "metadata": {},
     "output_type": "execute_result"
    }
   ],
   "source": [
    "test = ExampleCommand((3,2,1,1), (9,2,1,2), (3,2,2,1))\n",
    "print(test)\n",
    "test_command(test)"
   ]
  },
  {
   "cell_type": "code",
   "execution_count": 13,
   "metadata": {},
   "outputs": [],
   "source": [
    "import re\n",
    "\n",
    "register_re = re.compile(r'(Before|After):\\s+\\[(\\d), (\\d), (\\d), (\\d)]')\n",
    "\n",
    "def parse_input(text_):\n",
    "    ''' Parse input file up to the two blank lines. Return list of ExampleCommand. \n",
    "    Updated for part 2: return example commands and list of (op,a,b,c).'''\n",
    "    # Parse data for part 1.\n",
    "    examples = list()\n",
    "    lines = iter(text_.split('\\n'))\n",
    "    while True:\n",
    "        line = next(lines)\n",
    "        if not line.startswith('Before:'):\n",
    "            break\n",
    "        before = tuple([int(i) for i in register_re.match(line).group(2,3,4,5)])\n",
    "        instruction = tuple([int(i) for i in next(lines).split()])\n",
    "        after = tuple([int(i) for i in register_re.match(next(lines)).group(2,3,4,5)])\n",
    "        examples.append(ExampleCommand(before, instruction, after))\n",
    "        next(lines)\n",
    "    next(lines)\n",
    "\n",
    "    # By the time you get here, the next line will be the data for part 2.\n",
    "    program = list()\n",
    "    while True:\n",
    "        try:\n",
    "            line = next(lines)\n",
    "        except StopIteration:\n",
    "            break\n",
    "        program.append(tuple([int(i) for i in line.split()]))\n",
    "    return examples, program"
   ]
  },
  {
   "cell_type": "code",
   "execution_count": 14,
   "metadata": {},
   "outputs": [
    {
     "name": "stdout",
     "output_type": "stream",
     "text": [
      "761\n",
      "ExampleCommand(before=(0, 2, 2, 2), instruction=(4, 2, 3, 2), after=(0, 2, 5, 2))\n",
      "969\n",
      "(1, 0, 2, 3)\n"
     ]
    }
   ],
   "source": [
    "with open('input.txt') as input_:\n",
    "    examples, program = parse_input(input_.read())\n",
    "print(len(examples))\n",
    "print(examples[0])\n",
    "print(len(program))\n",
    "print(program[0])"
   ]
  },
  {
   "cell_type": "code",
   "execution_count": 17,
   "metadata": {},
   "outputs": [],
   "source": [
    "def count_examples(examples):\n",
    "    ''' Count how many commands are compatible with 3 or more opcodes. '''\n",
    "    count = 0\n",
    "    for example in examples:\n",
    "        if test_command(example) >= 3:\n",
    "            count += 1\n",
    "    return count"
   ]
  },
  {
   "cell_type": "code",
   "execution_count": 18,
   "metadata": {},
   "outputs": [
    {
     "data": {
      "text/plain": [
       "521"
      ]
     },
     "execution_count": 18,
     "metadata": {},
     "output_type": "execute_result"
    }
   ],
   "source": [
    "count_commands(examples)"
   ]
  },
  {
   "cell_type": "markdown",
   "metadata": {},
   "source": [
    "# Part 2"
   ]
  },
  {
   "cell_type": "code",
   "execution_count": 43,
   "metadata": {},
   "outputs": [],
   "source": [
    "def test_command2(cmd, instructions):\n",
    "    ''' Similar to test_command() but returns set of instructions that are compatible. '''\n",
    "    compatible = set()\n",
    "    for instruction in instructions:\n",
    "        cpu = CPU(cmd.before)\n",
    "        getattr(cpu, instruction)(*cmd.instruction[1:4])\n",
    "        if cpu.registers == cmd.after:\n",
    "            compatible.add(instruction)\n",
    "    return compatible"
   ]
  },
  {
   "cell_type": "code",
   "execution_count": 49,
   "metadata": {},
   "outputs": [],
   "source": [
    "from collections import defaultdict\n",
    "\n",
    "def identify_opcodes(examples):\n",
    "    ''' Identify all examples that can only be 1 opcode. Assign names to those\n",
    "    numbers, then remove those from the set of candidates and try again. Returns\n",
    "    a dict that maps opcode numbers to names. '''\n",
    "    opcodes = dict()\n",
    "    instructions = {'addi','addr','muli','mulr','bani','banr','bori','borr',\n",
    "                    'gtir','gtri','gtrr','eqir','eqri','eqrr','seti','setr'}\n",
    "    \n",
    "    while instructions:\n",
    "        compatibility = defaultdict(set)\n",
    "        \n",
    "        # For each opcode, check how many of the remaining instructions are \n",
    "        # compatible with it\n",
    "        for example in examples:\n",
    "            opcode = example.instruction[0]\n",
    "            compatibility[opcode].update(test_command2(example, instructions))\n",
    "\n",
    "        # For any opcode with only 1 compatible instruction, we record the\n",
    "        # mapping and remove that instruction from the set of candidates.\n",
    "        for opcode, compatible in compatibility.items():\n",
    "            if len(compatible) == 1:\n",
    "                instruction = compatible.pop()\n",
    "                opcodes[opcode] = instruction\n",
    "                instructions.remove(instruction)\n",
    "\n",
    "        print('I know {} opcodes and have {} instructions remaining.'.format(\n",
    "            len(opcodes), len(instructions)))\n",
    "\n",
    "    return opcodes"
   ]
  },
  {
   "cell_type": "code",
   "execution_count": 50,
   "metadata": {},
   "outputs": [
    {
     "name": "stdout",
     "output_type": "stream",
     "text": [
      "I know 1 opcodes and have 15 instructions remaining.\n",
      "I know 2 opcodes and have 14 instructions remaining.\n",
      "I know 3 opcodes and have 13 instructions remaining.\n",
      "I know 4 opcodes and have 12 instructions remaining.\n",
      "I know 5 opcodes and have 11 instructions remaining.\n",
      "I know 6 opcodes and have 10 instructions remaining.\n",
      "I know 7 opcodes and have 9 instructions remaining.\n",
      "I know 8 opcodes and have 8 instructions remaining.\n",
      "I know 9 opcodes and have 7 instructions remaining.\n",
      "I know 10 opcodes and have 6 instructions remaining.\n",
      "I know 11 opcodes and have 5 instructions remaining.\n",
      "I know 12 opcodes and have 4 instructions remaining.\n",
      "I know 13 opcodes and have 3 instructions remaining.\n",
      "I know 14 opcodes and have 2 instructions remaining.\n",
      "I know 15 opcodes and have 1 instructions remaining.\n",
      "I know 16 opcodes and have 0 instructions remaining.\n"
     ]
    }
   ],
   "source": [
    "opcodes = identify_opcodes(examples)"
   ]
  },
  {
   "cell_type": "code",
   "execution_count": 48,
   "metadata": {},
   "outputs": [
    {
     "data": {
      "text/plain": [
       "{4: 'addi',\n",
       " 15: 'mulr',\n",
       " 8: 'muli',\n",
       " 14: 'addr',\n",
       " 11: 'borr',\n",
       " 9: 'bori',\n",
       " 1: 'seti',\n",
       " 7: 'gtri',\n",
       " 3: 'eqrr',\n",
       " 2: 'eqri',\n",
       " 0: 'eqir',\n",
       " 6: 'gtrr',\n",
       " 12: 'gtir',\n",
       " 5: 'setr',\n",
       " 13: 'banr',\n",
       " 10: 'bani'}"
      ]
     },
     "execution_count": 48,
     "metadata": {},
     "output_type": "execute_result"
    }
   ],
   "source": [
    "opcodes"
   ]
  },
  {
   "cell_type": "code",
   "execution_count": 51,
   "metadata": {},
   "outputs": [],
   "source": [
    "def execute_program(program, opcodes):\n",
    "    ''' Execute the program represented as a list of (opcode,a,b,c) tuples using the\n",
    "    given lookup table of opcodes. '''\n",
    "    cpu = CPU((0,0,0,0))\n",
    "    for instruction in program:\n",
    "        op = getattr(cpu, opcodes[instruction[0]])\n",
    "        args = instruction[1:4]\n",
    "        op(*args)\n",
    "    print(cpu)"
   ]
  },
  {
   "cell_type": "code",
   "execution_count": 52,
   "metadata": {},
   "outputs": [
    {
     "ename": "IndexError",
     "evalue": "tuple index out of range",
     "output_type": "error",
     "traceback": [
      "\u001b[0;31m---------------------------------------------------------------------------\u001b[0m",
      "\u001b[0;31mIndexError\u001b[0m                                Traceback (most recent call last)",
      "\u001b[0;32m<ipython-input-52-8f1c342bbf7a>\u001b[0m in \u001b[0;36m<module>\u001b[0;34m()\u001b[0m\n\u001b[0;32m----> 1\u001b[0;31m \u001b[0mexecute_program\u001b[0m\u001b[0;34m(\u001b[0m\u001b[0mprogram\u001b[0m\u001b[0;34m,\u001b[0m \u001b[0mopcodes\u001b[0m\u001b[0;34m)\u001b[0m\u001b[0;34m\u001b[0m\u001b[0m\n\u001b[0m",
      "\u001b[0;32m<ipython-input-51-d0aa64666d71>\u001b[0m in \u001b[0;36mexecute_program\u001b[0;34m(program, opcodes)\u001b[0m\n\u001b[1;32m      4\u001b[0m     \u001b[0mcpu\u001b[0m \u001b[0;34m=\u001b[0m \u001b[0mCPU\u001b[0m\u001b[0;34m(\u001b[0m\u001b[0;34m(\u001b[0m\u001b[0;36m0\u001b[0m\u001b[0;34m,\u001b[0m\u001b[0;36m0\u001b[0m\u001b[0;34m,\u001b[0m\u001b[0;36m0\u001b[0m\u001b[0;34m,\u001b[0m\u001b[0;36m0\u001b[0m\u001b[0;34m)\u001b[0m\u001b[0;34m)\u001b[0m\u001b[0;34m\u001b[0m\u001b[0m\n\u001b[1;32m      5\u001b[0m     \u001b[0;32mfor\u001b[0m \u001b[0minstruction\u001b[0m \u001b[0;32min\u001b[0m \u001b[0mprogram\u001b[0m\u001b[0;34m:\u001b[0m\u001b[0;34m\u001b[0m\u001b[0m\n\u001b[0;32m----> 6\u001b[0;31m         \u001b[0mop\u001b[0m \u001b[0;34m=\u001b[0m \u001b[0mgetattr\u001b[0m\u001b[0;34m(\u001b[0m\u001b[0mcpu\u001b[0m\u001b[0;34m,\u001b[0m \u001b[0mopcodes\u001b[0m\u001b[0;34m[\u001b[0m\u001b[0minstruction\u001b[0m\u001b[0;34m[\u001b[0m\u001b[0;36m0\u001b[0m\u001b[0;34m]\u001b[0m\u001b[0;34m]\u001b[0m\u001b[0;34m)\u001b[0m\u001b[0;34m\u001b[0m\u001b[0m\n\u001b[0m\u001b[1;32m      7\u001b[0m         \u001b[0margs\u001b[0m \u001b[0;34m=\u001b[0m \u001b[0minstruction\u001b[0m\u001b[0;34m[\u001b[0m\u001b[0;36m1\u001b[0m\u001b[0;34m:\u001b[0m\u001b[0;36m4\u001b[0m\u001b[0;34m]\u001b[0m\u001b[0;34m\u001b[0m\u001b[0m\n\u001b[1;32m      8\u001b[0m         \u001b[0mop\u001b[0m\u001b[0;34m(\u001b[0m\u001b[0;34m*\u001b[0m\u001b[0margs\u001b[0m\u001b[0;34m)\u001b[0m\u001b[0;34m\u001b[0m\u001b[0m\n",
      "\u001b[0;31mIndexError\u001b[0m: tuple index out of range"
     ]
    }
   ],
   "source": [
    "execute_program(program, opcodes)"
   ]
  },
  {
   "cell_type": "code",
   "execution_count": null,
   "metadata": {},
   "outputs": [],
   "source": []
  }
 ],
 "metadata": {
  "kernelspec": {
   "display_name": "Python 3",
   "language": "python",
   "name": "python3"
  },
  "language_info": {
   "codemirror_mode": {
    "name": "ipython",
    "version": 3
   },
   "file_extension": ".py",
   "mimetype": "text/x-python",
   "name": "python",
   "nbconvert_exporter": "python",
   "pygments_lexer": "ipython3",
   "version": "3.7.0"
  }
 },
 "nbformat": 4,
 "nbformat_minor": 2
}
