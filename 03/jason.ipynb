{
 "cells": [
  {
   "cell_type": "code",
   "execution_count": 47,
   "metadata": {
    "collapsed": false
   },
   "outputs": [],
   "source": [
    "import re\n",
    "from pprint import pprint\n",
    "from collections import defaultdict"
   ]
  },
  {
   "cell_type": "code",
   "execution_count": 39,
   "metadata": {
    "collapsed": true
   },
   "outputs": [],
   "source": [
    "with open('jason.1.input','r') as f:\n",
    "    data = [line.rstrip().strip() for line in f.readlines()]"
   ]
  },
  {
   "cell_type": "code",
   "execution_count": 49,
   "metadata": {
    "collapsed": false
   },
   "outputs": [
    {
     "name": "stdout",
     "output_type": "stream",
     "text": [
      "overlap_squares: 103806\n",
      "{'625'}\n"
     ]
    }
   ],
   "source": [
    "d = data[0]\n",
    "n_rows, n_cols = 1010, 1010\n",
    "cloth = [ [[] for i in range(n_cols)] for j in range(n_rows) ]\n",
    "\n",
    "regex = re.compile('#(?P<claim_id>\\d+) @ (?P<x>\\d+),(?P<y>\\d+): (?P<width>\\d+)x(?P<height>\\d+)')\n",
    "claims = set()\n",
    "\n",
    "for claim in data:\n",
    "    r = regex.search(claim) \n",
    "    claim_id, x0, y0, width, height = r.groups()\n",
    "    x0 = int(x0)\n",
    "    y0 = int(y0)\n",
    "    height = int(height)\n",
    "    width = int(width)\n",
    "    xr = range(x0,x0+width)\n",
    "    yr = range(y0,y0+height)\n",
    "    \n",
    "    claims.add(claim_id)\n",
    "    \n",
    "    for x in xr:\n",
    "        for y in yr:\n",
    "            cloth[x][y].append(claim_id)\n",
    "            if len(cloth[x][y])>1:\n",
    "                for c in cloth[x][y]:\n",
    "                    if c in claims:\n",
    "                        claims.remove(c)\n",
    "\n",
    "    \n",
    "    \n",
    "flat_cloth = []\n",
    "overlap_squares = 0\n",
    "for c in cloth:\n",
    "    flat_cloth += c\n",
    "    overlap_squares += sum([int(len(e)>1) for e in c])\n",
    "    \n",
    "print('overlap_squares:',overlap_squares)\n",
    "print(claims)\n",
    "\n",
    "    \n",
    "\n"
   ]
  },
  {
   "cell_type": "code",
   "execution_count": 34,
   "metadata": {
    "collapsed": false
   },
   "outputs": [
    {
     "data": {
      "text/plain": [
       "0"
      ]
     },
     "execution_count": 34,
     "metadata": {},
     "output_type": "execute_result"
    }
   ],
   "source": []
  },
  {
   "cell_type": "code",
   "execution_count": null,
   "metadata": {
    "collapsed": false
   },
   "outputs": [],
   "source": []
  },
  {
   "cell_type": "code",
   "execution_count": null,
   "metadata": {
    "collapsed": true
   },
   "outputs": [],
   "source": []
  }
 ],
 "metadata": {
  "kernelspec": {
   "display_name": "Python 3",
   "language": "python",
   "name": "python3"
  },
  "language_info": {
   "codemirror_mode": {
    "name": "ipython",
    "version": 3
   },
   "file_extension": ".py",
   "mimetype": "text/x-python",
   "name": "python",
   "nbconvert_exporter": "python",
   "pygments_lexer": "ipython3",
   "version": "3.5.4"
  }
 },
 "nbformat": 4,
 "nbformat_minor": 2
}
