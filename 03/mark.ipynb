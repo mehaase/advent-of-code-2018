{
 "cells": [
  {
   "cell_type": "markdown",
   "metadata": {},
   "source": [
    "# Part 1\n",
    "\n",
    "I think the easiest way to do this challenge is to render the entire map.\n",
    "The problem says the map is at least 1,000 grid units, so we have at least\n",
    "a million values to store, which should be feasible.\n",
    "\n",
    "Each cell in the map stores a list of IDs which have claimed it.\n",
    "\n",
    "The only hitch is that we don't know how big the map needs to be in advance.\n",
    "I tried writing a resizable map, but I think it's easier just to run through\n",
    "the input twice: on the first pass, keep track of the maximum dimensions.\n",
    "Then do the count on the second pass."
   ]
  },
  {
   "cell_type": "code",
   "execution_count": 1,
   "metadata": {},
   "outputs": [],
   "source": [
    "from IPython.display import display"
   ]
  },
  {
   "cell_type": "code",
   "execution_count": 53,
   "metadata": {},
   "outputs": [],
   "source": [
    "def print_map(map_):\n",
    "    ''' Render a map. Helpful for debugging. '''\n",
    "    render = ''\n",
    "    for row in map_:\n",
    "        for val in row:\n",
    "            if len(val) == 0:\n",
    "                render += '·'\n",
    "            elif len(val) == 1:\n",
    "                render += str(val[0])[0]\n",
    "            else:\n",
    "                render += '*'\n",
    "        render += '\\n'\n",
    "    print(render)"
   ]
  },
  {
   "cell_type": "code",
   "execution_count": 41,
   "metadata": {},
   "outputs": [
    {
     "name": "stdout",
     "output_type": "stream",
     "text": [
      "·11·\n",
      "·11·\n",
      "2**2\n",
      "2**2\n",
      "·11·\n",
      "\n"
     ]
    }
   ],
   "source": [
    "test_map = [\n",
    "    [[], [1], [1], []],\n",
    "    [[], [1], [1], []],\n",
    "    [[2], [1,2], [1,2], [2]],\n",
    "    [[2], [1,2], [1,2], [2]],\n",
    "    [[], [1],  [1],  []],\n",
    "]\n",
    "\n",
    "print_map(test_map)"
   ]
  },
  {
   "cell_type": "code",
   "execution_count": 45,
   "metadata": {},
   "outputs": [],
   "source": [
    "def init_map(rows, cols):\n",
    "    map_ = list()\n",
    "    for r in range(rows):\n",
    "        map_.append(list())\n",
    "        for col in range(cols):\n",
    "            map_[r].append([])\n",
    "    return map_"
   ]
  },
  {
   "cell_type": "code",
   "execution_count": 46,
   "metadata": {},
   "outputs": [
    {
     "data": {
      "text/plain": [
       "[[[], []], [[], []], [[], []]]"
      ]
     },
     "metadata": {},
     "output_type": "display_data"
    }
   ],
   "source": [
    "display(init_map(3, 2))"
   ]
  },
  {
   "cell_type": "code",
   "execution_count": 47,
   "metadata": {},
   "outputs": [
    {
     "name": "stdout",
     "output_type": "stream",
     "text": [
      "·····\n",
      "·····\n",
      "·····\n",
      "·····\n",
      "\n"
     ]
    }
   ],
   "source": [
    "print_map(init_map(4, 5))"
   ]
  },
  {
   "cell_type": "code",
   "execution_count": 77,
   "metadata": {},
   "outputs": [],
   "source": [
    "import re\n",
    "\n",
    "# A claim looks like \"#1 @ 704,926: 5x4\".\n",
    "claim_re = re.compile(r'#(\\d+) @ (\\d+),(\\d+): (\\d+)x(\\d+)')\n",
    "\n",
    "def parse_claim(claim):\n",
    "    ''' Parse a line of text into a claim. \n",
    "    Note that the row/col and width/height are reversed. '''\n",
    "    m = claim_re.match(claim)\n",
    "    if not m:\n",
    "        raise ValueError('Cannot parse claim: ' + claim)\n",
    "    return int(m.group(1)), int(m.group(3)), int(m.group(2)), int(m.group(5)), int(m.group(4))"
   ]
  },
  {
   "cell_type": "code",
   "execution_count": 78,
   "metadata": {},
   "outputs": [
    {
     "name": "stdout",
     "output_type": "stream",
     "text": [
      "(1, 926, 704, 4, 5)\n"
     ]
    }
   ],
   "source": [
    "print(parse_claim(\"#1 @ 704,926: 5x4\"))"
   ]
  },
  {
   "cell_type": "code",
   "execution_count": 79,
   "metadata": {},
   "outputs": [
    {
     "name": "stdout",
     "output_type": "stream",
     "text": [
      "(60, 405, 835, 19, 10)\n"
     ]
    }
   ],
   "source": [
    "print(parse_claim(\"#60 @ 835,405: 10x19\"))"
   ]
  },
  {
   "cell_type": "code",
   "execution_count": 80,
   "metadata": {},
   "outputs": [],
   "source": [
    "import itertools\n",
    "\n",
    "def mark_claim(map_, id_, row, col, height, width):\n",
    "    ''' Increment the squares on the map corresponding to the claim. '''\n",
    "    for h, w in itertools.product(range(height), range(width)):\n",
    "        map_[row + h][col + w].append(id_)"
   ]
  },
  {
   "cell_type": "code",
   "execution_count": 81,
   "metadata": {},
   "outputs": [
    {
     "name": "stdout",
     "output_type": "stream",
     "text": [
      "··········\n",
      "··········\n",
      "···11111··\n",
      "···11111··\n",
      "···11111··\n",
      "···11111··\n",
      "··········\n",
      "··········\n",
      "··········\n",
      "··········\n",
      "\n"
     ]
    }
   ],
   "source": [
    "test_map = init_map(10, 10)\n",
    "mark_claim(test_map, 1, 2, 3, 4, 5)\n",
    "print_map(test_map)"
   ]
  },
  {
   "cell_type": "code",
   "execution_count": 82,
   "metadata": {},
   "outputs": [
    {
     "name": "stdout",
     "output_type": "stream",
     "text": [
      "··········\n",
      "··········\n",
      "···11111··\n",
      "···11111··\n",
      "···111**22\n",
      "···111**22\n",
      "······2222\n",
      "······2222\n",
      "··········\n",
      "··········\n",
      "\n"
     ]
    }
   ],
   "source": [
    "mark_claim(test_map, 2, 4, 6, 4, 4)\n",
    "print_map(test_map)"
   ]
  },
  {
   "cell_type": "code",
   "execution_count": 83,
   "metadata": {},
   "outputs": [],
   "source": [
    "def count_map(map_, threshold=2):\n",
    "    ''' Count the number of squares in the map greater than threshold. '''\n",
    "    count = 0\n",
    "    for row in map_:\n",
    "        for val in row:\n",
    "            if len(val) >= threshold:\n",
    "                count += 1\n",
    "    return count"
   ]
  },
  {
   "cell_type": "code",
   "execution_count": 84,
   "metadata": {},
   "outputs": [
    {
     "data": {
      "text/plain": [
       "32"
      ]
     },
     "execution_count": 84,
     "metadata": {},
     "output_type": "execute_result"
    }
   ],
   "source": [
    "count_map(test_map, 1)"
   ]
  },
  {
   "cell_type": "code",
   "execution_count": 85,
   "metadata": {},
   "outputs": [
    {
     "data": {
      "text/plain": [
       "4"
      ]
     },
     "execution_count": 85,
     "metadata": {},
     "output_type": "execute_result"
    }
   ],
   "source": [
    "count_map(test_map, 2)"
   ]
  },
  {
   "cell_type": "code",
   "execution_count": 86,
   "metadata": {},
   "outputs": [
    {
     "name": "stdout",
     "output_type": "stream",
     "text": [
      "7 7\n",
      "·······\n",
      "···2222\n",
      "···2222\n",
      "·11**22\n",
      "·11**22\n",
      "·111133\n",
      "·111133\n",
      "\n"
     ]
    },
    {
     "data": {
      "text/plain": [
       "4"
      ]
     },
     "execution_count": 86,
     "metadata": {},
     "output_type": "execute_result"
    }
   ],
   "source": [
    "# Try the test case.\n",
    "test = [\n",
    "    '#1 @ 1,3: 4x4\\n',\n",
    "    '#2 @ 3,1: 4x4\\n',\n",
    "    '#3 @ 5,5: 2x2\\n',\n",
    "]\n",
    "\n",
    "# First pass\n",
    "max_row = 0\n",
    "max_col = 0\n",
    "\n",
    "for line in test:\n",
    "    id_, row, col, height, width = parse_claim(line)\n",
    "    max_row = max(max_row, row + height)\n",
    "    max_col = max(max_col, col + width)\n",
    "\n",
    "print(max_row, max_col)\n",
    "\n",
    "# Second pass\n",
    "map_ = init_map(max_row, max_col)\n",
    "\n",
    "for line in test:\n",
    "    id_, row, col, height, width = parse_claim(line)\n",
    "    mark_claim(map_, id_, row, col, height, width)\n",
    "\n",
    "print_map(map_)\n",
    "count_map(map_, 2)"
   ]
  },
  {
   "cell_type": "code",
   "execution_count": 90,
   "metadata": {},
   "outputs": [
    {
     "name": "stdout",
     "output_type": "stream",
     "text": [
      "8 8\n",
      "········\n",
      "·44*222·\n",
      "·44*222·\n",
      "·****22·\n",
      "·11**22·\n",
      "·111133·\n",
      "·111***5\n",
      "····5555\n",
      "\n"
     ]
    },
    {
     "data": {
      "text/plain": [
       "11"
      ]
     },
     "execution_count": 90,
     "metadata": {},
     "output_type": "execute_result"
    }
   ],
   "source": [
    "# Try another test case.\n",
    "test = [\n",
    "    '#1 @ 1,3: 4x4\\n',\n",
    "    '#2 @ 3,1: 4x4\\n',\n",
    "    '#3 @ 5,5: 2x2\\n',\n",
    "    '#4 @ 1,1: 3x3\\n',\n",
    "    '#5 @ 4,6: 4x2\\n',\n",
    "]\n",
    "\n",
    "# First pass\n",
    "max_row = 0\n",
    "max_col = 0\n",
    "\n",
    "for line in test:\n",
    "    id_, row, col, height, width = parse_claim(line)\n",
    "    max_row = max(max_row, row + height)\n",
    "    max_col = max(max_col, col + width)\n",
    "\n",
    "print(max_row, max_col)\n",
    "\n",
    "# Second pass\n",
    "map_ = init_map(max_row, max_col)\n",
    "\n",
    "for line in test:\n",
    "    id_, row, col, height, width = parse_claim(line)\n",
    "    mark_claim(map_, id_, row, col, height, width)\n",
    "\n",
    "print_map(map_)\n",
    "count_map(map_, 2)"
   ]
  },
  {
   "cell_type": "code",
   "execution_count": 91,
   "metadata": {},
   "outputs": [
    {
     "name": "stdout",
     "output_type": "stream",
     "text": [
      "1000 999\n"
     ]
    }
   ],
   "source": [
    "# First pass: figure out the map's size.\n",
    "max_row = 0\n",
    "max_col = 0\n",
    "\n",
    "with open('input.txt') as input_:\n",
    "    for line in input_:\n",
    "        id_, row, col, height, width = parse_claim(line)\n",
    "        max_row = max(max_row, row + height)\n",
    "        max_col = max(max_col, col + width)\n",
    "\n",
    "print(max_row, max_col)"
   ]
  },
  {
   "cell_type": "code",
   "execution_count": 93,
   "metadata": {},
   "outputs": [
    {
     "data": {
      "text/plain": [
       "116920"
      ]
     },
     "execution_count": 93,
     "metadata": {},
     "output_type": "execute_result"
    }
   ],
   "source": [
    "# Second pass: mark claims on the map\n",
    "map_ = init_map(max_row, max_col)\n",
    "\n",
    "with open('input.txt') as input_:\n",
    "    for line in input_:\n",
    "        id_, row, col, height, width = parse_claim(line)\n",
    "        mark_claim(map_, id_, row, col, height, width)\n",
    "\n",
    "count_map(map_, 2)"
   ]
  },
  {
   "cell_type": "markdown",
   "metadata": {},
   "source": [
    "# Part 2\n",
    "\n",
    "In this part, I can reuse the map I just made. Make a set of all claim IDs, then\n",
    "iterate over the map. If a cell is claimed by 2 or more IDs, then remove all of \n",
    "those claiming IDs from the set."
   ]
  },
  {
   "cell_type": "code",
   "execution_count": 94,
   "metadata": {},
   "outputs": [
    {
     "data": {
      "text/plain": [
       "1359"
      ]
     },
     "execution_count": 94,
     "metadata": {},
     "output_type": "execute_result"
    }
   ],
   "source": [
    "ids = set()\n",
    "\n",
    "with open('input.txt') as input_:\n",
    "    for line in input_:\n",
    "        id_, _, _, _, _ = parse_claim(line)\n",
    "        ids.add(id_)\n",
    "\n",
    "len(ids)"
   ]
  },
  {
   "cell_type": "code",
   "execution_count": null,
   "metadata": {},
   "outputs": [],
   "source": [
    "for row in map_:\n",
    "    for val in row:\n",
    "        if len(val) >= 2:\n",
    "            ids -"
   ]
  }
 ],
 "metadata": {
  "kernelspec": {
   "display_name": "Python 3",
   "language": "python",
   "name": "python3"
  },
  "language_info": {
   "codemirror_mode": {
    "name": "ipython",
    "version": 3
   },
   "file_extension": ".py",
   "mimetype": "text/x-python",
   "name": "python",
   "nbconvert_exporter": "python",
   "pygments_lexer": "ipython3",
   "version": "3.6.7"
  }
 },
 "nbformat": 4,
 "nbformat_minor": 2
}
