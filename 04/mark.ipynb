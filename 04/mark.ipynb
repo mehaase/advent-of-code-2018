{
 "cells": [
  {
   "cell_type": "markdown",
   "metadata": {},
   "source": [
    "# Part 1"
   ]
  },
  {
   "cell_type": "code",
   "execution_count": 27,
   "metadata": {},
   "outputs": [],
   "source": [
    "test = '''[1518-11-01 00:00] Guard #10 begins shift\n",
    "[1518-11-01 00:05] falls asleep\n",
    "[1518-11-01 00:25] wakes up\n",
    "[1518-11-01 00:30] falls asleep\n",
    "[1518-11-01 00:55] wakes up\n",
    "[1518-11-01 23:58] Guard #99 begins shift\n",
    "[1518-11-02 00:40] falls asleep\n",
    "[1518-11-02 00:50] wakes up\n",
    "[1518-11-03 00:05] Guard #10 begins shift\n",
    "[1518-11-03 00:24] falls asleep\n",
    "[1518-11-03 00:29] wakes up\n",
    "[1518-11-04 00:02] Guard #99 begins shift\n",
    "[1518-11-04 00:36] falls asleep\n",
    "[1518-11-04 00:46] wakes up\n",
    "[1518-11-05 00:03] Guard #99 begins shift\n",
    "[1518-11-05 00:45] falls asleep\n",
    "[1518-11-05 00:55] wakes up'''"
   ]
  },
  {
   "cell_type": "code",
   "execution_count": 22,
   "metadata": {},
   "outputs": [],
   "source": [
    "from collections import namedtuple\n",
    "import re\n",
    "\n",
    "Record = namedtuple('Record', 'year month day hour minute message')\n",
    "line_re = re.compile(r'^\\[(\\d\\d\\d\\d)-(\\d\\d)-(\\d\\d) (\\d\\d):(\\d\\d)\\] (.*)$')\n",
    "guard_re = re.compile(r'^Guard #(\\d+) begins shift$')\n",
    "\n",
    "def parse_line(line):\n",
    "    match = line_re.match(line)\n",
    "    if not match:\n",
    "        raise ValueError(f'Cannot parse line: {line}')\n",
    "    args = list(map(int, match.group(1,2,3,4,5))) + [match.group(6)]\n",
    "    return Record(*args)\n",
    "\n",
    "def parse_guard_id(message):\n",
    "    match = guard_re.match(message)\n",
    "    if not match:\n",
    "        raise ValueError(f'Cannot parse message: {message}')\n",
    "    return int(match.group(1))"
   ]
  },
  {
   "cell_type": "code",
   "execution_count": 14,
   "metadata": {},
   "outputs": [
    {
     "name": "stdout",
     "output_type": "stream",
     "text": [
      "Record(year=1518, month=11, day=1, hour=0, minute=0, message='Guard #10 begins shift')\n"
     ]
    }
   ],
   "source": [
    "print(parse_line('[1518-11-01 00:00] Guard #10 begins shift'))"
   ]
  },
  {
   "cell_type": "code",
   "execution_count": 23,
   "metadata": {},
   "outputs": [
    {
     "data": {
      "text/plain": [
       "10"
      ]
     },
     "execution_count": 23,
     "metadata": {},
     "output_type": "execute_result"
    }
   ],
   "source": [
    "parse_guard_id('Guard #10 begins shift')"
   ]
  },
  {
   "cell_type": "code",
   "execution_count": 52,
   "metadata": {},
   "outputs": [],
   "source": [
    "def parse_lines(lines):\n",
    "    '''\n",
    "    Each guard is represented as a 60 item list, one for each minute. As\n",
    "    we parse lines, we keep of which guard is on duty and add increment\n",
    "    each item where the guard is sleeping.\n",
    "    '''\n",
    "    guards = dict()\n",
    "    current_guard = None\n",
    "    sleep_starts = None\n",
    "\n",
    "    for line in lines:\n",
    "        record = parse_line(line)\n",
    "        if record.message.startswith('falls'):\n",
    "            sleep_starts = record.minute\n",
    "        elif record.message.startswith('wakes'):\n",
    "            if sleep_starts is None:\n",
    "                print(record)\n",
    "                raise Exception(\"Guard wakes up, but wasn't asleep!\")\n",
    "            try:\n",
    "                guard = guards[current_guard]\n",
    "            except KeyError:\n",
    "                guard = [0] * 60\n",
    "                guards[current_guard] = guard\n",
    "            for i in range(sleep_starts, record.minute):\n",
    "                guard[i] += 1\n",
    "            sleep_starts = None\n",
    "        elif record.message.startswith('Guard'):\n",
    "            current_guard = parse_guard_id(record.message)\n",
    "        else:\n",
    "            raise Exception('Unexpected message: {}'.format(record.message))\n",
    "    \n",
    "    return guards"
   ]
  },
  {
   "cell_type": "code",
   "execution_count": 35,
   "metadata": {},
   "outputs": [
    {
     "name": "stdout",
     "output_type": "stream",
     "text": [
      "[0, 0, 0, 0, 0, 1, 1, 1, 1, 1, 1, 1, 1, 1, 1, 1, 1, 1, 1, 1, 1, 1, 1, 1, 2, 1, 1, 1, 1, 0, 1, 1, 1, 1, 1, 1, 1, 1, 1, 1, 1, 1, 1, 1, 1, 1, 1, 1, 1, 1, 1, 1, 1, 1, 1, 0, 0, 0, 0, 0]\n",
      "[0, 0, 0, 0, 0, 0, 0, 0, 0, 0, 0, 0, 0, 0, 0, 0, 0, 0, 0, 0, 0, 0, 0, 0, 0, 0, 0, 0, 0, 0, 0, 0, 0, 0, 0, 0, 1, 1, 1, 1, 2, 2, 2, 2, 2, 3, 2, 2, 2, 2, 1, 1, 1, 1, 1, 0, 0, 0, 0, 0]\n"
     ]
    }
   ],
   "source": [
    "test_guards = parse_lines(test.split('\\n'))\n",
    "print(test_guards[10])\n",
    "print(test_guards[99])"
   ]
  },
  {
   "cell_type": "code",
   "execution_count": 34,
   "metadata": {},
   "outputs": [],
   "source": [
    "def max_guards(guards):\n",
    "    ''' Return the ID of the guard who slept the most. '''\n",
    "    max_id, max_sleep = None, 0\n",
    "    for id_, guard in guards.items():\n",
    "        guard_sleep = sum(guard)\n",
    "        if guard_sleep > max_sleep:\n",
    "            max_id, max_sleep = id_, guard_sleep\n",
    "    return max_id, max_sleep"
   ]
  },
  {
   "cell_type": "code",
   "execution_count": 36,
   "metadata": {},
   "outputs": [
    {
     "data": {
      "text/plain": [
       "(10, 50)"
      ]
     },
     "execution_count": 36,
     "metadata": {},
     "output_type": "execute_result"
    }
   ],
   "source": [
    "max_guards(test_guards)"
   ]
  },
  {
   "cell_type": "code",
   "execution_count": 65,
   "metadata": {},
   "outputs": [],
   "source": [
    "def max_guard_minute(guard):\n",
    "    ''' Return the minute where this guard slept most frequently. '''\n",
    "    max_minute, max_val = -1, -1\n",
    "    for minute, val in enumerate(guard):\n",
    "        if val > max_val:\n",
    "            max_minute, max_val = minute, val\n",
    "    return max_minute, max_val"
   ]
  },
  {
   "cell_type": "code",
   "execution_count": 66,
   "metadata": {},
   "outputs": [
    {
     "data": {
      "text/plain": [
       "(24, 2)"
      ]
     },
     "execution_count": 66,
     "metadata": {},
     "output_type": "execute_result"
    }
   ],
   "source": [
    "max_guard_minute(test_guards[10])"
   ]
  },
  {
   "cell_type": "code",
   "execution_count": 48,
   "metadata": {},
   "outputs": [
    {
     "data": {
      "text/plain": [
       "240"
      ]
     },
     "execution_count": 48,
     "metadata": {},
     "output_type": "execute_result"
    }
   ],
   "source": [
    "10 * 24"
   ]
  },
  {
   "cell_type": "code",
   "execution_count": 56,
   "metadata": {},
   "outputs": [
    {
     "data": {
      "text/plain": [
       "20"
      ]
     },
     "execution_count": 56,
     "metadata": {},
     "output_type": "execute_result"
    }
   ],
   "source": [
    "with open('input.txt') as input_:\n",
    "    lines = list(input_)\n",
    "    lines.sort()\n",
    "    guards = parse_lines(lines)\n",
    "len(guards)"
   ]
  },
  {
   "cell_type": "code",
   "execution_count": 58,
   "metadata": {},
   "outputs": [
    {
     "data": {
      "text/plain": [
       "(641, 498)"
      ]
     },
     "execution_count": 58,
     "metadata": {},
     "output_type": "execute_result"
    }
   ],
   "source": [
    "max_guards(guards)"
   ]
  },
  {
   "cell_type": "code",
   "execution_count": 67,
   "metadata": {},
   "outputs": [
    {
     "data": {
      "text/plain": [
       "(41, 15)"
      ]
     },
     "execution_count": 67,
     "metadata": {},
     "output_type": "execute_result"
    }
   ],
   "source": [
    "max_guard_minute(guards[641])"
   ]
  },
  {
   "cell_type": "code",
   "execution_count": 60,
   "metadata": {},
   "outputs": [
    {
     "data": {
      "text/plain": [
       "26281"
      ]
     },
     "execution_count": 60,
     "metadata": {},
     "output_type": "execute_result"
    }
   ],
   "source": [
    "641 * 41"
   ]
  },
  {
   "cell_type": "markdown",
   "metadata": {},
   "source": [
    "# Part 2"
   ]
  },
  {
   "cell_type": "code",
   "execution_count": 68,
   "metadata": {},
   "outputs": [],
   "source": [
    "def max_all_guards(guards):\n",
    "    ''' Return the guard/minute with the highest single minute count. '''\n",
    "    max_id, max_minute, max_val = -1, -1, -1\n",
    "    for id_, guard in guards.items():\n",
    "        guard_minute, guard_val = max_guard_minute(guard)\n",
    "        if guard_val > max_val:\n",
    "            max_id, max_minute, max_val = id_, guard_minute, guard_val\n",
    "    return max_id, max_minute, max_val"
   ]
  },
  {
   "cell_type": "code",
   "execution_count": 69,
   "metadata": {},
   "outputs": [
    {
     "data": {
      "text/plain": [
       "(1973, 37, 18)"
      ]
     },
     "execution_count": 69,
     "metadata": {},
     "output_type": "execute_result"
    }
   ],
   "source": [
    "max_all_guards(guards)"
   ]
  },
  {
   "cell_type": "code",
   "execution_count": 70,
   "metadata": {},
   "outputs": [
    {
     "data": {
      "text/plain": [
       "73001"
      ]
     },
     "execution_count": 70,
     "metadata": {},
     "output_type": "execute_result"
    }
   ],
   "source": [
    "1973 * 37"
   ]
  },
  {
   "cell_type": "code",
   "execution_count": null,
   "metadata": {},
   "outputs": [],
   "source": []
  }
 ],
 "metadata": {
  "kernelspec": {
   "display_name": "Python 3",
   "language": "python",
   "name": "python3"
  },
  "language_info": {
   "codemirror_mode": {
    "name": "ipython",
    "version": 3
   },
   "file_extension": ".py",
   "mimetype": "text/x-python",
   "name": "python",
   "nbconvert_exporter": "python",
   "pygments_lexer": "ipython3",
   "version": "3.6.7"
  }
 },
 "nbformat": 4,
 "nbformat_minor": 2
}
