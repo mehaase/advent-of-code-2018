{
 "cells": [
  {
   "cell_type": "markdown",
   "metadata": {},
   "source": [
    "# Part 1"
   ]
  },
  {
   "cell_type": "code",
   "execution_count": 1,
   "metadata": {},
   "outputs": [],
   "source": [
    "from dataclasses import dataclass\n",
    "import re\n",
    "\n",
    "@dataclass\n",
    "class Group:\n",
    "    id_: int\n",
    "    num_units: int\n",
    "    hit_points: int\n",
    "    attack_damage: int\n",
    "    attack_type: str\n",
    "    initiative: int\n",
    "    weaknesses: set\n",
    "    immunities: set\n",
    "    army: str\n",
    "    \n",
    "    @property\n",
    "    def effective_power(self):\n",
    "        return self.num_units * self.attack_damage\n",
    "    \n",
    "    def __hash__(self):\n",
    "        ''' Make sure that groups can be put into dicts and sets. '''\n",
    "        return hash((self.id_, self.army))\n",
    "\n",
    "    def __repr__(self):\n",
    "        return '{} Group {}<Units={} HP={} Attack={}/{} Init={} Weak={} Immune={}>'.format(\n",
    "            self.army, self.id_, self.num_units, self.hit_points, \n",
    "            self.attack_damage, self.attack_type, self.initiative,\n",
    "            ','.join(self.weaknesses) if self.weaknesses else 'NA',\n",
    "            ','.join(self.immunities) if self.immunities else 'NA')\n",
    "    \n",
    "group_re = re.compile(r'^(\\d+) units each with (\\d+) hit points (\\(((weak|immune) '\n",
    "                      r'to ([a-z, ]+))?;? ?((weak|immune) to ([a-z, ]+))?\\))? ?'\n",
    "                      r'with an attack that does (\\d+) (\\w+) damage at initiative (\\d+)$')\n",
    "\n",
    "def parse_group(line, id_, army):\n",
    "    ''' Parse line of text and return a Group. '''\n",
    "    match = group_re.match(line)\n",
    "    if not match:\n",
    "        raise Exception('Cannot parse group: {}'.format(line))\n",
    "    num_units = int(match.group(1))\n",
    "    hit_points = int(match.group(2))\n",
    "    weaknesses, immunities = set(), set()\n",
    "    if match.group(5) == 'weak':\n",
    "        weaknesses = {w.strip() for w in match.group(6).split(',')} if match.group(4) else set()\n",
    "    elif match.group(5) == 'immune':\n",
    "        immunities = {i.strip() for i in match.group(6).split(',')} if match.group(4) else set()\n",
    "    if match.group(8) == 'weak':\n",
    "        weaknesses = {w.strip() for w in match.group(9).split(',')} if match.group(6) else set()\n",
    "    elif match.group(8) == 'immune':\n",
    "        immunities = {i.strip() for i in match.group(9).split(',')} if match.group(6) else set()\n",
    "    attack_damage = int(match.group(10))\n",
    "    attack_type = match.group(11)\n",
    "    initiative = int(match.group(12))\n",
    "    return Group(id_, num_units, hit_points, attack_damage, attack_type, initiative,\n",
    "                 weaknesses, immunities, army)"
   ]
  },
  {
   "cell_type": "code",
   "execution_count": 2,
   "metadata": {},
   "outputs": [
    {
     "data": {
      "text/plain": [
       "Infection Group 1<Units=18 HP=729 Attack=8/radiation Init=10 Weak=fire Immune=cold,slashing>"
      ]
     },
     "execution_count": 2,
     "metadata": {},
     "output_type": "execute_result"
    }
   ],
   "source": [
    "g = parse_group('18 units each with 729 hit points (weak to fire; '\n",
    "            'immune to cold, slashing) with an attack that does '\n",
    "            '8 radiation damage at initiative 10', 1, 'Infection')\n",
    "g"
   ]
  },
  {
   "cell_type": "code",
   "execution_count": 3,
   "metadata": {},
   "outputs": [
    {
     "data": {
      "text/plain": [
       "144"
      ]
     },
     "execution_count": 3,
     "metadata": {},
     "output_type": "execute_result"
    }
   ],
   "source": [
    "g.effective_power"
   ]
  },
  {
   "cell_type": "code",
   "execution_count": 4,
   "metadata": {},
   "outputs": [
    {
     "name": "stdout",
     "output_type": "stream",
     "text": [
      "Infection Group 1<Units=17 HP=5390 Attack=4507/fire Init=2 Weak=bludgeoning,radiation Immune=NA>\n",
      "Infection Group 2<Units=989 HP=1274 Attack=25/slashing Init=3 Weak=NA Immune=fire>\n",
      "Infection Group 3<Units=989 HP=1274 Attack=25/slashing Init=3 Weak=slashing,bludgeoning Immune=fire>\n",
      "Infection Group 4<Units=550 HP=5068 Attack=87/radiation Init=19 Weak=NA Immune=NA>\n"
     ]
    }
   ],
   "source": [
    "print(parse_group('17 units each with 5390 hit points (weak to radiation, bludgeoning) '\n",
    "                  'with an attack that does 4507 fire damage at initiative 2', 1, 'Infection'))\n",
    "print(parse_group('989 units each with 1274 hit points (immune to fire) '\n",
    "                  'with an attack that does 25 slashing damage at initiative 3', 2, 'Infection'))\n",
    "print(parse_group('989 units each with 1274 hit points (immune to fire; '\n",
    "                  'weak to bludgeoning, slashing) with an attack that does '\n",
    "                  '25 slashing damage at initiative 3', 3, 'Infection'))\n",
    "print(parse_group('550 units each with 5068 hit points with an attack that '\n",
    "                  'does 87 radiation damage at initiative 19', 4, 'Infection'))"
   ]
  },
  {
   "cell_type": "code",
   "execution_count": 5,
   "metadata": {},
   "outputs": [],
   "source": [
    "import itertools\n",
    "\n",
    "def parse_text(text):\n",
    "    ''' Parse text and return two armies. '''\n",
    "    immune_system = list()\n",
    "    infection = list()\n",
    "    current = None\n",
    "    for line in text.strip().split('\\n'):\n",
    "        if line == 'Immune System:':\n",
    "            current = immune_system\n",
    "            id_counter = itertools.count()\n",
    "            next(id_counter)\n",
    "            army = 'Immune System'\n",
    "        elif line == 'Infection:':\n",
    "            current = infection\n",
    "            id_counter = itertools.count()\n",
    "            next(id_counter)\n",
    "            army = 'Infection'\n",
    "        elif line.strip() == '':\n",
    "            pass\n",
    "        else:\n",
    "            current.append(parse_group(line.strip(), next(id_counter), army))\n",
    "    return immune_system, infection"
   ]
  },
  {
   "cell_type": "code",
   "execution_count": 6,
   "metadata": {},
   "outputs": [],
   "source": [
    "text = '''Immune System:\n",
    "17 units each with 5390 hit points (weak to radiation, bludgeoning) with an attack that does 4507 fire damage at initiative 2\n",
    "989 units each with 1274 hit points (immune to fire; weak to bludgeoning, slashing) with an attack that does 25 slashing damage at initiative 3\n",
    "\n",
    "Infection:\n",
    "801 units each with 4706 hit points (weak to radiation) with an attack that does 116 bludgeoning damage at initiative 1\n",
    "4485 units each with 2961 hit points (immune to radiation; weak to fire, cold) with an attack that does 12 slashing damage at initiative 4\n",
    "'''\n",
    "immune_system, infection = parse_text(text)"
   ]
  },
  {
   "cell_type": "code",
   "execution_count": 7,
   "metadata": {},
   "outputs": [
    {
     "name": "stdout",
     "output_type": "stream",
     "text": [
      "Immune System Group 1<Units=9936 HP=1739 Attack=1/slashing Init=11 Weak=slashing,fire Immune=NA>\n",
      "Immune System Group 2<Units=2990 HP=9609 Attack=31/cold Init=1 Weak=radiation Immune=cold,fire>\n",
      "Immune System Group 3<Units=2637 HP=9485 Attack=26/radiation Init=13 Weak=bludgeoning Immune=cold,slashing>\n",
      "Immune System Group 4<Units=1793 HP=2680 Attack=13/bludgeoning Init=10 Weak=bludgeoning Immune=cold>\n",
      "Immune System Group 5<Units=8222 HP=6619 Attack=6/bludgeoning Init=12 Weak=NA Immune=slashing,fire>\n",
      "Immune System Group 6<Units=550 HP=5068 Attack=87/radiation Init=19 Weak=NA Immune=NA>\n",
      "Immune System Group 7<Units=950 HP=8681 Attack=73/slashing Init=17 Weak=radiation Immune=NA>\n",
      "Immune System Group 8<Units=28 HP=9835 Attack=2979/bludgeoning Init=3 Weak=NA Immune=NA>\n",
      "Immune System Group 9<Units=3799 HP=2933 Attack=7/slashing Init=16 Weak=NA Immune=NA>\n",
      "Immune System Group 10<Units=35 HP=8999 Attack=2505/cold Init=6 Weak=bludgeoning Immune=radiation>\n",
      "\n",
      "Infection Group 1<Units=1639 HP=28720 Attack=27/cold Init=8 Weak=NA Immune=NA>\n",
      "Infection Group 2<Units=4968 HP=16609 Attack=6/fire Init=2 Weak=NA Immune=slashing,bludgeoning,radiation>\n",
      "Infection Group 3<Units=3148 HP=48970 Attack=29/slashing Init=20 Weak=bludgeoning,fire Immune=NA>\n",
      "Infection Group 4<Units=1706 HP=30069 Attack=29/fire Init=7 Weak=NA Immune=cold,bludgeoning>\n",
      "Infection Group 5<Units=496 HP=39909 Attack=133/bludgeoning Init=4 Weak=radiation Immune=cold>\n",
      "Infection Group 6<Units=358 HP=17475 Attack=82/bludgeoning Init=5 Weak=NA Immune=NA>\n",
      "Infection Group 7<Units=120 HP=53629 Attack=807/fire Init=15 Weak=NA Immune=NA>\n",
      "Infection Group 8<Units=402 HP=44102 Attack=185/bludgeoning Init=14 Weak=slashing Immune=NA>\n",
      "Infection Group 9<Units=468 HP=11284 Attack=43/radiation Init=18 Weak=fire Immune=NA>\n",
      "Infection Group 10<Units=4090 HP=23075 Attack=10/bludgeoning Init=9 Weak=NA Immune=radiation>\n"
     ]
    }
   ],
   "source": [
    "# Can we parse the entire problem input?\n",
    "with open('input.txt') as input_:\n",
    "    text = input_.read()\n",
    "immune_system, infection = parse_text(text)\n",
    "print('\\n'.join(map(str,immune_system)))\n",
    "print()\n",
    "print('\\n'.join(map(str,infection)))"
   ]
  },
  {
   "cell_type": "code",
   "execution_count": 8,
   "metadata": {},
   "outputs": [],
   "source": [
    "def select_target(group, targets, debug=False):\n",
    "    ''' Select a target for group or None if no target is available. '''\n",
    "    target_order = [(get_damage(group, target), target.effective_power, target.initiative, target) \n",
    "                    for target in targets]\n",
    "    target_order.sort(reverse=True)\n",
    "    if debug:\n",
    "        for damage, _, _, target in target_order:\n",
    "            print('{} group {} would deal defending group {} {} damage'.format(\n",
    "                group.army, group.id_, target.id_, damage))\n",
    "    try:\n",
    "        damage, _, _, target = target_order[0]\n",
    "    except IndexError:\n",
    "        # No targets left\n",
    "        return None\n",
    "    if damage > 0:\n",
    "        targets.remove(target)\n",
    "        return target\n",
    "    else:\n",
    "        return None\n",
    "\n",
    "def get_damage(group, target):\n",
    "    ''' Return damage amount inflicted when group attacks target. '''\n",
    "    if group.attack_type in target.immunities:\n",
    "        return 0\n",
    "    elif group.attack_type in target.weaknesses:\n",
    "        return group.effective_power * 2\n",
    "    else:\n",
    "        return group.effective_power\n",
    "    \n",
    "class WarIsDeadlocked(Exception):\n",
    "    pass\n",
    "\n",
    "def fight_round(immune_system, infection, debug=False):\n",
    "    ''' Conduct one round of the fight using a list of immune system groups and\n",
    "    a list of infection groups. Note: this modifies the input lists! '''\n",
    "    if debug:\n",
    "        print('Immune system:')\n",
    "        for group in immune_system:\n",
    "            print('Group {} contains {} units'.format(group.id_, group.num_units))\n",
    "        print('Infection:')\n",
    "        for group in infection:\n",
    "            print('Group {} contains {} units'.format(group.id_, group.num_units))\n",
    "        print()\n",
    "\n",
    "    # Target selection phase\n",
    "    groups = immune_system + infection\n",
    "    target_order = [(g.effective_power, g.initiative, g) for g in groups]\n",
    "    target_order.sort(reverse=True)\n",
    "    targets = dict()\n",
    "    immune_system_remaining = list(immune_system)\n",
    "    infection_remaining = list(infection)\n",
    "\n",
    "    for _, _, group in target_order:\n",
    "        if group in immune_system:\n",
    "            target = select_target(group, infection_remaining, debug)\n",
    "        elif group in infection:\n",
    "            target = select_target(group, immune_system_remaining, debug)\n",
    "        else:\n",
    "            raise Exception('Should not happen')\n",
    "        targets[group] = target\n",
    "        \n",
    "    if debug:\n",
    "        print()\n",
    "\n",
    "    # After working on part 2, I realized that there are scenarios where the battle\n",
    "    # never finishes because the armies get deadlocked: the only units that remain\n",
    "    # are all immune to the attack types of the enemies. If we detect that condition,\n",
    "    # then we should bail early.\n",
    "    target_count = sum(0 if target is None else 1 for target in targets.values())\n",
    "    if target_count == 0:\n",
    "        raise WarIsDeadlocked('No targets can be found')\n",
    "\n",
    "    # Attacking phase\n",
    "    attack_order = [(g.initiative, g) for g in groups]\n",
    "    attack_order.sort(reverse=True)\n",
    "    total_units_destroyed = 0\n",
    "    \n",
    "    for _, group in attack_order:\n",
    "        if group.num_units == 0:\n",
    "            continue\n",
    "        target = targets[group]\n",
    "        if target is None:\n",
    "            continue\n",
    "        damage = get_damage(group, target)\n",
    "        # Figure out how many units to remove.\n",
    "        units_destroyed = min(damage // target.hit_points, target.num_units)\n",
    "        total_units_destroyed += units_destroyed\n",
    "        target.num_units -= units_destroyed\n",
    "        if debug:\n",
    "            group_name = 'Immune System' if group in immune_system else 'Infection'\n",
    "            print('{} group {} attacks defending group {}, killing {} units'.format(\n",
    "                group_name, group.id_, target.id_, units_destroyed))\n",
    "\n",
    "    if debug:\n",
    "        print()\n",
    "    # Another way the war can get deadlocked: if none of the remaining units can do\n",
    "    # enough damage to destroy any of the enemy units. We detect that condition and\n",
    "    # raise an exception.\n",
    "    if total_units_destroyed == 0:\n",
    "        raise WarIsDeadlocked('No units can be destroyed')\n",
    "    \n",
    "    # Remove defeated units:\n",
    "    for idx in range(len(immune_system)-1, -1, -1):\n",
    "        if immune_system[idx].num_units == 0:\n",
    "            del immune_system[idx]\n",
    "    for idx in range(len(infection)-1, -1, -1):\n",
    "        if infection[idx].num_units == 0:\n",
    "            del infection[idx]"
   ]
  },
  {
   "cell_type": "code",
   "execution_count": 9,
   "metadata": {},
   "outputs": [
    {
     "name": "stdout",
     "output_type": "stream",
     "text": [
      "Immune system:\n",
      "Group 1 contains 17 units\n",
      "Group 2 contains 989 units\n",
      "Infection:\n",
      "Group 1 contains 801 units\n",
      "Group 2 contains 4485 units\n",
      "\n",
      "Infection group 1 would deal defending group 1 185832 damage\n",
      "Infection group 1 would deal defending group 2 185832 damage\n",
      "Immune System group 1 would deal defending group 2 153238 damage\n",
      "Immune System group 1 would deal defending group 1 76619 damage\n",
      "Infection group 2 would deal defending group 2 107640 damage\n",
      "Immune System group 2 would deal defending group 1 24725 damage\n",
      "\n",
      "Infection group 2 attacks defending group 2, killing 84 units\n",
      "Immune System group 2 attacks defending group 1, killing 4 units\n",
      "Immune System group 1 attacks defending group 2, killing 51 units\n",
      "Infection group 1 attacks defending group 1, killing 17 units\n",
      "\n"
     ]
    }
   ],
   "source": [
    "text = '''Immune System:\n",
    "17 units each with 5390 hit points (weak to radiation, bludgeoning) with an attack that does 4507 fire damage at initiative 2\n",
    "989 units each with 1274 hit points (immune to fire; weak to bludgeoning, slashing) with an attack that does 25 slashing damage at initiative 3\n",
    "\n",
    "Infection:\n",
    "801 units each with 4706 hit points (weak to radiation) with an attack that does 116 bludgeoning damage at initiative 1\n",
    "4485 units each with 2961 hit points (immune to radiation; weak to fire, cold) with an attack that does 12 slashing damage at initiative 4\n",
    "'''\n",
    "immune_system, infection = parse_text(text)\n",
    "# Note that the target selection round order of statements differs from the\n",
    "# sample problem, but the values are correct.\n",
    "fight_round(immune_system, infection, debug=True)"
   ]
  },
  {
   "cell_type": "code",
   "execution_count": 10,
   "metadata": {},
   "outputs": [
    {
     "name": "stdout",
     "output_type": "stream",
     "text": [
      "Immune system:\n",
      "Group 2 contains 905 units\n",
      "Infection:\n",
      "Group 1 contains 797 units\n",
      "Group 2 contains 4434 units\n",
      "\n",
      "Infection group 1 would deal defending group 2 184904 damage\n",
      "Immune System group 2 would deal defending group 1 22625 damage\n",
      "Immune System group 2 would deal defending group 2 22625 damage\n",
      "\n",
      "Immune System group 2 attacks defending group 1, killing 4 units\n",
      "Infection group 1 attacks defending group 2, killing 144 units\n",
      "\n"
     ]
    }
   ],
   "source": [
    "fight_round(immune_system, infection, debug=True)"
   ]
  },
  {
   "cell_type": "code",
   "execution_count": 11,
   "metadata": {},
   "outputs": [
    {
     "name": "stdout",
     "output_type": "stream",
     "text": [
      "Immune system:\n",
      "Group 2 contains 761 units\n",
      "Infection:\n",
      "Group 1 contains 793 units\n",
      "Group 2 contains 4434 units\n",
      "\n",
      "Infection group 1 would deal defending group 2 183976 damage\n",
      "Immune System group 2 would deal defending group 1 19025 damage\n",
      "Immune System group 2 would deal defending group 2 19025 damage\n",
      "\n",
      "Immune System group 2 attacks defending group 1, killing 4 units\n",
      "Infection group 1 attacks defending group 2, killing 143 units\n",
      "\n"
     ]
    }
   ],
   "source": [
    "fight_round(immune_system, infection, debug=True)"
   ]
  },
  {
   "cell_type": "code",
   "execution_count": 12,
   "metadata": {},
   "outputs": [
    {
     "name": "stdout",
     "output_type": "stream",
     "text": [
      "Immune system:\n",
      "Group 2 contains 618 units\n",
      "Infection:\n",
      "Group 1 contains 789 units\n",
      "Group 2 contains 4434 units\n",
      "\n",
      "Infection group 1 would deal defending group 2 183048 damage\n",
      "Immune System group 2 would deal defending group 1 15450 damage\n",
      "Immune System group 2 would deal defending group 2 15450 damage\n",
      "\n",
      "Immune System group 2 attacks defending group 1, killing 3 units\n",
      "Infection group 1 attacks defending group 2, killing 143 units\n",
      "\n"
     ]
    }
   ],
   "source": [
    "fight_round(immune_system, infection, debug=True)"
   ]
  },
  {
   "cell_type": "code",
   "execution_count": 13,
   "metadata": {},
   "outputs": [
    {
     "name": "stdout",
     "output_type": "stream",
     "text": [
      "Immune system:\n",
      "Group 2 contains 475 units\n",
      "Infection:\n",
      "Group 1 contains 786 units\n",
      "Group 2 contains 4434 units\n",
      "\n",
      "Infection group 1 would deal defending group 2 182352 damage\n",
      "Immune System group 2 would deal defending group 1 11875 damage\n",
      "Immune System group 2 would deal defending group 2 11875 damage\n",
      "\n",
      "Immune System group 2 attacks defending group 1, killing 2 units\n",
      "Infection group 1 attacks defending group 2, killing 142 units\n",
      "\n"
     ]
    }
   ],
   "source": [
    "fight_round(immune_system, infection, debug=True)"
   ]
  },
  {
   "cell_type": "code",
   "execution_count": 14,
   "metadata": {},
   "outputs": [
    {
     "name": "stdout",
     "output_type": "stream",
     "text": [
      "Immune system:\n",
      "Group 2 contains 333 units\n",
      "Infection:\n",
      "Group 1 contains 784 units\n",
      "Group 2 contains 4434 units\n",
      "\n",
      "Infection group 1 would deal defending group 2 181888 damage\n",
      "Immune System group 2 would deal defending group 1 8325 damage\n",
      "Immune System group 2 would deal defending group 2 8325 damage\n",
      "\n",
      "Immune System group 2 attacks defending group 1, killing 1 units\n",
      "Infection group 1 attacks defending group 2, killing 142 units\n",
      "\n"
     ]
    }
   ],
   "source": [
    "fight_round(immune_system, infection, debug=True)"
   ]
  },
  {
   "cell_type": "code",
   "execution_count": 15,
   "metadata": {},
   "outputs": [
    {
     "name": "stdout",
     "output_type": "stream",
     "text": [
      "Immune system:\n",
      "Group 2 contains 191 units\n",
      "Infection:\n",
      "Group 1 contains 783 units\n",
      "Group 2 contains 4434 units\n",
      "\n",
      "Infection group 1 would deal defending group 2 181656 damage\n",
      "Immune System group 2 would deal defending group 1 4775 damage\n",
      "Immune System group 2 would deal defending group 2 4775 damage\n",
      "\n",
      "Immune System group 2 attacks defending group 1, killing 1 units\n",
      "Infection group 1 attacks defending group 2, killing 142 units\n",
      "\n"
     ]
    }
   ],
   "source": [
    "fight_round(immune_system, infection, debug=True)"
   ]
  },
  {
   "cell_type": "code",
   "execution_count": 16,
   "metadata": {},
   "outputs": [
    {
     "name": "stdout",
     "output_type": "stream",
     "text": [
      "Immune system:\n",
      "Group 2 contains 49 units\n",
      "Infection:\n",
      "Group 1 contains 782 units\n",
      "Group 2 contains 4434 units\n",
      "\n",
      "Infection group 1 would deal defending group 2 181424 damage\n",
      "Immune System group 2 would deal defending group 1 1225 damage\n",
      "Immune System group 2 would deal defending group 2 1225 damage\n",
      "\n",
      "Immune System group 2 attacks defending group 1, killing 0 units\n",
      "Infection group 1 attacks defending group 2, killing 49 units\n",
      "\n"
     ]
    }
   ],
   "source": [
    "fight_round(immune_system, infection, debug=True)"
   ]
  },
  {
   "cell_type": "code",
   "execution_count": 17,
   "metadata": {},
   "outputs": [
    {
     "name": "stdout",
     "output_type": "stream",
     "text": [
      "[]\n",
      "[Infection Group 1<Units=782 HP=4706 Attack=116/bludgeoning Init=1 Weak=radiation Immune=NA>, Infection Group 2<Units=4434 HP=2961 Attack=12/slashing Init=4 Weak=cold,fire Immune=radiation>]\n"
     ]
    }
   ],
   "source": [
    "# At this point, all immune system groups are killed.\n",
    "print(immune_system)\n",
    "# Only infection groups remain:\n",
    "print(infection)"
   ]
  },
  {
   "cell_type": "code",
   "execution_count": 18,
   "metadata": {},
   "outputs": [
    {
     "data": {
      "text/plain": [
       "5216"
      ]
     },
     "execution_count": 18,
     "metadata": {},
     "output_type": "execute_result"
    }
   ],
   "source": [
    "sum(g.num_units for g in infection)"
   ]
  },
  {
   "cell_type": "code",
   "execution_count": 19,
   "metadata": {},
   "outputs": [],
   "source": [
    "import math\n",
    "\n",
    "def fight(immune_system, infection, max_rounds=math.inf, debug=False):\n",
    "    ''' A wrapper function that runs right_round() until one army is defeated. '''\n",
    "    for n in itertools.count():\n",
    "        fight_round(immune_system, infection, debug)\n",
    "        if len(immune_system) == 0:\n",
    "            print('Infection army won in {} rounds'.format(n))\n",
    "            winning_army = infection\n",
    "            break\n",
    "        elif len(infection) == 0:\n",
    "            print('Immune system won in {} rounds'.format(n))\n",
    "            winning_army = immune_system\n",
    "            break\n",
    "        elif n >= max_rounds:\n",
    "            print('Breaking after {} rounds'.format(max_rounds))\n",
    "            return None\n",
    "    return sum(g.num_units for g in winning_army)"
   ]
  },
  {
   "cell_type": "code",
   "execution_count": 20,
   "metadata": {},
   "outputs": [
    {
     "name": "stdout",
     "output_type": "stream",
     "text": [
      "Infection army won in 7 rounds\n"
     ]
    },
    {
     "data": {
      "text/plain": [
       "5216"
      ]
     },
     "execution_count": 20,
     "metadata": {},
     "output_type": "execute_result"
    }
   ],
   "source": [
    "text = '''Immune System:\n",
    "17 units each with 5390 hit points (weak to radiation, bludgeoning) with an attack that does 4507 fire damage at initiative 2\n",
    "989 units each with 1274 hit points (immune to fire; weak to bludgeoning, slashing) with an attack that does 25 slashing damage at initiative 3\n",
    "\n",
    "Infection:\n",
    "801 units each with 4706 hit points (weak to radiation) with an attack that does 116 bludgeoning damage at initiative 1\n",
    "4485 units each with 2961 hit points (immune to radiation; weak to fire, cold) with an attack that does 12 slashing damage at initiative 4\n",
    "'''\n",
    "immune_system, infection = parse_text(text)\n",
    "fight(immune_system, infection)"
   ]
  },
  {
   "cell_type": "code",
   "execution_count": 21,
   "metadata": {},
   "outputs": [],
   "source": [
    "# The code above works for sample problem. Now try with input data.\n",
    "with open('input.txt') as input_:\n",
    "    text = input_.read()\n",
    "immune_system, infection = parse_text(text)"
   ]
  },
  {
   "cell_type": "code",
   "execution_count": 22,
   "metadata": {},
   "outputs": [
    {
     "name": "stdout",
     "output_type": "stream",
     "text": [
      "Infection army won in 1370 rounds\n",
      "CPU times: user 163 ms, sys: 1.77 ms, total: 164 ms\n",
      "Wall time: 163 ms\n"
     ]
    },
    {
     "data": {
      "text/plain": [
       "16090"
      ]
     },
     "execution_count": 22,
     "metadata": {},
     "output_type": "execute_result"
    }
   ],
   "source": [
    "%time fight(immune_system, infection)"
   ]
  },
  {
   "cell_type": "markdown",
   "metadata": {},
   "source": [
    "# Part 2"
   ]
  },
  {
   "cell_type": "code",
   "execution_count": 23,
   "metadata": {},
   "outputs": [],
   "source": [
    "def boost(immune_system, amount):\n",
    "    ''' Add a boost to all the units in the immune system army. '''\n",
    "    for group in immune_system:\n",
    "        group.attack_damage += amount"
   ]
  },
  {
   "cell_type": "code",
   "execution_count": 24,
   "metadata": {},
   "outputs": [
    {
     "name": "stdout",
     "output_type": "stream",
     "text": [
      "Immune System Group 1<Units=17 HP=5390 Attack=6077/fire Init=2 Weak=bludgeoning,radiation Immune=NA>\n",
      "Immune System Group 2<Units=989 HP=1274 Attack=1595/slashing Init=3 Weak=slashing,bludgeoning Immune=fire>\n"
     ]
    }
   ],
   "source": [
    "text = '''Immune System:\n",
    "17 units each with 5390 hit points (weak to radiation, bludgeoning) with an attack that does 4507 fire damage at initiative 2\n",
    "989 units each with 1274 hit points (immune to fire; weak to bludgeoning, slashing) with an attack that does 25 slashing damage at initiative 3\n",
    "\n",
    "Infection:\n",
    "801 units each with 4706 hit points (weak to radiation) with an attack that does 116 bludgeoning damage at initiative 1\n",
    "4485 units each with 2961 hit points (immune to radiation; weak to fire, cold) with an attack that does 12 slashing damage at initiative 4\n",
    "'''\n",
    "immune_system, infection = parse_text(text)\n",
    "boost(immune_system, 1570)\n",
    "print('\\n'.join(map(str,immune_system)))"
   ]
  },
  {
   "cell_type": "code",
   "execution_count": 25,
   "metadata": {},
   "outputs": [
    {
     "name": "stdout",
     "output_type": "stream",
     "text": [
      "Immune system:\n",
      "Group 1 contains 17 units\n",
      "Group 2 contains 989 units\n",
      "Infection:\n",
      "Group 1 contains 801 units\n",
      "Group 2 contains 4485 units\n",
      "\n",
      "Immune System group 2 would deal defending group 1 1577455 damage\n",
      "Immune System group 2 would deal defending group 2 1577455 damage\n",
      "Immune System group 1 would deal defending group 2 206618 damage\n",
      "Infection group 1 would deal defending group 2 185832 damage\n",
      "Infection group 1 would deal defending group 1 185832 damage\n",
      "Infection group 2 would deal defending group 1 53820 damage\n",
      "\n",
      "Infection group 2 attacks defending group 1, killing 9 units\n",
      "Immune System group 2 attacks defending group 1, killing 335 units\n",
      "Immune System group 1 attacks defending group 2, killing 32 units\n",
      "Infection group 1 attacks defending group 2, killing 84 units\n",
      "\n",
      "Immune system:\n",
      "Group 1 contains 8 units\n",
      "Group 2 contains 905 units\n",
      "Infection:\n",
      "Group 1 contains 466 units\n",
      "Group 2 contains 4453 units\n",
      "\n",
      "Immune System group 2 would deal defending group 1 1443475 damage\n",
      "Immune System group 2 would deal defending group 2 1443475 damage\n",
      "Infection group 1 would deal defending group 2 108112 damage\n",
      "Infection group 1 would deal defending group 1 108112 damage\n",
      "Infection group 2 would deal defending group 1 53436 damage\n",
      "Immune System group 1 would deal defending group 2 97232 damage\n",
      "\n",
      "Infection group 2 attacks defending group 1, killing 8 units\n",
      "Immune System group 2 attacks defending group 1, killing 306 units\n",
      "Infection group 1 attacks defending group 2, killing 29 units\n",
      "\n",
      "Immune system:\n",
      "Group 2 contains 876 units\n",
      "Infection:\n",
      "Group 1 contains 160 units\n",
      "Group 2 contains 4453 units\n",
      "\n",
      "Immune System group 2 would deal defending group 2 1397220 damage\n",
      "Immune System group 2 would deal defending group 1 1397220 damage\n",
      "Infection group 2 would deal defending group 2 106872 damage\n",
      "\n",
      "Infection group 2 attacks defending group 2, killing 83 units\n",
      "Immune System group 2 attacks defending group 2, killing 427 units\n",
      "\n",
      "Immune system:\n",
      "Group 2 contains 793 units\n",
      "Infection:\n",
      "Group 1 contains 160 units\n",
      "Group 2 contains 4026 units\n",
      "\n",
      "Immune System group 2 would deal defending group 2 1264835 damage\n",
      "Immune System group 2 would deal defending group 1 1264835 damage\n",
      "Infection group 2 would deal defending group 2 96624 damage\n",
      "\n",
      "Infection group 2 attacks defending group 2, killing 75 units\n",
      "Immune System group 2 attacks defending group 2, killing 386 units\n",
      "\n",
      "Immune system:\n",
      "Group 2 contains 718 units\n",
      "Infection:\n",
      "Group 1 contains 160 units\n",
      "Group 2 contains 3640 units\n",
      "\n",
      "Immune System group 2 would deal defending group 2 1145210 damage\n",
      "Immune System group 2 would deal defending group 1 1145210 damage\n",
      "Infection group 2 would deal defending group 2 87360 damage\n",
      "\n",
      "Infection group 2 attacks defending group 2, killing 68 units\n",
      "Immune System group 2 attacks defending group 2, killing 350 units\n",
      "\n",
      "Immune system:\n",
      "Group 2 contains 650 units\n",
      "Infection:\n",
      "Group 1 contains 160 units\n",
      "Group 2 contains 3290 units\n",
      "\n",
      "Immune System group 2 would deal defending group 2 1036750 damage\n",
      "Immune System group 2 would deal defending group 1 1036750 damage\n",
      "Infection group 2 would deal defending group 2 78960 damage\n",
      "\n",
      "Infection group 2 attacks defending group 2, killing 61 units\n",
      "Immune System group 2 attacks defending group 2, killing 317 units\n",
      "\n",
      "Immune system:\n",
      "Group 2 contains 589 units\n",
      "Infection:\n",
      "Group 1 contains 160 units\n",
      "Group 2 contains 2973 units\n",
      "\n",
      "Immune System group 2 would deal defending group 2 939455 damage\n",
      "Immune System group 2 would deal defending group 1 939455 damage\n",
      "Infection group 2 would deal defending group 2 71352 damage\n",
      "\n",
      "Infection group 2 attacks defending group 2, killing 56 units\n",
      "Immune System group 2 attacks defending group 2, killing 287 units\n",
      "\n",
      "Immune system:\n",
      "Group 2 contains 533 units\n",
      "Infection:\n",
      "Group 1 contains 160 units\n",
      "Group 2 contains 2686 units\n",
      "\n",
      "Immune System group 2 would deal defending group 2 850135 damage\n",
      "Immune System group 2 would deal defending group 1 850135 damage\n",
      "Infection group 2 would deal defending group 2 64464 damage\n",
      "\n",
      "Infection group 2 attacks defending group 2, killing 50 units\n",
      "Immune System group 2 attacks defending group 2, killing 260 units\n",
      "\n",
      "Immune system:\n",
      "Group 2 contains 483 units\n",
      "Infection:\n",
      "Group 1 contains 160 units\n",
      "Group 2 contains 2426 units\n",
      "\n",
      "Immune System group 2 would deal defending group 2 770385 damage\n",
      "Immune System group 2 would deal defending group 1 770385 damage\n",
      "Infection group 2 would deal defending group 2 58224 damage\n",
      "\n",
      "Infection group 2 attacks defending group 2, killing 45 units\n",
      "Immune System group 2 attacks defending group 2, killing 235 units\n",
      "\n",
      "Immune system:\n",
      "Group 2 contains 438 units\n",
      "Infection:\n",
      "Group 1 contains 160 units\n",
      "Group 2 contains 2191 units\n",
      "\n",
      "Immune System group 2 would deal defending group 2 698610 damage\n",
      "Immune System group 2 would deal defending group 1 698610 damage\n",
      "Infection group 2 would deal defending group 2 52584 damage\n",
      "\n",
      "Infection group 2 attacks defending group 2, killing 41 units\n",
      "Immune System group 2 attacks defending group 2, killing 213 units\n",
      "\n",
      "Immune system:\n",
      "Group 2 contains 397 units\n",
      "Infection:\n",
      "Group 1 contains 160 units\n",
      "Group 2 contains 1978 units\n",
      "\n",
      "Immune System group 2 would deal defending group 2 633215 damage\n",
      "Immune System group 2 would deal defending group 1 633215 damage\n",
      "Infection group 2 would deal defending group 2 47472 damage\n",
      "\n",
      "Infection group 2 attacks defending group 2, killing 37 units\n",
      "Immune System group 2 attacks defending group 2, killing 193 units\n",
      "\n",
      "Immune system:\n",
      "Group 2 contains 360 units\n",
      "Infection:\n",
      "Group 1 contains 160 units\n",
      "Group 2 contains 1785 units\n",
      "\n",
      "Immune System group 2 would deal defending group 2 574200 damage\n",
      "Immune System group 2 would deal defending group 1 574200 damage\n",
      "Infection group 2 would deal defending group 2 42840 damage\n",
      "\n",
      "Infection group 2 attacks defending group 2, killing 33 units\n",
      "Immune System group 2 attacks defending group 2, killing 176 units\n",
      "\n",
      "Immune system:\n",
      "Group 2 contains 327 units\n",
      "Infection:\n",
      "Group 1 contains 160 units\n",
      "Group 2 contains 1609 units\n",
      "\n",
      "Immune System group 2 would deal defending group 2 521565 damage\n",
      "Immune System group 2 would deal defending group 1 521565 damage\n",
      "Infection group 2 would deal defending group 2 38616 damage\n",
      "\n",
      "Infection group 2 attacks defending group 2, killing 30 units\n",
      "Immune System group 2 attacks defending group 2, killing 159 units\n",
      "\n",
      "Immune system:\n",
      "Group 2 contains 297 units\n",
      "Infection:\n",
      "Group 1 contains 160 units\n",
      "Group 2 contains 1450 units\n",
      "\n",
      "Immune System group 2 would deal defending group 1 473715 damage\n",
      "Immune System group 2 would deal defending group 2 473715 damage\n",
      "Infection group 1 would deal defending group 2 37120 damage\n",
      "\n",
      "Immune System group 2 attacks defending group 1, killing 100 units\n",
      "Infection group 1 attacks defending group 2, killing 10 units\n",
      "\n",
      "Immune system:\n",
      "Group 2 contains 287 units\n",
      "Infection:\n",
      "Group 1 contains 60 units\n",
      "Group 2 contains 1450 units\n",
      "\n",
      "Immune System group 2 would deal defending group 2 457765 damage\n",
      "Immune System group 2 would deal defending group 1 457765 damage\n",
      "Infection group 2 would deal defending group 2 34800 damage\n",
      "\n",
      "Infection group 2 attacks defending group 2, killing 27 units\n",
      "Immune System group 2 attacks defending group 2, killing 140 units\n",
      "\n",
      "Immune system:\n",
      "Group 2 contains 260 units\n",
      "Infection:\n",
      "Group 1 contains 60 units\n",
      "Group 2 contains 1310 units\n",
      "\n",
      "Immune System group 2 would deal defending group 2 414700 damage\n",
      "Immune System group 2 would deal defending group 1 414700 damage\n",
      "Infection group 2 would deal defending group 2 31440 damage\n",
      "\n",
      "Infection group 2 attacks defending group 2, killing 24 units\n",
      "Immune System group 2 attacks defending group 2, killing 127 units\n",
      "\n",
      "Immune system:\n",
      "Group 2 contains 236 units\n",
      "Infection:\n",
      "Group 1 contains 60 units\n",
      "Group 2 contains 1183 units\n",
      "\n",
      "Immune System group 2 would deal defending group 2 376420 damage\n",
      "Immune System group 2 would deal defending group 1 376420 damage\n",
      "Infection group 2 would deal defending group 2 28392 damage\n",
      "\n",
      "Infection group 2 attacks defending group 2, killing 22 units\n",
      "Immune System group 2 attacks defending group 2, killing 115 units\n",
      "\n",
      "Immune system:\n",
      "Group 2 contains 214 units\n",
      "Infection:\n",
      "Group 1 contains 60 units\n",
      "Group 2 contains 1068 units\n",
      "\n",
      "Immune System group 2 would deal defending group 2 341330 damage\n",
      "Immune System group 2 would deal defending group 1 341330 damage\n",
      "Infection group 2 would deal defending group 2 25632 damage\n",
      "\n",
      "Infection group 2 attacks defending group 2, killing 20 units\n",
      "Immune System group 2 attacks defending group 2, killing 104 units\n",
      "\n",
      "Immune system:\n",
      "Group 2 contains 194 units\n",
      "Infection:\n",
      "Group 1 contains 60 units\n",
      "Group 2 contains 964 units\n",
      "\n",
      "Immune System group 2 would deal defending group 2 309430 damage\n",
      "Immune System group 2 would deal defending group 1 309430 damage\n",
      "Infection group 2 would deal defending group 2 23136 damage\n",
      "\n",
      "Infection group 2 attacks defending group 2, killing 18 units\n",
      "Immune System group 2 attacks defending group 2, killing 94 units\n",
      "\n",
      "Immune system:\n",
      "Group 2 contains 176 units\n",
      "Infection:\n",
      "Group 1 contains 60 units\n",
      "Group 2 contains 870 units\n",
      "\n",
      "Immune System group 2 would deal defending group 2 280720 damage\n",
      "Immune System group 2 would deal defending group 1 280720 damage\n",
      "Infection group 2 would deal defending group 2 20880 damage\n",
      "\n",
      "Infection group 2 attacks defending group 2, killing 16 units\n",
      "Immune System group 2 attacks defending group 2, killing 86 units\n",
      "\n",
      "Immune system:\n",
      "Group 2 contains 160 units\n",
      "Infection:\n",
      "Group 1 contains 60 units\n",
      "Group 2 contains 784 units\n",
      "\n",
      "Immune System group 2 would deal defending group 2 255200 damage\n",
      "Immune System group 2 would deal defending group 1 255200 damage\n",
      "Infection group 2 would deal defending group 2 18816 damage\n",
      "\n",
      "Infection group 2 attacks defending group 2, killing 14 units\n",
      "Immune System group 2 attacks defending group 2, killing 78 units\n",
      "\n",
      "Immune system:\n",
      "Group 2 contains 146 units\n",
      "Infection:\n",
      "Group 1 contains 60 units\n",
      "Group 2 contains 706 units\n",
      "\n",
      "Immune System group 2 would deal defending group 2 232870 damage\n",
      "Immune System group 2 would deal defending group 1 232870 damage\n",
      "Infection group 2 would deal defending group 2 16944 damage\n",
      "\n",
      "Infection group 2 attacks defending group 2, killing 13 units\n",
      "Immune System group 2 attacks defending group 2, killing 71 units\n",
      "\n",
      "Immune system:\n",
      "Group 2 contains 133 units\n",
      "Infection:\n",
      "Group 1 contains 60 units\n",
      "Group 2 contains 635 units\n",
      "\n",
      "Immune System group 2 would deal defending group 2 212135 damage\n",
      "Immune System group 2 would deal defending group 1 212135 damage\n",
      "Infection group 2 would deal defending group 2 15240 damage\n",
      "\n",
      "Infection group 2 attacks defending group 2, killing 11 units\n",
      "Immune System group 2 attacks defending group 2, killing 65 units\n",
      "\n",
      "Immune system:\n",
      "Group 2 contains 122 units\n",
      "Infection:\n",
      "Group 1 contains 60 units\n",
      "Group 2 contains 570 units\n",
      "\n",
      "Immune System group 2 would deal defending group 1 194590 damage\n",
      "Immune System group 2 would deal defending group 2 194590 damage\n",
      "Infection group 1 would deal defending group 2 13920 damage\n",
      "\n",
      "Immune System group 2 attacks defending group 1, killing 41 units\n",
      "Infection group 1 attacks defending group 2, killing 3 units\n",
      "\n",
      "Immune system:\n",
      "Group 2 contains 119 units\n",
      "Infection:\n",
      "Group 1 contains 19 units\n",
      "Group 2 contains 570 units\n",
      "\n",
      "Immune System group 2 would deal defending group 2 189805 damage\n",
      "Immune System group 2 would deal defending group 1 189805 damage\n",
      "Infection group 2 would deal defending group 2 13680 damage\n",
      "\n",
      "Infection group 2 attacks defending group 2, killing 10 units\n",
      "Immune System group 2 attacks defending group 2, killing 58 units\n",
      "\n",
      "Immune system:\n",
      "Group 2 contains 109 units\n",
      "Infection:\n",
      "Group 1 contains 19 units\n",
      "Group 2 contains 512 units\n",
      "\n",
      "Immune System group 2 would deal defending group 2 173855 damage\n",
      "Immune System group 2 would deal defending group 1 173855 damage\n",
      "Infection group 2 would deal defending group 2 12288 damage\n",
      "\n",
      "Infection group 2 attacks defending group 2, killing 9 units\n",
      "Immune System group 2 attacks defending group 2, killing 53 units\n",
      "\n",
      "Immune system:\n",
      "Group 2 contains 100 units\n",
      "Infection:\n",
      "Group 1 contains 19 units\n",
      "Group 2 contains 459 units\n",
      "\n",
      "Immune System group 2 would deal defending group 2 159500 damage\n",
      "Immune System group 2 would deal defending group 1 159500 damage\n",
      "Infection group 2 would deal defending group 2 11016 damage\n",
      "\n",
      "Infection group 2 attacks defending group 2, killing 8 units\n",
      "Immune System group 2 attacks defending group 2, killing 49 units\n",
      "\n",
      "Immune system:\n",
      "Group 2 contains 92 units\n",
      "Infection:\n",
      "Group 1 contains 19 units\n",
      "Group 2 contains 410 units\n",
      "\n",
      "Immune System group 2 would deal defending group 2 146740 damage\n",
      "Immune System group 2 would deal defending group 1 146740 damage\n",
      "Infection group 2 would deal defending group 2 9840 damage\n",
      "\n",
      "Infection group 2 attacks defending group 2, killing 7 units\n",
      "Immune System group 2 attacks defending group 2, killing 45 units\n",
      "\n",
      "Immune system:\n",
      "Group 2 contains 85 units\n",
      "Infection:\n",
      "Group 1 contains 19 units\n",
      "Group 2 contains 365 units\n",
      "\n",
      "Immune System group 2 would deal defending group 2 135575 damage\n",
      "Immune System group 2 would deal defending group 1 135575 damage\n",
      "Infection group 2 would deal defending group 2 8760 damage\n",
      "\n",
      "Infection group 2 attacks defending group 2, killing 6 units\n",
      "Immune System group 2 attacks defending group 2, killing 42 units\n",
      "\n",
      "Immune system:\n",
      "Group 2 contains 79 units\n",
      "Infection:\n",
      "Group 1 contains 19 units\n",
      "Group 2 contains 323 units\n",
      "\n",
      "Immune System group 2 would deal defending group 2 126005 damage\n",
      "Immune System group 2 would deal defending group 1 126005 damage\n",
      "Infection group 2 would deal defending group 2 7752 damage\n",
      "\n",
      "Infection group 2 attacks defending group 2, killing 6 units\n",
      "Immune System group 2 attacks defending group 2, killing 39 units\n",
      "\n",
      "Immune system:\n",
      "Group 2 contains 73 units\n",
      "Infection:\n",
      "Group 1 contains 19 units\n",
      "Group 2 contains 284 units\n",
      "\n",
      "Immune System group 2 would deal defending group 2 116435 damage\n",
      "Immune System group 2 would deal defending group 1 116435 damage\n",
      "Infection group 2 would deal defending group 2 6816 damage\n",
      "\n",
      "Infection group 2 attacks defending group 2, killing 5 units\n",
      "Immune System group 2 attacks defending group 2, killing 36 units\n",
      "\n",
      "Immune system:\n",
      "Group 2 contains 68 units\n",
      "Infection:\n",
      "Group 1 contains 19 units\n",
      "Group 2 contains 248 units\n",
      "\n",
      "Immune System group 2 would deal defending group 2 108460 damage\n",
      "Immune System group 2 would deal defending group 1 108460 damage\n",
      "Infection group 2 would deal defending group 2 5952 damage\n",
      "\n",
      "Infection group 2 attacks defending group 2, killing 4 units\n",
      "Immune System group 2 attacks defending group 2, killing 34 units\n",
      "\n",
      "Immune system:\n",
      "Group 2 contains 64 units\n",
      "Infection:\n",
      "Group 1 contains 19 units\n",
      "Group 2 contains 214 units\n",
      "\n",
      "Immune System group 2 would deal defending group 2 102080 damage\n",
      "Immune System group 2 would deal defending group 1 102080 damage\n",
      "Infection group 2 would deal defending group 2 5136 damage\n",
      "\n",
      "Infection group 2 attacks defending group 2, killing 4 units\n",
      "Immune System group 2 attacks defending group 2, killing 32 units\n",
      "\n",
      "Immune system:\n",
      "Group 2 contains 60 units\n",
      "Infection:\n",
      "Group 1 contains 19 units\n",
      "Group 2 contains 182 units\n",
      "\n",
      "Immune System group 2 would deal defending group 1 95700 damage\n",
      "Immune System group 2 would deal defending group 2 95700 damage\n",
      "Infection group 1 would deal defending group 2 4408 damage\n",
      "\n",
      "Immune System group 2 attacks defending group 1, killing 19 units\n",
      "\n",
      "Immune system:\n",
      "Group 2 contains 60 units\n",
      "Infection:\n",
      "Group 2 contains 182 units\n",
      "\n",
      "Immune System group 2 would deal defending group 2 95700 damage\n",
      "Infection group 2 would deal defending group 2 4368 damage\n",
      "\n",
      "Infection group 2 attacks defending group 2, killing 3 units\n",
      "Immune System group 2 attacks defending group 2, killing 30 units\n",
      "\n",
      "Immune system:\n",
      "Group 2 contains 57 units\n",
      "Infection:\n",
      "Group 2 contains 152 units\n",
      "\n",
      "Immune System group 2 would deal defending group 2 90915 damage\n",
      "Infection group 2 would deal defending group 2 3648 damage\n",
      "\n",
      "Infection group 2 attacks defending group 2, killing 2 units\n",
      "Immune System group 2 attacks defending group 2, killing 29 units\n",
      "\n",
      "Immune system:\n",
      "Group 2 contains 55 units\n",
      "Infection:\n",
      "Group 2 contains 123 units\n",
      "\n",
      "Immune System group 2 would deal defending group 2 87725 damage\n",
      "Infection group 2 would deal defending group 2 2952 damage\n",
      "\n",
      "Infection group 2 attacks defending group 2, killing 2 units\n",
      "Immune System group 2 attacks defending group 2, killing 28 units\n",
      "\n",
      "Immune system:\n",
      "Group 2 contains 53 units\n",
      "Infection:\n",
      "Group 2 contains 95 units\n",
      "\n",
      "Immune System group 2 would deal defending group 2 84535 damage\n",
      "Infection group 2 would deal defending group 2 2280 damage\n",
      "\n",
      "Infection group 2 attacks defending group 2, killing 1 units\n",
      "Immune System group 2 attacks defending group 2, killing 28 units\n",
      "\n",
      "Immune system:\n",
      "Group 2 contains 52 units\n",
      "Infection:\n",
      "Group 2 contains 67 units\n",
      "\n",
      "Immune System group 2 would deal defending group 2 82940 damage\n",
      "Infection group 2 would deal defending group 2 1608 damage\n",
      "\n",
      "Infection group 2 attacks defending group 2, killing 1 units\n",
      "Immune System group 2 attacks defending group 2, killing 27 units\n",
      "\n",
      "Immune system:\n",
      "Group 2 contains 51 units\n",
      "Infection:\n",
      "Group 2 contains 40 units\n",
      "\n",
      "Immune System group 2 would deal defending group 2 81345 damage\n",
      "Infection group 2 would deal defending group 2 960 damage\n",
      "\n",
      "Infection group 2 attacks defending group 2, killing 0 units\n",
      "Immune System group 2 attacks defending group 2, killing 27 units\n",
      "\n",
      "Immune system:\n",
      "Group 2 contains 51 units\n",
      "Infection:\n",
      "Group 2 contains 13 units\n",
      "\n",
      "Immune System group 2 would deal defending group 2 81345 damage\n",
      "Infection group 2 would deal defending group 2 312 damage\n",
      "\n",
      "Infection group 2 attacks defending group 2, killing 0 units\n",
      "Immune System group 2 attacks defending group 2, killing 13 units\n",
      "\n",
      "Immune system won in 40 rounds\n"
     ]
    },
    {
     "data": {
      "text/plain": [
       "51"
      ]
     },
     "execution_count": 25,
     "metadata": {},
     "output_type": "execute_result"
    }
   ],
   "source": [
    "fight(immune_system, infection, debug=True)"
   ]
  },
  {
   "cell_type": "code",
   "execution_count": 26,
   "metadata": {},
   "outputs": [],
   "source": [
    "def check_boost(text, amount, max_rounds=math.inf):\n",
    "    ''' Run the fight with the given boost. '''\n",
    "    immune_system, infection = parse_text(text)\n",
    "    boost(immune_system, amount)\n",
    "    return fight(immune_system, infection, max_rounds)"
   ]
  },
  {
   "cell_type": "code",
   "execution_count": 27,
   "metadata": {},
   "outputs": [],
   "source": [
    "with open('input.txt') as input_:\n",
    "    text = input_.read()"
   ]
  },
  {
   "cell_type": "code",
   "execution_count": 28,
   "metadata": {},
   "outputs": [
    {
     "name": "stdout",
     "output_type": "stream",
     "text": [
      "Infection army won in 1370 rounds\n"
     ]
    },
    {
     "data": {
      "text/plain": [
       "16090"
      ]
     },
     "execution_count": 28,
     "metadata": {},
     "output_type": "execute_result"
    }
   ],
   "source": [
    "check_boost(text, 0)"
   ]
  },
  {
   "cell_type": "code",
   "execution_count": 29,
   "metadata": {},
   "outputs": [
    {
     "name": "stdout",
     "output_type": "stream",
     "text": [
      "Immune system won in 31 rounds\n"
     ]
    },
    {
     "data": {
      "text/plain": [
       "29516"
      ]
     },
     "execution_count": 29,
     "metadata": {},
     "output_type": "execute_result"
    }
   ],
   "source": [
    "check_boost(text, 1000)"
   ]
  },
  {
   "cell_type": "markdown",
   "metadata": {},
   "source": [
    "Okay, so 1000 is big enough to get the immune system to win. Now I will do a manual binary search to find the lowest number. (Searching manually is probably faster than trying to code and test a perfect binary search algorithm.)"
   ]
  },
  {
   "cell_type": "code",
   "execution_count": 30,
   "metadata": {},
   "outputs": [
    {
     "name": "stdout",
     "output_type": "stream",
     "text": [
      "Immune system won in 61 rounds\n"
     ]
    },
    {
     "data": {
      "text/plain": [
       "28079"
      ]
     },
     "execution_count": 30,
     "metadata": {},
     "output_type": "execute_result"
    }
   ],
   "source": [
    "check_boost(text, 500)"
   ]
  },
  {
   "cell_type": "code",
   "execution_count": 31,
   "metadata": {},
   "outputs": [
    {
     "name": "stdout",
     "output_type": "stream",
     "text": [
      "Immune system won in 116 rounds\n"
     ]
    },
    {
     "data": {
      "text/plain": [
       "25820"
      ]
     },
     "execution_count": 31,
     "metadata": {},
     "output_type": "execute_result"
    }
   ],
   "source": [
    "check_boost(text, 250)"
   ]
  },
  {
   "cell_type": "code",
   "execution_count": 32,
   "metadata": {},
   "outputs": [
    {
     "name": "stdout",
     "output_type": "stream",
     "text": [
      "Immune system won in 217 rounds\n"
     ]
    },
    {
     "data": {
      "text/plain": [
       "21922"
      ]
     },
     "execution_count": 32,
     "metadata": {},
     "output_type": "execute_result"
    }
   ],
   "source": [
    "check_boost(text, 125)"
   ]
  },
  {
   "cell_type": "code",
   "execution_count": 33,
   "metadata": {},
   "outputs": [
    {
     "name": "stdout",
     "output_type": "stream",
     "text": [
      "Immune system won in 445 rounds\n"
     ]
    },
    {
     "data": {
      "text/plain": [
       "14091"
      ]
     },
     "execution_count": 33,
     "metadata": {},
     "output_type": "execute_result"
    }
   ],
   "source": [
    "check_boost(text, 62)"
   ]
  },
  {
   "cell_type": "code",
   "execution_count": 34,
   "metadata": {},
   "outputs": [
    {
     "name": "stdout",
     "output_type": "stream",
     "text": [
      "Immune system won in 928 rounds\n"
     ]
    },
    {
     "data": {
      "text/plain": [
       "9524"
      ]
     },
     "execution_count": 34,
     "metadata": {},
     "output_type": "execute_result"
    }
   ],
   "source": [
    "check_boost(text, 31)"
   ]
  },
  {
   "cell_type": "code",
   "execution_count": 35,
   "metadata": {},
   "outputs": [
    {
     "ename": "WarIsDeadlocked",
     "evalue": "No targets can be found",
     "output_type": "error",
     "traceback": [
      "\u001b[0;31m---------------------------------------------------------------------------\u001b[0m",
      "\u001b[0;31mWarIsDeadlocked\u001b[0m                           Traceback (most recent call last)",
      "\u001b[0;32m<ipython-input-35-f2ea0a4726e5>\u001b[0m in \u001b[0;36m<module>\u001b[0;34m()\u001b[0m\n\u001b[1;32m      2\u001b[0m \u001b[0;31m# units are evenly matched, the war can result in a deadlock: neither army can\u001b[0m\u001b[0;34m\u001b[0m\u001b[0;34m\u001b[0m\u001b[0m\n\u001b[1;32m      3\u001b[0m \u001b[0;31m# inflict any damage because the remain units are all immune to the attackers.\u001b[0m\u001b[0;34m\u001b[0m\u001b[0;34m\u001b[0m\u001b[0m\n\u001b[0;32m----> 4\u001b[0;31m \u001b[0mcheck_boost\u001b[0m\u001b[0;34m(\u001b[0m\u001b[0mtext\u001b[0m\u001b[0;34m,\u001b[0m \u001b[0;36m26\u001b[0m\u001b[0;34m)\u001b[0m\u001b[0;34m\u001b[0m\u001b[0m\n\u001b[0m",
      "\u001b[0;32m<ipython-input-26-c281a0597baa>\u001b[0m in \u001b[0;36mcheck_boost\u001b[0;34m(text, amount, max_rounds)\u001b[0m\n\u001b[1;32m      3\u001b[0m     \u001b[0mimmune_system\u001b[0m\u001b[0;34m,\u001b[0m \u001b[0minfection\u001b[0m \u001b[0;34m=\u001b[0m \u001b[0mparse_text\u001b[0m\u001b[0;34m(\u001b[0m\u001b[0mtext\u001b[0m\u001b[0;34m)\u001b[0m\u001b[0;34m\u001b[0m\u001b[0m\n\u001b[1;32m      4\u001b[0m     \u001b[0mboost\u001b[0m\u001b[0;34m(\u001b[0m\u001b[0mimmune_system\u001b[0m\u001b[0;34m,\u001b[0m \u001b[0mamount\u001b[0m\u001b[0;34m)\u001b[0m\u001b[0;34m\u001b[0m\u001b[0m\n\u001b[0;32m----> 5\u001b[0;31m     \u001b[0;32mreturn\u001b[0m \u001b[0mfight\u001b[0m\u001b[0;34m(\u001b[0m\u001b[0mimmune_system\u001b[0m\u001b[0;34m,\u001b[0m \u001b[0minfection\u001b[0m\u001b[0;34m,\u001b[0m \u001b[0mmax_rounds\u001b[0m\u001b[0;34m)\u001b[0m\u001b[0;34m\u001b[0m\u001b[0m\n\u001b[0m",
      "\u001b[0;32m<ipython-input-19-26cc0b31c3d8>\u001b[0m in \u001b[0;36mfight\u001b[0;34m(immune_system, infection, max_rounds, debug)\u001b[0m\n\u001b[1;32m      4\u001b[0m     \u001b[0;34m''' A wrapper function that runs right_round() until one army is defeated. '''\u001b[0m\u001b[0;34m\u001b[0m\u001b[0m\n\u001b[1;32m      5\u001b[0m     \u001b[0;32mfor\u001b[0m \u001b[0mn\u001b[0m \u001b[0;32min\u001b[0m \u001b[0mitertools\u001b[0m\u001b[0;34m.\u001b[0m\u001b[0mcount\u001b[0m\u001b[0;34m(\u001b[0m\u001b[0;34m)\u001b[0m\u001b[0;34m:\u001b[0m\u001b[0;34m\u001b[0m\u001b[0m\n\u001b[0;32m----> 6\u001b[0;31m         \u001b[0mfight_round\u001b[0m\u001b[0;34m(\u001b[0m\u001b[0mimmune_system\u001b[0m\u001b[0;34m,\u001b[0m \u001b[0minfection\u001b[0m\u001b[0;34m,\u001b[0m \u001b[0mdebug\u001b[0m\u001b[0;34m)\u001b[0m\u001b[0;34m\u001b[0m\u001b[0m\n\u001b[0m\u001b[1;32m      7\u001b[0m         \u001b[0;32mif\u001b[0m \u001b[0mlen\u001b[0m\u001b[0;34m(\u001b[0m\u001b[0mimmune_system\u001b[0m\u001b[0;34m)\u001b[0m \u001b[0;34m==\u001b[0m \u001b[0;36m0\u001b[0m\u001b[0;34m:\u001b[0m\u001b[0;34m\u001b[0m\u001b[0m\n\u001b[1;32m      8\u001b[0m             \u001b[0mprint\u001b[0m\u001b[0;34m(\u001b[0m\u001b[0;34m'Infection army won in {} rounds'\u001b[0m\u001b[0;34m.\u001b[0m\u001b[0mformat\u001b[0m\u001b[0;34m(\u001b[0m\u001b[0mn\u001b[0m\u001b[0;34m)\u001b[0m\u001b[0;34m)\u001b[0m\u001b[0;34m\u001b[0m\u001b[0m\n",
      "\u001b[0;32m<ipython-input-8-e1e3e6ecaf97>\u001b[0m in \u001b[0;36mfight_round\u001b[0;34m(immune_system, infection, debug)\u001b[0m\n\u001b[1;32m     69\u001b[0m     \u001b[0mtarget_count\u001b[0m \u001b[0;34m=\u001b[0m \u001b[0msum\u001b[0m\u001b[0;34m(\u001b[0m\u001b[0;36m0\u001b[0m \u001b[0;32mif\u001b[0m \u001b[0mtarget\u001b[0m \u001b[0;32mis\u001b[0m \u001b[0;32mNone\u001b[0m \u001b[0;32melse\u001b[0m \u001b[0;36m1\u001b[0m \u001b[0;32mfor\u001b[0m \u001b[0mtarget\u001b[0m \u001b[0;32min\u001b[0m \u001b[0mtargets\u001b[0m\u001b[0;34m.\u001b[0m\u001b[0mvalues\u001b[0m\u001b[0;34m(\u001b[0m\u001b[0;34m)\u001b[0m\u001b[0;34m)\u001b[0m\u001b[0;34m\u001b[0m\u001b[0m\n\u001b[1;32m     70\u001b[0m     \u001b[0;32mif\u001b[0m \u001b[0mtarget_count\u001b[0m \u001b[0;34m==\u001b[0m \u001b[0;36m0\u001b[0m\u001b[0;34m:\u001b[0m\u001b[0;34m\u001b[0m\u001b[0m\n\u001b[0;32m---> 71\u001b[0;31m         \u001b[0;32mraise\u001b[0m \u001b[0mWarIsDeadlocked\u001b[0m\u001b[0;34m(\u001b[0m\u001b[0;34m'No targets can be found'\u001b[0m\u001b[0;34m)\u001b[0m\u001b[0;34m\u001b[0m\u001b[0m\n\u001b[0m\u001b[1;32m     72\u001b[0m \u001b[0;34m\u001b[0m\u001b[0m\n\u001b[1;32m     73\u001b[0m     \u001b[0;31m# Attacking phase\u001b[0m\u001b[0;34m\u001b[0m\u001b[0;34m\u001b[0m\u001b[0m\n",
      "\u001b[0;31mWarIsDeadlocked\u001b[0m: No targets can be found"
     ]
    }
   ],
   "source": [
    "# At this point, my binary search plan hits a snag: I find out that when the\n",
    "# units are evenly matched, the war can result in a deadlock: neither army can\n",
    "# inflict any damage because the remain units are all immune to the attackers.\n",
    "check_boost(text, 26)"
   ]
  },
  {
   "cell_type": "code",
   "execution_count": 36,
   "metadata": {},
   "outputs": [
    {
     "name": "stdout",
     "output_type": "stream",
     "text": [
      "Infection army won in 1370 rounds\n",
      "Boost 0 Units remaining 16090\n",
      "Infection army won in 1369 rounds\n",
      "Boost 1 Units remaining 15740\n",
      "Infection army won in 1598 rounds\n",
      "Boost 2 Units remaining 14993\n",
      "Infection army won in 1602 rounds\n",
      "Boost 3 Units remaining 14631\n",
      "Infection army won in 1602 rounds\n",
      "Boost 4 Units remaining 14341\n",
      "Infection army won in 1604 rounds\n",
      "Boost 5 Units remaining 13857\n",
      "Infection army won in 1612 rounds\n",
      "Boost 6 Units remaining 13346\n",
      "Infection army won in 1613 rounds\n",
      "Boost 7 Units remaining 12933\n",
      "Infection army won in 1608 rounds\n",
      "Boost 8 Units remaining 12524\n",
      "Infection army won in 1609 rounds\n",
      "Boost 9 Units remaining 12121\n",
      "Infection army won in 1612 rounds\n",
      "Boost 10 Units remaining 11945\n",
      "Infection army won in 1768 rounds\n",
      "Boost 11 Units remaining 11476\n",
      "Infection army won in 1819 rounds\n",
      "Boost 12 Units remaining 10838\n",
      "Infection army won in 2232 rounds\n",
      "Boost 13 Units remaining 9893\n",
      "Infection army won in 2901 rounds\n",
      "Boost 14 Units remaining 8414\n",
      "Boost 15 War is deadlocked: No targets can be found\n",
      "Boost 16 War is deadlocked: No targets can be found\n",
      "Boost 17 War is deadlocked: No targets can be found\n",
      "Boost 18 War is deadlocked: No units can be destroyed\n",
      "Boost 19 War is deadlocked: No units can be destroyed\n",
      "Boost 20 War is deadlocked: No targets can be found\n",
      "Boost 21 War is deadlocked: No targets can be found\n",
      "Boost 22 War is deadlocked: No targets can be found\n",
      "Boost 23 War is deadlocked: No targets can be found\n",
      "Boost 24 War is deadlocked: No targets can be found\n",
      "Boost 25 War is deadlocked: No targets can be found\n",
      "Boost 26 War is deadlocked: No targets can be found\n",
      "Immune system won in 1167 rounds\n",
      "Boost 27 Units remaining 8291\n",
      "Immune system won in 1100 rounds\n",
      "Boost 28 Units remaining 8852\n",
      "Immune system won in 1040 rounds\n",
      "Boost 29 Units remaining 9141\n",
      "Immune system won in 938 rounds\n",
      "Boost 30 Units remaining 9431\n",
      "Immune system won in 928 rounds\n",
      "Boost 31 Units remaining 9524\n",
      "Immune system won in 929 rounds\n",
      "Boost 32 Units remaining 9613\n",
      "Immune system won in 900 rounds\n",
      "Boost 33 Units remaining 9756\n",
      "Immune system won in 871 rounds\n",
      "Boost 34 Units remaining 9861\n",
      "Immune system won in 796 rounds\n",
      "Boost 35 Units remaining 10016\n",
      "Immune system won in 729 rounds\n",
      "Boost 36 Units remaining 10196\n",
      "Immune system won in 689 rounds\n",
      "Boost 37 Units remaining 10420\n",
      "Immune system won in 684 rounds\n",
      "Boost 38 Units remaining 10494\n",
      "Immune system won in 674 rounds\n",
      "Boost 39 Units remaining 10532\n",
      "Immune system won in 645 rounds\n",
      "Boost 40 Units remaining 10686\n",
      "Immune system won in 651 rounds\n",
      "Boost 41 Units remaining 10662\n",
      "Immune system won in 808 rounds\n",
      "Boost 42 Units remaining 10726\n",
      "Immune system won in 632 rounds\n",
      "Boost 43 Units remaining 11058\n",
      "Immune system won in 627 rounds\n",
      "Boost 44 Units remaining 11244\n",
      "Immune system won in 617 rounds\n",
      "Boost 45 Units remaining 11423\n",
      "Immune system won in 605 rounds\n",
      "Boost 46 Units remaining 11590\n",
      "Immune system won in 591 rounds\n",
      "Boost 47 Units remaining 11773\n",
      "Immune system won in 575 rounds\n",
      "Boost 48 Units remaining 11989\n",
      "Immune system won in 557 rounds\n",
      "Boost 49 Units remaining 12192\n",
      "CPU times: user 6.93 s, sys: 44.5 ms, total: 6.97 s\n",
      "Wall time: 6.96 s\n"
     ]
    }
   ],
   "source": [
    "%%time\n",
    "# Instead of binary search, I'll just run a sequence of values and look for \n",
    "# the best solution.\n",
    "for amount in range(0,50):\n",
    "    try:\n",
    "        outcome = check_boost(text, amount, max_rounds=1_000_000)\n",
    "    except WarIsDeadlocked as exc:\n",
    "        print('Boost', amount, 'War is deadlocked: {}'.format(exc))\n",
    "        continue\n",
    "    print('Boost', amount, 'Units remaining', outcome)"
   ]
  },
  {
   "cell_type": "markdown",
   "metadata": {},
   "source": [
    "Boost 27 is the lowest value where the immune system wins, so the answer is 8291!"
   ]
  },
  {
   "cell_type": "code",
   "execution_count": null,
   "metadata": {},
   "outputs": [],
   "source": []
  }
 ],
 "metadata": {
  "kernelspec": {
   "display_name": "Python 3",
   "language": "python",
   "name": "python3"
  },
  "language_info": {
   "codemirror_mode": {
    "name": "ipython",
    "version": 3
   },
   "file_extension": ".py",
   "mimetype": "text/x-python",
   "name": "python",
   "nbconvert_exporter": "python",
   "pygments_lexer": "ipython3",
   "version": "3.7.0"
  }
 },
 "nbformat": 4,
 "nbformat_minor": 2
}
