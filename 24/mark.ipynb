{
 "cells": [
  {
   "cell_type": "markdown",
   "metadata": {},
   "source": [
    "# Part 1"
   ]
  },
  {
   "cell_type": "code",
   "execution_count": 1,
   "metadata": {},
   "outputs": [],
   "source": [
    "from dataclasses import dataclass\n",
    "import re\n",
    "\n",
    "@dataclass\n",
    "class Group:\n",
    "    id_: int\n",
    "    num_units: int\n",
    "    hit_points: int\n",
    "    attack_damage: int\n",
    "    attack_type: str\n",
    "    initiative: int\n",
    "    weaknesses: set\n",
    "    immunities: set\n",
    "    army: str\n",
    "    \n",
    "    @property\n",
    "    def effective_power(self):\n",
    "        return self.num_units * self.attack_damage\n",
    "    \n",
    "    def __hash__(self):\n",
    "        ''' Make sure that groups can be put into dicts and sets. '''\n",
    "        return hash((self.id_, self.army))\n",
    "\n",
    "group_re = re.compile(r'^(\\d+) units each with (\\d+) hit points (\\(((weak|immune) '\n",
    "                      r'to ([a-z, ]+))?;? ?((weak|immune) to ([a-z, ]+))?\\))? ?'\n",
    "                      r'with an attack that does (\\d+) (\\w+) damage at initiative (\\d+)$')\n",
    "\n",
    "def parse_group(line, id_, army):\n",
    "    ''' Parse line of text and return a Group. '''\n",
    "    match = group_re.match(line)\n",
    "    if not match:\n",
    "        raise Exception('Cannot parse group: {}'.format(line))\n",
    "    num_units = int(match.group(1))\n",
    "    hit_points = int(match.group(2))\n",
    "    weaknesses, immunities = set(), set()\n",
    "    if match.group(5) == 'weak':\n",
    "        weaknesses = {w.strip() for w in match.group(6).split(',')} if match.group(4) else set()\n",
    "    elif match.group(5) == 'immune':\n",
    "        immunities = {i.strip() for i in match.group(6).split(',')} if match.group(4) else set()\n",
    "    if match.group(8) == 'weak':\n",
    "        weaknesses = {w.strip() for w in match.group(9).split(',')} if match.group(6) else set()\n",
    "    elif match.group(8) == 'immune':\n",
    "        immunities = {i.strip() for i in match.group(9).split(',')} if match.group(6) else set()\n",
    "    attack_damage = int(match.group(10))\n",
    "    attack_type = match.group(11)\n",
    "    initiative = int(match.group(12))\n",
    "    return Group(id_, num_units, hit_points, attack_damage, attack_type, initiative,\n",
    "                 weaknesses, immunities, army)"
   ]
  },
  {
   "cell_type": "code",
   "execution_count": 2,
   "metadata": {},
   "outputs": [
    {
     "data": {
      "text/plain": [
       "Group(id_=1, num_units=18, hit_points=729, attack_damage=8, attack_type='radiation', initiative=10, weaknesses={'fire'}, immunities={'cold', 'slashing'}, army='Infection')"
      ]
     },
     "execution_count": 2,
     "metadata": {},
     "output_type": "execute_result"
    }
   ],
   "source": [
    "g = parse_group('18 units each with 729 hit points (weak to fire; '\n",
    "            'immune to cold, slashing) with an attack that does '\n",
    "            '8 radiation damage at initiative 10', 1, 'Infection')\n",
    "g"
   ]
  },
  {
   "cell_type": "code",
   "execution_count": 3,
   "metadata": {},
   "outputs": [
    {
     "data": {
      "text/plain": [
       "144"
      ]
     },
     "execution_count": 3,
     "metadata": {},
     "output_type": "execute_result"
    }
   ],
   "source": [
    "g.effective_power"
   ]
  },
  {
   "cell_type": "code",
   "execution_count": 4,
   "metadata": {},
   "outputs": [
    {
     "name": "stdout",
     "output_type": "stream",
     "text": [
      "Group(id_=1, num_units=17, hit_points=5390, attack_damage=4507, attack_type='fire', initiative=2, weaknesses={'radiation', 'bludgeoning'}, immunities=set(), army='Infection')\n",
      "Group(id_=2, num_units=989, hit_points=1274, attack_damage=25, attack_type='slashing', initiative=3, weaknesses=set(), immunities={'fire'}, army='Infection')\n",
      "Group(id_=3, num_units=989, hit_points=1274, attack_damage=25, attack_type='slashing', initiative=3, weaknesses={'slashing', 'bludgeoning'}, immunities={'fire'}, army='Infection')\n",
      "Group(id_=4, num_units=550, hit_points=5068, attack_damage=87, attack_type='radiation', initiative=19, weaknesses=set(), immunities=set(), army='Infection')\n"
     ]
    }
   ],
   "source": [
    "print(parse_group('17 units each with 5390 hit points (weak to radiation, bludgeoning) '\n",
    "                  'with an attack that does 4507 fire damage at initiative 2', 1, 'Infection'))\n",
    "print(parse_group('989 units each with 1274 hit points (immune to fire) '\n",
    "                  'with an attack that does 25 slashing damage at initiative 3', 2, 'Infection'))\n",
    "print(parse_group('989 units each with 1274 hit points (immune to fire; '\n",
    "                  'weak to bludgeoning, slashing) with an attack that does '\n",
    "                  '25 slashing damage at initiative 3', 3, 'Infection'))\n",
    "print(parse_group('550 units each with 5068 hit points with an attack that '\n",
    "                  'does 87 radiation damage at initiative 19', 4, 'Infection'))"
   ]
  },
  {
   "cell_type": "code",
   "execution_count": 5,
   "metadata": {},
   "outputs": [],
   "source": [
    "import itertools\n",
    "\n",
    "def parse_text(text):\n",
    "    ''' Parse text and return two armies. '''\n",
    "    immune_system = list()\n",
    "    infection = list()\n",
    "    current = None\n",
    "    for line in text.strip().split('\\n'):\n",
    "        if line == 'Immune System:':\n",
    "            current = immune_system\n",
    "            id_counter = itertools.count()\n",
    "            next(id_counter)\n",
    "            army = 'Immune System'\n",
    "        elif line == 'Infection:':\n",
    "            current = infection\n",
    "            id_counter = itertools.count()\n",
    "            next(id_counter)\n",
    "            army = 'Infection'\n",
    "        elif line.strip() == '':\n",
    "            pass\n",
    "        else:\n",
    "            current.append(parse_group(line.strip(), next(id_counter), army))\n",
    "    return immune_system, infection"
   ]
  },
  {
   "cell_type": "code",
   "execution_count": 6,
   "metadata": {},
   "outputs": [],
   "source": [
    "text = '''Immune System:\n",
    "17 units each with 5390 hit points (weak to radiation, bludgeoning) with an attack that does 4507 fire damage at initiative 2\n",
    "989 units each with 1274 hit points (immune to fire; weak to bludgeoning, slashing) with an attack that does 25 slashing damage at initiative 3\n",
    "\n",
    "Infection:\n",
    "801 units each with 4706 hit points (weak to radiation) with an attack that does 116 bludgeoning damage at initiative 1\n",
    "4485 units each with 2961 hit points (immune to radiation; weak to fire, cold) with an attack that does 12 slashing damage at initiative 4\n",
    "'''\n",
    "immune_system, infection = parse_text(text)"
   ]
  },
  {
   "cell_type": "code",
   "execution_count": 7,
   "metadata": {},
   "outputs": [
    {
     "name": "stdout",
     "output_type": "stream",
     "text": [
      "immune system [Group(id_=1, num_units=17, hit_points=5390, attack_damage=4507, attack_type='fire', initiative=2, weaknesses={'radiation', 'bludgeoning'}, immunities=set(), army='Immune System'), Group(id_=2, num_units=989, hit_points=1274, attack_damage=25, attack_type='slashing', initiative=3, weaknesses={'slashing', 'bludgeoning'}, immunities={'fire'}, army='Immune System')]\n",
      "infection [Group(id_=1, num_units=801, hit_points=4706, attack_damage=116, attack_type='bludgeoning', initiative=1, weaknesses={'radiation'}, immunities=set(), army='Infection'), Group(id_=2, num_units=4485, hit_points=2961, attack_damage=12, attack_type='slashing', initiative=4, weaknesses={'fire', 'cold'}, immunities={'radiation'}, army='Infection')]\n"
     ]
    }
   ],
   "source": [
    "print('immune system', immune_system)\n",
    "print('infection', infection)"
   ]
  },
  {
   "cell_type": "code",
   "execution_count": 8,
   "metadata": {},
   "outputs": [
    {
     "name": "stdout",
     "output_type": "stream",
     "text": [
      "10 10\n"
     ]
    }
   ],
   "source": [
    "# Can we parse the entire problem input?\n",
    "with open('input.txt') as input_:\n",
    "    text = input_.read()\n",
    "immune_system, infection = parse_text(text)\n",
    "print(len(immune_system), len(infection))"
   ]
  },
  {
   "cell_type": "code",
   "execution_count": 46,
   "metadata": {},
   "outputs": [],
   "source": [
    "from operator import itemgetter\n",
    "\n",
    "def select_target(group, targets, debug=False):\n",
    "    ''' Select a target for group or None if no target is available. '''\n",
    "    target_order = [(get_damage(group, target), target.effective_power, target.initiative, target) \n",
    "                    for target in targets]\n",
    "    target_order.sort(reverse=True)\n",
    "    if debug:\n",
    "        for damage, _, _, target in target_order:\n",
    "            print('{} group {} would deal defending group {} {} damage'.format(\n",
    "                group.army, group.id_, target.id_, damage))\n",
    "    try:\n",
    "        damage, _, _, target = target_order[0]\n",
    "    except IndexError:\n",
    "        # No targets left\n",
    "        return None\n",
    "    if damage > 0:\n",
    "        targets.remove(target)\n",
    "        return target\n",
    "    else:\n",
    "        return None\n",
    "\n",
    "def get_damage(group, target):\n",
    "    ''' Return damage amount inflicted when group attacks target. '''\n",
    "    if group.attack_type in target.immunities:\n",
    "        return 0\n",
    "    elif group.attack_type in target.weaknesses:\n",
    "        return group.effective_power * 2\n",
    "    else:\n",
    "        return group.effective_power\n",
    "    \n",
    "class WarIsDeadlocked(Exception):\n",
    "    pass\n",
    "\n",
    "def fight_round(immune_system, infection, debug=False):\n",
    "    ''' Conduct one round of the fight using a list of immune system groups and\n",
    "    a list of infection groups. Note: this modifies the input lists! '''\n",
    "    if debug:\n",
    "        print('Immune system:')\n",
    "        for group in immune_system:\n",
    "            print('Group {} contains {} units'.format(group.id_, group.num_units))\n",
    "        print('Infection:')\n",
    "        for group in infection:\n",
    "            print('Group {} contains {} units'.format(group.id_, group.num_units))\n",
    "        print()\n",
    "\n",
    "    # Target selection phase\n",
    "    groups = immune_system + infection\n",
    "    target_order = [(g.effective_power, g.initiative, g) for g in groups]\n",
    "    target_order.sort(key=itemgetter(0), reverse=True)\n",
    "    targets = dict()\n",
    "    immune_system_remaining = list(immune_system)\n",
    "    infection_remaining = list(infection)\n",
    "\n",
    "    for _, _, group in target_order:\n",
    "        if group in immune_system:\n",
    "            target = select_target(group, infection_remaining, debug)\n",
    "        elif group in infection:\n",
    "            target = select_target(group, immune_system_remaining, debug)\n",
    "        else:\n",
    "            raise Exception('Should not happen')\n",
    "        targets[group] = target\n",
    "        \n",
    "    if debug:\n",
    "        print()\n",
    "\n",
    "    # After working on part 2, I realized that there are scenarios where the battle\n",
    "    # never finishes because the armies get deadlocked: the only units that remain\n",
    "    # are all immune to the attack types of the enemies. If we detect that condition,\n",
    "    # then we should bail early.\n",
    "    target_count = sum(0 if target is None else 1 for target in targets.values())\n",
    "    if target_count == 0:\n",
    "        raise WarIsDeadlocked('No targets can be found')\n",
    "\n",
    "    # Attacking phase\n",
    "    attack_order = [(g.initiative, g) for g in groups]\n",
    "    attack_order.sort(key=itemgetter(0), reverse=True)\n",
    "    total_units_destroyed = 0\n",
    "    \n",
    "    for _, group in attack_order:\n",
    "        if group.num_units == 0:\n",
    "            continue\n",
    "        target = targets[group]\n",
    "        if target is None:\n",
    "            continue\n",
    "        damage = get_damage(group, target)\n",
    "        # Figure out how many units to remove.\n",
    "        units_destroyed = min(damage // target.hit_points, target.num_units)\n",
    "        total_units_destroyed += units_destroyed\n",
    "        target.num_units -= units_destroyed\n",
    "        if debug:\n",
    "            group_name = 'Immune System' if group in immune_system else 'Infection'\n",
    "            print('{} group {} attacks defending group {}, killing {} units'.format(\n",
    "                group_name, group.id_, target.id_, units_destroyed))\n",
    "    \n",
    "    # Another way the war can get deadlocked: if none of the remaining units can do\n",
    "    # enough damage to destroy any of the enemy units. We detect that condition and\n",
    "    # raise an exception.\n",
    "    if total_units_destroyed == 0:\n",
    "        raise WarIsDeadlocked('No units can be destroyed')\n",
    "    \n",
    "    # Remove defeated units:\n",
    "    for idx in range(len(immune_system)-1, -1, -1):\n",
    "        if immune_system[idx].num_units == 0:\n",
    "            del immune_system[idx]\n",
    "    for idx in range(len(infection)-1, -1, -1):\n",
    "        if infection[idx].num_units == 0:\n",
    "            del infection[idx]"
   ]
  },
  {
   "cell_type": "code",
   "execution_count": 47,
   "metadata": {},
   "outputs": [
    {
     "name": "stdout",
     "output_type": "stream",
     "text": [
      "Immune system:\n",
      "Group 1 contains 17 units\n",
      "Group 2 contains 989 units\n",
      "Infection:\n",
      "Group 1 contains 801 units\n",
      "Group 2 contains 4485 units\n",
      "\n",
      "Infection group 1 would deal defending group 1 185832 damage\n",
      "Infection group 1 would deal defending group 2 185832 damage\n",
      "Immune System group 1 would deal defending group 2 153238 damage\n",
      "Immune System group 1 would deal defending group 1 76619 damage\n",
      "Infection group 2 would deal defending group 2 107640 damage\n",
      "Immune System group 2 would deal defending group 1 24725 damage\n",
      "\n",
      "Infection group 2 attacks defending group 2, killing 84 units\n",
      "Immune System group 2 attacks defending group 1, killing 4 units\n",
      "Immune System group 1 attacks defending group 2, killing 51 units\n",
      "Infection group 1 attacks defending group 1, killing 17 units\n"
     ]
    }
   ],
   "source": [
    "text = '''Immune System:\n",
    "17 units each with 5390 hit points (weak to radiation, bludgeoning) with an attack that does 4507 fire damage at initiative 2\n",
    "989 units each with 1274 hit points (immune to fire; weak to bludgeoning, slashing) with an attack that does 25 slashing damage at initiative 3\n",
    "\n",
    "Infection:\n",
    "801 units each with 4706 hit points (weak to radiation) with an attack that does 116 bludgeoning damage at initiative 1\n",
    "4485 units each with 2961 hit points (immune to radiation; weak to fire, cold) with an attack that does 12 slashing damage at initiative 4\n",
    "'''\n",
    "immune_system, infection = parse_text(text)\n",
    "# Note that the target selection round order of statements differs from the\n",
    "# sample problem, but the values are correct.\n",
    "fight_round(immune_system, infection, debug=True)"
   ]
  },
  {
   "cell_type": "code",
   "execution_count": 48,
   "metadata": {},
   "outputs": [
    {
     "name": "stdout",
     "output_type": "stream",
     "text": [
      "Immune system:\n",
      "Group 2 contains 905 units\n",
      "Infection:\n",
      "Group 1 contains 797 units\n",
      "Group 2 contains 4434 units\n",
      "\n",
      "Infection group 1 would deal defending group 2 184904 damage\n",
      "Immune System group 2 would deal defending group 1 22625 damage\n",
      "Immune System group 2 would deal defending group 2 22625 damage\n",
      "\n",
      "Immune System group 2 attacks defending group 1, killing 4 units\n",
      "Infection group 1 attacks defending group 2, killing 144 units\n"
     ]
    }
   ],
   "source": [
    "fight_round(immune_system, infection, debug=True)"
   ]
  },
  {
   "cell_type": "code",
   "execution_count": 49,
   "metadata": {},
   "outputs": [
    {
     "name": "stdout",
     "output_type": "stream",
     "text": [
      "Immune system:\n",
      "Group 2 contains 761 units\n",
      "Infection:\n",
      "Group 1 contains 793 units\n",
      "Group 2 contains 4434 units\n",
      "\n",
      "Infection group 1 would deal defending group 2 183976 damage\n",
      "Immune System group 2 would deal defending group 1 19025 damage\n",
      "Immune System group 2 would deal defending group 2 19025 damage\n",
      "\n",
      "Immune System group 2 attacks defending group 1, killing 4 units\n",
      "Infection group 1 attacks defending group 2, killing 143 units\n"
     ]
    }
   ],
   "source": [
    "fight_round(immune_system, infection, debug=True)"
   ]
  },
  {
   "cell_type": "code",
   "execution_count": 50,
   "metadata": {},
   "outputs": [
    {
     "name": "stdout",
     "output_type": "stream",
     "text": [
      "Immune system:\n",
      "Group 2 contains 618 units\n",
      "Infection:\n",
      "Group 1 contains 789 units\n",
      "Group 2 contains 4434 units\n",
      "\n",
      "Infection group 1 would deal defending group 2 183048 damage\n",
      "Immune System group 2 would deal defending group 1 15450 damage\n",
      "Immune System group 2 would deal defending group 2 15450 damage\n",
      "\n",
      "Immune System group 2 attacks defending group 1, killing 3 units\n",
      "Infection group 1 attacks defending group 2, killing 143 units\n"
     ]
    }
   ],
   "source": [
    "fight_round(immune_system, infection, debug=True)"
   ]
  },
  {
   "cell_type": "code",
   "execution_count": 51,
   "metadata": {},
   "outputs": [
    {
     "name": "stdout",
     "output_type": "stream",
     "text": [
      "Immune system:\n",
      "Group 2 contains 475 units\n",
      "Infection:\n",
      "Group 1 contains 786 units\n",
      "Group 2 contains 4434 units\n",
      "\n",
      "Infection group 1 would deal defending group 2 182352 damage\n",
      "Immune System group 2 would deal defending group 1 11875 damage\n",
      "Immune System group 2 would deal defending group 2 11875 damage\n",
      "\n",
      "Immune System group 2 attacks defending group 1, killing 2 units\n",
      "Infection group 1 attacks defending group 2, killing 142 units\n"
     ]
    }
   ],
   "source": [
    "fight_round(immune_system, infection, debug=True)"
   ]
  },
  {
   "cell_type": "code",
   "execution_count": 52,
   "metadata": {},
   "outputs": [
    {
     "name": "stdout",
     "output_type": "stream",
     "text": [
      "Immune system:\n",
      "Group 2 contains 333 units\n",
      "Infection:\n",
      "Group 1 contains 784 units\n",
      "Group 2 contains 4434 units\n",
      "\n",
      "Infection group 1 would deal defending group 2 181888 damage\n",
      "Immune System group 2 would deal defending group 1 8325 damage\n",
      "Immune System group 2 would deal defending group 2 8325 damage\n",
      "\n",
      "Immune System group 2 attacks defending group 1, killing 1 units\n",
      "Infection group 1 attacks defending group 2, killing 142 units\n"
     ]
    }
   ],
   "source": [
    "fight_round(immune_system, infection, debug=True)"
   ]
  },
  {
   "cell_type": "code",
   "execution_count": 53,
   "metadata": {},
   "outputs": [
    {
     "name": "stdout",
     "output_type": "stream",
     "text": [
      "Immune system:\n",
      "Group 2 contains 191 units\n",
      "Infection:\n",
      "Group 1 contains 783 units\n",
      "Group 2 contains 4434 units\n",
      "\n",
      "Infection group 1 would deal defending group 2 181656 damage\n",
      "Immune System group 2 would deal defending group 1 4775 damage\n",
      "Immune System group 2 would deal defending group 2 4775 damage\n",
      "\n",
      "Immune System group 2 attacks defending group 1, killing 1 units\n",
      "Infection group 1 attacks defending group 2, killing 142 units\n"
     ]
    }
   ],
   "source": [
    "fight_round(immune_system, infection, debug=True)"
   ]
  },
  {
   "cell_type": "code",
   "execution_count": 54,
   "metadata": {},
   "outputs": [
    {
     "name": "stdout",
     "output_type": "stream",
     "text": [
      "Immune system:\n",
      "Group 2 contains 49 units\n",
      "Infection:\n",
      "Group 1 contains 782 units\n",
      "Group 2 contains 4434 units\n",
      "\n",
      "Infection group 1 would deal defending group 2 181424 damage\n",
      "Immune System group 2 would deal defending group 1 1225 damage\n",
      "Immune System group 2 would deal defending group 2 1225 damage\n",
      "\n",
      "Immune System group 2 attacks defending group 1, killing 0 units\n",
      "Infection group 1 attacks defending group 2, killing 49 units\n"
     ]
    }
   ],
   "source": [
    "fight_round(immune_system, infection, debug=True)"
   ]
  },
  {
   "cell_type": "code",
   "execution_count": 55,
   "metadata": {},
   "outputs": [
    {
     "name": "stdout",
     "output_type": "stream",
     "text": [
      "[]\n",
      "[Group(id_=1, num_units=782, hit_points=4706, attack_damage=116, attack_type='bludgeoning', initiative=1, weaknesses={'radiation'}, immunities=set(), army='Infection'), Group(id_=2, num_units=4434, hit_points=2961, attack_damage=12, attack_type='slashing', initiative=4, weaknesses={'fire', 'cold'}, immunities={'radiation'}, army='Infection')]\n"
     ]
    }
   ],
   "source": [
    "# At this point, all immune system groups are killed.\n",
    "print(immune_system)\n",
    "# Only infection groups remain:\n",
    "print(infection)"
   ]
  },
  {
   "cell_type": "code",
   "execution_count": 56,
   "metadata": {},
   "outputs": [
    {
     "data": {
      "text/plain": [
       "5216"
      ]
     },
     "execution_count": 56,
     "metadata": {},
     "output_type": "execute_result"
    }
   ],
   "source": [
    "sum(g.num_units for g in infection)"
   ]
  },
  {
   "cell_type": "code",
   "execution_count": 57,
   "metadata": {},
   "outputs": [],
   "source": [
    "import math\n",
    "\n",
    "def fight(immune_system, infection, max_rounds=math.inf, debug=False):\n",
    "    ''' A wrapper function that runs right_round() until one army is defeated. '''\n",
    "    for n in itertools.count():\n",
    "        fight_round(immune_system, infection, debug)\n",
    "        if len(immune_system) == 0:\n",
    "            print('Infection army won in {} rounds'.format(n))\n",
    "            winning_army = infection\n",
    "            break\n",
    "        elif len(infection) == 0:\n",
    "            print('Immune system won in {} rounds'.format(n))\n",
    "            winning_army = immune_system\n",
    "            break\n",
    "        elif n >= max_rounds:\n",
    "            print('Breaking after {} rounds'.format(max_rounds))\n",
    "            return None\n",
    "    return sum(g.num_units for g in winning_army)"
   ]
  },
  {
   "cell_type": "code",
   "execution_count": 58,
   "metadata": {},
   "outputs": [
    {
     "name": "stdout",
     "output_type": "stream",
     "text": [
      "Infection army won in 7 rounds\n"
     ]
    },
    {
     "data": {
      "text/plain": [
       "5216"
      ]
     },
     "execution_count": 58,
     "metadata": {},
     "output_type": "execute_result"
    }
   ],
   "source": [
    "text = '''Immune System:\n",
    "17 units each with 5390 hit points (weak to radiation, bludgeoning) with an attack that does 4507 fire damage at initiative 2\n",
    "989 units each with 1274 hit points (immune to fire; weak to bludgeoning, slashing) with an attack that does 25 slashing damage at initiative 3\n",
    "\n",
    "Infection:\n",
    "801 units each with 4706 hit points (weak to radiation) with an attack that does 116 bludgeoning damage at initiative 1\n",
    "4485 units each with 2961 hit points (immune to radiation; weak to fire, cold) with an attack that does 12 slashing damage at initiative 4\n",
    "'''\n",
    "immune_system, infection = parse_text(text)\n",
    "fight(immune_system, infection)"
   ]
  },
  {
   "cell_type": "code",
   "execution_count": 59,
   "metadata": {},
   "outputs": [],
   "source": [
    "# The code above works for sample problem. Now try with input data.\n",
    "with open('input.txt') as input_:\n",
    "    text = input_.read()\n",
    "immune_system, infection = parse_text(text)"
   ]
  },
  {
   "cell_type": "code",
   "execution_count": 60,
   "metadata": {},
   "outputs": [
    {
     "name": "stdout",
     "output_type": "stream",
     "text": [
      "Infection army won in 1370 rounds\n",
      "CPU times: user 175 ms, sys: 2 ms, total: 177 ms\n",
      "Wall time: 176 ms\n"
     ]
    },
    {
     "data": {
      "text/plain": [
       "16090"
      ]
     },
     "execution_count": 60,
     "metadata": {},
     "output_type": "execute_result"
    }
   ],
   "source": [
    "%time fight(immune_system, infection)"
   ]
  },
  {
   "cell_type": "markdown",
   "metadata": {},
   "source": [
    "# Part 2"
   ]
  },
  {
   "cell_type": "code",
   "execution_count": 61,
   "metadata": {},
   "outputs": [],
   "source": [
    "def boost(immune_system, amount):\n",
    "    ''' Add a boost to all the units in the immune system army. '''\n",
    "    for group in immune_system:\n",
    "        group.attack_damage += amount"
   ]
  },
  {
   "cell_type": "code",
   "execution_count": 62,
   "metadata": {},
   "outputs": [
    {
     "name": "stdout",
     "output_type": "stream",
     "text": [
      "[Group(id_=1, num_units=17, hit_points=5390, attack_damage=6077, attack_type='fire', initiative=2, weaknesses={'radiation', 'bludgeoning'}, immunities=set(), army='Immune System'), Group(id_=2, num_units=989, hit_points=1274, attack_damage=1595, attack_type='slashing', initiative=3, weaknesses={'slashing', 'bludgeoning'}, immunities={'fire'}, army='Immune System')]\n"
     ]
    }
   ],
   "source": [
    "text = '''Immune System:\n",
    "17 units each with 5390 hit points (weak to radiation, bludgeoning) with an attack that does 4507 fire damage at initiative 2\n",
    "989 units each with 1274 hit points (immune to fire; weak to bludgeoning, slashing) with an attack that does 25 slashing damage at initiative 3\n",
    "\n",
    "Infection:\n",
    "801 units each with 4706 hit points (weak to radiation) with an attack that does 116 bludgeoning damage at initiative 1\n",
    "4485 units each with 2961 hit points (immune to radiation; weak to fire, cold) with an attack that does 12 slashing damage at initiative 4\n",
    "'''\n",
    "immune_system, infection = parse_text(text)\n",
    "boost(immune_system, 1570)\n",
    "print(immune_system)"
   ]
  },
  {
   "cell_type": "code",
   "execution_count": 63,
   "metadata": {},
   "outputs": [
    {
     "name": "stdout",
     "output_type": "stream",
     "text": [
      "Immune system won in 40 rounds\n"
     ]
    },
    {
     "data": {
      "text/plain": [
       "51"
      ]
     },
     "execution_count": 63,
     "metadata": {},
     "output_type": "execute_result"
    }
   ],
   "source": [
    "fight(immune_system, infection)"
   ]
  },
  {
   "cell_type": "code",
   "execution_count": 64,
   "metadata": {},
   "outputs": [],
   "source": [
    "def check_boost(amount, max_rounds=math.inf):\n",
    "    ''' Run the fight with the given boost. '''\n",
    "    with open('input.txt') as input_:\n",
    "        text = input_.read()\n",
    "    immune_system, infection = parse_text(text)\n",
    "    boost(immune_system, amount)\n",
    "    return fight(immune_system, infection, max_rounds)"
   ]
  },
  {
   "cell_type": "code",
   "execution_count": 65,
   "metadata": {},
   "outputs": [
    {
     "name": "stdout",
     "output_type": "stream",
     "text": [
      "Infection army won in 1370 rounds\n"
     ]
    },
    {
     "data": {
      "text/plain": [
       "16090"
      ]
     },
     "execution_count": 65,
     "metadata": {},
     "output_type": "execute_result"
    }
   ],
   "source": [
    "check_boost(0)"
   ]
  },
  {
   "cell_type": "code",
   "execution_count": 66,
   "metadata": {},
   "outputs": [
    {
     "name": "stdout",
     "output_type": "stream",
     "text": [
      "Immune system won in 31 rounds\n"
     ]
    },
    {
     "data": {
      "text/plain": [
       "29516"
      ]
     },
     "execution_count": 66,
     "metadata": {},
     "output_type": "execute_result"
    }
   ],
   "source": [
    "check_boost(1000)"
   ]
  },
  {
   "cell_type": "markdown",
   "metadata": {},
   "source": [
    "Okay, so 1000 is big enough to get the immune system to win. Now I will do a manual binary search to find the lowest number. (Searching manually is probably faster than trying to code and test a perfect binary search algorithm.)"
   ]
  },
  {
   "cell_type": "code",
   "execution_count": 67,
   "metadata": {},
   "outputs": [
    {
     "name": "stdout",
     "output_type": "stream",
     "text": [
      "Immune system won in 61 rounds\n"
     ]
    },
    {
     "data": {
      "text/plain": [
       "28079"
      ]
     },
     "execution_count": 67,
     "metadata": {},
     "output_type": "execute_result"
    }
   ],
   "source": [
    "check_boost(500)"
   ]
  },
  {
   "cell_type": "code",
   "execution_count": 68,
   "metadata": {},
   "outputs": [
    {
     "name": "stdout",
     "output_type": "stream",
     "text": [
      "Immune system won in 116 rounds\n"
     ]
    },
    {
     "data": {
      "text/plain": [
       "25820"
      ]
     },
     "execution_count": 68,
     "metadata": {},
     "output_type": "execute_result"
    }
   ],
   "source": [
    "check_boost(250)"
   ]
  },
  {
   "cell_type": "code",
   "execution_count": 69,
   "metadata": {},
   "outputs": [
    {
     "name": "stdout",
     "output_type": "stream",
     "text": [
      "Immune system won in 217 rounds\n"
     ]
    },
    {
     "data": {
      "text/plain": [
       "21922"
      ]
     },
     "execution_count": 69,
     "metadata": {},
     "output_type": "execute_result"
    }
   ],
   "source": [
    "check_boost(125)"
   ]
  },
  {
   "cell_type": "code",
   "execution_count": 70,
   "metadata": {},
   "outputs": [
    {
     "name": "stdout",
     "output_type": "stream",
     "text": [
      "Immune system won in 445 rounds\n"
     ]
    },
    {
     "data": {
      "text/plain": [
       "14091"
      ]
     },
     "execution_count": 70,
     "metadata": {},
     "output_type": "execute_result"
    }
   ],
   "source": [
    "check_boost(62)"
   ]
  },
  {
   "cell_type": "code",
   "execution_count": 71,
   "metadata": {},
   "outputs": [
    {
     "name": "stdout",
     "output_type": "stream",
     "text": [
      "Immune system won in 924 rounds\n",
      "CPU times: user 119 ms, sys: 1.93 ms, total: 121 ms\n",
      "Wall time: 120 ms\n"
     ]
    },
    {
     "data": {
      "text/plain": [
       "9526"
      ]
     },
     "execution_count": 71,
     "metadata": {},
     "output_type": "execute_result"
    }
   ],
   "source": [
    "%time check_boost(31)"
   ]
  },
  {
   "cell_type": "code",
   "execution_count": 72,
   "metadata": {},
   "outputs": [
    {
     "name": "stdout",
     "output_type": "stream",
     "text": [
      "Immune system won in 1163 rounds\n",
      "CPU times: user 138 ms, sys: 2.19 ms, total: 140 ms\n",
      "Wall time: 138 ms\n"
     ]
    },
    {
     "ename": "WarIsDeadlocked",
     "evalue": "No targets can be found",
     "output_type": "error",
     "traceback": [
      "\u001b[0;31m---------------------------------------------------------------------------\u001b[0m",
      "\u001b[0;31mWarIsDeadlocked\u001b[0m                           Traceback (most recent call last)",
      "\u001b[0;32m<timed eval>\u001b[0m in \u001b[0;36m<module>\u001b[0;34m()\u001b[0m\n",
      "\u001b[0;32m<ipython-input-64-41c87bd75b69>\u001b[0m in \u001b[0;36mcheck_boost\u001b[0;34m(amount, max_rounds)\u001b[0m\n\u001b[1;32m      5\u001b[0m     \u001b[0mimmune_system\u001b[0m\u001b[0;34m,\u001b[0m \u001b[0minfection\u001b[0m \u001b[0;34m=\u001b[0m \u001b[0mparse_text\u001b[0m\u001b[0;34m(\u001b[0m\u001b[0mtext\u001b[0m\u001b[0;34m)\u001b[0m\u001b[0;34m\u001b[0m\u001b[0m\n\u001b[1;32m      6\u001b[0m     \u001b[0mboost\u001b[0m\u001b[0;34m(\u001b[0m\u001b[0mimmune_system\u001b[0m\u001b[0;34m,\u001b[0m \u001b[0mamount\u001b[0m\u001b[0;34m)\u001b[0m\u001b[0;34m\u001b[0m\u001b[0m\n\u001b[0;32m----> 7\u001b[0;31m     \u001b[0;32mreturn\u001b[0m \u001b[0mfight\u001b[0m\u001b[0;34m(\u001b[0m\u001b[0mimmune_system\u001b[0m\u001b[0;34m,\u001b[0m \u001b[0minfection\u001b[0m\u001b[0;34m,\u001b[0m \u001b[0mmax_rounds\u001b[0m\u001b[0;34m)\u001b[0m\u001b[0;34m\u001b[0m\u001b[0m\n\u001b[0m",
      "\u001b[0;32m<ipython-input-57-26cc0b31c3d8>\u001b[0m in \u001b[0;36mfight\u001b[0;34m(immune_system, infection, max_rounds, debug)\u001b[0m\n\u001b[1;32m      4\u001b[0m     \u001b[0;34m''' A wrapper function that runs right_round() until one army is defeated. '''\u001b[0m\u001b[0;34m\u001b[0m\u001b[0m\n\u001b[1;32m      5\u001b[0m     \u001b[0;32mfor\u001b[0m \u001b[0mn\u001b[0m \u001b[0;32min\u001b[0m \u001b[0mitertools\u001b[0m\u001b[0;34m.\u001b[0m\u001b[0mcount\u001b[0m\u001b[0;34m(\u001b[0m\u001b[0;34m)\u001b[0m\u001b[0;34m:\u001b[0m\u001b[0;34m\u001b[0m\u001b[0m\n\u001b[0;32m----> 6\u001b[0;31m         \u001b[0mfight_round\u001b[0m\u001b[0;34m(\u001b[0m\u001b[0mimmune_system\u001b[0m\u001b[0;34m,\u001b[0m \u001b[0minfection\u001b[0m\u001b[0;34m,\u001b[0m \u001b[0mdebug\u001b[0m\u001b[0;34m)\u001b[0m\u001b[0;34m\u001b[0m\u001b[0m\n\u001b[0m\u001b[1;32m      7\u001b[0m         \u001b[0;32mif\u001b[0m \u001b[0mlen\u001b[0m\u001b[0;34m(\u001b[0m\u001b[0mimmune_system\u001b[0m\u001b[0;34m)\u001b[0m \u001b[0;34m==\u001b[0m \u001b[0;36m0\u001b[0m\u001b[0;34m:\u001b[0m\u001b[0;34m\u001b[0m\u001b[0m\n\u001b[1;32m      8\u001b[0m             \u001b[0mprint\u001b[0m\u001b[0;34m(\u001b[0m\u001b[0;34m'Infection army won in {} rounds'\u001b[0m\u001b[0;34m.\u001b[0m\u001b[0mformat\u001b[0m\u001b[0;34m(\u001b[0m\u001b[0mn\u001b[0m\u001b[0;34m)\u001b[0m\u001b[0;34m)\u001b[0m\u001b[0;34m\u001b[0m\u001b[0m\n",
      "\u001b[0;32m<ipython-input-46-d297d6ef4c57>\u001b[0m in \u001b[0;36mfight_round\u001b[0;34m(immune_system, infection, debug)\u001b[0m\n\u001b[1;32m     71\u001b[0m     \u001b[0mtarget_count\u001b[0m \u001b[0;34m=\u001b[0m \u001b[0msum\u001b[0m\u001b[0;34m(\u001b[0m\u001b[0;36m0\u001b[0m \u001b[0;32mif\u001b[0m \u001b[0mtarget\u001b[0m \u001b[0;32mis\u001b[0m \u001b[0;32mNone\u001b[0m \u001b[0;32melse\u001b[0m \u001b[0;36m1\u001b[0m \u001b[0;32mfor\u001b[0m \u001b[0mtarget\u001b[0m \u001b[0;32min\u001b[0m \u001b[0mtargets\u001b[0m\u001b[0;34m.\u001b[0m\u001b[0mvalues\u001b[0m\u001b[0;34m(\u001b[0m\u001b[0;34m)\u001b[0m\u001b[0;34m)\u001b[0m\u001b[0;34m\u001b[0m\u001b[0m\n\u001b[1;32m     72\u001b[0m     \u001b[0;32mif\u001b[0m \u001b[0mtarget_count\u001b[0m \u001b[0;34m==\u001b[0m \u001b[0;36m0\u001b[0m\u001b[0;34m:\u001b[0m\u001b[0;34m\u001b[0m\u001b[0m\n\u001b[0;32m---> 73\u001b[0;31m         \u001b[0;32mraise\u001b[0m \u001b[0mWarIsDeadlocked\u001b[0m\u001b[0;34m(\u001b[0m\u001b[0;34m'No targets can be found'\u001b[0m\u001b[0;34m)\u001b[0m\u001b[0;34m\u001b[0m\u001b[0m\n\u001b[0m\u001b[1;32m     74\u001b[0m \u001b[0;34m\u001b[0m\u001b[0m\n\u001b[1;32m     75\u001b[0m     \u001b[0;31m# Attacking phase\u001b[0m\u001b[0;34m\u001b[0m\u001b[0;34m\u001b[0m\u001b[0m\n",
      "\u001b[0;31mWarIsDeadlocked\u001b[0m: No targets can be found"
     ]
    }
   ],
   "source": [
    "# At this point, my binary search plan hits a snag: I find out that when the\n",
    "# units are evenly matched, the war can result in a deadlock: neither army can\n",
    "# inflict any damage because the remain units are all immune to the attackers.\n",
    "# I added code that checks for deadlock and raises an exception. Notice the \n",
    "# difference between these two boost values: the first one succeeds and the\n",
    "# second reaches deadlock. Without deadlock detection, the second one would\n",
    "# infinite loop.\n",
    "%time check_boost(27)\n",
    "%time check_boost(26)"
   ]
  },
  {
   "cell_type": "code",
   "execution_count": 78,
   "metadata": {},
   "outputs": [
    {
     "name": "stdout",
     "output_type": "stream",
     "text": [
      "Amount 0\n",
      "Infection army won in 1370 rounds\n",
      "Outcome 16090\n",
      "Amount 1\n",
      "Infection army won in 1369 rounds\n",
      "Outcome 15740\n",
      "Amount 2\n",
      "Infection army won in 1598 rounds\n",
      "Outcome 14993\n",
      "Amount 3\n",
      "Infection army won in 1602 rounds\n",
      "Outcome 14631\n",
      "Amount 4\n",
      "Infection army won in 1602 rounds\n",
      "Outcome 14341\n",
      "Amount 5\n",
      "Infection army won in 1604 rounds\n",
      "Outcome 13857\n",
      "Amount 6\n",
      "Infection army won in 1612 rounds\n",
      "Outcome 13346\n",
      "Amount 7\n",
      "Infection army won in 1613 rounds\n",
      "Outcome 12933\n",
      "Amount 8\n",
      "Infection army won in 1608 rounds\n",
      "Outcome 12524\n",
      "Amount 9\n",
      "Infection army won in 1609 rounds\n",
      "Outcome 12121\n",
      "Amount 10\n",
      "Infection army won in 1612 rounds\n",
      "Outcome 11945\n",
      "Amount 11\n",
      "Infection army won in 1768 rounds\n",
      "Outcome 11476\n",
      "Amount 12\n",
      "Infection army won in 1819 rounds\n",
      "Outcome 10838\n",
      "Amount 13\n",
      "Infection army won in 2232 rounds\n",
      "Outcome 9893\n",
      "Amount 14\n",
      "Infection army won in 2901 rounds\n",
      "Outcome 8414\n",
      "Amount 15\n",
      "War is deadlocked: No targets can be found\n",
      "Amount 16\n",
      "War is deadlocked: No targets can be found\n",
      "Amount 17\n",
      "War is deadlocked: No targets can be found\n",
      "Amount 18\n",
      "War is deadlocked: No units can be destroyed\n",
      "Amount 19\n",
      "War is deadlocked: No units can be destroyed\n",
      "Amount 20\n",
      "War is deadlocked: No targets can be found\n",
      "Amount 21\n",
      "War is deadlocked: No targets can be found\n",
      "Amount 22\n",
      "War is deadlocked: No targets can be found\n",
      "Amount 23\n",
      "War is deadlocked: No targets can be found\n",
      "Amount 24\n",
      "War is deadlocked: No targets can be found\n",
      "Amount 25\n",
      "War is deadlocked: No targets can be found\n",
      "Amount 26\n",
      "War is deadlocked: No targets can be found\n",
      "Amount 27\n",
      "Immune system won in 1163 rounds\n",
      "Outcome 8304\n",
      "CPU times: user 5.07 s, sys: 26.9 ms, total: 5.1 s\n",
      "Wall time: 5.09 s\n"
     ]
    }
   ],
   "source": [
    "%%time\n",
    "# So I know the optimal value is 27 or less. I'll run all of these values\n",
    "# to see if the immune system wins in any other scenario.\n",
    "for amount in range(0,28):\n",
    "    print('Amount', amount)\n",
    "    try:\n",
    "        outcome = check_boost(amount, max_rounds=1_000_000)\n",
    "    except WarIsDeadlocked as exc:\n",
    "        print('War is deadlocked: {}'.format(exc))\n",
    "        continue\n",
    "    print('Outcome', outcome)"
   ]
  },
  {
   "cell_type": "code",
   "execution_count": 82,
   "metadata": {},
   "outputs": [
    {
     "ename": "WarIsDeadlocked",
     "evalue": "No targets can be found",
     "output_type": "error",
     "traceback": [
      "\u001b[0;31m---------------------------------------------------------------------------\u001b[0m",
      "\u001b[0;31mWarIsDeadlocked\u001b[0m                           Traceback (most recent call last)",
      "\u001b[0;32m<ipython-input-82-2a20fa721706>\u001b[0m in \u001b[0;36m<module>\u001b[0;34m()\u001b[0m\n\u001b[1;32m      6\u001b[0m \u001b[0mimmune_system\u001b[0m\u001b[0;34m,\u001b[0m \u001b[0minfection\u001b[0m \u001b[0;34m=\u001b[0m \u001b[0mparse_text\u001b[0m\u001b[0;34m(\u001b[0m\u001b[0mtext\u001b[0m\u001b[0;34m)\u001b[0m\u001b[0;34m\u001b[0m\u001b[0m\n\u001b[1;32m      7\u001b[0m \u001b[0mboost\u001b[0m\u001b[0;34m(\u001b[0m\u001b[0mimmune_system\u001b[0m\u001b[0;34m,\u001b[0m \u001b[0;36m15\u001b[0m\u001b[0;34m)\u001b[0m\u001b[0;34m\u001b[0m\u001b[0m\n\u001b[0;32m----> 8\u001b[0;31m \u001b[0mfight\u001b[0m\u001b[0;34m(\u001b[0m\u001b[0mimmune_system\u001b[0m\u001b[0;34m,\u001b[0m \u001b[0minfection\u001b[0m\u001b[0;34m)\u001b[0m\u001b[0;34m\u001b[0m\u001b[0m\n\u001b[0m",
      "\u001b[0;32m<ipython-input-57-26cc0b31c3d8>\u001b[0m in \u001b[0;36mfight\u001b[0;34m(immune_system, infection, max_rounds, debug)\u001b[0m\n\u001b[1;32m      4\u001b[0m     \u001b[0;34m''' A wrapper function that runs right_round() until one army is defeated. '''\u001b[0m\u001b[0;34m\u001b[0m\u001b[0m\n\u001b[1;32m      5\u001b[0m     \u001b[0;32mfor\u001b[0m \u001b[0mn\u001b[0m \u001b[0;32min\u001b[0m \u001b[0mitertools\u001b[0m\u001b[0;34m.\u001b[0m\u001b[0mcount\u001b[0m\u001b[0;34m(\u001b[0m\u001b[0;34m)\u001b[0m\u001b[0;34m:\u001b[0m\u001b[0;34m\u001b[0m\u001b[0m\n\u001b[0;32m----> 6\u001b[0;31m         \u001b[0mfight_round\u001b[0m\u001b[0;34m(\u001b[0m\u001b[0mimmune_system\u001b[0m\u001b[0;34m,\u001b[0m \u001b[0minfection\u001b[0m\u001b[0;34m,\u001b[0m \u001b[0mdebug\u001b[0m\u001b[0;34m)\u001b[0m\u001b[0;34m\u001b[0m\u001b[0m\n\u001b[0m\u001b[1;32m      7\u001b[0m         \u001b[0;32mif\u001b[0m \u001b[0mlen\u001b[0m\u001b[0;34m(\u001b[0m\u001b[0mimmune_system\u001b[0m\u001b[0;34m)\u001b[0m \u001b[0;34m==\u001b[0m \u001b[0;36m0\u001b[0m\u001b[0;34m:\u001b[0m\u001b[0;34m\u001b[0m\u001b[0m\n\u001b[1;32m      8\u001b[0m             \u001b[0mprint\u001b[0m\u001b[0;34m(\u001b[0m\u001b[0;34m'Infection army won in {} rounds'\u001b[0m\u001b[0;34m.\u001b[0m\u001b[0mformat\u001b[0m\u001b[0;34m(\u001b[0m\u001b[0mn\u001b[0m\u001b[0;34m)\u001b[0m\u001b[0;34m)\u001b[0m\u001b[0;34m\u001b[0m\u001b[0m\n",
      "\u001b[0;32m<ipython-input-46-d297d6ef4c57>\u001b[0m in \u001b[0;36mfight_round\u001b[0;34m(immune_system, infection, debug)\u001b[0m\n\u001b[1;32m     71\u001b[0m     \u001b[0mtarget_count\u001b[0m \u001b[0;34m=\u001b[0m \u001b[0msum\u001b[0m\u001b[0;34m(\u001b[0m\u001b[0;36m0\u001b[0m \u001b[0;32mif\u001b[0m \u001b[0mtarget\u001b[0m \u001b[0;32mis\u001b[0m \u001b[0;32mNone\u001b[0m \u001b[0;32melse\u001b[0m \u001b[0;36m1\u001b[0m \u001b[0;32mfor\u001b[0m \u001b[0mtarget\u001b[0m \u001b[0;32min\u001b[0m \u001b[0mtargets\u001b[0m\u001b[0;34m.\u001b[0m\u001b[0mvalues\u001b[0m\u001b[0;34m(\u001b[0m\u001b[0;34m)\u001b[0m\u001b[0;34m)\u001b[0m\u001b[0;34m\u001b[0m\u001b[0m\n\u001b[1;32m     72\u001b[0m     \u001b[0;32mif\u001b[0m \u001b[0mtarget_count\u001b[0m \u001b[0;34m==\u001b[0m \u001b[0;36m0\u001b[0m\u001b[0;34m:\u001b[0m\u001b[0;34m\u001b[0m\u001b[0m\n\u001b[0;32m---> 73\u001b[0;31m         \u001b[0;32mraise\u001b[0m \u001b[0mWarIsDeadlocked\u001b[0m\u001b[0;34m(\u001b[0m\u001b[0;34m'No targets can be found'\u001b[0m\u001b[0;34m)\u001b[0m\u001b[0;34m\u001b[0m\u001b[0m\n\u001b[0m\u001b[1;32m     74\u001b[0m \u001b[0;34m\u001b[0m\u001b[0m\n\u001b[1;32m     75\u001b[0m     \u001b[0;31m# Attacking phase\u001b[0m\u001b[0;34m\u001b[0m\u001b[0;34m\u001b[0m\u001b[0m\n",
      "\u001b[0;31mWarIsDeadlocked\u001b[0m: No targets can be found"
     ]
    }
   ],
   "source": [
    "# The immune system doesn't win until boost is 27, so I submitted 8304 as\n",
    "# an answer but that answer is too high. Could it be that a deadlock counts\n",
    "# as a win? The first deadlock occurs at boost==15.\n",
    "with open('input.txt') as input_:\n",
    "    text = input_.read()\n",
    "immune_system, infection = parse_text(text)\n",
    "boost(immune_system, 15)\n",
    "fight(immune_system, infection)"
   ]
  },
  {
   "cell_type": "code",
   "execution_count": 84,
   "metadata": {},
   "outputs": [
    {
     "name": "stdout",
     "output_type": "stream",
     "text": [
      "[Group(id_=5, num_units=2722, hit_points=6619, attack_damage=21, attack_type='bludgeoning', initiative=12, weaknesses=set(), immunities={'fire', 'slashing'}, army='Immune System')]\n",
      "[Group(id_=2, num_units=4684, hit_points=16609, attack_damage=6, attack_type='fire', initiative=2, weaknesses=set(), immunities={'radiation', 'slashing', 'bludgeoning'}, army='Infection'), Group(id_=4, num_units=1046, hit_points=30069, attack_damage=29, attack_type='fire', initiative=7, weaknesses=set(), immunities={'cold', 'bludgeoning'}, army='Infection')]\n"
     ]
    }
   ],
   "source": [
    "# Nope, 2722 is too low.\n",
    "print(immune_system)\n",
    "print(infection)"
   ]
  },
  {
   "cell_type": "code",
   "execution_count": null,
   "metadata": {},
   "outputs": [],
   "source": []
  }
 ],
 "metadata": {
  "kernelspec": {
   "display_name": "Python 3",
   "language": "python",
   "name": "python3"
  },
  "language_info": {
   "codemirror_mode": {
    "name": "ipython",
    "version": 3
   },
   "file_extension": ".py",
   "mimetype": "text/x-python",
   "name": "python",
   "nbconvert_exporter": "python",
   "pygments_lexer": "ipython3",
   "version": "3.7.0"
  }
 },
 "nbformat": 4,
 "nbformat_minor": 2
}
