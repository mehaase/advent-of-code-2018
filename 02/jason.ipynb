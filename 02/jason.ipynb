{
 "cells": [
  {
   "cell_type": "code",
   "execution_count": 12,
   "metadata": {
    "collapsed": true
   },
   "outputs": [],
   "source": [
    "from collections import Counter"
   ]
  },
  {
   "cell_type": "code",
   "execution_count": 13,
   "metadata": {
    "collapsed": false
   },
   "outputs": [],
   "source": [
    "with open('jason.1.input', 'r') as f:\n",
    "    data1 = [line.rstrip().strip() for line in f.readlines()]"
   ]
  },
  {
   "cell_type": "code",
   "execution_count": 14,
   "metadata": {
    "collapsed": false
   },
   "outputs": [
    {
     "name": "stdout",
     "output_type": "stream",
     "text": [
      "247 22 5434\n"
     ]
    }
   ],
   "source": [
    "twos = 0\n",
    "threes = 0\n",
    "\n",
    "for dat in data1:\n",
    "    tmp = Counter(dat)\n",
    "    if 2 in tmp.values():\n",
    "        twos+=1\n",
    "    if 3 in tmp.values():\n",
    "        threes+=1\n",
    "        \n",
    "print(twos,threes,twos*threes)"
   ]
  },
  {
   "cell_type": "code",
   "execution_count": 5,
   "metadata": {
    "collapsed": true
   },
   "outputs": [],
   "source": [
    "with open('jason.2.input', 'r') as f:\n",
    "    data2 = [line.rstrip().strip() for line in f.readlines()]"
   ]
  },
  {
   "cell_type": "code",
   "execution_count": 18,
   "metadata": {
    "collapsed": true
   },
   "outputs": [],
   "source": [
    "def compare_strings(a,b):\n",
    "    return sum([int(c!=d) for c,d in zip(a,b)])"
   ]
  },
  {
   "cell_type": "code",
   "execution_count": 22,
   "metadata": {
    "collapsed": false
   },
   "outputs": [
    {
     "name": "stdout",
     "output_type": "stream",
     "text": [
      "agirmdjvlhedpsyoqfzuknpjwt agitmdjvlhedpsyoqfzuknpjwt\n",
      "solution: agimdjvlhedpsyoqfzuknpjwt\n"
     ]
    }
   ],
   "source": [
    "for i,dat in enumerate(data2):\n",
    "    if i==len(data2)-1:\n",
    "        break\n",
    "    for j,comp in enumerate(data2[i+1:]):\n",
    "        if compare_strings(dat,comp) == 1:\n",
    "            print(dat,comp)\n",
    "            print( 'solution:',''.join([a for a,b in zip(dat,comp) if a==b]) )\n",
    "            break"
   ]
  },
  {
   "cell_type": "code",
   "execution_count": null,
   "metadata": {
    "collapsed": false
   },
   "outputs": [],
   "source": []
  },
  {
   "cell_type": "code",
   "execution_count": null,
   "metadata": {
    "collapsed": true
   },
   "outputs": [],
   "source": []
  }
 ],
 "metadata": {
  "kernelspec": {
   "display_name": "Python 3",
   "language": "python",
   "name": "python3"
  },
  "language_info": {
   "codemirror_mode": {
    "name": "ipython",
    "version": 3
   },
   "file_extension": ".py",
   "mimetype": "text/x-python",
   "name": "python",
   "nbconvert_exporter": "python",
   "pygments_lexer": "ipython3",
   "version": "3.5.4"
  }
 },
 "nbformat": 4,
 "nbformat_minor": 2
}
