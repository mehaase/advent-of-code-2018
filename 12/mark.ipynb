{
 "cells": [
  {
   "cell_type": "markdown",
   "metadata": {},
   "source": [
    "# Part 1"
   ]
  },
  {
   "cell_type": "code",
   "execution_count": 1,
   "metadata": {},
   "outputs": [],
   "source": [
    "class Pots:\n",
    "    ''' Represents an infinite sequence. '''\n",
    "    def __init__(self, initial, rules):\n",
    "        '''\n",
    "        Constructor. \n",
    "        \n",
    "        Initial is a string representing the initial state. Rules is a list\n",
    "        of strings representing rules.\n",
    "        '''\n",
    "        self._generation = 0\n",
    "        # Store the non-zero indexes in a set.\n",
    "        self._pots = set()\n",
    "        for i, pot in enumerate(initial):\n",
    "            if initial[i] == '#':\n",
    "                self._pots.add(i)\n",
    "        # Make a set of rules that create a plant only\n",
    "        self._rules = set()\n",
    "        for rule in rules:\n",
    "            pattern = tuple(r=='#' for r in rule[:5])\n",
    "            action = rule[-1] == '#'\n",
    "            if not action:\n",
    "                continue\n",
    "            self._rules.add(pattern)\n",
    "    \n",
    "    def __getitem__(self, i):\n",
    "        ''' Return bool representing ith item. '''\n",
    "        return i in self._pots\n",
    "\n",
    "    def __setitem__(self, i, val):\n",
    "        ''' Set bool representing the ith item. '''\n",
    "        if val:\n",
    "            self._pots.add(i)\n",
    "        else:\n",
    "            self._pots.remove(i)\n",
    "\n",
    "    def generation(self):\n",
    "        ''' Run one generation of plants. '''\n",
    "        self._generation += 1\n",
    "        new_pots = set()\n",
    "        min_ = min(self._pots)\n",
    "        max_ = max(self._pots)\n",
    "        for i in range(min_ - 5, max_ + 5):\n",
    "            pattern = tuple(j in self._pots for j in range(i-2, i+3))\n",
    "            if pattern in self._rules:\n",
    "                new_pots.add(i)\n",
    "        self._pots = new_pots\n",
    "\n",
    "    def print(self, start=None, stop=None):\n",
    "        ''' Print out the current state. '''\n",
    "        if start is None:\n",
    "            start = min(self._pots)\n",
    "        if stop is None:\n",
    "            stop = max(self._pots)\n",
    "        pots_str = ''.join('#' if i in self._pots else '.' for i in range(start, stop))\n",
    "        print('{:2} {}'.format(self._generation, pots_str))\n",
    "\n",
    "    def sum(self):\n",
    "        ''' Return the sum of indices of all plants. '''\n",
    "        return sum(self._pots)"
   ]
  },
  {
   "cell_type": "code",
   "execution_count": 2,
   "metadata": {},
   "outputs": [],
   "source": [
    "def parse_input(text):\n",
    "    lines = text.split('\\n')\n",
    "    initial = lines[0][15:]\n",
    "    rules = lines[2:]\n",
    "    return initial, rules"
   ]
  },
  {
   "cell_type": "code",
   "execution_count": 3,
   "metadata": {},
   "outputs": [
    {
     "name": "stdout",
     "output_type": "stream",
     "text": [
      "#..#.#..##......###...### ['...## => #', '..#.. => #', '.#... => #', '.#.#. => #', '.#.## => #', '.##.. => #', '.#### => #', '#.#.# => #', '#.### => #', '##.#. => #', '##.## => #', '###.. => #', '###.# => #', '####. => #']\n"
     ]
    }
   ],
   "source": [
    "test_text = '''initial state: #..#.#..##......###...###\n",
    "\n",
    "...## => #\n",
    "..#.. => #\n",
    ".#... => #\n",
    ".#.#. => #\n",
    ".#.## => #\n",
    ".##.. => #\n",
    ".#### => #\n",
    "#.#.# => #\n",
    "#.### => #\n",
    "##.#. => #\n",
    "##.## => #\n",
    "###.. => #\n",
    "###.# => #\n",
    "####. => #'''\n",
    "\n",
    "test_initial, test_rules = parse_input(test_text)\n",
    "print(test_initial, test_rules)"
   ]
  },
  {
   "cell_type": "code",
   "execution_count": 4,
   "metadata": {},
   "outputs": [],
   "source": [
    "test_pots = Pots(test_initial, test_rules)"
   ]
  },
  {
   "cell_type": "code",
   "execution_count": 5,
   "metadata": {},
   "outputs": [
    {
     "name": "stdout",
     "output_type": "stream",
     "text": [
      " 0 #..#.#..##......###...##\n",
      " 0 .....#..#.#..##......###...###.....\n"
     ]
    }
   ],
   "source": [
    "test_pots.print()\n",
    "test_pots.print(start=-5, stop=30)"
   ]
  },
  {
   "cell_type": "code",
   "execution_count": 6,
   "metadata": {},
   "outputs": [
    {
     "name": "stdout",
     "output_type": "stream",
     "text": [
      " 1 #...#....#.....#..#..#..#\n"
     ]
    }
   ],
   "source": [
    "test_pots.generation()\n",
    "# test_pots.print(-5, 30)\n",
    "test_pots.print(0, 25)"
   ]
  },
  {
   "cell_type": "code",
   "execution_count": 7,
   "metadata": {},
   "outputs": [
    {
     "data": {
      "text/plain": [
       "{0, 4, 9, 15, 18, 21, 24}"
      ]
     },
     "execution_count": 7,
     "metadata": {},
     "output_type": "execute_result"
    }
   ],
   "source": [
    "test_pots._pots"
   ]
  },
  {
   "cell_type": "code",
   "execution_count": 8,
   "metadata": {},
   "outputs": [
    {
     "data": {
      "text/plain": [
       "91"
      ]
     },
     "execution_count": 8,
     "metadata": {},
     "output_type": "execute_result"
    }
   ],
   "source": [
    "test_pots.sum()"
   ]
  },
  {
   "cell_type": "code",
   "execution_count": 9,
   "metadata": {},
   "outputs": [
    {
     "name": "stdout",
     "output_type": "stream",
     "text": [
      "##.#############........##.##.####..#.#..#.##...###.##......#.#..#####....##..#####..#.#.##.#.## ['###.# => #', '.#### => #', '#.### => .', '.##.. => .', '##... => #', '##.## => #', '.#.## => #', '#.#.. => #', '#...# => .', '...## => #', '####. => #', '#..## => .', '#.... => .', '.###. => .', '..#.# => .', '..### => .', '#.#.# => #', '..... => .', '..##. => .', '##.#. => #', '.#... => #', '##### => .', '###.. => #', '..#.. => .', '##..# => #', '#..#. => #', '#.##. => .', '....# => .', '.#..# => #', '.#.#. => #', '.##.# => .', '...#. => .']\n"
     ]
    }
   ],
   "source": [
    "with open ('input.txt') as input_:\n",
    "    initial, rules = parse_input(input_.read())\n",
    "    rules.pop(-1)\n",
    "print(initial, rules)"
   ]
  },
  {
   "cell_type": "code",
   "execution_count": 10,
   "metadata": {},
   "outputs": [
    {
     "name": "stdout",
     "output_type": "stream",
     "text": [
      " 0 ##.#############........##.##.####..#.#..#.##...###.##......#.#..#####....##..#####..#.#.##.#.#\n"
     ]
    }
   ],
   "source": [
    "pots = Pots(initial, rules)\n",
    "pots.print()"
   ]
  },
  {
   "cell_type": "code",
   "execution_count": 11,
   "metadata": {},
   "outputs": [
    {
     "name": "stdout",
     "output_type": "stream",
     "text": [
      " 1 #..#.#.........###......#..#..#.#####.####.#..#.#..##..#......###..#.###..#..#..#.####.###..###..\n",
      " 2 ##.###.......#..##......##.##.#.#.###.#######.###...##.#....#..###.#..###.##.##.#.####..##...###.\n",
      " 3 #..#..##.......#...#....#..#..#####..##.#...###..##.#..###....#...####...##..#..###.####...#.#..###\n",
      " 4 ##.#...#.......#...#....##.#..#.###...###.#..##...###...##....#.#.####.#..##.#...##.####...###..###\n",
      " 5 #..###...#.......#...#..#..####.#..##.#..####...#.#..##.#..#....###.######...###.#..#.####.#..##..###\n",
      " 6 #...##...#.......#...##.#..######...###..####...###...####.#..#..##.#..###.#..#####.#.######...#..###\n",
      " 7 #.#..#...#.......#.#..###..#..###.#..##..####.#..##.#.#######.#...###...####..#.#####.#..###...#..###\n",
      " 8 ####.#...#.......###...###.#...####...#..######...###.#...#####.#..##.#.#####.#.#.#####...##...#..###\n",
      " 9 #.######...#.....#..##.#..####.#.####...#..#..###.#..####.#.#.#####...###.#.#######.#.###.#..#...#..###\n",
      "10 #.#..###...#.....#...###..######.####...##.#...####..########.#.###.#..####.#...#####..#####.#...#..###\n",
      "11 ###...##...#.....#.#..##..#..###.####.#..###.#.####..#....#####..####..######.#.#.###..#.#####...#..###\n",
      "12 #..##.#..#...#.....###...##.#...##.######...####.#####.#..#.#.###..####..#..#######..###.#.#.###...#..###\n",
      "13 #...####.#...#...#..##.#..###.#..#.#..###.#.####.#.######.###..##..#####.#..#...###...######..##...#..###\n",
      "14 #.#.######...#...#...###...#####.###...####.######.#..###..##...#..#.######.#.#..##.#.#..###...#...#..###\n",
      "15 ###.#..###...#...#.#..##.#.#.###..##.#.####.#..#####...##...#...##.#.#..#######...#####...##...#...#..###\n",
      "16 #..####...##...#...###...#####..##...###.######..#.###.#..#...#.#..#####..#...###.#.#.###.#..#...#...#..###\n",
      "17 #..####.#..#...#.#..##.#.#.###...#.#..##.#..####.#..#####.#...###..#.####.#.#..######..#####.#...#...#..###\n",
      "18 #..#######.#...###...#####..##...###...###..######..#.#####.#..###.#.########..#..###..#.#####...#...#..###\n",
      "19 #..#...#####.#..##.#.#.###...#.#..##.#..##..#..####.#.#.#####...####.#....####.#...###.#.#.###...#...#..###\n",
      "20 ##.#.#.#.#####...#####..##...###...###...##.#..########.#.###.#.######..#.######.#..######..##...#...#..###\n"
     ]
    }
   ],
   "source": [
    "for _ in range(20):\n",
    "    pots.generation()\n",
    "    pots.print()"
   ]
  },
  {
   "cell_type": "code",
   "execution_count": 12,
   "metadata": {},
   "outputs": [
    {
     "data": {
      "text/plain": [
       "4110"
      ]
     },
     "execution_count": 12,
     "metadata": {},
     "output_type": "execute_result"
    }
   ],
   "source": [
    "pots.sum()"
   ]
  },
  {
   "cell_type": "markdown",
   "metadata": {},
   "source": [
    "# Part 2"
   ]
  },
  {
   "cell_type": "code",
   "execution_count": 44,
   "metadata": {},
   "outputs": [
    {
     "name": "stdout",
     "output_type": "stream",
     "text": [
      " 0 ##.#############........##.##.####..#.#..#.##...###.##......#.#..#####....##..#####..#.#.##.#.#\n"
     ]
    }
   ],
   "source": [
    "pots = Pots(initial, rules)\n",
    "pots.print()"
   ]
  },
  {
   "cell_type": "code",
   "execution_count": 45,
   "metadata": {},
   "outputs": [
    {
     "name": "stdout",
     "output_type": "stream",
     "text": [
      "1 2386 2386\n",
      "2 2724 338\n",
      "3 2499 -225\n",
      "4 2630 131\n",
      "5 2822 192\n",
      "6 3048 226\n",
      "7 3064 16\n",
      "8 3112 48\n",
      "9 3259 147\n",
      "10 3457 198\n",
      "11 3454 -3\n",
      "12 3516 62\n",
      "13 3469 -47\n",
      "14 3325 -144\n",
      "15 3279 -46\n",
      "16 3247 -32\n",
      "17 3622 375\n",
      "18 3891 269\n",
      "19 3529 -362\n",
      "20 4110 581\n",
      "21 3598 -512\n",
      "22 3822 224\n",
      "23 3629 -193\n",
      "24 3810 181\n",
      "25 3807 -3\n",
      "26 3994 187\n",
      "27 4100 106\n",
      "28 4214 114\n",
      "29 4111 -103\n",
      "30 4346 235\n",
      "31 3883 -463\n",
      "32 4019 136\n",
      "33 3932 -87\n",
      "34 4362 430\n",
      "35 3864 -498\n",
      "36 3683 -181\n",
      "37 3616 -67\n",
      "38 3572 -44\n",
      "39 3618 46\n",
      "40 3713 95\n",
      "41 4016 303\n",
      "42 4189 173\n",
      "43 4127 -62\n",
      "44 4226 99\n",
      "45 4239 13\n",
      "46 4524 285\n",
      "47 4573 49\n",
      "48 4308 -265\n",
      "49 4651 343\n",
      "50 4572 -79\n",
      "51 4936 364\n",
      "52 4828 -108\n",
      "53 5150 322\n",
      "54 4965 -185\n",
      "55 5294 329\n",
      "56 4774 -520\n",
      "57 4676 -98\n",
      "58 4804 128\n",
      "59 5380 576\n",
      "60 5317 -63\n",
      "61 5508 191\n",
      "62 5177 -331\n",
      "63 5095 -82\n",
      "64 5373 278\n",
      "65 5494 121\n",
      "66 5249 -245\n",
      "67 5146 -103\n",
      "68 5671 525\n",
      "69 5591 -80\n",
      "70 5754 163\n",
      "71 5702 -52\n",
      "72 5789 87\n",
      "73 6094 305\n",
      "74 5761 -333\n",
      "75 5991 230\n",
      "76 6032 41\n",
      "77 5579 -453\n",
      "78 5958 379\n",
      "79 5729 -229\n",
      "80 5968 239\n",
      "81 6025 57\n",
      "82 5852 -173\n",
      "83 6315 463\n",
      "84 6207 -108\n",
      "85 6135 -72\n",
      "86 6078 -57\n",
      "87 6297 219\n",
      "88 6267 -30\n",
      "89 6107 -160\n",
      "90 6100 -7\n",
      "91 6123 23\n",
      "92 6182 59\n",
      "93 6372 190\n",
      "94 6591 219\n",
      "95 6351 -240\n",
      "96 6426 75\n",
      "97 6490 64\n",
      "98 6815 325\n",
      "99 6500 -315\n",
      "100 6513 13\n",
      "101 6512 -1\n",
      "102 6959 447\n",
      "103 6967 8\n",
      "104 7143 176\n",
      "105 7055 -88\n",
      "106 6951 -104\n",
      "107 6898 -53\n",
      "108 6984 86\n",
      "109 6763 -221\n",
      "110 6751 -12\n",
      "111 6871 120\n",
      "112 7075 204\n",
      "113 7057 -18\n",
      "114 7262 205\n",
      "115 7187 -75\n",
      "116 7164 -23\n",
      "117 7143 -21\n",
      "118 7456 313\n",
      "119 7588 132\n",
      "120 7630 42\n",
      "121 7875 245\n",
      "122 7291 -584\n",
      "123 7414 123\n",
      "124 7627 213\n",
      "125 7701 74\n",
      "126 7832 131\n",
      "127 7780 -52\n",
      "128 7726 -54\n",
      "129 7788 62\n",
      "130 7746 -42\n",
      "131 7782 36\n",
      "132 7914 132\n",
      "133 7796 -118\n",
      "134 7840 44\n",
      "135 7876 36\n",
      "136 8010 134\n",
      "137 8075 65\n",
      "138 8124 49\n",
      "139 8165 41\n",
      "140 8214 49\n",
      "141 8191 -23\n",
      "142 8241 50\n",
      "143 8285 44\n",
      "144 8335 50\n",
      "145 8313 -22\n",
      "146 8364 51\n",
      "147 8411 47\n",
      "148 8462 51\n",
      "149 8441 -21\n",
      "150 8493 52\n",
      "151 8543 50\n",
      "152 8595 52\n",
      "153 8575 -20\n",
      "154 8628 53\n",
      "155 8681 53\n",
      "156 8734 53\n",
      "157 8787 53\n",
      "158 8840 53\n",
      "159 8893 53\n",
      "160 8946 53\n",
      "CPU times: user 57.3 ms, sys: 7.63 ms, total: 64.9 ms\n",
      "Wall time: 59.2 ms\n"
     ]
    }
   ],
   "source": [
    "%%time\n",
    "last_sum = 0\n",
    "for i in range(160):\n",
    "    pots.generation()\n",
    "    sum_ = pots.sum()\n",
    "    print(i+1, sum_, sum_-last_sum)\n",
    "    last_sum = sum_"
   ]
  },
  {
   "cell_type": "code",
   "execution_count": 46,
   "metadata": {},
   "outputs": [],
   "source": [
    "def calc_generation(g):\n",
    "    return (g - 153) * 53 + 8575"
   ]
  },
  {
   "cell_type": "code",
   "execution_count": 47,
   "metadata": {},
   "outputs": [
    {
     "data": {
      "text/plain": [
       "8840"
      ]
     },
     "execution_count": 47,
     "metadata": {},
     "output_type": "execute_result"
    }
   ],
   "source": [
    "calc_generation(158)"
   ]
  },
  {
   "cell_type": "code",
   "execution_count": 48,
   "metadata": {},
   "outputs": [
    {
     "data": {
      "text/plain": [
       "2650000000466"
      ]
     },
     "execution_count": 48,
     "metadata": {},
     "output_type": "execute_result"
    }
   ],
   "source": [
    "calc_generation(50_000_000_000)"
   ]
  },
  {
   "cell_type": "code",
   "execution_count": null,
   "metadata": {},
   "outputs": [],
   "source": []
  }
 ],
 "metadata": {
  "kernelspec": {
   "display_name": "Python 3",
   "language": "python",
   "name": "python3"
  },
  "language_info": {
   "codemirror_mode": {
    "name": "ipython",
    "version": 3
   },
   "file_extension": ".py",
   "mimetype": "text/x-python",
   "name": "python",
   "nbconvert_exporter": "python",
   "pygments_lexer": "ipython3",
   "version": "3.7.0"
  }
 },
 "nbformat": 4,
 "nbformat_minor": 2
}
