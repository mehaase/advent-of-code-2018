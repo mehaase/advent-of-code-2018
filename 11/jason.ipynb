{
 "cells": [
  {
   "cell_type": "code",
   "execution_count": 24,
   "metadata": {
    "collapsed": true
   },
   "outputs": [],
   "source": [
    "import numpy as np"
   ]
  },
  {
   "cell_type": "code",
   "execution_count": null,
   "metadata": {
    "collapsed": true
   },
   "outputs": [],
   "source": []
  },
  {
   "cell_type": "code",
   "execution_count": 25,
   "metadata": {
    "collapsed": true
   },
   "outputs": [],
   "source": [
    "puzzle_input = 5177"
   ]
  },
  {
   "cell_type": "code",
   "execution_count": 28,
   "metadata": {
    "collapsed": false
   },
   "outputs": [
    {
     "name": "stdout",
     "output_type": "stream",
     "text": [
      "235,22: 30.0\n"
     ]
    }
   ],
   "source": [
    "def get_power(x,y):\n",
    "    tmp = str(int(((x + 10)*y+puzzle_input)*(x + 10)))\n",
    "    return int(tmp[-3]) - 5 if len(tmp)>=3 else -5\n",
    "\n",
    "\n",
    "width = 300\n",
    "height = 300\n",
    "grid = np.zeros((width,height))\n",
    "for i in range(width):\n",
    "    for j in range(height):\n",
    "        grid[i][j] = get_power(i,j)\n",
    "\n",
    "\n",
    "        \n",
    "best_x=0\n",
    "best_y=0\n",
    "best_power = 0\n",
    "kernel_size=3\n",
    "for i in range(width-kernel_size):\n",
    "    for j in range(height-kernel_size):\n",
    "        s = sum([ sum(grid[x][j:j+kernel_size]) for x in range(i,i+kernel_size)])\n",
    "        if s>best_power:\n",
    "            best_power = s\n",
    "            best_x=i\n",
    "            best_y=j\n",
    "            \n",
    "            \n",
    "print('{},{}: {}'.format(best_x, best_y, best_power))"
   ]
  },
  {
   "cell_type": "code",
   "execution_count": 31,
   "metadata": {
    "collapsed": false
   },
   "outputs": [
    {
     "name": "stdout",
     "output_type": "stream",
     "text": [
      "kernel_size: 0. Best so far: 0,0: 0\n",
      "kernel_size: 1. Best so far: 0,2: 4.0\n",
      "kernel_size: 2. Best so far: 21,219: 16.0\n",
      "kernel_size: 3. Best so far: 235,22: 30.0\n",
      "kernel_size: 4. Best so far: 235,22: 43.0\n",
      "kernel_size: 5. Best so far: 234,18: 56.0\n",
      "kernel_size: 6. Best so far: 233,15: 63.0\n",
      "kernel_size: 7. Best so far: 232,14: 77.0\n",
      "kernel_size: 8. Best so far: 231,135: 80.0\n",
      "kernel_size: 9. Best so far: 231,135: 80.0\n",
      "kernel_size: 10. Best so far: 231,135: 80.0\n",
      "kernel_size: 11. Best so far: 231,135: 80.0\n",
      "kernel_size: 12. Best so far: 231,135: 80.0\n",
      "kernel_size: 13. Best so far: 231,135: 80.0\n",
      "kernel_size: 14. Best so far: 231,135: 80.0\n",
      "kernel_size: 15. Best so far: 231,135: 80.0\n",
      "kernel_size: 16. Best so far: 231,135: 80.0\n",
      "kernel_size: 17. Best so far: 231,135: 80.0\n",
      "kernel_size: 18. Best so far: 231,135: 80.0\n",
      "kernel_size: 19. Best so far: 231,135: 80.0\n",
      "kernel_size: 20. Best so far: 231,135: 80.0\n",
      "kernel_size: 21. Best so far: 231,135: 80.0\n",
      "kernel_size: 22. Best so far: 231,135: 80.0\n",
      "kernel_size: 23. Best so far: 231,135: 80.0\n",
      "kernel_size: 24. Best so far: 231,135: 80.0\n",
      "kernel_size: 25. Best so far: 231,135: 80.0\n",
      "kernel_size: 26. Best so far: 231,135: 80.0\n"
     ]
    },
    {
     "ename": "KeyboardInterrupt",
     "evalue": "",
     "output_type": "error",
     "traceback": [
      "\u001b[0;31m---------------------------------------------------------------------------\u001b[0m",
      "\u001b[0;31mKeyboardInterrupt\u001b[0m                         Traceback (most recent call last)",
      "\u001b[0;32m<ipython-input-31-c3511b4ddfe8>\u001b[0m in \u001b[0;36m<module>\u001b[0;34m()\u001b[0m\n\u001b[1;32m     16\u001b[0m     \u001b[0;32mfor\u001b[0m \u001b[0mi\u001b[0m \u001b[0;32min\u001b[0m \u001b[0mrange\u001b[0m\u001b[0;34m(\u001b[0m\u001b[0mwidth\u001b[0m\u001b[0;34m-\u001b[0m\u001b[0mkernel_size\u001b[0m\u001b[0;34m)\u001b[0m\u001b[0;34m:\u001b[0m\u001b[0;34m\u001b[0m\u001b[0m\n\u001b[1;32m     17\u001b[0m         \u001b[0;32mfor\u001b[0m \u001b[0mj\u001b[0m \u001b[0;32min\u001b[0m \u001b[0mrange\u001b[0m\u001b[0;34m(\u001b[0m\u001b[0mheight\u001b[0m\u001b[0;34m-\u001b[0m\u001b[0mkernel_size\u001b[0m\u001b[0;34m)\u001b[0m\u001b[0;34m:\u001b[0m\u001b[0;34m\u001b[0m\u001b[0m\n\u001b[0;32m---> 18\u001b[0;31m             \u001b[0ms\u001b[0m \u001b[0;34m=\u001b[0m \u001b[0msum\u001b[0m\u001b[0;34m(\u001b[0m\u001b[0;34m[\u001b[0m \u001b[0msum\u001b[0m\u001b[0;34m(\u001b[0m\u001b[0mgrid\u001b[0m\u001b[0;34m[\u001b[0m\u001b[0mx\u001b[0m\u001b[0;34m]\u001b[0m\u001b[0;34m[\u001b[0m\u001b[0mj\u001b[0m\u001b[0;34m:\u001b[0m\u001b[0mj\u001b[0m\u001b[0;34m+\u001b[0m\u001b[0mkernel_size\u001b[0m\u001b[0;34m]\u001b[0m\u001b[0;34m)\u001b[0m \u001b[0;32mfor\u001b[0m \u001b[0mx\u001b[0m \u001b[0;32min\u001b[0m \u001b[0mrange\u001b[0m\u001b[0;34m(\u001b[0m\u001b[0mi\u001b[0m\u001b[0;34m,\u001b[0m\u001b[0mi\u001b[0m\u001b[0;34m+\u001b[0m\u001b[0mkernel_size\u001b[0m\u001b[0;34m)\u001b[0m\u001b[0;34m]\u001b[0m\u001b[0;34m)\u001b[0m\u001b[0;34m\u001b[0m\u001b[0m\n\u001b[0m\u001b[1;32m     19\u001b[0m             \u001b[0;32mif\u001b[0m \u001b[0ms\u001b[0m\u001b[0;34m>\u001b[0m\u001b[0mbest_power\u001b[0m\u001b[0;34m:\u001b[0m\u001b[0;34m\u001b[0m\u001b[0m\n\u001b[1;32m     20\u001b[0m                 \u001b[0mbest_power\u001b[0m \u001b[0;34m=\u001b[0m \u001b[0ms\u001b[0m\u001b[0;34m\u001b[0m\u001b[0m\n",
      "\u001b[0;32m<ipython-input-31-c3511b4ddfe8>\u001b[0m in \u001b[0;36m<listcomp>\u001b[0;34m(.0)\u001b[0m\n\u001b[1;32m     16\u001b[0m     \u001b[0;32mfor\u001b[0m \u001b[0mi\u001b[0m \u001b[0;32min\u001b[0m \u001b[0mrange\u001b[0m\u001b[0;34m(\u001b[0m\u001b[0mwidth\u001b[0m\u001b[0;34m-\u001b[0m\u001b[0mkernel_size\u001b[0m\u001b[0;34m)\u001b[0m\u001b[0;34m:\u001b[0m\u001b[0;34m\u001b[0m\u001b[0m\n\u001b[1;32m     17\u001b[0m         \u001b[0;32mfor\u001b[0m \u001b[0mj\u001b[0m \u001b[0;32min\u001b[0m \u001b[0mrange\u001b[0m\u001b[0;34m(\u001b[0m\u001b[0mheight\u001b[0m\u001b[0;34m-\u001b[0m\u001b[0mkernel_size\u001b[0m\u001b[0;34m)\u001b[0m\u001b[0;34m:\u001b[0m\u001b[0;34m\u001b[0m\u001b[0m\n\u001b[0;32m---> 18\u001b[0;31m             \u001b[0ms\u001b[0m \u001b[0;34m=\u001b[0m \u001b[0msum\u001b[0m\u001b[0;34m(\u001b[0m\u001b[0;34m[\u001b[0m \u001b[0msum\u001b[0m\u001b[0;34m(\u001b[0m\u001b[0mgrid\u001b[0m\u001b[0;34m[\u001b[0m\u001b[0mx\u001b[0m\u001b[0;34m]\u001b[0m\u001b[0;34m[\u001b[0m\u001b[0mj\u001b[0m\u001b[0;34m:\u001b[0m\u001b[0mj\u001b[0m\u001b[0;34m+\u001b[0m\u001b[0mkernel_size\u001b[0m\u001b[0;34m]\u001b[0m\u001b[0;34m)\u001b[0m \u001b[0;32mfor\u001b[0m \u001b[0mx\u001b[0m \u001b[0;32min\u001b[0m \u001b[0mrange\u001b[0m\u001b[0;34m(\u001b[0m\u001b[0mi\u001b[0m\u001b[0;34m,\u001b[0m\u001b[0mi\u001b[0m\u001b[0;34m+\u001b[0m\u001b[0mkernel_size\u001b[0m\u001b[0;34m)\u001b[0m\u001b[0;34m]\u001b[0m\u001b[0;34m)\u001b[0m\u001b[0;34m\u001b[0m\u001b[0m\n\u001b[0m\u001b[1;32m     19\u001b[0m             \u001b[0;32mif\u001b[0m \u001b[0ms\u001b[0m\u001b[0;34m>\u001b[0m\u001b[0mbest_power\u001b[0m\u001b[0;34m:\u001b[0m\u001b[0;34m\u001b[0m\u001b[0m\n\u001b[1;32m     20\u001b[0m                 \u001b[0mbest_power\u001b[0m \u001b[0;34m=\u001b[0m \u001b[0ms\u001b[0m\u001b[0;34m\u001b[0m\u001b[0m\n",
      "\u001b[0;31mKeyboardInterrupt\u001b[0m: "
     ]
    }
   ],
   "source": [
    "width = 300\n",
    "height = 300\n",
    "grid = np.zeros((width,height))\n",
    "for i in range(width):\n",
    "    for j in range(height):\n",
    "        grid[i][j] = get_power(i,j)\n",
    "\n",
    "\n",
    "        \n",
    "best_x=0\n",
    "best_y=0\n",
    "best_power = 0\n",
    "best_k=1\n",
    "kernel_size=1\n",
    "for kernel_size in range(height):\n",
    "    for i in range(width-kernel_size):\n",
    "        for j in range(height-kernel_size):\n",
    "            s = sum([ sum(grid[x][j:j+kernel_size]) for x in range(i,i+kernel_size)])\n",
    "            if s>best_power:\n",
    "                best_power = s\n",
    "                best_x=i\n",
    "                best_y=j\n",
    "                best_k=kernel_size\n",
    "    print('kernel_size: {}. Best so far: {},{}: {}'.format(kernel_size,best_x, best_y, best_power))\n",
    "                \n",
    "            \n",
    "            \n",
    "print('{} {},{}: {}'.format(best_k,best_x, best_y, best_power))"
   ]
  },
  {
   "cell_type": "code",
   "execution_count": null,
   "metadata": {
    "collapsed": false
   },
   "outputs": [],
   "source": []
  },
  {
   "cell_type": "code",
   "execution_count": null,
   "metadata": {
    "collapsed": false
   },
   "outputs": [],
   "source": []
  },
  {
   "cell_type": "code",
   "execution_count": null,
   "metadata": {
    "collapsed": true
   },
   "outputs": [],
   "source": []
  }
 ],
 "metadata": {
  "kernelspec": {
   "display_name": "Python 3",
   "language": "python",
   "name": "python3"
  },
  "language_info": {
   "codemirror_mode": {
    "name": "ipython",
    "version": 3
   },
   "file_extension": ".py",
   "mimetype": "text/x-python",
   "name": "python",
   "nbconvert_exporter": "python",
   "pygments_lexer": "ipython3",
   "version": "3.5.4"
  }
 },
 "nbformat": 4,
 "nbformat_minor": 2
}
