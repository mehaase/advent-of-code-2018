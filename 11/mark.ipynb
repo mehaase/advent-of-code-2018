{
 "cells": [
  {
   "cell_type": "markdown",
   "metadata": {},
   "source": [
    "# Part 1"
   ]
  },
  {
   "cell_type": "code",
   "execution_count": 10,
   "metadata": {},
   "outputs": [],
   "source": [
    "def power(x, y, serial):\n",
    "    rack_id = x + 10\n",
    "    power = rack_id * y + serial\n",
    "    power *= rack_id\n",
    "    try:\n",
    "        power = int(str(power)[-3])\n",
    "    except IndexError:\n",
    "        power = 0\n",
    "    return power - 5"
   ]
  },
  {
   "cell_type": "code",
   "execution_count": 11,
   "metadata": {},
   "outputs": [
    {
     "data": {
      "text/plain": [
       "4"
      ]
     },
     "execution_count": 11,
     "metadata": {},
     "output_type": "execute_result"
    }
   ],
   "source": [
    "power(3, 5, 8)"
   ]
  },
  {
   "cell_type": "code",
   "execution_count": 12,
   "metadata": {},
   "outputs": [
    {
     "data": {
      "text/plain": [
       "-5"
      ]
     },
     "execution_count": 12,
     "metadata": {},
     "output_type": "execute_result"
    }
   ],
   "source": [
    "# Fuel cell at  122,79, grid serial number 57: power level -5.\n",
    "power(122, 79, 57)"
   ]
  },
  {
   "cell_type": "code",
   "execution_count": 13,
   "metadata": {},
   "outputs": [
    {
     "data": {
      "text/plain": [
       "0"
      ]
     },
     "execution_count": 13,
     "metadata": {},
     "output_type": "execute_result"
    }
   ],
   "source": [
    "# Fuel cell at 217,196, grid serial number 39: power level  0.\n",
    "power(217, 196, 39)"
   ]
  },
  {
   "cell_type": "code",
   "execution_count": 14,
   "metadata": {},
   "outputs": [
    {
     "data": {
      "text/plain": [
       "4"
      ]
     },
     "execution_count": 14,
     "metadata": {},
     "output_type": "execute_result"
    }
   ],
   "source": [
    "# Fuel cell at 101,153, grid serial number 71: power level  4.\n",
    "power(101, 153, 71)"
   ]
  },
  {
   "cell_type": "code",
   "execution_count": 32,
   "metadata": {},
   "outputs": [],
   "source": [
    "def make_grid(n, serial):\n",
    "    grid = list()\n",
    "    for y in range(1,301):\n",
    "        grid.append([power(x, y, serial) for x in range(1,301)])\n",
    "    return grid"
   ]
  },
  {
   "cell_type": "code",
   "execution_count": 124,
   "metadata": {},
   "outputs": [],
   "source": [
    "def get_grid(grid, x, y):\n",
    "    return grid[x-1][y-1]\n",
    "\n",
    "def max_fuel(serial, box=3):\n",
    "    def kernel(sx, sy):\n",
    "        return sum(power(x,y,serial) for x in range(sx, sx+box) for y in range(sy, sy+box))\n",
    "    max_ = -999999\n",
    "    max_x, max_y = -1, -1\n",
    "    for x in range(1, 302-box):\n",
    "        for y in range(1, 302-box):\n",
    "            v = kernel(x, y)\n",
    "            if v > max_:\n",
    "                max_, max_x, max_y = v, x, y\n",
    "    return max_, max_x, max_y"
   ]
  },
  {
   "cell_type": "code",
   "execution_count": 125,
   "metadata": {},
   "outputs": [
    {
     "data": {
      "text/plain": [
       "(29, 33, 45)"
      ]
     },
     "execution_count": 125,
     "metadata": {},
     "output_type": "execute_result"
    }
   ],
   "source": [
    "max_fuel(18)"
   ]
  },
  {
   "cell_type": "code",
   "execution_count": 126,
   "metadata": {},
   "outputs": [
    {
     "data": {
      "text/plain": [
       "(30, 21, 61)"
      ]
     },
     "execution_count": 126,
     "metadata": {},
     "output_type": "execute_result"
    }
   ],
   "source": [
    "max_fuel(42)"
   ]
  },
  {
   "cell_type": "code",
   "execution_count": 127,
   "metadata": {},
   "outputs": [
    {
     "data": {
      "text/plain": [
       "(29, 20, 68)"
      ]
     },
     "execution_count": 127,
     "metadata": {},
     "output_type": "execute_result"
    }
   ],
   "source": [
    "max_fuel(5791)"
   ]
  },
  {
   "cell_type": "markdown",
   "metadata": {},
   "source": [
    "# Part 2"
   ]
  },
  {
   "cell_type": "code",
   "execution_count": 118,
   "metadata": {},
   "outputs": [],
   "source": [
    "def max_max_fuel(serial, start, stop):\n",
    "    max_, max_x, max_y, max_box = -999999, -1, -1, -1\n",
    "    for box_size in range(start,stop):\n",
    "        mf, x, y = max_fuel(serial, box_size)\n",
    "        print(box_size, mf)\n",
    "        if mf > max_:\n",
    "            max_, max_x, max_y, max_box = mf, x, y, box_size\n",
    "    return max_, max_x, max_y, max_box"
   ]
  },
  {
   "cell_type": "code",
   "execution_count": 131,
   "metadata": {},
   "outputs": [
    {
     "name": "stdout",
     "output_type": "stream",
     "text": [
      "CPU times: user 17 s, sys: 20.6 ms, total: 17.1 s\n",
      "Wall time: 17.1 s\n"
     ]
    },
    {
     "data": {
      "text/plain": [
       "(113, 90, 269)"
      ]
     },
     "execution_count": 131,
     "metadata": {},
     "output_type": "execute_result"
    }
   ],
   "source": [
    "%%time\n",
    "max_fuel(18, 16)"
   ]
  },
  {
   "cell_type": "code",
   "execution_count": 120,
   "metadata": {},
   "outputs": [
    {
     "name": "stdout",
     "output_type": "stream",
     "text": [
      "11 110\n",
      "12 109\n",
      "13 107\n",
      "14 104\n",
      "15 108\n",
      "16 111\n",
      "17 106\n",
      "18 107\n",
      "19 101\n",
      "20 80\n",
      "CPU times: user 2min 40s, sys: 108 ms, total: 2min 40s\n",
      "Wall time: 2min 40s\n"
     ]
    },
    {
     "data": {
      "text/plain": [
       "(111, 229, 269, 16)"
      ]
     },
     "execution_count": 120,
     "metadata": {},
     "output_type": "execute_result"
    }
   ],
   "source": [
    "%%time\n",
    "max_max_fuel(5791, 11, 18)"
   ]
  },
  {
   "cell_type": "code",
   "execution_count": 132,
   "metadata": {},
   "outputs": [
    {
     "data": {
      "text/plain": [
       "(111, 231, 273)"
      ]
     },
     "execution_count": 132,
     "metadata": {},
     "output_type": "execute_result"
    }
   ],
   "source": [
    "# I messed up max_max_fuel and fixed it but don't feel like\n",
    "# re-executing it. It got the right round, so I'll just run\n",
    "# that round.\n",
    "max_fuel(5791, 16)"
   ]
  },
  {
   "cell_type": "code",
   "execution_count": null,
   "metadata": {},
   "outputs": [],
   "source": []
  }
 ],
 "metadata": {
  "kernelspec": {
   "display_name": "Python 3",
   "language": "python",
   "name": "python3"
  },
  "language_info": {
   "codemirror_mode": {
    "name": "ipython",
    "version": 3
   },
   "file_extension": ".py",
   "mimetype": "text/x-python",
   "name": "python",
   "nbconvert_exporter": "python",
   "pygments_lexer": "ipython3",
   "version": "3.7.0"
  }
 },
 "nbformat": 4,
 "nbformat_minor": 2
}
