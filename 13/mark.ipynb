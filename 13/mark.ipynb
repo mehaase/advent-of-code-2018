{
 "cells": [
  {
   "cell_type": "markdown",
   "metadata": {},
   "source": [
    "# Part 1"
   ]
  },
  {
   "cell_type": "code",
   "execution_count": 1,
   "metadata": {},
   "outputs": [],
   "source": [
    "# Stolen from day 6 and modified for today.\n",
    "import itertools\n",
    "\n",
    "class Matrix:\n",
    "    ''' A dense matrix. '''\n",
    "    def __init__(self, rows, cols, initial=' '):\n",
    "        self._rows = rows\n",
    "        self._cols = cols\n",
    "        self._cells = [[initial] * cols for _ in range(rows)]\n",
    "    \n",
    "    def __repr__(self):\n",
    "        return 'Matrix<{}x{}>'.format(self._rows, self._cols)\n",
    "    \n",
    "    def __str__(self):\n",
    "        render = ''\n",
    "        for row in self._cells:\n",
    "            render += ''.join(str(v) for v in row) + '\\n'\n",
    "        return render\n",
    "\n",
    "    def __getitem__(self, key):\n",
    "        row, col = key\n",
    "        if row < 0 or row >= self._rows or col < 0 or col >= self._cols:\n",
    "            raise KeyError(key)\n",
    "        return self._cells[row][col]\n",
    "    \n",
    "    def __setitem__(self, key, val):\n",
    "        row, col = key\n",
    "        if row < 0 or row >= self._rows or col < 0 or col >= self._cols:\n",
    "            raise KeyError(key)\n",
    "        self._cells[row][col] = val\n",
    "    \n",
    "    def clone(self):\n",
    "        m = Matrix(self._rows, self._cols)\n",
    "        for row, col in itertools.product(range(self._rows), range(self._cols)):\n",
    "            m[row,col] = self[row,col]\n",
    "        return m\n",
    "\n",
    "    def get(self, row, col, default=None):\n",
    "        try:\n",
    "            return self[row,col]\n",
    "        except (IndexError,KeyError):\n",
    "            return default\n",
    "    \n",
    "    @property\n",
    "    def size(self):\n",
    "        return self._rows, self._cols\n",
    "\n",
    "    def values(self):\n",
    "        for row, col in itertools.product(range(self._rows), range(self._cols)):\n",
    "            yield self[row, col]"
   ]
  },
  {
   "cell_type": "code",
   "execution_count": 2,
   "metadata": {},
   "outputs": [],
   "source": [
    "class Cart:\n",
    "    char2dir = {\n",
    "        '^': 0,\n",
    "        '>': 1,\n",
    "        'v': 2,\n",
    "        '<': 3,\n",
    "    }\n",
    "    dir2char = {v:k for k,v in char2dir.items()}\n",
    "    CART_CHARS = set(char2dir.keys())\n",
    "\n",
    "    def __init__(self, initial):\n",
    "        self.force_turn(initial)\n",
    "        self._next_turn = 0\n",
    "    \n",
    "    def __repr__(self):\n",
    "        return '<Cart direction={} next_turn={}>'.format(\n",
    "            Cart.dir2char[self._direction], self._next_turn)\n",
    "\n",
    "    def __str__(self):\n",
    "        return Cart.dir2char[self._direction]\n",
    "\n",
    "    def force_turn(self, char):\n",
    "        ''' Force the cart to turn, i.e. when it's in a corner. '''\n",
    "        self._direction = Cart.char2dir[char]\n",
    "    \n",
    "    def choose_turn(self):\n",
    "        ''' Allow the cart to choose which way to turn at an intersection. '''\n",
    "        if self._next_turn == 0:\n",
    "            # turn left\n",
    "            self._direction = (self._direction - 1) % 4\n",
    "        elif self._next_turn == 1:\n",
    "            # go straight\n",
    "            pass\n",
    "        elif self._next_turn == 2:\n",
    "            # go right\n",
    "            self._direction = (self._direction + 1) % 4\n",
    "        else:\n",
    "            raise Exception('Invalid next turn: {}'.format(self._next_turn))\n",
    "        self._next_turn = (self._next_turn + 1) % 3"
   ]
  },
  {
   "cell_type": "code",
   "execution_count": 3,
   "metadata": {},
   "outputs": [],
   "source": [
    "RAIL_CHARS = '|-/\\\\+'\n",
    "\n",
    "def parse_map(text):\n",
    "    ''' Parse rail map into a matrix and a dict of carts. '''\n",
    "    lines = text.split('\\n')\n",
    "    rows = len(lines)\n",
    "    cols = max(len(line) for line in lines)\n",
    "    mat = Matrix(rows, cols)\n",
    "    carts = dict()\n",
    "    for row, line in enumerate(lines):\n",
    "        for col, char in enumerate(line):\n",
    "            if char == ' ':\n",
    "                continue\n",
    "            if char in RAIL_CHARS:\n",
    "                mat[row,col] = char\n",
    "            elif char in Cart.CART_CHARS:\n",
    "                carts[row,col] = Cart(char)\n",
    "                if char in '<>':\n",
    "                    mat[row,col] = '-'\n",
    "                else:\n",
    "                    mat[row,col] = '|'\n",
    "    return mat, carts\n",
    "\n",
    "def print_map(mat, carts):\n",
    "    ''' Render a map of the rails and carts. '''\n",
    "    lines = [list(line) for line in str(mat).split('\\n')]\n",
    "    for (row, col), cart in carts.items():\n",
    "        lines[row][col] = str(cart)\n",
    "    print('\\n'.join(''.join(line) for line in lines))"
   ]
  },
  {
   "cell_type": "code",
   "execution_count": 21,
   "metadata": {},
   "outputs": [
    {
     "name": "stdout",
     "output_type": "stream",
     "text": [
      "/->-\\        \n",
      "|   |  /----\\\n",
      "| /-+--+-\\  |\n",
      "| | |  | v  |\n",
      "\\-+-/  \\-+--/\n",
      "  \\------/   \n",
      "\n",
      "0 2 <Cart direction=> next_turn=0>\n",
      "3 9 <Cart direction=v next_turn=0>\n"
     ]
    }
   ],
   "source": [
    "test_text = r'''/->-\\        \n",
    "|   |  /----\\\n",
    "| /-+--+-\\  |\n",
    "| | |  | v  |\n",
    "\\-+-/  \\-+--/\n",
    "  \\------/'''\n",
    "test_mat, test_carts = parse_map(test_text)\n",
    "print_map(test_mat, test_carts)\n",
    "for (row, col), test_cart in test_carts.items():\n",
    "    print(row, col, repr(test_cart))"
   ]
  },
  {
   "cell_type": "code",
   "execution_count": 50,
   "metadata": {},
   "outputs": [],
   "source": [
    "TURN_CHARS = '/\\\\'\n",
    "\n",
    "def move_carts(mat, carts):\n",
    "    ''' Do one round of moving carts. If a collision occurs, return the coordinate\n",
    "    of the collision immediately. '''\n",
    "    # Make sure we process carts in the correct order.\n",
    "    cart_list = [(row, col, cart) for (row,col), cart in carts.items()]\n",
    "    cart_list.sort()\n",
    "    for row, col, cart in cart_list:\n",
    "        cell = mat[row, col]\n",
    "        char = str(cart)\n",
    "        # Does the cart need to change direction?\n",
    "        if cell == '/':\n",
    "            if char == '^':\n",
    "                cart.force_turn('>')\n",
    "            elif char == '>':\n",
    "                cart.force_turn('^')\n",
    "            elif char == 'v':\n",
    "                cart.force_turn('<')\n",
    "            elif char == '<':\n",
    "                cart.force_turn('v')\n",
    "        elif cell == '\\\\':\n",
    "            if char == '^':\n",
    "                cart.force_turn('<')\n",
    "            elif char == '>':\n",
    "                cart.force_turn('v')\n",
    "            elif char == 'v':\n",
    "                cart.force_turn('>')\n",
    "            elif char == '<':\n",
    "                cart.force_turn('^')\n",
    "        elif cell == '+':\n",
    "            cart.choose_turn()\n",
    "        # Update cart location\n",
    "        char = str(cart)\n",
    "        new_row, new_col = row, col\n",
    "        if char == '^':\n",
    "            new_row -= 1\n",
    "        elif char == 'v':\n",
    "            new_row += 1\n",
    "        elif char == '<':\n",
    "            new_col -= 1\n",
    "        elif char == '>':\n",
    "            new_col += 1\n",
    "        if (new_row, new_col) in carts:\n",
    "            # CRASH!\n",
    "            return new_row, new_col\n",
    "        else:\n",
    "            carts[new_row, new_col] = carts[row,col]\n",
    "            del carts[row,col]"
   ]
  },
  {
   "cell_type": "code",
   "execution_count": 36,
   "metadata": {},
   "outputs": [
    {
     "name": "stdout",
     "output_type": "stream",
     "text": [
      "CRASH (3, 7)\n",
      "/---\\        \n",
      "|   |  /----\\\n",
      "| /-+--+-\\  |\n",
      "| | |  v |  |\n",
      "\\-+-/  ^-+--/\n",
      "  \\------/   \n",
      "\n",
      "4 7 <Cart direction=^ next_turn=0>\n",
      "3 7 <Cart direction=v next_turn=2>\n"
     ]
    }
   ],
   "source": [
    "crash = move_carts(test_mat, test_carts)\n",
    "if crash:\n",
    "    print('CRASH', crash)\n",
    "print_map(test_mat, test_carts)\n",
    "for (row, col), test_cart in test_carts.items():\n",
    "    print(row, col, repr(test_cart))"
   ]
  },
  {
   "cell_type": "code",
   "execution_count": 47,
   "metadata": {},
   "outputs": [],
   "source": [
    "def find_crash(mat, carts):\n",
    "    ''' Run the carts until they crash and display the location. '''\n",
    "    while True:\n",
    "        crash = move_carts(mat, carts)\n",
    "        if crash:\n",
    "            row, col = crash\n",
    "            # My coordinates are reversed from the problem's\n",
    "            print('Crash at {},{}'.format(col, row))\n",
    "            break"
   ]
  },
  {
   "cell_type": "code",
   "execution_count": 48,
   "metadata": {},
   "outputs": [
    {
     "name": "stdout",
     "output_type": "stream",
     "text": [
      "Crash at 7,3\n"
     ]
    }
   ],
   "source": [
    "test_text = r'''/->-\\        \n",
    "|   |  /----\\\n",
    "| /-+--+-\\  |\n",
    "| | |  | v  |\n",
    "\\-+-/  \\-+--/\n",
    "  \\------/'''\n",
    "test_mat, test_carts = parse_map(test_text)\n",
    "find_crash(test_mat, test_carts)"
   ]
  },
  {
   "cell_type": "code",
   "execution_count": 49,
   "metadata": {},
   "outputs": [
    {
     "name": "stdout",
     "output_type": "stream",
     "text": [
      "Crash at 116,10\n"
     ]
    }
   ],
   "source": [
    "with open('input.txt') as input_:\n",
    "    mat, carts = parse_map(input_.read())\n",
    "find_crash(mat, carts)"
   ]
  },
  {
   "cell_type": "markdown",
   "metadata": {},
   "source": [
    "# Part 2"
   ]
  },
  {
   "cell_type": "code",
   "execution_count": 67,
   "metadata": {},
   "outputs": [],
   "source": [
    "def move_carts2(mat, carts):\n",
    "    ''' Similiar to part 1 except we delete crashed carts instead of returning\n",
    "    crash coordinates. '''\n",
    "    # Make sure we process carts in the correct order.\n",
    "    cart_list = [(row, col, cart) for (row,col), cart in carts.items()]\n",
    "    cart_list.sort()\n",
    "    to_deletes = list()\n",
    "    for row, col, cart in cart_list:\n",
    "        # Skip carts that are scheduled for deletion\n",
    "        if (row, col) in to_deletes:\n",
    "            continue\n",
    "        cell = mat[row, col]\n",
    "        char = str(cart)\n",
    "        # Does the cart need to change direction?\n",
    "        if cell == '/':\n",
    "            if char == '^':\n",
    "                cart.force_turn('>')\n",
    "            elif char == '>':\n",
    "                cart.force_turn('^')\n",
    "            elif char == 'v':\n",
    "                cart.force_turn('<')\n",
    "            elif char == '<':\n",
    "                cart.force_turn('v')\n",
    "        elif cell == '\\\\':\n",
    "            if char == '^':\n",
    "                cart.force_turn('<')\n",
    "            elif char == '>':\n",
    "                cart.force_turn('v')\n",
    "            elif char == 'v':\n",
    "                cart.force_turn('>')\n",
    "            elif char == '<':\n",
    "                cart.force_turn('^')\n",
    "        elif cell == '+':\n",
    "            cart.choose_turn()\n",
    "        # Update cart location\n",
    "        char = str(cart)\n",
    "        new_row, new_col = row, col\n",
    "        if char == '^':\n",
    "            new_row -= 1\n",
    "        elif char == 'v':\n",
    "            new_row += 1\n",
    "        elif char == '<':\n",
    "            new_col -= 1\n",
    "        elif char == '>':\n",
    "            new_col += 1\n",
    "        if (new_row, new_col) in carts:\n",
    "            # CRASH!\n",
    "            # We don't want to modify dict while we're iterating it, so we\n",
    "            # make a note to delete these carts later.\n",
    "            to_deletes.append((row,col))\n",
    "            to_deletes.append((new_row,new_col))\n",
    "        else:\n",
    "            carts[new_row, new_col] = carts[row,col]\n",
    "            del carts[row,col]\n",
    "    for to_delete in to_deletes:\n",
    "        del carts[to_delete]"
   ]
  },
  {
   "cell_type": "code",
   "execution_count": 75,
   "metadata": {},
   "outputs": [],
   "source": [
    "def find_last_cart(mat, carts):\n",
    "    ''' Remove each pair of carts that crashes until only one cart remains. \n",
    "    Note this modifies the ``carts`` that you pass in! '''\n",
    "    for n in itertools.count():\n",
    "        move_carts2(mat, carts)\n",
    "        if len(carts) == 1:\n",
    "            break\n",
    "        if n % 1000 == 0:\n",
    "            print('n={} #carts={}'.format(n, len(carts)))\n",
    "    for (row, col), cart in carts.items():\n",
    "        print('Remaining cart {} at {},{}'.format(cart, col, row))"
   ]
  },
  {
   "cell_type": "code",
   "execution_count": 76,
   "metadata": {},
   "outputs": [
    {
     "name": "stdout",
     "output_type": "stream",
     "text": [
      "n=0 #carts=17\n",
      "n=1000 #carts=7\n",
      "n=2000 #carts=5\n",
      "n=3000 #carts=5\n",
      "n=4000 #carts=5\n",
      "n=5000 #carts=3\n",
      "n=6000 #carts=3\n",
      "n=7000 #carts=3\n",
      "n=8000 #carts=3\n",
      "n=9000 #carts=3\n",
      "n=10000 #carts=3\n",
      "Remaining cart ^ at 116,25\n"
     ]
    }
   ],
   "source": [
    "with open('input.txt') as input_:\n",
    "    mat, carts = parse_map(input_.read())\n",
    "find_last_cart(mat, carts)"
   ]
  }
 ],
 "metadata": {
  "kernelspec": {
   "display_name": "Python 3",
   "language": "python",
   "name": "python3"
  },
  "language_info": {
   "codemirror_mode": {
    "name": "ipython",
    "version": 3
   },
   "file_extension": ".py",
   "mimetype": "text/x-python",
   "name": "python",
   "nbconvert_exporter": "python",
   "pygments_lexer": "ipython3",
   "version": "3.6.7"
  }
 },
 "nbformat": 4,
 "nbformat_minor": 2
}
