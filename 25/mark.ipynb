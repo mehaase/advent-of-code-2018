{
 "cells": [
  {
   "cell_type": "markdown",
   "metadata": {},
   "source": [
    "# Part 1"
   ]
  },
  {
   "cell_type": "code",
   "execution_count": 49,
   "metadata": {},
   "outputs": [],
   "source": [
    "from dataclasses import dataclass\n",
    "\n",
    "@dataclass\n",
    "class Star:\n",
    "    x: int\n",
    "    y: int\n",
    "    z: int\n",
    "    t: int\n",
    "        \n",
    "    def dist(self, other):\n",
    "        ''' Manhattan distance to another point. '''\n",
    "        return abs(self.x - other.x) + abs(self.y - other.y) + \\\n",
    "               abs(self.z - other.z) + abs(self.t - other.t)    \n",
    "\n",
    "def in_constellation(star, constellation):\n",
    "    for other_star in constellation:\n",
    "        if star.dist(other_star) <= 3:\n",
    "            return True\n",
    "    return False\n",
    "    \n",
    "def build_constellations(text, debug=False):\n",
    "    ''' Parse text and return nested list: each item in the outer list \n",
    "    represents a constellation, and its value is a list of Stars in that\n",
    "    constellation. '''\n",
    "    constellations = list()\n",
    "    for n, line in enumerate(text.strip().split()):\n",
    "        if debug:\n",
    "            print('Line {}'.format(n))\n",
    "        star = Star(*(int(s) for s in line.split(',')))\n",
    "        # Check all constellations and keep track of which ones this\n",
    "        # start is a part of.\n",
    "        part_of_idx = list()\n",
    "        for idx, constellation in enumerate(constellations):\n",
    "            if in_constellation(star, constellation):\n",
    "                part_of_idx.append(idx)\n",
    "        # Now update affected constellations.\n",
    "        if len(part_of_idx) == 1:\n",
    "            # A member of exactly one constellation.\n",
    "            constellations[part_of_idx[0]].append(star)\n",
    "        elif len(part_of_idx) == 0:\n",
    "            # Create a new constellation containing just this star.\n",
    "            constellations.append([star])\n",
    "        else:\n",
    "            # The most complex scenario: this star is close to two\n",
    "            # or more constellations. Those constellations need to\n",
    "            # be combined together and this star added to it.\n",
    "            new_constellation = list()\n",
    "            for idx in part_of_idx:\n",
    "                new_constellation += constellations[idx]\n",
    "                constellations[idx] = []\n",
    "            # Separate loop to delete so we don't muck up the list indices\n",
    "            # stored in part_of_idx.\n",
    "            for idx in reversed(part_of_idx):\n",
    "                del constellations[idx]\n",
    "            new_constellation.append(star)\n",
    "            constellations.append(new_constellation)\n",
    "    return constellations"
   ]
  },
  {
   "cell_type": "code",
   "execution_count": 50,
   "metadata": {},
   "outputs": [
    {
     "data": {
      "text/plain": [
       "[[Star(x=0, y=0, z=0, t=0),\n",
       "  Star(x=3, y=0, z=0, t=0),\n",
       "  Star(x=0, y=3, z=0, t=0),\n",
       "  Star(x=0, y=0, z=3, t=0),\n",
       "  Star(x=0, y=0, z=0, t=3),\n",
       "  Star(x=0, y=0, z=0, t=6)],\n",
       " [Star(x=9, y=0, z=0, t=0), Star(x=12, y=0, z=0, t=0)]]"
      ]
     },
     "execution_count": 50,
     "metadata": {},
     "output_type": "execute_result"
    }
   ],
   "source": [
    "# We should get one constellation with 6 stars and one with 2 stars.\n",
    "text = ''' 0,0,0,0\n",
    " 3,0,0,0\n",
    " 0,3,0,0\n",
    " 0,0,3,0\n",
    " 0,0,0,3\n",
    " 0,0,0,6\n",
    " 9,0,0,0\n",
    "12,0,0,0\n",
    "'''\n",
    "build_constellations(text)"
   ]
  },
  {
   "cell_type": "code",
   "execution_count": 51,
   "metadata": {},
   "outputs": [
    {
     "data": {
      "text/plain": [
       "4"
      ]
     },
     "execution_count": 51,
     "metadata": {},
     "output_type": "execute_result"
    }
   ],
   "source": [
    "# Should create 4 constellations.\n",
    "text = '''-1,2,2,0\n",
    "0,0,2,-2\n",
    "0,0,0,-2\n",
    "-1,2,0,0\n",
    "-2,-2,-2,2\n",
    "3,0,2,-1\n",
    "-1,3,2,2\n",
    "-1,0,-1,0\n",
    "0,2,1,-2\n",
    "3,0,0,0\n",
    "'''\n",
    "len(build_constellations(text))"
   ]
  },
  {
   "cell_type": "code",
   "execution_count": 53,
   "metadata": {},
   "outputs": [
    {
     "data": {
      "text/plain": [
       "3"
      ]
     },
     "execution_count": 53,
     "metadata": {},
     "output_type": "execute_result"
    }
   ],
   "source": [
    "# Should create 3 constellations.\n",
    "text = '''1,-1,0,1\n",
    "2,0,-1,0\n",
    "3,2,-1,0\n",
    "0,0,3,1\n",
    "0,0,-1,-1\n",
    "2,3,-2,0\n",
    "-2,2,0,0\n",
    "2,-2,0,-1\n",
    "1,-1,0,-1\n",
    "3,2,0,2\n",
    "'''\n",
    "len(build_constellations(text))"
   ]
  },
  {
   "cell_type": "code",
   "execution_count": 54,
   "metadata": {},
   "outputs": [
    {
     "data": {
      "text/plain": [
       "8"
      ]
     },
     "execution_count": 54,
     "metadata": {},
     "output_type": "execute_result"
    }
   ],
   "source": [
    "# Should create 8 constellations.\n",
    "text = '''1,-1,-1,-2\n",
    "-2,-2,0,1\n",
    "0,2,1,3\n",
    "-2,3,-2,1\n",
    "0,2,3,-2\n",
    "-1,-1,1,-2\n",
    "0,-2,-1,0\n",
    "-2,2,3,-1\n",
    "1,2,2,0\n",
    "-1,-2,0,-2\n",
    "'''\n",
    "len(build_constellations(text))"
   ]
  },
  {
   "cell_type": "code",
   "execution_count": 55,
   "metadata": {},
   "outputs": [],
   "source": [
    "with open('input.txt') as input_:\n",
    "    text = input_.read()"
   ]
  },
  {
   "cell_type": "code",
   "execution_count": 56,
   "metadata": {},
   "outputs": [
    {
     "name": "stdout",
     "output_type": "stream",
     "text": [
      "CPU times: user 981 ms, sys: 3.15 ms, total: 984 ms\n",
      "Wall time: 983 ms\n"
     ]
    },
    {
     "data": {
      "text/plain": [
       "324"
      ]
     },
     "execution_count": 56,
     "metadata": {},
     "output_type": "execute_result"
    }
   ],
   "source": [
    "# I'm nervous that my algorithm ixs quadratic and the input contains \n",
    "# about 1,500 stars... <fingers crossed>.\n",
    "%time constellations = build_constellations(text)\n",
    "len(constellations)"
   ]
  },
  {
   "cell_type": "markdown",
   "metadata": {},
   "source": [
    "# Part 2"
   ]
  },
  {
   "cell_type": "code",
   "execution_count": null,
   "metadata": {},
   "outputs": [],
   "source": []
  },
  {
   "cell_type": "code",
   "execution_count": null,
   "metadata": {},
   "outputs": [],
   "source": []
  },
  {
   "cell_type": "code",
   "execution_count": null,
   "metadata": {},
   "outputs": [],
   "source": []
  },
  {
   "cell_type": "code",
   "execution_count": null,
   "metadata": {},
   "outputs": [],
   "source": []
  },
  {
   "cell_type": "code",
   "execution_count": null,
   "metadata": {},
   "outputs": [],
   "source": []
  }
 ],
 "metadata": {
  "kernelspec": {
   "display_name": "Python 3",
   "language": "python",
   "name": "python3"
  },
  "language_info": {
   "codemirror_mode": {
    "name": "ipython",
    "version": 3
   },
   "file_extension": ".py",
   "mimetype": "text/x-python",
   "name": "python",
   "nbconvert_exporter": "python",
   "pygments_lexer": "ipython3",
   "version": "3.7.0"
  }
 },
 "nbformat": 4,
 "nbformat_minor": 2
}
