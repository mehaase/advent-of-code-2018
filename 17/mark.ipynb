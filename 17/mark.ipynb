{
 "cells": [
  {
   "cell_type": "markdown",
   "metadata": {},
   "source": [
    "# Part 1"
   ]
  },
  {
   "cell_type": "code",
   "execution_count": 1,
   "metadata": {},
   "outputs": [],
   "source": [
    "import re\n",
    "import itertools\n",
    "\n",
    "xy_re = re.compile(r'x=(\\d+), y=(\\d+)..(\\d+)')\n",
    "yx_re = re.compile(r'y=(\\d+), x=(\\d+)..(\\d+)')\n",
    "\n",
    "def parse_map(text):\n",
    "    ''' Parse text and return a sparse matrix of clay locations, represented\n",
    "    as a dict where key is (x,y) and value is the type of material there, i.e. '#'. '''\n",
    "    map_ = {(500,0): '+'}\n",
    "    for line in text.split('\\n'):\n",
    "        match = xy_re.match(line)\n",
    "        if match:\n",
    "            x = int(match.group(1))\n",
    "            x_iter = range(x, x+1)\n",
    "            ymin, ymax = int(match.group(2)), int(match.group(3))\n",
    "            y_iter = range(ymin, ymax+1)\n",
    "        else:\n",
    "            match = yx_re.match(line)\n",
    "            if match:\n",
    "                y = int(match.group(1))\n",
    "                y_iter = range(y, y+1)\n",
    "                xmin, xmax = int(match.group(2)), int(match.group(3))\n",
    "                x_iter = range(xmin, xmax+1)  \n",
    "            else:\n",
    "                raise Exception('Failed to parse line: {}'.format(line))\n",
    "        for x,y in itertools.product(x_iter, y_iter):\n",
    "            map_[x,y] = '#'\n",
    "    return map_\n",
    "\n",
    "def render_map(map_):\n",
    "    ''' Render a section of the [infinite] map. '''\n",
    "    min_x = min(coord[0] for coord in map_.keys()) - 1\n",
    "    max_x = max(coord[0] for coord in map_.keys()) + 1\n",
    "    min_y = 0 # By problem definition\n",
    "    max_y = max(coord[1] for coord in map_.keys())\n",
    "    # Print map header: the x coordinates\n",
    "    render = ''\n",
    "    coords = ['{:4}'.format(x) for x in range(min_x, max_x+1)]\n",
    "    for i in range(4):\n",
    "        render += '     {}\\n'.format(''.join(coord[i] for coord in coords))\n",
    "    # Print rows\n",
    "    for y in range(min_y, max_y+1):\n",
    "        render += '{:4} {}\\n'.format(y, \n",
    "            ''.join(map_.get((x,y),'.') for x in range(min_x, max_x+1)))\n",
    "    return render"
   ]
  },
  {
   "cell_type": "code",
   "execution_count": 335,
   "metadata": {},
   "outputs": [],
   "source": [
    "def fill_water(map_, max_rounds=5_000, debug=False):\n",
    "    ''' Returns a copy of the map with water filled in following the rules of the \n",
    "    problem. '''\n",
    "    map_ = dict(map_)\n",
    "    max_y = max(coord[1] for coord in map_.keys())\n",
    "    remaining = [(500,0)]\n",
    "    done = set()\n",
    "\n",
    "    def fill_left(x, y):\n",
    "        ''' Fill water starting at (x,y) and going left. Return last checked coord. '''\n",
    "        while True:\n",
    "            if map_.get((x, y)) == '#':\n",
    "                break\n",
    "            map_[x, y] = '~'\n",
    "            if map_.get((x, y+1)) in (None, '|'):\n",
    "                break\n",
    "            x -= 1\n",
    "        return x, y\n",
    "\n",
    "    def fill_right(x, y):\n",
    "        ''' Fill water starting at (x,y) and going right. Return last checked coord. '''\n",
    "        while True:\n",
    "            if map_.get((x, y)) == '#':\n",
    "                break\n",
    "            map_[x, y] = '~'\n",
    "            if map_.get((x, y+1)) in (None, '|'):\n",
    "                break\n",
    "            x += 1\n",
    "        return x, y\n",
    "\n",
    "    def toggle_water(x, y):\n",
    "        ''' Change ~ to | to the left and right of (x,y). '''\n",
    "        start_x, start_y = x, y\n",
    "        while True:\n",
    "            if map_.get((x, y)) == '~':\n",
    "                map_[x,y] = '|'\n",
    "                x -= 1\n",
    "            else:\n",
    "                break\n",
    "        x, y = start_x + 1, start_y\n",
    "        while True:\n",
    "            if map_.get((x, y)) == '~':\n",
    "                map_[x,y] = '|'\n",
    "                x += 1\n",
    "            else:\n",
    "                break\n",
    "        \n",
    "    while remaining:\n",
    "        remaining.sort(key=lambda v: (v[1], v[0]))\n",
    "        x, y = remaining.pop(0)\n",
    "        done.add((x, y))\n",
    "        down_y = y+1\n",
    "\n",
    "        # Fill water down until it hits clay or goes off the map.\n",
    "        while True:\n",
    "            if down_y > max_y or map_.get((x, down_y)) == '#':\n",
    "                break\n",
    "            map_[x, down_y] = '|'\n",
    "            down_y += 1\n",
    "        \n",
    "        if down_y > max_y:\n",
    "            continue\n",
    "            \n",
    "        # Now spread out left and right. If we hit a wall on both sides,\n",
    "        # go up one level and repeat. Break when we reach a level where\n",
    "        # one or both sides has no wall.\n",
    "        while True:\n",
    "            down_y -= 1\n",
    "            last_left = fill_left(x, down_y)\n",
    "            last_right = fill_right(x, down_y)\n",
    "#             print(last_left, last_right)\n",
    "            if map_.get(last_left) == '#' and map_.get(last_right) == '#':\n",
    "                # We hit walls on both sides. Repeat with the next highest level\n",
    "                continue\n",
    "            all_ = set(remaining) | done\n",
    "            if map_.get(last_left) == '~' and last_left not in all_:\n",
    "                remaining.append(last_left)\n",
    "            if map_.get(last_right) == '~' and last_right not in all_:\n",
    "                remaining.append(last_right)\n",
    "            toggle_water(x, down_y)\n",
    "            break\n",
    "            \n",
    "        if debug:\n",
    "            print('done', done)\n",
    "            print('remaining', list(sorted(remaining, key=lambda v: (v[1], v[0]))))\n",
    "            print(render_map(map_))\n",
    "        \n",
    "        max_rounds -= 1\n",
    "        if max_rounds == 0:\n",
    "            print('Too many rounds! Returning early')\n",
    "            break\n",
    "        \n",
    "    return map_"
   ]
  },
  {
   "cell_type": "code",
   "execution_count": 336,
   "metadata": {},
   "outputs": [
    {
     "name": "stdout",
     "output_type": "stream",
     "text": [
      "                   \n",
      "     44444455555555\n",
      "     99999900000000\n",
      "     45678901234567\n",
      "   0 ......+.......\n",
      "   1 ............#.\n",
      "   2 .#..#.......#.\n",
      "   3 .#..#..#......\n",
      "   4 .#..#..#......\n",
      "   5 .#.....#......\n",
      "   6 .#.....#......\n",
      "   7 .#######......\n",
      "   8 ..............\n",
      "   9 ..............\n",
      "  10 ....#.....#...\n",
      "  11 ....#.....#...\n",
      "  12 ....#.....#...\n",
      "  13 ....#######...\n",
      "\n"
     ]
    }
   ],
   "source": [
    "test_text = '''x=495, y=2..7\n",
    "y=7, x=495..501\n",
    "x=501, y=3..7\n",
    "x=498, y=2..4\n",
    "x=506, y=1..2\n",
    "x=498, y=10..13\n",
    "x=504, y=10..13\n",
    "y=13, x=498..504'''\n",
    "test_map = parse_map(test_text)\n",
    "print(render_map(test_map))"
   ]
  },
  {
   "cell_type": "code",
   "execution_count": 337,
   "metadata": {},
   "outputs": [
    {
     "name": "stdout",
     "output_type": "stream",
     "text": [
      "                   \n",
      "     44444455555555\n",
      "     99999900000000\n",
      "     45678901234567\n",
      "   0 ......+.......\n",
      "   1 ......|.....#.\n",
      "   2 .#..#||||...#.\n",
      "   3 .#..#~~#|.....\n",
      "   4 .#..#~~#|.....\n",
      "   5 .#~~~~~#|.....\n",
      "   6 .#~~~~~#|.....\n",
      "   7 .#######|.....\n",
      "   8 ........|.....\n",
      "   9 ...|||||||||..\n",
      "  10 ...|#~~~~~#|..\n",
      "  11 ...|#~~~~~#|..\n",
      "  12 ...|#~~~~~#|..\n",
      "  13 ...|#######|..\n",
      "\n"
     ]
    }
   ],
   "source": [
    "test_filled_map = fill_water(test_map)\n",
    "print(render_map(test_filled_map))"
   ]
  },
  {
   "cell_type": "code",
   "execution_count": 338,
   "metadata": {},
   "outputs": [],
   "source": [
    "def count_water(map_, min_y, max_y):\n",
    "    ''' Count the number of squares containing water, i.e. '~', subject to\n",
    "    the rule regarding min and max y values. '''\n",
    "    count = 0\n",
    "    for (x,y), char in map_.items():\n",
    "        if char in ('~','|') and (min_y <= y <= max_y):\n",
    "            count += 1\n",
    "    return count"
   ]
  },
  {
   "cell_type": "code",
   "execution_count": 339,
   "metadata": {},
   "outputs": [
    {
     "data": {
      "text/plain": [
       "57"
      ]
     },
     "execution_count": 339,
     "metadata": {},
     "output_type": "execute_result"
    }
   ],
   "source": [
    "count_water(test_filled_map, 1, 13)"
   ]
  },
  {
   "cell_type": "code",
   "execution_count": 340,
   "metadata": {},
   "outputs": [
    {
     "name": "stdout",
     "output_type": "stream",
     "text": [
      "                        \n",
      "     4444444445555555555\n",
      "     9999999990000000000\n",
      "     1234567890123456789\n",
      "   0 .........+.........\n",
      "   1 .........|.........\n",
      "   2 .....|||||||||.....\n",
      "   3 .....|#~~~~~#|.....\n",
      "   4 .....|#~~~~~#|.....\n",
      "   5 .....|#~~~~~#|.....\n",
      "   6 .....|#~~~~~#|.....\n",
      "   7 .....|#######|.....\n",
      "   8 .....|.......|.....\n",
      "   9 .|||||||||||||||||.\n",
      "  10 .|#~~~~~~~~~~~~~#|.\n",
      "  11 .|#~~~~~~~~~~~~~#|.\n",
      "  12 .|#~~~~~~~~~~~~~#|.\n",
      "  13 .|###############|.\n",
      "\n"
     ]
    }
   ],
   "source": [
    "# This scenario was originally broken.\n",
    "test_text = '''x=497, y=3..7\n",
    "y=7, x=497..503\n",
    "x=503, y=3..7\n",
    "x=493, y=10..13\n",
    "x=507, y=10..13\n",
    "y=13, x=493..507'''\n",
    "test_map = parse_map(test_text)\n",
    "test_filled_map = fill_water(test_map, max_rounds=4)\n",
    "print(render_map(test_filled_map))"
   ]
  },
  {
   "cell_type": "code",
   "execution_count": 341,
   "metadata": {},
   "outputs": [
    {
     "name": "stdout",
     "output_type": "stream",
     "text": [
      "                          \n",
      "     444444444444555555555\n",
      "     889999999999000000000\n",
      "     890123456789012345678\n",
      "   0 ............+........\n",
      "   1 ............|........\n",
      "   2 ........|||||||||....\n",
      "   3 ........|#~~~~~#|....\n",
      "   4 ........|#~~~~~#|....\n",
      "   5 ........|#######|....\n",
      "   6 ........|.......|....\n",
      "   7 ....||||||||||..|....\n",
      "   8 ....|#~~~~~~#|..|....\n",
      "   9 ....|#~~~~~~#|..|....\n",
      "  10 ....|########|..|....\n",
      "  11 ....|........|..|....\n",
      "  12 .|||||||||||||||||||.\n",
      "  13 .|#~~~~~~~~~~~~~~~#|.\n",
      "  14 .|#~~~~~~~~~~~~~~~#|.\n",
      "  15 .|#################|.\n",
      "\n"
     ]
    }
   ],
   "source": [
    "# Another broken scenario.\n",
    "test_text = '''x=497, y=3..5\n",
    "x=503, y=3..5\n",
    "y=5, x=497..503\n",
    "x=493, y=8..10\n",
    "x=500, y=8..10\n",
    "y=10, x=493..500\n",
    "x=490, y=13..15\n",
    "x=506, y=13..15\n",
    "y=15, x=490..506'''\n",
    "test_map = parse_map(test_text)\n",
    "test_filled_map = fill_water(test_map, max_rounds=7)\n",
    "print(render_map(test_filled_map))"
   ]
  },
  {
   "cell_type": "code",
   "execution_count": 342,
   "metadata": {},
   "outputs": [
    {
     "name": "stdout",
     "output_type": "stream",
     "text": [
      "                              \n",
      "     4444444444445555555555555\n",
      "     8899999999990000000000111\n",
      "     8901234567890123456789012\n",
      "   0 ............+............\n",
      "   1 ............|............\n",
      "   2 ........|||||||||........\n",
      "   3 ........|#~~~~~#|........\n",
      "   4 ........|#~~~~~#|........\n",
      "   5 ........|#######|........\n",
      "   6 ........|.......|........\n",
      "   7 .|||||||||||||||||||||||.\n",
      "   8 .|#~~~~~~~~~~~~~~~~~~~#|.\n",
      "   9 .|#~~~~~~~~~~~####~~~~#|.\n",
      "  10 .|#~~~~~~~~~~~#..#~~~~#|.\n",
      "  11 .|#~~~~~~~~~~~####~~~~#|.\n",
      "  12 .|#~~~~~~~~~~~~~~~~~~~#|.\n",
      "  13 .|#####################|.\n",
      "\n"
     ]
    }
   ],
   "source": [
    "# Another broken scenario.\n",
    "test_text = '''x=497, y=3..5\n",
    "x=503, y=3..5\n",
    "y=5, x=497..503\n",
    "x=490, y=8..13\n",
    "x=510, y=8..13\n",
    "y=13, x=490..510\n",
    "x=502, y=9..11\n",
    "x=505, y=9..11\n",
    "y=9, x=502..505\n",
    "y=11, x=502..505'''\n",
    "test_map = parse_map(test_text)\n",
    "test_filled_map = fill_water(test_map)\n",
    "print(render_map(test_filled_map))"
   ]
  },
  {
   "cell_type": "code",
   "execution_count": 343,
   "metadata": {},
   "outputs": [
    {
     "name": "stdout",
     "output_type": "stream",
     "text": [
      "                              \n",
      "     4444444444445555555555555\n",
      "     8899999999990000000000111\n",
      "     8901234567890123456789012\n",
      "   0 ............+............\n",
      "   1 ............|............\n",
      "   2 ........|||||||||........\n",
      "   3 ........|#~~~~~#|........\n",
      "   4 ........|#~~~~~#|........\n",
      "   5 ........|#######|........\n",
      "   6 ........|.......|........\n",
      "   7 .|||||||||||||||||||||||.\n",
      "   8 .|#~~~~~~~~~~~~~~~~~~~#|.\n",
      "   9 .|#~~~~~~~~~~~~~~~~~~~#|.\n",
      "  10 .|#~~~~~~~~~~~#~~#~~~~#|.\n",
      "  11 .|#~~~~~~~~~~~#~~#~~~~#|.\n",
      "  12 .|#~~~~~~~~~~~####~~~~#|.\n",
      "  13 .|#~~~~~~~~~~~~~~~~~~~#|.\n",
      "  14 .|#####################|.\n",
      "\n"
     ]
    }
   ],
   "source": [
    "# Another broken scenario.\n",
    "test_text = '''x=497, y=3..5\n",
    "x=503, y=3..5\n",
    "y=5, x=497..503\n",
    "x=490, y=8..14\n",
    "x=510, y=8..14\n",
    "y=14, x=490..510\n",
    "x=502, y=10..12\n",
    "x=505, y=10..12\n",
    "y=12, x=502..505'''\n",
    "test_map = parse_map(test_text)\n",
    "test_filled_map = fill_water(test_map)\n",
    "print(render_map(test_filled_map))"
   ]
  },
  {
   "cell_type": "code",
   "execution_count": 344,
   "metadata": {},
   "outputs": [
    {
     "name": "stdout",
     "output_type": "stream",
     "text": [
      "              \n",
      "     444455555\n",
      "     999900000\n",
      "     678901234\n",
      "   0 ....+....\n",
      "   1 ....|....\n",
      "   2 ....|....\n",
      "   3 ....|....\n",
      "   4 ....|....\n",
      "   5 ....|....\n",
      "   6 ....|....\n",
      "   7 ....|....\n",
      "   8 ....|....\n",
      "   9 .|||||||.\n",
      "  10 .|#~~~#|.\n",
      "  11 .|#~~~#|.\n",
      "  12 .|#~~~#|.\n",
      "  13 .|#####|.\n",
      "\n",
      "17\n"
     ]
    }
   ],
   "source": [
    "# Another broken scenario.\n",
    "test_text = '''x=498, y=10..13\n",
    "x=502, y=10..13\n",
    "y=13, x=498..502'''\n",
    "test_map = parse_map(test_text)\n",
    "test_filled_map = fill_water(test_map, max_rounds=4)\n",
    "print(render_map(test_filled_map))\n",
    "# should be 9 + 8 = 17 (should not count first down stream or water on top layer)\n",
    "print(count_water(test_filled_map, 10, 13))"
   ]
  },
  {
   "cell_type": "code",
   "execution_count": 321,
   "metadata": {},
   "outputs": [],
   "source": [
    "with open('input.txt') as input_:\n",
    "    map_ = parse_map(input_.read().strip())"
   ]
  },
  {
   "cell_type": "code",
   "execution_count": 322,
   "metadata": {},
   "outputs": [],
   "source": [
    "# For debugging:\n",
    "with open('output.txt', 'w') as output_:\n",
    "    output_.write(render_map(map_))"
   ]
  },
  {
   "cell_type": "code",
   "execution_count": 323,
   "metadata": {},
   "outputs": [],
   "source": [
    "filled_map = fill_water(map_)"
   ]
  },
  {
   "cell_type": "code",
   "execution_count": 324,
   "metadata": {},
   "outputs": [],
   "source": [
    "# For debugging:\n",
    "with open('output-filled.txt', 'w') as output_:\n",
    "    output_.write(render_map(filled_map))"
   ]
  },
  {
   "cell_type": "code",
   "execution_count": 327,
   "metadata": {},
   "outputs": [
    {
     "name": "stdout",
     "output_type": "stream",
     "text": [
      "6 1910\n"
     ]
    }
   ],
   "source": [
    "min_y = min(coord[1] for coord, cell in map_.items() if cell != '+')\n",
    "max_y = max(coord[1] for coord, cell in map_.items() if cell != '+')\n",
    "print(min_y, max_y)"
   ]
  },
  {
   "cell_type": "code",
   "execution_count": 328,
   "metadata": {},
   "outputs": [
    {
     "data": {
      "text/plain": [
       "29063"
      ]
     },
     "execution_count": 328,
     "metadata": {},
     "output_type": "execute_result"
    }
   ],
   "source": [
    "count_water(filled_map, min_y, max_y)"
   ]
  },
  {
   "cell_type": "markdown",
   "metadata": {},
   "source": [
    "# Part 2"
   ]
  },
  {
   "cell_type": "code",
   "execution_count": null,
   "metadata": {},
   "outputs": [],
   "source": []
  },
  {
   "cell_type": "code",
   "execution_count": null,
   "metadata": {},
   "outputs": [],
   "source": []
  },
  {
   "cell_type": "code",
   "execution_count": null,
   "metadata": {},
   "outputs": [],
   "source": []
  },
  {
   "cell_type": "code",
   "execution_count": null,
   "metadata": {},
   "outputs": [],
   "source": []
  },
  {
   "cell_type": "code",
   "execution_count": null,
   "metadata": {},
   "outputs": [],
   "source": []
  }
 ],
 "metadata": {
  "kernelspec": {
   "display_name": "Python 3",
   "language": "python",
   "name": "python3"
  },
  "language_info": {
   "codemirror_mode": {
    "name": "ipython",
    "version": 3
   },
   "file_extension": ".py",
   "mimetype": "text/x-python",
   "name": "python",
   "nbconvert_exporter": "python",
   "pygments_lexer": "ipython3",
   "version": "3.7.0"
  }
 },
 "nbformat": 4,
 "nbformat_minor": 2
}
