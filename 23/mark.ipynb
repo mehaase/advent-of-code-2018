{
 "cells": [
  {
   "cell_type": "markdown",
   "metadata": {},
   "source": [
    "# Part 1"
   ]
  },
  {
   "cell_type": "code",
   "execution_count": 10,
   "metadata": {},
   "outputs": [],
   "source": [
    "import re\n",
    "\n",
    "line_re = re.compile(r'^pos=<(-?\\d+),(-?\\d+),(-?\\d+)>, r=(\\d+)$')\n",
    "\n",
    "def parse_text(text):\n",
    "    ''' Parse text and return list of tuples (x,y,z,r). '''\n",
    "    nanobots = list()\n",
    "    for line in text.strip().split('\\n'):\n",
    "        match = line_re.match(line)\n",
    "        if not match:\n",
    "            raise Exception('Could not match line: {}'.format(line))\n",
    "        x, y, z, r = match.group(1,2,3,4)\n",
    "        nanobots.append((int(x), int(y), int(z), int(r)))\n",
    "    return nanobots"
   ]
  },
  {
   "cell_type": "code",
   "execution_count": 11,
   "metadata": {},
   "outputs": [],
   "source": [
    "test_text = '''pos=<0,0,0>, r=4\n",
    "pos=<1,0,0>, r=1\n",
    "pos=<4,0,0>, r=3\n",
    "pos=<0,2,0>, r=1\n",
    "pos=<0,5,0>, r=3\n",
    "pos=<0,0,3>, r=1\n",
    "pos=<1,1,1>, r=1\n",
    "pos=<1,1,2>, r=1\n",
    "pos=<1,3,1>, r=1\n",
    "'''"
   ]
  },
  {
   "cell_type": "code",
   "execution_count": 12,
   "metadata": {},
   "outputs": [
    {
     "name": "stdout",
     "output_type": "stream",
     "text": [
      "[(0, 0, 0, 4), (1, 0, 0, 1), (4, 0, 0, 3), (0, 2, 0, 1), (0, 5, 0, 3), (0, 0, 3, 1), (1, 1, 1, 1), (1, 1, 2, 1), (1, 3, 1, 1)]\n"
     ]
    }
   ],
   "source": [
    "nanobots = parse_text(test_text)\n",
    "print(nanobots)"
   ]
  },
  {
   "cell_type": "code",
   "execution_count": 13,
   "metadata": {},
   "outputs": [
    {
     "name": "stdout",
     "output_type": "stream",
     "text": [
      "(0, 0, 0, 4)\n"
     ]
    }
   ],
   "source": [
    "# We can get the largest radius by sorting and taking the first item.\n",
    "nanobots.sort(key=lambda n: n[3], reverse=True)\n",
    "maxbot = nanobots[0]\n",
    "print(maxbot)"
   ]
  },
  {
   "cell_type": "code",
   "execution_count": 14,
   "metadata": {},
   "outputs": [],
   "source": [
    "def filter_bots(bot1, nanobots):\n",
    "    count = 0\n",
    "    x1, y1, z1, r = bot1\n",
    "    for x2, y2, z2, _ in nanobots:\n",
    "        if abs(x1-x2) + abs(y1-y2) + abs(z1-z2) <= r:\n",
    "            count += 1\n",
    "    return count"
   ]
  },
  {
   "cell_type": "code",
   "execution_count": 15,
   "metadata": {},
   "outputs": [
    {
     "data": {
      "text/plain": [
       "7"
      ]
     },
     "execution_count": 15,
     "metadata": {},
     "output_type": "execute_result"
    }
   ],
   "source": [
    "filter_bots(maxbot, nanobots)"
   ]
  },
  {
   "cell_type": "code",
   "execution_count": 16,
   "metadata": {},
   "outputs": [
    {
     "name": "stdout",
     "output_type": "stream",
     "text": [
      "1000\n",
      "(75613424, 50145291, 41345801, 72623408)\n"
     ]
    }
   ],
   "source": [
    "with open('input.txt') as input_:\n",
    "    text = input_.read()\n",
    "nanobots = parse_text(text)\n",
    "print(len(nanobots))\n",
    "print(nanobots[-1])"
   ]
  },
  {
   "cell_type": "code",
   "execution_count": 17,
   "metadata": {},
   "outputs": [
    {
     "name": "stdout",
     "output_type": "stream",
     "text": [
      "(-19184742, 69238414, 51896760, 99428620)\n"
     ]
    }
   ],
   "source": [
    "# Get nanobot with largest radius.\n",
    "nanobots.sort(key=lambda n: n[3], reverse=True)\n",
    "maxbot = nanobots[0]\n",
    "print(maxbot)"
   ]
  },
  {
   "cell_type": "code",
   "execution_count": 18,
   "metadata": {},
   "outputs": [
    {
     "data": {
      "text/plain": [
       "599"
      ]
     },
     "execution_count": 18,
     "metadata": {},
     "output_type": "execute_result"
    }
   ],
   "source": [
    "filter_bots(maxbot, nanobots)"
   ]
  },
  {
   "cell_type": "markdown",
   "metadata": {},
   "source": [
    "# Part 2"
   ]
  },
  {
   "cell_type": "markdown",
   "metadata": {},
   "source": [
    "The naive solution is to construct a 3D sparse matrix that counts how many nanobots are in range of each cell, but that won't work here because the average radius of a nanobot is about 50,000,000. The number of cells to fill in for each bot is (I think) roughly `radius ^ 3 / 3`, which is an absolutely huge number–way bigger than I could possibly fit in memory.\n",
    "\n",
    "So I think a better alternative is to try hill climbing: starting from an arbitrary point, move 1 unit in any direction that improves my objective function. I just need to define what objective function to use.\n",
    "\n",
    "I already have a `filter_bots()` function that could be used as an objective function, but `filter_bots()` is very discontinuous: you might have to move millions of units to produce a 1 unit change in `filter_bots()`. So instead, my score is going to be based on how far a point is to the edge of the area covered by a nanobot. This way, the score improves even when you move just 1 unit, and I imagine that optimizing this score would be equivalent to optimizing the score in `filter_bots()`."
   ]
  },
  {
   "cell_type": "code",
   "execution_count": 48,
   "metadata": {},
   "outputs": [
    {
     "name": "stdout",
     "output_type": "stream",
     "text": [
      "[(10, 12, 12, 2), (12, 14, 12, 2), (16, 12, 12, 4), (14, 14, 14, 6), (50, 50, 50, 200), (10, 10, 10, 5)]\n"
     ]
    }
   ],
   "source": [
    "test_text = '''pos=<10,12,12>, r=2\n",
    "pos=<12,14,12>, r=2\n",
    "pos=<16,12,12>, r=4\n",
    "pos=<14,14,14>, r=6\n",
    "pos=<50,50,50>, r=200\n",
    "pos=<10,10,10>, r=5\n",
    "'''\n",
    "nanobots = parse_text(test_text)\n",
    "print(nanobots)"
   ]
  },
  {
   "cell_type": "code",
   "execution_count": 49,
   "metadata": {},
   "outputs": [],
   "source": [
    "def dist_to_nanobot(x, y, z, nanobot):\n",
    "    ''' Compute the manhattan distance from x,y,z to the closest point within\n",
    "    range of the given nanobot. If x,y,z is already in the nanobot's range, return\n",
    "    zero. '''\n",
    "    # The distance is equal to the distance from x,y,z to the \n",
    "    # nanobot's center minus the nanobot's radius.\n",
    "    nx, ny, nz, nr = nanobot\n",
    "    dx = abs(nx - x)\n",
    "    dy = abs(ny - y)\n",
    "    dz = abs(nz - z)\n",
    "    return max(dx + dy + dz - nr, 0)"
   ]
  },
  {
   "cell_type": "code",
   "execution_count": 50,
   "metadata": {},
   "outputs": [
    {
     "name": "stdout",
     "output_type": "stream",
     "text": [
      "(10, 12, 12, 2)\n"
     ]
    }
   ],
   "source": [
    "print(nanobots[0])"
   ]
  },
  {
   "cell_type": "code",
   "execution_count": 51,
   "metadata": {},
   "outputs": [],
   "source": [
    "# These coordinates are within the nanobots range, so the distance is zero.\n",
    "assert dist_to_nanobot(10, 12, 12, nanobots[0]) == 0\n",
    "assert dist_to_nanobot(11, 13, 12, nanobots[0]) == 0"
   ]
  },
  {
   "cell_type": "code",
   "execution_count": 52,
   "metadata": {},
   "outputs": [],
   "source": [
    "# A few more tests...\n",
    "assert dist_to_nanobot(18, 12, 12, nanobots[0]) == 6\n",
    "assert dist_to_nanobot(9, 11, 11, nanobots[0]) == 1\n",
    "assert dist_to_nanobot(11, 13, 13, nanobots[0]) == 1\n",
    "assert dist_to_nanobot(0, 0, 0, nanobots[0]) == 32"
   ]
  },
  {
   "cell_type": "code",
   "execution_count": 53,
   "metadata": {},
   "outputs": [],
   "source": [
    "def filter_bots2(x1, y1, z1, nanobots):\n",
    "    count = 0\n",
    "    for x2, y2, z2, r in nanobots:\n",
    "        if abs(x1-x2) + abs(y1-y2) + abs(z1-z2) <= r:\n",
    "            count += 1\n",
    "    return count"
   ]
  },
  {
   "cell_type": "code",
   "execution_count": 54,
   "metadata": {},
   "outputs": [
    {
     "data": {
      "text/plain": [
       "5"
      ]
     },
     "execution_count": 54,
     "metadata": {},
     "output_type": "execute_result"
    }
   ],
   "source": [
    "# The problem says there are 5 nanobots within range of this coordinate.\n",
    "filter_bots2(12, 12, 12, nanobots)"
   ]
  },
  {
   "cell_type": "code",
   "execution_count": 55,
   "metadata": {},
   "outputs": [],
   "source": [
    "def objective(x, y, z, nanobots):\n",
    "    ''' This is the function we want to minimize: the sum of the distances\n",
    "    from x,y,z to all nanobots. '''\n",
    "    sum_ = 0\n",
    "    for nanobot in nanobots:\n",
    "        sum_ += dist_to_nanobot(x, y, z, nanobot)\n",
    "    return sum_"
   ]
  },
  {
   "cell_type": "code",
   "execution_count": 56,
   "metadata": {},
   "outputs": [
    {
     "data": {
      "text/plain": [
       "165"
      ]
     },
     "execution_count": 56,
     "metadata": {},
     "output_type": "execute_result"
    }
   ],
   "source": [
    "# The origin is clearly not a good solution.\n",
    "objective(0, 0, 0, nanobots)"
   ]
  },
  {
   "cell_type": "code",
   "execution_count": 57,
   "metadata": {},
   "outputs": [
    {
     "data": {
      "text/plain": [
       "1"
      ]
     },
     "execution_count": 57,
     "metadata": {},
     "output_type": "execute_result"
    }
   ],
   "source": [
    "# We know from the problem statement that 12,12,12 is optimal.\n",
    "objective(12, 12, 12, nanobots)"
   ]
  },
  {
   "cell_type": "code",
   "execution_count": 58,
   "metadata": {},
   "outputs": [],
   "source": [
    "import math\n",
    "\n",
    "def hill_climb(x, y, z, nanobots, step=1, debug=False):\n",
    "    ''' Given an initial x,y,z, perform hill climbing algorithm to find\n",
    "    optimal coordinates. '''\n",
    "    old_cost = math.inf\n",
    "    new_cost = objective(x, y, z, nanobots)\n",
    "    while True:\n",
    "        neighbors = (\n",
    "            (x-step, y     ,  z   ),(x+step, y     , z     ),\n",
    "            (x     , y-step,  z   ),(x     , y+step, z     ),\n",
    "            (x     , y     ,z-step),(x     , y     , z+step),\n",
    "        )\n",
    "        options = [(objective(nx,ny,nz,nanobots),nx,ny,nz) for nx,ny,nz in neighbors]\n",
    "        best = min(options)\n",
    "        old_cost = new_cost\n",
    "        new_cost = best[0]\n",
    "        if new_cost >= old_cost:\n",
    "            return x, y, z, old_cost \n",
    "        x, y, z = best[1:4]\n",
    "        if debug:\n",
    "            in_range = filter_bots2(x, y, z, nanobots)\n",
    "            print('cost={} in_range={} coord={},{},{}'.format(\n",
    "                new_cost, in_range, x, y, z))"
   ]
  },
  {
   "cell_type": "code",
   "execution_count": 59,
   "metadata": {},
   "outputs": [
    {
     "name": "stdout",
     "output_type": "stream",
     "text": [
      "cost=160 in_range=1 coord=0,0,1\n",
      "cost=155 in_range=1 coord=0,0,2\n",
      "cost=150 in_range=1 coord=0,0,3\n",
      "cost=145 in_range=1 coord=0,0,4\n",
      "cost=140 in_range=1 coord=0,0,5\n",
      "cost=135 in_range=1 coord=0,0,6\n",
      "cost=130 in_range=1 coord=0,0,7\n",
      "cost=125 in_range=1 coord=0,0,8\n",
      "cost=120 in_range=1 coord=0,0,9\n",
      "cost=115 in_range=1 coord=0,0,10\n",
      "cost=110 in_range=1 coord=0,1,10\n",
      "cost=105 in_range=1 coord=0,2,10\n",
      "cost=100 in_range=1 coord=0,3,10\n",
      "cost=95 in_range=1 coord=0,4,10\n",
      "cost=90 in_range=1 coord=0,5,10\n",
      "cost=85 in_range=1 coord=0,6,10\n",
      "cost=80 in_range=1 coord=0,7,10\n",
      "cost=75 in_range=1 coord=0,8,10\n",
      "cost=70 in_range=1 coord=0,9,10\n",
      "cost=65 in_range=1 coord=0,10,10\n",
      "cost=60 in_range=1 coord=1,10,10\n",
      "cost=55 in_range=1 coord=2,10,10\n",
      "cost=50 in_range=1 coord=3,10,10\n",
      "cost=45 in_range=1 coord=4,10,10\n",
      "cost=40 in_range=2 coord=5,10,10\n",
      "cost=36 in_range=2 coord=6,10,10\n",
      "cost=32 in_range=2 coord=6,10,11\n",
      "cost=28 in_range=2 coord=7,10,11\n",
      "cost=24 in_range=2 coord=7,10,12\n",
      "cost=20 in_range=2 coord=8,10,12\n",
      "cost=16 in_range=2 coord=8,11,12\n",
      "cost=12 in_range=3 coord=9,11,12\n",
      "cost=9 in_range=3 coord=9,12,12\n",
      "cost=6 in_range=3 coord=10,12,12\n",
      "cost=3 in_range=3 coord=11,12,12\n",
      "cost=1 in_range=5 coord=12,12,12\n"
     ]
    },
    {
     "data": {
      "text/plain": [
       "(12, 12, 12, 1)"
      ]
     },
     "execution_count": 59,
     "metadata": {},
     "output_type": "execute_result"
    }
   ],
   "source": [
    "hill_climb(0, 0, 0, nanobots, debug=True)"
   ]
  },
  {
   "cell_type": "code",
   "execution_count": 60,
   "metadata": {},
   "outputs": [
    {
     "name": "stdout",
     "output_type": "stream",
     "text": [
      "Starting from nanobots[0] (12, 12, 12, 1)\n",
      "Starting from nanobots[1] (12, 12, 12, 1)\n",
      "Starting from nanobots[2] (12, 12, 12, 1)\n",
      "Starting from 100,100,100 (12, 12, 12, 1)\n",
      "Starting from 999,9999,99999 (12, 12, 12, 1)\n",
      "CPU times: user 3.33 s, sys: 4.58 ms, total: 3.33 s\n",
      "Wall time: 3.33 s\n"
     ]
    }
   ],
   "source": [
    "%%time\n",
    "# Hill climbing finds the optimal solution given in the practice\n",
    "# problem when starting from the origin, but I wonder how well it works\n",
    "# when starting from other places?\n",
    "print('Starting from nanobots[0]', hill_climb(*nanobots[0][1:], nanobots))\n",
    "print('Starting from nanobots[1]', hill_climb(*nanobots[1][1:], nanobots))\n",
    "print('Starting from nanobots[2]', hill_climb(*nanobots[2][1:], nanobots))\n",
    "print('Starting from 100,100,100', hill_climb(100,100,100, nanobots))\n",
    "print('Starting from 999,9999,99999', hill_climb(999,9999,99999, nanobots))"
   ]
  },
  {
   "cell_type": "code",
   "execution_count": 61,
   "metadata": {},
   "outputs": [
    {
     "name": "stdout",
     "output_type": "stream",
     "text": [
      "1000\n"
     ]
    }
   ],
   "source": [
    "# Great, so hill climbing seems to work pretty well on the example problem, even\n",
    "# with poorly chosen seeds. Now I'll try this on the real problem. I'll run it\n",
    "# a couple of times using various nanobots as seeds.\n",
    "with open('input.txt') as input_:\n",
    "    text = input_.read()\n",
    "nanobots = parse_text(text)\n",
    "print(len(nanobots))"
   ]
  },
  {
   "cell_type": "code",
   "execution_count": 88,
   "metadata": {},
   "outputs": [],
   "source": [
    "# With the default step size of 1, hill climbing runs for several minutes\n",
    "# without finding a solution. So I'm going to try running a large step size\n",
    "# to find a coarse result, then using successively smaller step sizes to\n",
    "# refine the solution.\n",
    "def fast_hill_climb(x, y, z, nanobots, debug=False):\n",
    "    step = 100_000\n",
    "    best = (x, y, z, math.inf)\n",
    "    while step >= 1:\n",
    "        best = hill_climb(*best[0:3], nanobots, step=step)\n",
    "        in_range = filter_bots2(*best[0:3], nanobots)\n",
    "        if debug:\n",
    "            print('step={} best={} in_range={}'.format(step, best, in_range))\n",
    "        step = step // 10\n",
    "    return in_range, best"
   ]
  },
  {
   "cell_type": "code",
   "execution_count": 74,
   "metadata": {},
   "outputs": [
    {
     "name": "stdout",
     "output_type": "stream",
     "text": [
      "step=100000 best=(26721486, 46587696, 21148148, 3283181627) in_range=878\n",
      "step=10000 best=(26791486, 46587696, 21098148, 3279301627) in_range=878\n",
      "step=1000 best=(26794486, 46606696, 21079148, 3278215754) in_range=901\n",
      "step=100 best=(26794886, 46607396, 21078848, 3278185741) in_range=950\n",
      "step=10 best=(26794876, 46607406, 21078798, 3278185276) in_range=955\n",
      "step=1 best=(26794876, 46607405, 21078801, 3278185269) in_range=955\n",
      "CPU times: user 3.51 s, sys: 3.69 ms, total: 3.52 s\n",
      "Wall time: 3.52 s\n"
     ]
    },
    {
     "data": {
      "text/plain": [
       "(26794876, 46607405, 21078801, 3278185269)"
      ]
     },
     "execution_count": 74,
     "metadata": {},
     "output_type": "execute_result"
    }
   ],
   "source": [
    "%time fast_hill_climb(*nanobots[314][1:], nanobots, debug=True)"
   ]
  },
  {
   "cell_type": "code",
   "execution_count": 75,
   "metadata": {},
   "outputs": [
    {
     "name": "stdout",
     "output_type": "stream",
     "text": [
      "step=100000 best=(26727744, 46566110, 21147648, 3283428747) in_range=878\n",
      "step=10000 best=(26787744, 46606110, 21087648, 3278757385) in_range=793\n",
      "step=1000 best=(26793744, 46607110, 21079648, 3278245348) in_range=900\n",
      "step=100 best=(26794844, 46607410, 21078848, 3278185711) in_range=945\n",
      "step=10 best=(26794874, 46607400, 21078808, 3278185272) in_range=952\n",
      "step=1 best=(26794874, 46607401, 21078807, 3278185270) in_range=953\n",
      "CPU times: user 5.36 s, sys: 6.95 ms, total: 5.36 s\n",
      "Wall time: 5.36 s\n"
     ]
    },
    {
     "data": {
      "text/plain": [
       "(26794874, 46607401, 21078807, 3278185270)"
      ]
     },
     "execution_count": 75,
     "metadata": {},
     "output_type": "execute_result"
    }
   ],
   "source": [
    "%time fast_hill_climb(*nanobots[728][1:], nanobots, debug=True)"
   ]
  },
  {
   "cell_type": "code",
   "execution_count": 76,
   "metadata": {},
   "outputs": [
    {
     "name": "stdout",
     "output_type": "stream",
     "text": [
      "step=100000 best=(26706930, 46546906, 21147114, 3284542891) in_range=878\n",
      "step=10000 best=(26786930, 46606906, 21087114, 3278704971) in_range=885\n",
      "step=1000 best=(26794930, 46606906, 21079114, 3278220321) in_range=827\n",
      "step=100 best=(26794830, 46607306, 21078914, 3278187450) in_range=920\n",
      "step=10 best=(26794870, 46607396, 21078814, 3278185294) in_range=948\n",
      "step=1 best=(26794874, 46607401, 21078807, 3278185270) in_range=953\n",
      "CPU times: user 2.75 s, sys: 4.29 ms, total: 2.76 s\n",
      "Wall time: 2.75 s\n"
     ]
    },
    {
     "data": {
      "text/plain": [
       "(26794874, 46607401, 21078807, 3278185270)"
      ]
     },
     "execution_count": 76,
     "metadata": {},
     "output_type": "execute_result"
    }
   ],
   "source": [
    "%time fast_hill_climb(*nanobots[152][1:], nanobots, debug=True)"
   ]
  },
  {
   "cell_type": "code",
   "execution_count": 77,
   "metadata": {},
   "outputs": [
    {
     "name": "stdout",
     "output_type": "stream",
     "text": [
      "step=100000 best=(26755751, 43746767, 23918362, 3483266196) in_range=859\n",
      "step=10000 best=(26785751, 46606767, 21088362, 3278785065) in_range=885\n",
      "step=1000 best=(26794751, 46606767, 21079362, 3278212732) in_range=908\n",
      "step=100 best=(26794851, 46607367, 21078862, 3278185792) in_range=940\n",
      "step=10 best=(26794871, 46607397, 21078812, 3278185285) in_range=950\n",
      "step=1 best=(26794874, 46607401, 21078807, 3278185270) in_range=953\n",
      "CPU times: user 6.97 s, sys: 13.7 ms, total: 6.99 s\n",
      "Wall time: 7 s\n"
     ]
    },
    {
     "data": {
      "text/plain": [
       "(26794874, 46607401, 21078807, 3278185270)"
      ]
     },
     "execution_count": 77,
     "metadata": {},
     "output_type": "execute_result"
    }
   ],
   "source": [
    "%time fast_hill_climb(*nanobots[516][1:], nanobots, debug=True)"
   ]
  },
  {
   "cell_type": "code",
   "execution_count": 78,
   "metadata": {},
   "outputs": [
    {
     "name": "stdout",
     "output_type": "stream",
     "text": [
      "step=100000 best=(26710180, 46546964, 21173077, 3285210005) in_range=878\n",
      "step=10000 best=(26790180, 46606964, 21083077, 3278472302) in_range=896\n",
      "step=1000 best=(26794180, 46606964, 21079077, 3278216399) in_range=898\n",
      "step=100 best=(26794880, 46607364, 21078877, 3278186329) in_range=942\n",
      "step=10 best=(26794880, 46607404, 21078807, 3278185272) in_range=954\n",
      "step=1 best=(26794878, 46607404, 21078806, 3278185269) in_range=954\n",
      "CPU times: user 7.27 s, sys: 19.6 ms, total: 7.28 s\n",
      "Wall time: 7.3 s\n"
     ]
    },
    {
     "data": {
      "text/plain": [
       "(26794878, 46607404, 21078806, 3278185269)"
      ]
     },
     "execution_count": 78,
     "metadata": {},
     "output_type": "execute_result"
    }
   ],
   "source": [
    "%time fast_hill_climb(*nanobots[928][1:], nanobots, debug=True)"
   ]
  },
  {
   "cell_type": "code",
   "execution_count": 79,
   "metadata": {},
   "outputs": [
    {
     "name": "stdout",
     "output_type": "stream",
     "text": [
      "step=100000 best=(26755059, 45410067, 22240840, 3340910479) in_range=877\n",
      "step=10000 best=(26785059, 46600067, 21080840, 3278775030) in_range=813\n",
      "step=1000 best=(26794059, 46607067, 21079840, 3278240937) in_range=886\n",
      "step=100 best=(26794859, 46607367, 21078840, 3278185591) in_range=938\n",
      "step=10 best=(26794869, 46607397, 21078810, 3278185288) in_range=948\n",
      "step=1 best=(26794874, 46607401, 21078807, 3278185270) in_range=953\n",
      "CPU times: user 4.52 s, sys: 12 ms, total: 4.53 s\n",
      "Wall time: 4.54 s\n"
     ]
    },
    {
     "data": {
      "text/plain": [
       "(26794874, 46607401, 21078807, 3278185270)"
      ]
     },
     "execution_count": 79,
     "metadata": {},
     "output_type": "execute_result"
    }
   ],
   "source": [
    "%time fast_hill_climb(*nanobots[435][1:], nanobots, debug=True)"
   ]
  },
  {
   "cell_type": "code",
   "execution_count": 80,
   "metadata": {},
   "outputs": [
    {
     "name": "stdout",
     "output_type": "stream",
     "text": [
      "step=100000 best=(21300000, 41100000, 21100000, 3776591533) in_range=855\n",
      "step=10000 best=(26790000, 46600000, 21080000, 3278716070) in_range=800\n",
      "step=1000 best=(26795000, 46607000, 21079000, 3278224548) in_range=821\n",
      "step=100 best=(26794800, 46607400, 21078900, 3278186896) in_range=933\n",
      "step=10 best=(26794880, 46607410, 21078800, 3278185271) in_range=955\n",
      "step=1 best=(26794880, 46607409, 21078801, 3278185269) in_range=955\n",
      "CPU times: user 9.5 s, sys: 21 ms, total: 9.52 s\n",
      "Wall time: 9.53 s\n"
     ]
    },
    {
     "data": {
      "text/plain": [
       "(26794880, 46607409, 21078801, 3278185269)"
      ]
     },
     "execution_count": 80,
     "metadata": {},
     "output_type": "execute_result"
    }
   ],
   "source": [
    "%time fast_hill_climb(0, 0, 0, nanobots, debug=True)"
   ]
  },
  {
   "cell_type": "code",
   "execution_count": 81,
   "metadata": {},
   "outputs": [
    {
     "name": "stdout",
     "output_type": "stream",
     "text": [
      "step=100000 best=(26687434, 46531917, 21103011, 3285185832) in_range=807\n",
      "step=10000 best=(26787434, 46601917, 21083011, 3278672423) in_range=878\n",
      "step=1000 best=(26794434, 46602917, 21083011, 3278414171) in_range=890\n",
      "step=100 best=(26794834, 46607317, 21078911, 3278187175) in_range=923\n",
      "step=10 best=(26794874, 46607397, 21078811, 3278185279) in_range=951\n",
      "step=1 best=(26794874, 46607401, 21078807, 3278185270) in_range=953\n",
      "CPU times: user 7.53 s, sys: 10.4 ms, total: 7.54 s\n",
      "Wall time: 7.54 s\n"
     ]
    },
    {
     "data": {
      "text/plain": [
       "(26794874, 46607401, 21078807, 3278185270)"
      ]
     },
     "execution_count": 81,
     "metadata": {},
     "output_type": "execute_result"
    }
   ],
   "source": [
    "%time fast_hill_climb(*nanobots[986][1:], nanobots, debug=True)"
   ]
  },
  {
   "cell_type": "code",
   "execution_count": 82,
   "metadata": {},
   "outputs": [
    {
     "name": "stdout",
     "output_type": "stream",
     "text": [
      "step=100000 best=(26720226, 46522361, 21128104, 3284060517) in_range=878\n",
      "step=10000 best=(26790226, 46602361, 21078104, 3278595453) in_range=738\n",
      "step=1000 best=(26794226, 46607361, 21079104, 3278234959) in_range=819\n",
      "step=100 best=(26794826, 46607361, 21078804, 3278186059) in_range=938\n",
      "step=10 best=(26794876, 46607401, 21078804, 3278185270) in_range=954\n",
      "step=1 best=(26794876, 46607401, 21078805, 3278185269) in_range=954\n",
      "CPU times: user 4.67 s, sys: 5.99 ms, total: 4.67 s\n",
      "Wall time: 4.67 s\n"
     ]
    },
    {
     "data": {
      "text/plain": [
       "(26794876, 46607401, 21078805, 3278185269)"
      ]
     },
     "execution_count": 82,
     "metadata": {},
     "output_type": "execute_result"
    }
   ],
   "source": [
    "%time fast_hill_climb(*nanobots[26][1:], nanobots, debug=True)"
   ]
  },
  {
   "cell_type": "code",
   "execution_count": 45,
   "metadata": {},
   "outputs": [
    {
     "name": "stdout",
     "output_type": "stream",
     "text": [
      "94481082\n",
      "94481088\n"
     ]
    }
   ],
   "source": [
    "# The two best outcomes of the runs above (both within range of 955 nanobots) are:\n",
    "print(26794880 + 46607409 + 21078801)\n",
    "print(26794876 + 46607405 + 21078801)\n",
    "# The first one is closer, but when I tried it as an answer, it said it\n",
    "# was too low! Interesting... so there is a better solution (>955) somewhere\n",
    "# farther away from the origin."
   ]
  },
  {
   "cell_type": "code",
   "execution_count": 94,
   "metadata": {},
   "outputs": [
    {
     "name": "stdout",
     "output_type": "stream",
     "text": [
      "finished 0\n",
      "finished 50\n",
      "finished 100\n",
      "finished 150\n",
      "finished 200\n",
      "finished 250\n",
      "finished 300\n",
      "finished 350\n",
      "finished 400\n",
      "finished 450\n",
      "finished 500\n",
      "finished 550\n",
      "finished 600\n",
      "finished 650\n",
      "finished 700\n",
      "finished 750\n",
      "finished 800\n",
      "finished 850\n",
      "finished 900\n",
      "finished 950\n",
      "[(953, (26794874, 46607401, 21078807, 3278185270)), (953, (26794874, 46607401, 21078807, 3278185270)), (953, (26794874, 46607401, 21078807, 3278185270)), (953, (26794874, 46607401, 21078807, 3278185270)), (953, (26794874, 46607401, 21078807, 3278185270)), (953, (26794874, 46607401, 21078807, 3278185270)), (953, (26794874, 46607401, 21078807, 3278185270)), (953, (26794874, 46607401, 21078807, 3278185270)), (953, (26794874, 46607401, 21078807, 3278185270)), (953, (26794874, 46607401, 21078807, 3278185270))]\n",
      "CPU times: user 3h 11min 32s, sys: 7.04 s, total: 3h 11min 39s\n",
      "Wall time: 6h 40min 25s\n"
     ]
    }
   ],
   "source": [
    "%%time\n",
    "# Now I'll try evaluating EVERY nanobot as a seed. This should take about\n",
    "# an hour, but my laptop went to sleep in the middle so it ended up taking\n",
    "# longer.\n",
    "results = list()\n",
    "for i, nanobot in enumerate(nanobots):\n",
    "    results.append(fast_hill_climb(*nanobot[1:], nanobots))\n",
    "    if i % 50 == 0:\n",
    "        print('finished', i)\n",
    "results.sort()\n",
    "print(results[:10])"
   ]
  },
  {
   "cell_type": "code",
   "execution_count": 95,
   "metadata": {},
   "outputs": [
    {
     "name": "stdout",
     "output_type": "stream",
     "text": [
      "[(957, (26794881, 46607411, 21078799, 3278185272)), (957, (26794881, 46607411, 21078799, 3278185272)), (957, (26794881, 46607411, 21078799, 3278185272)), (957, (26794881, 46607411, 21078799, 3278185272)), (957, (26794881, 46607411, 21078799, 3278185272)), (957, (26794881, 46607411, 21078799, 3278185272)), (957, (26794881, 46607411, 21078799, 3278185272)), (957, (26794881, 46607411, 21078799, 3278185272)), (957, (26794881, 46607411, 21078799, 3278185272)), (957, (26794881, 46607410, 21078800, 3278185270))]\n"
     ]
    }
   ],
   "source": [
    "# Whoops, forgot to sort descending.\n",
    "results.sort(reverse=True)\n",
    "print(results[:10])"
   ]
  },
  {
   "cell_type": "code",
   "execution_count": 100,
   "metadata": {},
   "outputs": [
    {
     "name": "stdout",
     "output_type": "stream",
     "text": [
      "[(94481091, 957, 26794881, 46607410, 21078800), (94481091, 957, 26794881, 46607411, 21078799), (94481091, 957, 26794881, 46607411, 21078799), (94481091, 957, 26794881, 46607411, 21078799), (94481091, 957, 26794881, 46607411, 21078799), (94481091, 957, 26794881, 46607411, 21078799), (94481091, 957, 26794881, 46607411, 21078799), (94481091, 957, 26794881, 46607411, 21078799), (94481091, 957, 26794881, 46607411, 21078799), (94481091, 957, 26794881, 46607411, 21078799)]\n"
     ]
    }
   ],
   "source": [
    "# The previous best was 955 and this set of results has at least \n",
    "# 10 results for 957. Let's pick the one closest to the origin.\n",
    "scored_results = [(abs(x)+abs(y)+abs(z), in_range, x, y, z) \n",
    "                  for in_range,(x,y,z,dist) in results if in_range>=957]\n",
    "scored_results.sort()\n",
    "print(scored_results)"
   ]
  },
  {
   "cell_type": "markdown",
   "metadata": {},
   "source": [
    "At this point, I'm completely stumped on this problem, so [I turned to Reddit](https://www.reddit.com/r/adventocode) to find tips. There are a bunch of esoteric solutions that depend on external SAT solvers or graph theory algorithms, but I want to keep my solutions purely inside the Python standard library.\n",
    "\n",
    "The approach I like best uses space partionining: break the entire search space into 8 equal size cubes and count how many nanobots intersect with each cube. Pick the cube with the highest number of intersections and break it into 8 smaller cubes, repeating the process until you find a cube that is only 1 unit^3 in volume, and that is the answer. So I will try to implement that approach here."
   ]
  },
  {
   "cell_type": "code",
   "execution_count": 120,
   "metadata": {},
   "outputs": [
    {
     "name": "stdout",
     "output_type": "stream",
     "text": [
      "coords -256167833 291969427\n"
     ]
    }
   ],
   "source": [
    "# First, I want to find a power-of-2 bounding box that contains all\n",
    "# of the nanobots, and to make things simple, I want it to be centered\n",
    "# on the origin.\n",
    "min_coord, max_coord = math.inf, -math.inf\n",
    "for nanobot in nanobots:\n",
    "    min_coord = min(min_coord, nanobot[0] - nanobot[3], \n",
    "        nanobot[1] - nanobot[3], nanobot[0] - nanobot[3])\n",
    "    max_coord = max(max_coord, nanobot[0] + nanobot[3], \n",
    "        nanobot[1] + nanobot[3], nanobot[0] + nanobot[3])\n",
    "print('coords', min_coord, max_coord)"
   ]
  },
  {
   "cell_type": "code",
   "execution_count": 122,
   "metadata": {},
   "outputs": [
    {
     "data": {
      "text/plain": [
       "28.121242067160633"
      ]
     },
     "execution_count": 122,
     "metadata": {},
     "output_type": "execute_result"
    }
   ],
   "source": [
    "# A cube that is 2^29 on each side would cover 1/8th of \n",
    "# the search space, therefore a 2^30 cube would cover all of it.\n",
    "math.log(291969427, 2)"
   ]
  },
  {
   "cell_type": "code",
   "execution_count": 224,
   "metadata": {},
   "outputs": [],
   "source": [
    "from collections import namedtuple\n",
    "\n",
    "# A search cube contains the coordinate of its corner (the one with \n",
    "# the smallest 3 coordinates, and a  a power-of-2 length of its edges.\n",
    "# It stores the number of bots that intersect it and the L1 distance\n",
    "# from the center of the cube to the origin. The number of bots is\n",
    "# inverted and the fields are ordered so that we can use Python's minheap\n",
    "# as a priority queue.\n",
    "SearchCube = namedtuple('SearchCube', 'bot_count dist x y z length')\n",
    "\n",
    "def make_cube(x, y, z, length, nanobots):\n",
    "    ''' Given a corner of a cube and a length, return a SearchCube object. '''\n",
    "    bot_count = 0\n",
    "    min_x, max_x = x, x + length\n",
    "    min_y, max_y = y, y + length\n",
    "    min_z, max_z = z, z + length\n",
    "    cube_corners = (\n",
    "        (x         , y         , z         ),\n",
    "        (x+length-1, y         , z         ),\n",
    "        (x         , y+length-1, z         ),\n",
    "        (x         , y         , z+length-1),\n",
    "        (x+length-1, y+length-1, z         ),\n",
    "        (x         , y+length-1, z+length-1),\n",
    "        (x+length-1, y         , z+length-1),\n",
    "        (x+length-1, y+length-1, z+length-1),\n",
    "    )\n",
    "    # Count nanobots that intersect this cube.\n",
    "    for nx, ny, nz, nr in nanobots:\n",
    "        # Check if a nanobot corner is in this cube\n",
    "        corners = ((nx-r, ny  , nz  ), (nx+r, ny   , nz  ),\n",
    "                   (nx  , ny-r, nz  ), (nx  , ny+r , nz  ),\n",
    "                   (nx  , ny  , nz-r), (nx  , ny   , nz+r))\n",
    "        for px, py, pz in corners:\n",
    "            if ((min_x <= px <= max_x) and\n",
    "                (min_y <= py <= max_y) and\n",
    "                (min_z <= pz <= max_z)):\n",
    "                bot_count -= 1\n",
    "                break\n",
    "        else:\n",
    "            # Check if a cube corner is in range of a nanobot\n",
    "            for cx, cy, cz in cube_corners:\n",
    "                if abs(nx-cx) + abs(ny-cy) + abs(nz-cz) <= nr:\n",
    "                    bot_count -= 1\n",
    "                    break\n",
    "    dist = (x + length // 2) + (y + length // 2) + (z + length // 2)\n",
    "    return SearchCube(bot_count, dist, x, y, z, length)"
   ]
  },
  {
   "cell_type": "code",
   "execution_count": 225,
   "metadata": {},
   "outputs": [
    {
     "data": {
      "text/plain": [
       "SearchCube(bot_count=0, dist=30, x=10, y=10, z=10, length=1)"
      ]
     },
     "execution_count": 225,
     "metadata": {},
     "output_type": "execute_result"
    }
   ],
   "source": [
    "make_cube(10,10,10, 1, [])"
   ]
  },
  {
   "cell_type": "code",
   "execution_count": 226,
   "metadata": {},
   "outputs": [
    {
     "data": {
      "text/plain": [
       "SearchCube(bot_count=0, dist=48, x=0, y=0, z=0, length=32)"
      ]
     },
     "execution_count": 226,
     "metadata": {},
     "output_type": "execute_result"
    }
   ],
   "source": [
    "make_cube(0,0,0,32,[])"
   ]
  },
  {
   "cell_type": "code",
   "execution_count": 227,
   "metadata": {},
   "outputs": [
    {
     "data": {
      "text/plain": [
       "SearchCube(bot_count=-1000, dist=178846919, x=-178506040, y=-141655043, z=-96576988, length=397056660)"
      ]
     },
     "execution_count": 227,
     "metadata": {},
     "output_type": "execute_result"
    }
   ],
   "source": [
    "# This is a cube that contains the centers of all nanobots.\n",
    "min_x = min(n[0] for n in nanobots)\n",
    "max_x = max(n[0] for n in nanobots)\n",
    "min_y = min(n[1] for n in nanobots)\n",
    "max_y = max(n[1] for n in nanobots)\n",
    "min_z = min(n[2] for n in nanobots)\n",
    "max_z = max(n[2] for n in nanobots)\n",
    "length = max(max_x-min_x, max_y-min_y, max_z-min_z)\n",
    "make_cube(min_x, min_y, min_z, length, nanobots)"
   ]
  },
  {
   "cell_type": "code",
   "execution_count": 228,
   "metadata": {},
   "outputs": [
    {
     "data": {
      "text/plain": [
       "SearchCube(bot_count=-957, dist=94481091, x=26794881, y=46607411, z=21078799, length=1)"
      ]
     },
     "execution_count": 228,
     "metadata": {},
     "output_type": "execute_result"
    }
   ],
   "source": [
    "# According to my previous results, this point is in range of 957 nanobots.\n",
    "make_cube(26794881, 46607411, 21078799, 1, nanobots)"
   ]
  },
  {
   "cell_type": "code",
   "execution_count": 229,
   "metadata": {},
   "outputs": [
    {
     "data": {
      "text/plain": [
       "SearchCube(bot_count=-1000, dist=0, x=-536870912, y=-536870912, z=-536870912, length=1073741824)"
      ]
     },
     "execution_count": 229,
     "metadata": {},
     "output_type": "execute_result"
    }
   ],
   "source": [
    "# This will be the cube I use to start the search. It contains all\n",
    "# 1000 nanobots and is centered on the origin.\n",
    "make_cube(-2**29, -2**29, -2**29, 2**30, nanobots)"
   ]
  },
  {
   "cell_type": "code",
   "execution_count": 231,
   "metadata": {},
   "outputs": [],
   "source": [
    "from heapq import heappush, heappop, nlargest\n",
    "import itertools\n",
    "\n",
    "def debug_heap(h):\n",
    "    h = list(h)\n",
    "    print(heappop(h), heappop(h), heappop(h))\n",
    "    \n",
    "def partition_solve(nanobots):\n",
    "    ''' Find optimal point using space partioning. '''\n",
    "    megacube = make_cube(-2**29, -2**29, -2**29, 2**30, nanobots)\n",
    "    heap = [megacube]\n",
    "    def subcube(x, y, z, l):\n",
    "        ''' Helper for making a cube and putting it on the heap. '''\n",
    "        heappush(heap, make_cube(x, y, z, l, nanobots))\n",
    "    for n in itertools.count():\n",
    "        if n % 1000 == 0:\n",
    "            print('n={} #heap={}'.format(n, len(heap)))\n",
    "        cube = heappop(heap)\n",
    "        if cube.length == 1:\n",
    "            return cube\n",
    "        # Break up into 8 smaller cubes and push them onto heap.\n",
    "        length = cube.length // 2\n",
    "        x, y, z = cube.x, cube.y, cube.z\n",
    "        subcube(x       , y       , z       , length)\n",
    "        subcube(x+length, y       , z       , length)\n",
    "        subcube(x       , y+length, z       , length)\n",
    "        subcube(x       , y       , z+length, length)\n",
    "        subcube(x+length, y+length, z       , length)\n",
    "        subcube(x       , y+length, z+length, length)\n",
    "        subcube(x+length, y       , z+length, length)\n",
    "        subcube(x+length, y+length, z+length, length)\n",
    "#         print('n={} #heap={}'.format(n, len(heap)))\n",
    "#         debug_heap(heap)\n",
    "#         if n > 3:\n",
    "#             break"
   ]
  },
  {
   "cell_type": "code",
   "execution_count": 232,
   "metadata": {},
   "outputs": [
    {
     "name": "stdout",
     "output_type": "stream",
     "text": [
      "n=0 #heap=1\n",
      "CPU times: user 3.28 s, sys: 8.62 ms, total: 3.29 s\n",
      "Wall time: 3.29 s\n",
      "SearchCube(bot_count=-977, dist=94481130, x=26794906, y=46607439, z=21078785, length=1)\n"
     ]
    }
   ],
   "source": [
    "%time solution = partition_solve(nanobots)\n",
    "print(solution)"
   ]
  },
  {
   "cell_type": "code",
   "execution_count": 233,
   "metadata": {},
   "outputs": [
    {
     "data": {
      "text/plain": [
       "977"
      ]
     },
     "execution_count": 233,
     "metadata": {},
     "output_type": "execute_result"
    }
   ],
   "source": [
    "# Check to make sure that filter_bots2() agrees with the bot count.\n",
    "filter_bots2(solution.x, solution.y, solution.z, nanobots)"
   ]
  },
  {
   "cell_type": "code",
   "execution_count": 234,
   "metadata": {},
   "outputs": [
    {
     "name": "stdout",
     "output_type": "stream",
     "text": [
      "94481130\n"
     ]
    }
   ],
   "source": [
    "print(solution.x + solution.y + solution.z)"
   ]
  }
 ],
 "metadata": {
  "kernelspec": {
   "display_name": "Python 3",
   "language": "python",
   "name": "python3"
  },
  "language_info": {
   "codemirror_mode": {
    "name": "ipython",
    "version": 3
   },
   "file_extension": ".py",
   "mimetype": "text/x-python",
   "name": "python",
   "nbconvert_exporter": "python",
   "pygments_lexer": "ipython3",
   "version": "3.7.0"
  }
 },
 "nbformat": 4,
 "nbformat_minor": 2
}
