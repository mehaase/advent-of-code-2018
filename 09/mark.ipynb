{
 "cells": [
  {
   "cell_type": "markdown",
   "metadata": {},
   "source": [
    "# Part 1"
   ]
  },
  {
   "cell_type": "code",
   "execution_count": 97,
   "metadata": {},
   "outputs": [],
   "source": [
    "# Adapted from day 5\n",
    "class Marble:\n",
    "    def __init__(self, value):\n",
    "        self.value = value\n",
    "        self.next = self\n",
    "        self.prev = self\n",
    "    \n",
    "    def __repr__(self):\n",
    "        return 'Marble<{}>'.format(self.value)\n",
    "\n",
    "    def go_right(self, n):\n",
    "        ''' Go n nodes to the right, wrapping around if needed. '''\n",
    "        node = self\n",
    "        for _ in range(n):\n",
    "            node = node.next\n",
    "        return node\n",
    "   \n",
    "    def go_left(self, n):\n",
    "        ''' Go n nodes to the left, wrapping around if needed. '''\n",
    "        node = self\n",
    "        for _ in range(n):\n",
    "            node = node.prev\n",
    "        return node\n",
    "\n",
    "    def insert_right(self, marble):\n",
    "        ''' \n",
    "        Insert a marble to the right of the current marble. \n",
    "        \n",
    "        self       ->        self.next\n",
    "        self   -> marble  -> self.next\n",
    "        '''\n",
    "        marble.prev = self\n",
    "        marble.next = self.next\n",
    "        self.next.prev = marble\n",
    "        self.next = marble\n",
    "    \n",
    "    def remove(self):\n",
    "        ''' Remove the current marble and return it. '''\n",
    "        prev, next = self.prev, self.next\n",
    "        prev.next, next.prev = next, prev\n",
    "        return self\n",
    "        \n",
    "    def visit(self):\n",
    "        beginning = self\n",
    "        marble = beginning\n",
    "        while True:\n",
    "            yield marble\n",
    "            marble = marble.next\n",
    "            if marble is beginning:\n",
    "                break\n",
    "    \n",
    "    def __repr__(self):\n",
    "        return ' '.join(str(marble.value) for marble in self.visit())"
   ]
  },
  {
   "cell_type": "code",
   "execution_count": 98,
   "metadata": {},
   "outputs": [
    {
     "data": {
      "text/plain": [
       "0"
      ]
     },
     "execution_count": 98,
     "metadata": {},
     "output_type": "execute_result"
    }
   ],
   "source": [
    "root = Marble(0)\n",
    "root"
   ]
  },
  {
   "cell_type": "code",
   "execution_count": 99,
   "metadata": {},
   "outputs": [
    {
     "data": {
      "text/plain": [
       "0 2 1"
      ]
     },
     "execution_count": 99,
     "metadata": {},
     "output_type": "execute_result"
    }
   ],
   "source": [
    "root.insert_right(Marble(1))\n",
    "root.insert_right(Marble(2))\n",
    "root"
   ]
  },
  {
   "cell_type": "code",
   "execution_count": 100,
   "metadata": {},
   "outputs": [
    {
     "data": {
      "text/plain": [
       "2"
      ]
     },
     "execution_count": 100,
     "metadata": {},
     "output_type": "execute_result"
    }
   ],
   "source": [
    "root.go_right(1).value"
   ]
  },
  {
   "cell_type": "code",
   "execution_count": 101,
   "metadata": {},
   "outputs": [
    {
     "data": {
      "text/plain": [
       "1"
      ]
     },
     "execution_count": 101,
     "metadata": {},
     "output_type": "execute_result"
    }
   ],
   "source": [
    "root.go_right(2).value"
   ]
  },
  {
   "cell_type": "code",
   "execution_count": 102,
   "metadata": {},
   "outputs": [
    {
     "data": {
      "text/plain": [
       "0"
      ]
     },
     "execution_count": 102,
     "metadata": {},
     "output_type": "execute_result"
    }
   ],
   "source": [
    "root.go_right(3).value"
   ]
  },
  {
   "cell_type": "code",
   "execution_count": 103,
   "metadata": {},
   "outputs": [
    {
     "data": {
      "text/plain": [
       "1"
      ]
     },
     "execution_count": 103,
     "metadata": {},
     "output_type": "execute_result"
    }
   ],
   "source": [
    "root.go_left(1).value"
   ]
  },
  {
   "cell_type": "code",
   "execution_count": 104,
   "metadata": {},
   "outputs": [
    {
     "data": {
      "text/plain": [
       "2"
      ]
     },
     "execution_count": 104,
     "metadata": {},
     "output_type": "execute_result"
    }
   ],
   "source": [
    "root.go_left(2).value"
   ]
  },
  {
   "cell_type": "code",
   "execution_count": 105,
   "metadata": {},
   "outputs": [
    {
     "data": {
      "text/plain": [
       "0"
      ]
     },
     "execution_count": 105,
     "metadata": {},
     "output_type": "execute_result"
    }
   ],
   "source": [
    "root.go_left(3).value"
   ]
  },
  {
   "cell_type": "code",
   "execution_count": 116,
   "metadata": {},
   "outputs": [],
   "source": [
    "def play(n_players, n_marbles, debug=False):\n",
    "    root = Marble(0)\n",
    "    current_marble = root\n",
    "    players = [0] * n_players\n",
    "    current_player = 0\n",
    "    for n in range(1, n_marbles+1):\n",
    "        new_marble = Marble(n)\n",
    "        if (n % 23) == 0:\n",
    "            players[current_player] += n\n",
    "            removed = current_marble.go_left(7).remove()\n",
    "            if removed is root:\n",
    "                # I don't this should happen\n",
    "                raise Exception(\"I don't think this should happen\")\n",
    "            players[current_player] += removed.value\n",
    "            current_marble = removed.next\n",
    "        else:\n",
    "            current_marble.go_right(1).insert_right(new_marble)\n",
    "            current_marble = new_marble\n",
    "        if debug:\n",
    "            print('[{:2}] {}'.format(current_player + 1, \n",
    "                ''.join(('({:2})' if m is current_marble else ' {:2} ').format(m.value) for m in root.visit())))\n",
    "        current_player = (current_player + 1) % n_players\n",
    "    return max(players)"
   ]
  },
  {
   "cell_type": "code",
   "execution_count": 117,
   "metadata": {},
   "outputs": [
    {
     "name": "stdout",
     "output_type": "stream",
     "text": [
      "[ 1]   0 ( 1)\n",
      "[ 2]   0 ( 2)  1 \n",
      "[ 3]   0   2   1 ( 3)\n",
      "[ 4]   0 ( 4)  2   1   3 \n",
      "[ 5]   0   4   2 ( 5)  1   3 \n",
      "[ 6]   0   4   2   5   1 ( 6)  3 \n",
      "[ 7]   0   4   2   5   1   6   3 ( 7)\n",
      "[ 8]   0 ( 8)  4   2   5   1   6   3   7 \n",
      "[ 9]   0   8   4 ( 9)  2   5   1   6   3   7 \n",
      "[ 1]   0   8   4   9   2 (10)  5   1   6   3   7 \n",
      "[ 2]   0   8   4   9   2  10   5 (11)  1   6   3   7 \n",
      "[ 3]   0   8   4   9   2  10   5  11   1 (12)  6   3   7 \n",
      "[ 4]   0   8   4   9   2  10   5  11   1  12   6 (13)  3   7 \n",
      "[ 5]   0   8   4   9   2  10   5  11   1  12   6  13   3 (14)  7 \n",
      "[ 6]   0   8   4   9   2  10   5  11   1  12   6  13   3  14   7 (15)\n",
      "[ 7]   0 (16)  8   4   9   2  10   5  11   1  12   6  13   3  14   7  15 \n",
      "[ 8]   0  16   8 (17)  4   9   2  10   5  11   1  12   6  13   3  14   7  15 \n",
      "[ 9]   0  16   8  17   4 (18)  9   2  10   5  11   1  12   6  13   3  14   7  15 \n",
      "[ 1]   0  16   8  17   4  18   9 (19)  2  10   5  11   1  12   6  13   3  14   7  15 \n",
      "[ 2]   0  16   8  17   4  18   9  19   2 (20) 10   5  11   1  12   6  13   3  14   7  15 \n",
      "[ 3]   0  16   8  17   4  18   9  19   2  20  10 (21)  5  11   1  12   6  13   3  14   7  15 \n",
      "[ 4]   0  16   8  17   4  18   9  19   2  20  10  21   5 (22) 11   1  12   6  13   3  14   7  15 \n",
      "[ 5]   0  16   8  17   4  18 (19)  2  20  10  21   5  22  11   1  12   6  13   3  14   7  15 \n",
      "[ 6]   0  16   8  17   4  18  19   2 (24) 20  10  21   5  22  11   1  12   6  13   3  14   7  15 \n",
      "[ 7]   0  16   8  17   4  18  19   2  24  20 (25) 10  21   5  22  11   1  12   6  13   3  14   7  15 \n"
     ]
    },
    {
     "data": {
      "text/plain": [
       "32"
      ]
     },
     "execution_count": 117,
     "metadata": {},
     "output_type": "execute_result"
    }
   ],
   "source": [
    "play(9, 25, debug=True)"
   ]
  },
  {
   "cell_type": "code",
   "execution_count": 118,
   "metadata": {},
   "outputs": [
    {
     "name": "stdout",
     "output_type": "stream",
     "text": [
      "8317\n"
     ]
    }
   ],
   "source": [
    "# 10 players; last marble is worth 1618 points: high score is 8317\n",
    "print(play(10, 1618))"
   ]
  },
  {
   "cell_type": "code",
   "execution_count": 119,
   "metadata": {},
   "outputs": [
    {
     "name": "stdout",
     "output_type": "stream",
     "text": [
      "146373\n"
     ]
    }
   ],
   "source": [
    "# 13 players; last marble is worth 7999 points: high score is 146373\n",
    "print(play(13, 7999))"
   ]
  },
  {
   "cell_type": "code",
   "execution_count": 120,
   "metadata": {},
   "outputs": [
    {
     "name": "stdout",
     "output_type": "stream",
     "text": [
      "2764\n"
     ]
    }
   ],
   "source": [
    "# 17 players; last marble is worth 1104 points: high score is 2764\n",
    "print(play(17, 1104))"
   ]
  },
  {
   "cell_type": "code",
   "execution_count": 121,
   "metadata": {},
   "outputs": [
    {
     "name": "stdout",
     "output_type": "stream",
     "text": [
      "54718\n"
     ]
    }
   ],
   "source": [
    "# 21 players; last marble is worth 6111 points: high score is 54718\n",
    "print(play(21, 6111))"
   ]
  },
  {
   "cell_type": "code",
   "execution_count": 122,
   "metadata": {},
   "outputs": [
    {
     "name": "stdout",
     "output_type": "stream",
     "text": [
      "37305\n"
     ]
    }
   ],
   "source": [
    "# 30 players; last marble is worth 5807 points: high score is 37305\n",
    "print(play(30, 5807))"
   ]
  },
  {
   "cell_type": "code",
   "execution_count": 123,
   "metadata": {},
   "outputs": [
    {
     "name": "stdout",
     "output_type": "stream",
     "text": [
      "413188\n"
     ]
    }
   ],
   "source": [
    "# This is the puzzle input:\n",
    "# 425 players; last marble is worth 70848 points\n",
    "print(play(425, 70848))"
   ]
  },
  {
   "cell_type": "markdown",
   "metadata": {},
   "source": [
    "# Part 2"
   ]
  },
  {
   "cell_type": "code",
   "execution_count": 125,
   "metadata": {},
   "outputs": [
    {
     "name": "stdout",
     "output_type": "stream",
     "text": [
      "3377272893\n",
      "CPU times: user 31.4 s, sys: 601 ms, total: 32 s\n",
      "Wall time: 32.1 s\n"
     ]
    }
   ],
   "source": [
    "%%time\n",
    "# What would the new winning Elf's score be if the number of \n",
    "# the last marble were 100 times larger?\n",
    "print(play(425, 70848 * 100))"
   ]
  }
 ],
 "metadata": {
  "kernelspec": {
   "display_name": "Python 3",
   "language": "python",
   "name": "python3"
  },
  "language_info": {
   "codemirror_mode": {
    "name": "ipython",
    "version": 3
   },
   "file_extension": ".py",
   "mimetype": "text/x-python",
   "name": "python",
   "nbconvert_exporter": "python",
   "pygments_lexer": "ipython3",
   "version": "3.7.0"
  }
 },
 "nbformat": 4,
 "nbformat_minor": 2
}
