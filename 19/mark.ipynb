{
 "cells": [
  {
   "cell_type": "markdown",
   "metadata": {},
   "source": [
    "# Part 1"
   ]
  },
  {
   "cell_type": "code",
   "execution_count": 13,
   "metadata": {},
   "outputs": [],
   "source": [
    "# Stolen from day 16 and modified here:\n",
    "import functools\n",
    "import operator\n",
    "\n",
    "class CpuHalt(Exception):\n",
    "    pass\n",
    "\n",
    "class Cpu:\n",
    "    def __init__(self, registers):\n",
    "        self._registers = registers\n",
    "        self._ip = 0\n",
    "        self._ip_register = None\n",
    "        self._program = None\n",
    "\n",
    "    @property\n",
    "    def registers(self):\n",
    "        return tuple(self._registers)\n",
    "\n",
    "    def program(self, text):\n",
    "        ''' Parse program text and insert it into this CPU. '''\n",
    "        lines = text.strip().split('\\n')\n",
    "        program = list()\n",
    "        ip_register = None\n",
    "        for line in lines:\n",
    "            if line.startswith('#ip'):\n",
    "                _, reg = line.split()\n",
    "                self._ip_register = int(reg)\n",
    "            else: \n",
    "                insn, a, b, c = line.split()\n",
    "                program.append((insn, int(a), int(b), int(c)))\n",
    "        self._program = program\n",
    "\n",
    "    def step(self, debug=False):\n",
    "        ''' Run next instruction and update IP. '''\n",
    "        try:\n",
    "            instruction = self._program[self._ip]\n",
    "        except IndexError:\n",
    "            raise CpuHalt() \n",
    "        self._registers[self._ip_register] = self._ip\n",
    "        if debug:\n",
    "            before = self.registers\n",
    "        op = getattr(self, instruction[0])\n",
    "        op(*instruction[1:4])\n",
    "        if debug:\n",
    "            after = self.registers\n",
    "            print('ip={:<3d} {} {} {}'.format(self._ip, before, instruction, after))\n",
    "        self._ip = self._registers[self._ip_register]\n",
    "        self._ip += 1\n",
    "    \n",
    "    def run(self, n=10_000_000, debug=False):\n",
    "        ''' Run until the CPU halts, i.e. the IP points to a non-existent\n",
    "        instruction. '''\n",
    "        try:\n",
    "            for _ in range(n):\n",
    "                self.step(debug)\n",
    "            print('Finished running {} steps.'.format(n))\n",
    "        except CpuHalt:\n",
    "            print('CPU halted. Registers={}'.format(self.registers))\n",
    "    \n",
    "    def _do_op_imm(self, op, a, b, c):\n",
    "        self._registers[c] = op(self._registers[a], b)\n",
    "        \n",
    "    def _do_op_reg(self, op, a, b, c):\n",
    "        self._registers[c] = op(self._registers[a], self._registers[b])\n",
    "\n",
    "    addi = functools.partialmethod(_do_op_imm, operator.add)\n",
    "    addr = functools.partialmethod(_do_op_reg, operator.add)\n",
    "    muli = functools.partialmethod(_do_op_imm, operator.mul)\n",
    "    mulr = functools.partialmethod(_do_op_reg, operator.mul)\n",
    "    bani = functools.partialmethod(_do_op_imm, operator.and_)\n",
    "    banr = functools.partialmethod(_do_op_reg, operator.and_)\n",
    "    bori = functools.partialmethod(_do_op_imm, operator.or_)\n",
    "    borr = functools.partialmethod(_do_op_reg, operator.or_)\n",
    "\n",
    "    def _do_cmp_reg_imm(self, cmp, a, b, c):\n",
    "        self._registers[c] = int(cmp(self._registers[a], b))\n",
    "        \n",
    "    def _do_cmp_imm_reg(self, cmp, a, b, c):\n",
    "        self._registers[c] = int(cmp(a, self._registers[b]))\n",
    "\n",
    "    def _do_cmp_reg_reg(self, cmp, a, b, c):\n",
    "        self._registers[c] = int(cmp(self._registers[a], self._registers[b]))\n",
    "\n",
    "    gtir = functools.partialmethod(_do_cmp_imm_reg, operator.gt)\n",
    "    gtri = functools.partialmethod(_do_cmp_reg_imm, operator.gt)\n",
    "    gtrr = functools.partialmethod(_do_cmp_reg_reg, operator.gt)\n",
    "    eqir = functools.partialmethod(_do_cmp_imm_reg, operator.eq)\n",
    "    eqri = functools.partialmethod(_do_cmp_reg_imm, operator.eq)\n",
    "    eqrr = functools.partialmethod(_do_cmp_reg_reg, operator.eq)\n",
    "\n",
    "    def seti(self, a, b, c):    \n",
    "        self._registers[c] = a\n",
    "        \n",
    "    def setr(self, a, b, c):\n",
    "        self._registers[c] = self._registers[a]"
   ]
  },
  {
   "cell_type": "code",
   "execution_count": 17,
   "metadata": {},
   "outputs": [
    {
     "name": "stdout",
     "output_type": "stream",
     "text": [
      "(0, 0, 0, 0, 0, 0)\n"
     ]
    }
   ],
   "source": [
    "test_text = '''#ip 0\n",
    "seti 5 0 1\n",
    "seti 6 0 2\n",
    "addi 0 1 0\n",
    "addr 1 2 3\n",
    "setr 1 0 0\n",
    "seti 8 0 4\n",
    "seti 9 0 5\n",
    "'''\n",
    "test_cpu = Cpu(registers=[0,0,0,0,0,0])\n",
    "test_cpu.program(test_text)\n",
    "print(test_cpu.registers)"
   ]
  },
  {
   "cell_type": "code",
   "execution_count": 18,
   "metadata": {},
   "outputs": [
    {
     "name": "stdout",
     "output_type": "stream",
     "text": [
      "ip=0   (0, 0, 0, 0, 0, 0) ('seti', 5, 0, 1) (0, 5, 0, 0, 0, 0)\n",
      "ip=1   (1, 5, 0, 0, 0, 0) ('seti', 6, 0, 2) (1, 5, 6, 0, 0, 0)\n",
      "ip=2   (2, 5, 6, 0, 0, 0) ('addi', 0, 1, 0) (3, 5, 6, 0, 0, 0)\n",
      "ip=4   (4, 5, 6, 0, 0, 0) ('setr', 1, 0, 0) (5, 5, 6, 0, 0, 0)\n",
      "ip=6   (6, 5, 6, 0, 0, 0) ('seti', 9, 0, 5) (6, 5, 6, 0, 0, 9)\n",
      "CPU halted. Registers=(6, 5, 6, 0, 0, 9)\n"
     ]
    }
   ],
   "source": [
    "test_cpu.run(debug=True)"
   ]
  },
  {
   "cell_type": "code",
   "execution_count": 20,
   "metadata": {},
   "outputs": [],
   "source": [
    "cpu = Cpu(registers=[0,0,0,0,0,0])\n",
    "with open('input.txt') as input_:\n",
    "    cpu.program(input_.read())"
   ]
  },
  {
   "cell_type": "code",
   "execution_count": 21,
   "metadata": {},
   "outputs": [
    {
     "name": "stdout",
     "output_type": "stream",
     "text": [
      "CPU halted. Registers=(930, 930, 1, 930, 256, 929)\n",
      "CPU times: user 14.3 s, sys: 3.53 ms, total: 14.3 s\n",
      "Wall time: 14.3 s\n"
     ]
    }
   ],
   "source": [
    "%%time\n",
    "cpu.run()"
   ]
  },
  {
   "cell_type": "markdown",
   "metadata": {},
   "source": [
    "# Part 2"
   ]
  },
  {
   "cell_type": "code",
   "execution_count": 22,
   "metadata": {},
   "outputs": [],
   "source": [
    "cpu = Cpu(registers=[1,0,0,0,0,0])\n",
    "with open('input.txt') as input_:\n",
    "    cpu.program(input_.read())"
   ]
  },
  {
   "cell_type": "code",
   "execution_count": 23,
   "metadata": {},
   "outputs": [
    {
     "name": "stdout",
     "output_type": "stream",
     "text": [
      "(1, 0, 0, 0, 0, 0)\n"
     ]
    }
   ],
   "source": [
    "print(cpu.registers)"
   ]
  },
  {
   "cell_type": "code",
   "execution_count": 24,
   "metadata": {},
   "outputs": [
    {
     "name": "stdout",
     "output_type": "stream",
     "text": [
      "CPU times: user 2 µs, sys: 0 ns, total: 2 µs\n",
      "Wall time: 5.25 µs\n"
     ]
    }
   ],
   "source": [
    "%%time\n",
    "# This cell doesn't work. See below.\n",
    "# cpu.run()"
   ]
  },
  {
   "cell_type": "code",
   "execution_count": 25,
   "metadata": {},
   "outputs": [
    {
     "name": "stdout",
     "output_type": "stream",
     "text": [
      "Finished running 10000000 steps.\n",
      "CPU times: user 20.4 s, sys: 3.96 ms, total: 20.4 s\n",
      "Wall time: 20.4 s\n"
     ]
    }
   ],
   "source": [
    "%%time\n",
    "# The CPU can run hundreds of millions of instructions without halting, which makes \n",
    "# me think that this problem involves some huge loop and I'm expected to predict the\n",
    "# answer rather than running the CPU until it halts. So I think I will run it for\n",
    "# a while, then break and single-step through to see what's happening.\n",
    "cpu.run()"
   ]
  },
  {
   "cell_type": "code",
   "execution_count": 26,
   "metadata": {},
   "outputs": [
    {
     "name": "stdout",
     "output_type": "stream",
     "text": [
      "ip=6   (0, 1249998, 0, 1, 6, 10551329) ('addi', 4, 1, 4) (0, 1249998, 0, 1, 7, 10551329)\n",
      "ip=8   (0, 1249998, 0, 1, 8, 10551329) ('addi', 1, 1, 1) (0, 1249999, 0, 1, 8, 10551329)\n",
      "ip=9   (0, 1249999, 0, 1, 9, 10551329) ('gtrr', 1, 5, 2) (0, 1249999, 0, 1, 9, 10551329)\n",
      "ip=10  (0, 1249999, 0, 1, 10, 10551329) ('addr', 4, 2, 4) (0, 1249999, 0, 1, 10, 10551329)\n",
      "ip=11  (0, 1249999, 0, 1, 11, 10551329) ('seti', 2, 9, 4) (0, 1249999, 0, 1, 2, 10551329)\n",
      "ip=3   (0, 1249999, 0, 1, 3, 10551329) ('mulr', 3, 1, 2) (0, 1249999, 1249999, 1, 3, 10551329)\n",
      "ip=4   (0, 1249999, 1249999, 1, 4, 10551329) ('eqrr', 2, 5, 2) (0, 1249999, 0, 1, 4, 10551329)\n",
      "ip=5   (0, 1249999, 0, 1, 5, 10551329) ('addr', 2, 4, 4) (0, 1249999, 0, 1, 5, 10551329)\n",
      "ip=6   (0, 1249999, 0, 1, 6, 10551329) ('addi', 4, 1, 4) (0, 1249999, 0, 1, 7, 10551329)\n",
      "ip=8   (0, 1249999, 0, 1, 8, 10551329) ('addi', 1, 1, 1) (0, 1250000, 0, 1, 8, 10551329)\n",
      "ip=9   (0, 1250000, 0, 1, 9, 10551329) ('gtrr', 1, 5, 2) (0, 1250000, 0, 1, 9, 10551329)\n",
      "ip=10  (0, 1250000, 0, 1, 10, 10551329) ('addr', 4, 2, 4) (0, 1250000, 0, 1, 10, 10551329)\n",
      "ip=11  (0, 1250000, 0, 1, 11, 10551329) ('seti', 2, 9, 4) (0, 1250000, 0, 1, 2, 10551329)\n",
      "ip=3   (0, 1250000, 0, 1, 3, 10551329) ('mulr', 3, 1, 2) (0, 1250000, 1250000, 1, 3, 10551329)\n",
      "ip=4   (0, 1250000, 1250000, 1, 4, 10551329) ('eqrr', 2, 5, 2) (0, 1250000, 0, 1, 4, 10551329)\n",
      "ip=5   (0, 1250000, 0, 1, 5, 10551329) ('addr', 2, 4, 4) (0, 1250000, 0, 1, 5, 10551329)\n",
      "ip=6   (0, 1250000, 0, 1, 6, 10551329) ('addi', 4, 1, 4) (0, 1250000, 0, 1, 7, 10551329)\n",
      "ip=8   (0, 1250000, 0, 1, 8, 10551329) ('addi', 1, 1, 1) (0, 1250001, 0, 1, 8, 10551329)\n",
      "ip=9   (0, 1250001, 0, 1, 9, 10551329) ('gtrr', 1, 5, 2) (0, 1250001, 0, 1, 9, 10551329)\n",
      "ip=10  (0, 1250001, 0, 1, 10, 10551329) ('addr', 4, 2, 4) (0, 1250001, 0, 1, 10, 10551329)\n",
      "ip=11  (0, 1250001, 0, 1, 11, 10551329) ('seti', 2, 9, 4) (0, 1250001, 0, 1, 2, 10551329)\n",
      "ip=3   (0, 1250001, 0, 1, 3, 10551329) ('mulr', 3, 1, 2) (0, 1250001, 1250001, 1, 3, 10551329)\n",
      "ip=4   (0, 1250001, 1250001, 1, 4, 10551329) ('eqrr', 2, 5, 2) (0, 1250001, 0, 1, 4, 10551329)\n",
      "ip=5   (0, 1250001, 0, 1, 5, 10551329) ('addr', 2, 4, 4) (0, 1250001, 0, 1, 5, 10551329)\n",
      "ip=6   (0, 1250001, 0, 1, 6, 10551329) ('addi', 4, 1, 4) (0, 1250001, 0, 1, 7, 10551329)\n",
      "ip=8   (0, 1250001, 0, 1, 8, 10551329) ('addi', 1, 1, 1) (0, 1250002, 0, 1, 8, 10551329)\n",
      "ip=9   (0, 1250002, 0, 1, 9, 10551329) ('gtrr', 1, 5, 2) (0, 1250002, 0, 1, 9, 10551329)\n",
      "ip=10  (0, 1250002, 0, 1, 10, 10551329) ('addr', 4, 2, 4) (0, 1250002, 0, 1, 10, 10551329)\n",
      "ip=11  (0, 1250002, 0, 1, 11, 10551329) ('seti', 2, 9, 4) (0, 1250002, 0, 1, 2, 10551329)\n",
      "ip=3   (0, 1250002, 0, 1, 3, 10551329) ('mulr', 3, 1, 2) (0, 1250002, 1250002, 1, 3, 10551329)\n",
      "ip=4   (0, 1250002, 1250002, 1, 4, 10551329) ('eqrr', 2, 5, 2) (0, 1250002, 0, 1, 4, 10551329)\n",
      "ip=5   (0, 1250002, 0, 1, 5, 10551329) ('addr', 2, 4, 4) (0, 1250002, 0, 1, 5, 10551329)\n",
      "ip=6   (0, 1250002, 0, 1, 6, 10551329) ('addi', 4, 1, 4) (0, 1250002, 0, 1, 7, 10551329)\n",
      "ip=8   (0, 1250002, 0, 1, 8, 10551329) ('addi', 1, 1, 1) (0, 1250003, 0, 1, 8, 10551329)\n",
      "ip=9   (0, 1250003, 0, 1, 9, 10551329) ('gtrr', 1, 5, 2) (0, 1250003, 0, 1, 9, 10551329)\n",
      "ip=10  (0, 1250003, 0, 1, 10, 10551329) ('addr', 4, 2, 4) (0, 1250003, 0, 1, 10, 10551329)\n",
      "ip=11  (0, 1250003, 0, 1, 11, 10551329) ('seti', 2, 9, 4) (0, 1250003, 0, 1, 2, 10551329)\n",
      "ip=3   (0, 1250003, 0, 1, 3, 10551329) ('mulr', 3, 1, 2) (0, 1250003, 1250003, 1, 3, 10551329)\n",
      "ip=4   (0, 1250003, 1250003, 1, 4, 10551329) ('eqrr', 2, 5, 2) (0, 1250003, 0, 1, 4, 10551329)\n",
      "ip=5   (0, 1250003, 0, 1, 5, 10551329) ('addr', 2, 4, 4) (0, 1250003, 0, 1, 5, 10551329)\n",
      "ip=6   (0, 1250003, 0, 1, 6, 10551329) ('addi', 4, 1, 4) (0, 1250003, 0, 1, 7, 10551329)\n",
      "ip=8   (0, 1250003, 0, 1, 8, 10551329) ('addi', 1, 1, 1) (0, 1250004, 0, 1, 8, 10551329)\n",
      "ip=9   (0, 1250004, 0, 1, 9, 10551329) ('gtrr', 1, 5, 2) (0, 1250004, 0, 1, 9, 10551329)\n",
      "ip=10  (0, 1250004, 0, 1, 10, 10551329) ('addr', 4, 2, 4) (0, 1250004, 0, 1, 10, 10551329)\n",
      "ip=11  (0, 1250004, 0, 1, 11, 10551329) ('seti', 2, 9, 4) (0, 1250004, 0, 1, 2, 10551329)\n",
      "ip=3   (0, 1250004, 0, 1, 3, 10551329) ('mulr', 3, 1, 2) (0, 1250004, 1250004, 1, 3, 10551329)\n",
      "ip=4   (0, 1250004, 1250004, 1, 4, 10551329) ('eqrr', 2, 5, 2) (0, 1250004, 0, 1, 4, 10551329)\n",
      "ip=5   (0, 1250004, 0, 1, 5, 10551329) ('addr', 2, 4, 4) (0, 1250004, 0, 1, 5, 10551329)\n",
      "ip=6   (0, 1250004, 0, 1, 6, 10551329) ('addi', 4, 1, 4) (0, 1250004, 0, 1, 7, 10551329)\n",
      "ip=8   (0, 1250004, 0, 1, 8, 10551329) ('addi', 1, 1, 1) (0, 1250005, 0, 1, 8, 10551329)\n",
      "Finished running 50 steps.\n"
     ]
    }
   ],
   "source": [
    "# Now the CPU has run for 10M steps without halting. Lets run the next 50 and see\n",
    "# if there is a pattern.\n",
    "cpu.run(n=50, debug=True)"
   ]
  },
  {
   "cell_type": "markdown",
   "metadata": {},
   "source": [
    "There is clearly a loop: 3,4,5,6,8,9,10,11 (skips 7!).\n",
    "\n",
    "Here are the contents of the loop cleaned up. I've added registers names to make the\n",
    "pseudocode below clearer:\n",
    "\n",
    "            0  1        2        3  4   5\n",
    "            A  B        C        D  IP  F\n",
    "           --------------------------------------\n",
    "    ip=3   (0, 1249999, 0,       1, 3,  10551329)  ('mulr', 3, 1, 2)\n",
    "    ip=4   (0, 1249999, 1249999, 1, 4,  10551329)  ('eqrr', 2, 5, 2)  \n",
    "    ip=5   (0, 1249999, 0,       1, 5,  10551329)  ('addr', 2, 4, 4)  \n",
    "    ip=6   (0, 1249999, 0,       1, 6,  10551329)  ('addi', 4, 1, 4)  \n",
    "    ip=8   (0, 1249999, 0,       1, 8,  10551329)  ('addi', 1, 1, 1)  \n",
    "    ip=9   (0, 1250000, 0,       1, 9,  10551329)  ('gtrr', 1, 5, 2)\n",
    "    ip=10  (0, 1250000, 0,       1, 10, 10551329)  ('addr', 4, 2, 4)\n",
    "    ip=11  (0, 1250000, 0,       1, 11, 10551329)  ('seti', 2, 9, 4)\n",
    "\n",
    "    ip=3   (0, 1250000, 0,       1, 3,  10551329)  ('mulr', 3, 1, 2)\n",
    "    ip=4   (0, 1250000, 1250000, 1, 4,  10551329)  ('eqrr', 2, 5, 2)\n",
    "    ip=5   (0, 1250000, 0,       1, 5,  10551329)  ('addr', 2, 4, 4)\n",
    "    ip=6   (0, 1250000, 0,       1, 6,  10551329)  ('addi', 4, 1, 4)\n",
    "    ip=8   (0, 1250000, 0,       1, 8,  10551329)  ('addi', 1, 1, 1)\n",
    "    ip=9   (0, 1250001, 0,       1, 9,  10551329)  ('gtrr', 1, 5, 2)\n",
    "    ip=10  (0, 1250001, 0,       1, 10, 10551329)  ('addr', 4, 2, 4)\n",
    "    ip=11  (0, 1250001, 0,       1, 11, 10551329)  ('seti', 2, 9, 4)\n",
    "\n",
    "It's worth nothing that register B appears to be incrementing, while the other\n",
    "registers stay constant or step through a repeating sequence. Also, we ran 10M\n",
    "steps and the B register is 1.25M, indicating it increments once every 8 steps,\n",
    "which is exactly how long this loop is. This suggests that the CPU has spent\n",
    "almost all of its time inside this loop.\n",
    "\n",
    "Here's pseudocode for the program.\n",
    "\n",
    "    00  IP += 16 // Jump to init_f\n",
    "                 // Notice that this would have no effect in part 1, because\n",
    "                 // this was not the IP register in part 1.\n",
    "                 \n",
    "    main:\n",
    "    \n",
    "    01  D = 1    // Initialize B and D to 1\n",
    "    02  B = 1\n",
    "    \n",
    "    loop1:\n",
    "    \n",
    "    03  C = D * B                // D is always 1, so this is copy B → C\n",
    "    04  C = (C==F) ? 1 : 0\n",
    "    05  IP += C                  // If F==D*B, then jump to 7\n",
    "    06  IP += 1                  // Jump to 8\n",
    "    07  A += D                   // A += D\n",
    "    08  B += 1\n",
    "    09  C = (B > F) ? 1 : 0\n",
    "    10  IP += C                  // If B>F, then jump to 12\n",
    "    11  IP = 2                   // Goto loop1\n",
    "    \n",
    "    loop2:\n",
    "    \n",
    "    12 D += 1      // D++\n",
    "    13 C = (D > F) ? 1 : 0\n",
    "    14 IP += C     // If D > F, Jump to 16\n",
    "    15 IP = 1      // Jump to 2\n",
    "    16 IP *= IP    // Halt: IP = 16*16 = 256\n",
    "    \n",
    "    init_f:\n",
    "    \n",
    "    17  F += 2\n",
    "    18  F *= F     // F = F^2\n",
    "    19  F *= IP    // F *= 19\n",
    "    20  F *= 11\n",
    "    21  C += 4\n",
    "    22  C *= IP    // C *= 22\n",
    "    23  C += 5\n",
    "    24  F += C\n",
    "    25  IP += A    // A is initialized to 1 before the program starts\n",
    "                   // So this jumps to 27\n",
    "    26  IP = 0     // Jump to main (I don't think this ever gets executed)\n",
    "    27  C = IP     // C = 27\n",
    "    28  C *= IP    // C *= 28\n",
    "    29  C += IP    // C += 29\n",
    "    30  C *= IP    // C *= 30\n",
    "    31  C *= 14    // C *= 14\n",
    "    32  C *= IP    // C *= 32\n",
    "    33  F += C\n",
    "    34  A = 0\n",
    "    35  IP = 0     // Jump to main\n",
    "\n",
    "It looks like the code has three lines of initialization (lines 0-2), a loop (lines 3-11), and a\n",
    "function to initialize f (lines 17-35). To confirm that my pseudo code is correct, we can trace the initialization of F and confirm that it matches the value shown in the steps above."
   ]
  },
  {
   "cell_type": "code",
   "execution_count": 27,
   "metadata": {},
   "outputs": [
    {
     "name": "stdout",
     "output_type": "stream",
     "text": [
      "836\n"
     ]
    }
   ],
   "source": [
    "F = 0\n",
    "F += 2\n",
    "F *= F\n",
    "F *= 19\n",
    "F *= 11\n",
    "print(F)"
   ]
  },
  {
   "cell_type": "code",
   "execution_count": 28,
   "metadata": {},
   "outputs": [
    {
     "name": "stdout",
     "output_type": "stream",
     "text": [
      "93\n"
     ]
    }
   ],
   "source": [
    "C = 0\n",
    "C += 4\n",
    "C *= 22\n",
    "C += 5\n",
    "print(C)"
   ]
  },
  {
   "cell_type": "code",
   "execution_count": 29,
   "metadata": {},
   "outputs": [
    {
     "name": "stdout",
     "output_type": "stream",
     "text": [
      "929\n"
     ]
    }
   ],
   "source": [
    "F += C\n",
    "print(F)"
   ]
  },
  {
   "cell_type": "code",
   "execution_count": 30,
   "metadata": {},
   "outputs": [
    {
     "name": "stdout",
     "output_type": "stream",
     "text": [
      "10550400\n"
     ]
    }
   ],
   "source": [
    "C = 27\n",
    "C *= 28\n",
    "C += 29\n",
    "C *= 30\n",
    "C *= 14\n",
    "C *= 32\n",
    "print(C)"
   ]
  },
  {
   "cell_type": "code",
   "execution_count": 31,
   "metadata": {},
   "outputs": [
    {
     "name": "stdout",
     "output_type": "stream",
     "text": [
      "10551329\n"
     ]
    }
   ],
   "source": [
    "F += C\n",
    "print(F)"
   ]
  },
  {
   "cell_type": "markdown",
   "metadata": {},
   "source": [
    "The code appears to contain nested loops. The inner loop1 (lines 3-11) increments B until it is greater than F. Then outer loop2 (lines 12-16) increments D, sets B back to 1, and goes back into loop1. So these loops appear to execute F^2 times, i.e. 10,551,329 * 10,551,329 = 111,330,543,666,241, which is completely infeasible to execute.\n",
    "\n",
    "The value of interest is A, and A is only updated in one place (line 7), which is only executed\n",
    "when F == D * B. When that is true, then A += D. I think this is finding factors of F in the most ridiculously slow way possible, and storing the sum in A.\n",
    "\n",
    "I used [this website](https://www.numberempire.com/numberfactorizer.php) to factorize 10,551,329 and got 137 and 77,017, both of which are prime. So A should be the sum of these two numbers."
   ]
  },
  {
   "cell_type": "code",
   "execution_count": 32,
   "metadata": {},
   "outputs": [
    {
     "data": {
      "text/plain": [
       "77154"
      ]
     },
     "execution_count": 32,
     "metadata": {},
     "output_type": "execute_result"
    }
   ],
   "source": [
    "# Wrong, too low!\n",
    "137 + 77017"
   ]
  },
  {
   "cell_type": "code",
   "execution_count": 33,
   "metadata": {},
   "outputs": [
    {
     "data": {
      "text/plain": [
       "10628484"
      ]
     },
     "execution_count": 33,
     "metadata": {},
     "output_type": "execute_result"
    }
   ],
   "source": [
    "# Whoops, I need to add in the trivial factors!\n",
    "1 + 137 + 77017 + 10551329"
   ]
  }
 ],
 "metadata": {
  "kernelspec": {
   "display_name": "Python 3",
   "language": "python",
   "name": "python3"
  },
  "language_info": {
   "codemirror_mode": {
    "name": "ipython",
    "version": 3
   },
   "file_extension": ".py",
   "mimetype": "text/x-python",
   "name": "python",
   "nbconvert_exporter": "python",
   "pygments_lexer": "ipython3",
   "version": "3.6.7"
  }
 },
 "nbformat": 4,
 "nbformat_minor": 2
}
