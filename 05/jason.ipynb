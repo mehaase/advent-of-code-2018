{
 "cells": [
  {
   "cell_type": "code",
   "execution_count": 100,
   "metadata": {
    "collapsed": true
   },
   "outputs": [],
   "source": [
    "import re"
   ]
  },
  {
   "cell_type": "code",
   "execution_count": null,
   "metadata": {
    "collapsed": true
   },
   "outputs": [],
   "source": []
  },
  {
   "cell_type": "code",
   "execution_count": 101,
   "metadata": {
    "collapsed": true
   },
   "outputs": [],
   "source": [
    "with open('jason.1.input') as f:\n",
    "    data1 = f.read()"
   ]
  },
  {
   "cell_type": "code",
   "execution_count": 102,
   "metadata": {
    "collapsed": false
   },
   "outputs": [],
   "source": [
    "def react(polymer):\n",
    "    i=0\n",
    "    data_arr = list(polymer)\n",
    "    while i<len(data_arr)-1:\n",
    "        if data_arr[i]!=data_arr[i+1] and data_arr[i].lower()==data_arr[i+1].lower():\n",
    "            del data_arr[i+1]\n",
    "            del data_arr[i]        \n",
    "            i = max(0, i-1)\n",
    "            continue\n",
    "        else:\n",
    "            i += 1\n",
    "    return len(data_arr),data_arr"
   ]
  },
  {
   "cell_type": "code",
   "execution_count": 103,
   "metadata": {
    "collapsed": false
   },
   "outputs": [
    {
     "name": "stdout",
     "output_type": "stream",
     "text": [
      "10708\n"
     ]
    }
   ],
   "source": [
    "print(react(data1)[0])"
   ]
  },
  {
   "cell_type": "code",
   "execution_count": 104,
   "metadata": {
    "collapsed": false
   },
   "outputs": [],
   "source": [
    "with open('jason.2.input') as f:\n",
    "    data2 = f.read()"
   ]
  },
  {
   "cell_type": "code",
   "execution_count": 106,
   "metadata": {
    "collapsed": false
   },
   "outputs": [
    {
     "name": "stdout",
     "output_type": "stream",
     "text": [
      "5330\n"
     ]
    }
   ],
   "source": [
    "shortest = len(data2)\n",
    "for i in range(97,123):\n",
    "    d = re.sub(\"[{lower}{upper}]\".format(lower=chr(i),upper=chr(i).upper()),'',data2)\n",
    "    l, poly = react(d)\n",
    "    shortest = l if l < shortest else shortest\n",
    "print(shortest)"
   ]
  }
 ],
 "metadata": {
  "kernelspec": {
   "display_name": "Python 3",
   "language": "python",
   "name": "python3"
  },
  "language_info": {
   "codemirror_mode": {
    "name": "ipython",
    "version": 3
   },
   "file_extension": ".py",
   "mimetype": "text/x-python",
   "name": "python",
   "nbconvert_exporter": "python",
   "pygments_lexer": "ipython3",
   "version": "3.5.4"
  }
 },
 "nbformat": 4,
 "nbformat_minor": 2
}
