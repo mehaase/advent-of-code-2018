{
 "cells": [
  {
   "cell_type": "markdown",
   "metadata": {},
   "source": [
    "# Part 1"
   ]
  },
  {
   "cell_type": "code",
   "execution_count": 1,
   "metadata": {},
   "outputs": [],
   "source": [
    "class CharNode:\n",
    "    def __init__(self, char, prev):\n",
    "        self.char = char\n",
    "        self.prev = prev\n",
    "        self.next = None\n",
    "    \n",
    "    def __repr__(self):\n",
    "        return 'Node({})'.format(self.char)\n",
    "\n",
    "    def remove(self):\n",
    "        prev, next = self.prev, self.next\n",
    "        if prev is not None:\n",
    "            prev.next = next\n",
    "        if next is not None:\n",
    "            next.prev = prev\n",
    "    \n",
    "class CharList:\n",
    "    def __init__(self, s):\n",
    "        self.root = CharNode(s[0], None)\n",
    "        prev = self.root\n",
    "        for i in range(1, len(s)):\n",
    "            next_ = CharNode(s[i], prev)\n",
    "            prev.next = next_\n",
    "            prev = next_\n",
    "    \n",
    "    def clone(self):\n",
    "        return CharList(''.join(node.char for node in self.visit()))\n",
    "    \n",
    "    def remove(self, node):\n",
    "        if node is self.root:\n",
    "            self.root = node.next\n",
    "        node.remove()\n",
    "    \n",
    "    def visit(self):\n",
    "        node = self.root\n",
    "        while node:\n",
    "            yield node\n",
    "            node = node.next\n",
    "    \n",
    "    def __len__(self):\n",
    "        len = 0\n",
    "        for _ in self.visit():\n",
    "            len += 1\n",
    "        return len\n",
    "    \n",
    "    def __repr__(self):\n",
    "        return '→'.join(node.char for node in self.visit())"
   ]
  },
  {
   "cell_type": "code",
   "execution_count": 2,
   "metadata": {},
   "outputs": [
    {
     "name": "stdout",
     "output_type": "stream",
     "text": [
      "A→B→C→D→E→F\n",
      "6\n"
     ]
    }
   ],
   "source": [
    "cl = CharList('ABCDEF')\n",
    "print(cl)\n",
    "print(len(cl))"
   ]
  },
  {
   "cell_type": "code",
   "execution_count": 3,
   "metadata": {},
   "outputs": [
    {
     "data": {
      "text/plain": [
       "'C'"
      ]
     },
     "execution_count": 3,
     "metadata": {},
     "output_type": "execute_result"
    }
   ],
   "source": [
    "cl.root.next.next.char"
   ]
  },
  {
   "cell_type": "code",
   "execution_count": 4,
   "metadata": {},
   "outputs": [
    {
     "name": "stdout",
     "output_type": "stream",
     "text": [
      "A→B→D→E→F\n",
      "5\n"
     ]
    }
   ],
   "source": [
    "cl.remove(cl.root.next.next)\n",
    "print(cl)\n",
    "print(len(cl))"
   ]
  },
  {
   "cell_type": "code",
   "execution_count": 5,
   "metadata": {},
   "outputs": [
    {
     "name": "stdout",
     "output_type": "stream",
     "text": [
      "B→D→E→F\n",
      "4\n"
     ]
    }
   ],
   "source": [
    "cl.remove(cl.root)\n",
    "print(cl)\n",
    "print(len(cl))"
   ]
  },
  {
   "cell_type": "code",
   "execution_count": 6,
   "metadata": {},
   "outputs": [
    {
     "name": "stdout",
     "output_type": "stream",
     "text": [
      "B→D→E\n",
      "3\n"
     ]
    }
   ],
   "source": [
    "cl.remove(cl.root.next.next.next)\n",
    "print(cl)\n",
    "print(len(cl))"
   ]
  },
  {
   "cell_type": "code",
   "execution_count": 7,
   "metadata": {},
   "outputs": [],
   "source": [
    "def react(cl):\n",
    "    ''' This doesn't handle polymers that reduce to nothing! '''\n",
    "    prev = cl.root\n",
    "    next = cl.root.next\n",
    "    count = 0\n",
    "    while next:\n",
    "        if abs(ord(prev.char) - ord(next.char)) == 0x20:\n",
    "            cl.remove(prev)\n",
    "            cl.remove(next)\n",
    "            prev = prev.prev or cl.root\n",
    "            next = next.next\n",
    "        else:\n",
    "            prev, next = next, next.next"
   ]
  },
  {
   "cell_type": "code",
   "execution_count": 8,
   "metadata": {},
   "outputs": [
    {
     "name": "stdout",
     "output_type": "stream",
     "text": [
      "a→b→B→A→c\n",
      "c\n"
     ]
    }
   ],
   "source": [
    "cl = CharList('abBAc')\n",
    "print(cl)\n",
    "react(cl)\n",
    "print(cl)"
   ]
  },
  {
   "cell_type": "code",
   "execution_count": 9,
   "metadata": {},
   "outputs": [
    {
     "name": "stdout",
     "output_type": "stream",
     "text": [
      "a→b→A→B\n",
      "a→b→A→B\n"
     ]
    }
   ],
   "source": [
    "cl = CharList('abAB')\n",
    "print(cl)\n",
    "react(cl)\n",
    "print(cl)"
   ]
  },
  {
   "cell_type": "code",
   "execution_count": 10,
   "metadata": {},
   "outputs": [
    {
     "name": "stdout",
     "output_type": "stream",
     "text": [
      "a→a→b→A→A→B\n",
      "a→a→b→A→A→B\n"
     ]
    }
   ],
   "source": [
    "cl = CharList('aabAAB')\n",
    "print(cl)\n",
    "react(cl)\n",
    "print(cl)"
   ]
  },
  {
   "cell_type": "code",
   "execution_count": 11,
   "metadata": {},
   "outputs": [
    {
     "name": "stdout",
     "output_type": "stream",
     "text": [
      "d→a→b→A→c→C→a→C→B→A→c→C→c→a→D→A\n",
      "d→a→b→C→B→A→c→a→D→A\n",
      "10\n"
     ]
    }
   ],
   "source": [
    "cl = CharList('dabAcCaCBAcCcaDA')\n",
    "print(cl)\n",
    "react(cl)\n",
    "print(cl)\n",
    "print(len(cl))"
   ]
  },
  {
   "cell_type": "code",
   "execution_count": 12,
   "metadata": {},
   "outputs": [
    {
     "name": "stdout",
     "output_type": "stream",
     "text": [
      "a→a→A→A→C→D→E→F\n",
      "C→D→E→F\n"
     ]
    }
   ],
   "source": [
    "cl = CharList('aaAACDEF')\n",
    "print(cl)\n",
    "react(cl)\n",
    "print(cl)"
   ]
  },
  {
   "cell_type": "code",
   "execution_count": 13,
   "metadata": {},
   "outputs": [],
   "source": [
    "with open('input.txt') as input_:\n",
    "    polymer = input_.read().strip()"
   ]
  },
  {
   "cell_type": "code",
   "execution_count": 14,
   "metadata": {},
   "outputs": [
    {
     "name": "stdout",
     "output_type": "stream",
     "text": [
      "50000\n",
      "9704\n"
     ]
    }
   ],
   "source": [
    "cl = CharList(polymer)\n",
    "print(len(cl))\n",
    "react(cl)\n",
    "print(len(cl))"
   ]
  },
  {
   "cell_type": "markdown",
   "metadata": {},
   "source": [
    "# Part 2"
   ]
  },
  {
   "cell_type": "code",
   "execution_count": 15,
   "metadata": {},
   "outputs": [
    {
     "name": "stdout",
     "output_type": "stream",
     "text": [
      "a→b→A→c\n",
      "a→b→B→A→c\n"
     ]
    }
   ],
   "source": [
    "# Added a clone() method to CL. Let's try it out.\n",
    "cl1 = CharList('abBAc')\n",
    "cl2 = cl1.clone()\n",
    "cl2.remove(cl1.root.next.next)\n",
    "print(cl1)\n",
    "print(cl2)"
   ]
  },
  {
   "cell_type": "code",
   "execution_count": 16,
   "metadata": {},
   "outputs": [],
   "source": [
    "import string\n",
    "\n",
    "def shortest_polymer(cl):\n",
    "    shortest = len(cl)\n",
    "    for c in string.ascii_lowercase:\n",
    "        print(c)\n",
    "        cl2 = cl.clone()\n",
    "        for node in cl2.visit():\n",
    "            if node.char.lower() == c:\n",
    "                node.remove()\n",
    "        react(cl2)\n",
    "        l = len(cl2)\n",
    "        if l < shortest:\n",
    "            shortest = l\n",
    "        del cl2\n",
    "    return shortest"
   ]
  },
  {
   "cell_type": "code",
   "execution_count": 17,
   "metadata": {},
   "outputs": [
    {
     "name": "stdout",
     "output_type": "stream",
     "text": [
      "50000\n",
      "a\n",
      "b\n",
      "c\n",
      "d\n",
      "e\n",
      "f\n",
      "g\n",
      "h\n",
      "i\n",
      "j\n",
      "k\n",
      "l\n",
      "m\n",
      "n\n",
      "o\n",
      "p\n",
      "q\n",
      "r\n",
      "s\n",
      "t\n",
      "u\n",
      "v\n",
      "w\n",
      "x\n",
      "y\n",
      "z\n",
      "6942\n"
     ]
    }
   ],
   "source": [
    "cl = CharList(polymer)\n",
    "print(len(cl))\n",
    "print(shortest_polymer(cl))"
   ]
  }
 ],
 "metadata": {
  "kernelspec": {
   "display_name": "Python 3",
   "language": "python",
   "name": "python3"
  },
  "language_info": {
   "codemirror_mode": {
    "name": "ipython",
    "version": 3
   },
   "file_extension": ".py",
   "mimetype": "text/x-python",
   "name": "python",
   "nbconvert_exporter": "python",
   "pygments_lexer": "ipython3",
   "version": "3.6.7"
  }
 },
 "nbformat": 4,
 "nbformat_minor": 2
}
