{
 "cells": [
  {
   "cell_type": "markdown",
   "metadata": {},
   "source": [
    "# Part 1"
   ]
  },
  {
   "cell_type": "code",
   "execution_count": 1,
   "metadata": {},
   "outputs": [],
   "source": [
    "# Taken from day 17 and modified for today.\n",
    "def render_map(map_):\n",
    "    ''' Render a section of the [infinite] map. '''\n",
    "    min_x = min(coord[0] for coord in map_.keys())\n",
    "    max_x = max(coord[0] for coord in map_.keys())\n",
    "    min_y = min(coord[1] for coord in map_.keys())\n",
    "    max_y = max(coord[1] for coord in map_.keys())\n",
    "    render = ''\n",
    "    for y in range(min_y, max_y+1):\n",
    "        render += ''.join('X' if x==0 and y==0 else str(map_.get((x,y),' '))\n",
    "                          for x in range(min_x, max_x+1))\n",
    "        render += '\\n'\n",
    "    return render\n",
    "\n",
    "def print_map(map_):\n",
    "    print(render_map(map_))"
   ]
  },
  {
   "cell_type": "code",
   "execution_count": 2,
   "metadata": {},
   "outputs": [],
   "source": [
    "def create_map():\n",
    "    ''' Create a blank map with the intial room at 0,0. '''\n",
    "    return {\n",
    "        (-1,-1): '#', ( 0,-1): '?', ( 1,-1): '#',\n",
    "        (-1, 0): '?', ( 0, 0): '.', ( 1, 0): '?',\n",
    "        (-1, 1): '#', ( 0, 1): '?', ( 1, 1): '#',\n",
    "    }"
   ]
  },
  {
   "cell_type": "code",
   "execution_count": 3,
   "metadata": {},
   "outputs": [],
   "source": [
    "def fill_walls(map_):\n",
    "    ''' Replace new map where ? is replaced with #. '''\n",
    "    return {(x, y):('#' if char == '?' else char) for (x,y), char in map_.items()}"
   ]
  },
  {
   "cell_type": "code",
   "execution_count": 4,
   "metadata": {},
   "outputs": [
    {
     "name": "stdout",
     "output_type": "stream",
     "text": [
      "#?#\n",
      "?X?\n",
      "#?#\n",
      "\n",
      "###\n",
      "#X#\n",
      "###\n",
      "\n"
     ]
    }
   ],
   "source": [
    "test_map = create_map()\n",
    "print_map(test_map)\n",
    "print_map(fill_walls(test_map))"
   ]
  },
  {
   "cell_type": "code",
   "execution_count": 5,
   "metadata": {},
   "outputs": [],
   "source": [
    "class Symbol:\n",
    "    def __init__(self, name):\n",
    "        self.name = name\n",
    "        \n",
    "    def __repr__(self):\n",
    "        return 'Symbol({})'.format(self.name)\n",
    "\n",
    "OPEN = Symbol('OPEN')\n",
    "PIPE = Symbol('PIPE')\n",
    "CLOSE = Symbol('CLOSE')\n",
    "    \n",
    "def lex_regex(regex):\n",
    "    ''' Split regex into a sequence of tokens. Ignores start and end specifiers: ^$. '''\n",
    "    tokens = list()\n",
    "    current = list()\n",
    "    for char in regex:\n",
    "        if char in 'NESW':\n",
    "            current.append(char)\n",
    "            continue\n",
    "        if current:\n",
    "            tokens.append(''.join(current))\n",
    "            current = list()\n",
    "        if char == '(':\n",
    "            tokens.append(OPEN)\n",
    "        elif char == '|':\n",
    "            tokens.append(PIPE)\n",
    "        elif char == ')':\n",
    "            tokens.append(CLOSE)\n",
    "    return tokens"
   ]
  },
  {
   "cell_type": "code",
   "execution_count": 6,
   "metadata": {},
   "outputs": [
    {
     "name": "stdout",
     "output_type": "stream",
     "text": [
      "['WNE']\n"
     ]
    }
   ],
   "source": [
    "def debug_lex(regex):\n",
    "    print(lex_regex(regex))\n",
    "    \n",
    "debug_lex('^WNE$')"
   ]
  },
  {
   "cell_type": "code",
   "execution_count": 7,
   "metadata": {},
   "outputs": [
    {
     "name": "stdout",
     "output_type": "stream",
     "text": [
      "['N', Symbol(OPEN), 'E', Symbol(PIPE), 'W', Symbol(CLOSE), 'N']\n"
     ]
    }
   ],
   "source": [
    "debug_lex('^N(E|W)N$')"
   ]
  },
  {
   "cell_type": "code",
   "execution_count": 8,
   "metadata": {},
   "outputs": [
    {
     "name": "stdout",
     "output_type": "stream",
     "text": [
      "['NN', Symbol(OPEN), 'EE', Symbol(PIPE), 'WW', Symbol(OPEN), 'SS', Symbol(PIPE), 'NN', Symbol(CLOSE), Symbol(CLOSE), 'EE']\n"
     ]
    }
   ],
   "source": [
    "debug_lex('^NN(EE|WW(SS|NN))EE$')"
   ]
  },
  {
   "cell_type": "code",
   "execution_count": 9,
   "metadata": {},
   "outputs": [],
   "source": [
    "class RegexList(list):\n",
    "    ''' A list that contains regex strings and groups. '''\n",
    "    def append(self, x):\n",
    "        assert isinstance(x, (str, RegexGroup))\n",
    "        super().append(x)\n",
    "    \n",
    "    def __str__(self, indent=''):\n",
    "        render = '{}RegexList[\\n'.format(indent)\n",
    "        for x in self:\n",
    "            if isinstance(x, str):\n",
    "                render += '  {}{}\\n'.format(indent, x)\n",
    "            else:\n",
    "                render += x.__str__(indent + '  ')\n",
    "        render += '{}]\\n'.format(indent)\n",
    "        return render\n",
    "        \n",
    "class RegexGroup:\n",
    "    ''' A container for RegexList items. '''\n",
    "    def __init__(self):\n",
    "        self._items = list()\n",
    "\n",
    "    def __str__(self, indent=''):\n",
    "        render = '{}RegexGroup{{\\n'.format(indent)\n",
    "        for i in self._items:\n",
    "            render += i.__str__(indent + '  ')\n",
    "        render += '{}}}\\n'.format(indent)\n",
    "        return render\n",
    "        \n",
    "    def add_item(self, item):\n",
    "        assert isinstance(item, RegexList)\n",
    "        self._items.append(item)\n",
    "    \n",
    "    @property\n",
    "    def items(self):\n",
    "        return self._items"
   ]
  },
  {
   "cell_type": "code",
   "execution_count": 10,
   "metadata": {},
   "outputs": [
    {
     "name": "stdout",
     "output_type": "stream",
     "text": [
      "RegexGroup{\n",
      "  RegexList[\n",
      "    NN\n",
      "  ]\n",
      "  RegexList[\n",
      "    SS\n",
      "  ]\n",
      "}\n",
      "\n"
     ]
    }
   ],
   "source": [
    "rg = RegexGroup()\n",
    "rl1 = RegexList()\n",
    "rl1.append('NN')\n",
    "rg.add_item(rl1)\n",
    "rl2 = RegexList()\n",
    "rl2.append('SS')\n",
    "rg.add_item(rl2)\n",
    "print(rg)"
   ]
  },
  {
   "cell_type": "code",
   "execution_count": 11,
   "metadata": {},
   "outputs": [
    {
     "name": "stdout",
     "output_type": "stream",
     "text": [
      "RegexList[\n",
      "  EE\n",
      "  RegexGroup{\n",
      "    RegexList[\n",
      "      NN\n",
      "    ]\n",
      "    RegexList[\n",
      "      SS\n",
      "    ]\n",
      "  }\n",
      "  WW\n",
      "]\n",
      "\n"
     ]
    }
   ],
   "source": [
    "rl = RegexList()\n",
    "rl.append('EE')\n",
    "rl.append(rg)\n",
    "rl.append('WW')\n",
    "print(rl)"
   ]
  },
  {
   "cell_type": "code",
   "execution_count": 12,
   "metadata": {},
   "outputs": [],
   "source": [
    "def parse_tokens(tokens):\n",
    "    ''' Parse tokens and return a RegexList. '''\n",
    "    # Create a stack of regex lists and a stack of groups\n",
    "    root = RegexList()\n",
    "    regex_lists = [root]\n",
    "    groups = []\n",
    "    for token in tokens:\n",
    "        if isinstance(token, Symbol):\n",
    "            if token is OPEN:\n",
    "                # Create a new group and add it to current regex list\n",
    "                group = RegexGroup()\n",
    "                groups.append(group)\n",
    "                regex_lists[-1].append(group)\n",
    "                # Create a new regex list. Add it to group and put it on \n",
    "                # the stack\n",
    "                rl = RegexList()\n",
    "                regex_lists.append(rl)\n",
    "                group.add_item(rl)\n",
    "            elif token is PIPE:\n",
    "                # We have finished a regex list. Pop it off the stack and create\n",
    "                # a new regex list.\n",
    "                regex_list = regex_lists.pop()\n",
    "                rl = RegexList()\n",
    "                groups[-1].add_item(rl)\n",
    "                regex_lists.append(rl)\n",
    "            elif token is CLOSE:\n",
    "                # We have finished a regex list. Pop it off the stack.\n",
    "                regex_list = regex_lists.pop()\n",
    "                # We have finished a group. Pop it off the stack.\n",
    "                group = groups.pop()                \n",
    "        else:\n",
    "            # Token is a plain string. Append to current list.\n",
    "            regex_lists[-1].append(token)\n",
    "    return root\n",
    "\n",
    "def debug_parse(regex):\n",
    "    tokens = lex_regex(regex)\n",
    "    print(tokens)\n",
    "    regex_list = parse_tokens(tokens)\n",
    "    print(regex_list)"
   ]
  },
  {
   "cell_type": "code",
   "execution_count": 13,
   "metadata": {},
   "outputs": [
    {
     "name": "stdout",
     "output_type": "stream",
     "text": [
      "['NN', Symbol(OPEN), 'EE', Symbol(PIPE), 'WW', Symbol(CLOSE), 'SS']\n",
      "RegexList[\n",
      "  NN\n",
      "  RegexGroup{\n",
      "    RegexList[\n",
      "      EE\n",
      "    ]\n",
      "    RegexList[\n",
      "      WW\n",
      "    ]\n",
      "  }\n",
      "  SS\n",
      "]\n",
      "\n"
     ]
    }
   ],
   "source": [
    "debug_parse('^NN(EE|WW)SS$')"
   ]
  },
  {
   "cell_type": "code",
   "execution_count": 14,
   "metadata": {},
   "outputs": [
    {
     "name": "stdout",
     "output_type": "stream",
     "text": [
      "['NN', Symbol(OPEN), 'EE', Symbol(PIPE), 'WW', Symbol(OPEN), 'NN', Symbol(PIPE), 'SS', Symbol(CLOSE), 'WW', Symbol(CLOSE), 'SS']\n",
      "RegexList[\n",
      "  NN\n",
      "  RegexGroup{\n",
      "    RegexList[\n",
      "      EE\n",
      "    ]\n",
      "    RegexList[\n",
      "      WW\n",
      "      RegexGroup{\n",
      "        RegexList[\n",
      "          NN\n",
      "        ]\n",
      "        RegexList[\n",
      "          SS\n",
      "        ]\n",
      "      }\n",
      "      WW\n",
      "    ]\n",
      "  }\n",
      "  SS\n",
      "]\n",
      "\n"
     ]
    }
   ],
   "source": [
    "debug_parse('^NN(EE|WW(NN|SS)WW)SS$')"
   ]
  },
  {
   "cell_type": "code",
   "execution_count": 15,
   "metadata": {},
   "outputs": [],
   "source": [
    "def plot_regex_string(regex, map_, points):\n",
    "    ''' Given a regex string that contains only directions (no groups), \n",
    "    plot the corresponding walls, doors, rooms, and question marks on \n",
    "    the map from the given starting points. Returns the endpoints. '''\n",
    "\n",
    "    def question(qx, qy):\n",
    "        ''' If qx,qy not in map, then set it to question mark. '''\n",
    "        if (qx,qy) not in map_:\n",
    "            map_[qx,qy] = '?'\n",
    "\n",
    "    endpoints = list()\n",
    "    for (x,y) in points:\n",
    "        for char in regex:\n",
    "            if char == 'N':\n",
    "                map_[x,  y-1] = '-'\n",
    "                map_[x  ,y-2] = '.'\n",
    "                map_[x-1,y-3] = '#'\n",
    "                map_[x+1,y-3] = '#'\n",
    "                question(x-1, y-2)\n",
    "                question(x+1, y-2)\n",
    "                question(x  , y-3)\n",
    "                y -= 2\n",
    "            elif char == 'S':\n",
    "                map_[x,  y+1] = '-'\n",
    "                map_[x  ,y+2] = '.'\n",
    "                map_[x-1,y+3] = '#'\n",
    "                map_[x+1,y+3] = '#'\n",
    "                question(x-1, y+2)\n",
    "                question(x+1, y+2)\n",
    "                question(x  , y+3)\n",
    "                y += 2\n",
    "            elif char == 'W':\n",
    "                map_[x-1,y  ] = '|'\n",
    "                map_[x-2,y  ] = '.'\n",
    "                map_[x-3,y-1] = '#'\n",
    "                map_[x-3,y+1] = '#'\n",
    "                question(x-2, y-1)\n",
    "                question(x-2, y+1)\n",
    "                question(x-3, y  )\n",
    "                x -= 2\n",
    "            elif char == 'E':\n",
    "                map_[x+1,y  ] = '|'\n",
    "                map_[x+2,y  ] = '.'\n",
    "                map_[x+3,y-1] = '#'\n",
    "                map_[x+3,y+1] = '#'\n",
    "                question(x+2, y-1)\n",
    "                question(x+2, y+1)\n",
    "                question(x+3, y  )\n",
    "                x += 2\n",
    "            else:\n",
    "                raise Exception('Unexpected char=\"{}\"'.format(char))\n",
    "        endpoints.append((x, y))\n",
    "    return list(set(endpoints))\n",
    "\n",
    "def debug_plot_regex_string(regex, points):\n",
    "    map_ = create_map()\n",
    "    points = plot_regex_string(regex, map_, points)\n",
    "    print_map(map_)\n",
    "    return points    "
   ]
  },
  {
   "cell_type": "code",
   "execution_count": 16,
   "metadata": {},
   "outputs": [
    {
     "name": "stdout",
     "output_type": "stream",
     "text": [
      "#?#    \n",
      "?.?    \n",
      "#-# #?#\n",
      "?X? ?.?\n",
      "#-#  - \n",
      "?.? ?.?\n",
      "#?# #-#\n",
      "    ?.?\n",
      "    #?#\n",
      "\n"
     ]
    },
    {
     "data": {
      "text/plain": [
       "[(4, 4), (0, 2)]"
      ]
     },
     "execution_count": 16,
     "metadata": {},
     "output_type": "execute_result"
    }
   ],
   "source": [
    "# Plot N and S. (There are some missing walls because the second\n",
    "# plot isn't attached to the first one, but that's OK.)\n",
    "debug_plot_regex_string('NSS', points=[(0,0),(4,2)])"
   ]
  },
  {
   "cell_type": "code",
   "execution_count": 17,
   "metadata": {},
   "outputs": [],
   "source": [
    "def plot_regex_group(item, map_, points):\n",
    "    ''' Plot a regex group starting from each of the given points. \n",
    "    Return the new endpoints. '''\n",
    "    endpoints = list()\n",
    "    for regex_list in item.items:\n",
    "        endpoints += plot_regex_list(regex_list, map_, points)\n",
    "    return list(set(endpoints))\n",
    "\n",
    "def plot_regex_list(regex_list, map_, points):\n",
    "    ''' Plot each item of a regex list, starting at the given endpoints. Returns\n",
    "    a list of new endpoints. '''\n",
    "    for item in regex_list:\n",
    "        if isinstance(item, str):\n",
    "            points = plot_regex_string(item, map_, points)\n",
    "        elif isinstance(item, RegexGroup):\n",
    "            points = plot_regex_group(item, map_, points)\n",
    "        else:\n",
    "            raise Exception('Invalid item in RegexList')\n",
    "    return list(set(points))\n",
    "\n",
    "def debug_plot(regex, fill=False):\n",
    "    tokens = lex_regex(regex)\n",
    "    regex_list = parse_tokens(tokens)\n",
    "    map_ = create_map()\n",
    "    endpoints = plot_regex_list(regex_list, map_, points=[(0,0)])\n",
    "    if fill:\n",
    "        print_map(fill_walls(map_))\n",
    "    else:\n",
    "        print_map(map_)\n",
    "    return endpoints"
   ]
  },
  {
   "cell_type": "code",
   "execution_count": 18,
   "metadata": {},
   "outputs": [
    {
     "name": "stdout",
     "output_type": "stream",
     "text": [
      "    #?#    \n",
      "    ?.?    \n",
      "    #-#    \n",
      "    ?.?    \n",
      "#?#?#-#?#?#\n",
      "?.|.|X|.|.?\n",
      "#?#?#-#?#?#\n",
      "    ?.?    \n",
      "    #-#    \n",
      "    ?.?    \n",
      "    #?#    \n",
      "\n"
     ]
    },
    {
     "data": {
      "text/plain": [
       "[(0, 4)]"
      ]
     },
     "execution_count": 18,
     "metadata": {},
     "output_type": "execute_result"
    }
   ],
   "source": [
    "# Plot a cross.\n",
    "debug_plot('^EEWWWWEENNSSSS$')"
   ]
  },
  {
   "cell_type": "code",
   "execution_count": 19,
   "metadata": {},
   "outputs": [
    {
     "name": "stdout",
     "output_type": "stream",
     "text": [
      "#?#?#?#?#?#\n",
      "?.|.|.|.|.?\n",
      "#?#?#-#?#?#\n",
      "    ?.?    \n",
      "    #-#    \n",
      "    ?X?    \n",
      "    #?#    \n",
      "\n"
     ]
    },
    {
     "data": {
      "text/plain": [
       "[(4, -4), (-4, -4)]"
      ]
     },
     "execution_count": 19,
     "metadata": {},
     "output_type": "execute_result"
    }
   ],
   "source": [
    "# Plot a regex that ends with a group. This should make a T shap.\n",
    "debug_plot('^NN(EE|WW)$')"
   ]
  },
  {
   "cell_type": "code",
   "execution_count": 20,
   "metadata": {},
   "outputs": [
    {
     "name": "stdout",
     "output_type": "stream",
     "text": [
      "#?#?#?#?#?#\n",
      "?.|.|.|.|.?\n",
      "#-#?#-#?#-#\n",
      "?.? ?.? ?.?\n",
      "#-# #-# #-#\n",
      "?.? ?X? ?.?\n",
      "#?# #?# #?#\n",
      "\n"
     ]
    },
    {
     "data": {
      "text/plain": [
       "[(4, 0), (-4, 0)]"
      ]
     },
     "execution_count": 20,
     "metadata": {},
     "output_type": "execute_result"
    }
   ],
   "source": [
    "# A plot with directions after a group. This should make an M shape.\n",
    "debug_plot('^NN(EE|WW)SS$')"
   ]
  },
  {
   "cell_type": "code",
   "execution_count": 21,
   "metadata": {},
   "outputs": [
    {
     "name": "stdout",
     "output_type": "stream",
     "text": [
      "#?#        \n",
      "?.?        \n",
      "#-#        \n",
      "?.?        \n",
      "#-#?#?#?#?#\n",
      "?.|.|.|.|.?\n",
      "#-#?#-#?#-#\n",
      "?.? ?.? ?.?\n",
      "#-# #-# #-#\n",
      "?.? ?X? ?.?\n",
      "#-# #?# #?#\n",
      "?.?        \n",
      "#-#        \n",
      "?.?        \n",
      "#?#        \n",
      "\n"
     ]
    },
    {
     "data": {
      "text/plain": [
       "[(-4, 4), (-4, -4), (4, 0)]"
      ]
     },
     "execution_count": 21,
     "metadata": {},
     "output_type": "execute_result"
    }
   ],
   "source": [
    "# A plot with nested groups.\n",
    "debug_plot('^NN(EE|WW(NN|SS))SS$')"
   ]
  },
  {
   "cell_type": "code",
   "execution_count": 22,
   "metadata": {},
   "outputs": [
    {
     "name": "stdout",
     "output_type": "stream",
     "text": [
      "#?#?#\n",
      "?.|.?\n",
      "#-#?#\n",
      "?.|X?\n",
      "#?#?#\n",
      "\n"
     ]
    },
    {
     "data": {
      "text/plain": [
       "[(0, -2)]"
      ]
     },
     "execution_count": 22,
     "metadata": {},
     "output_type": "execute_result"
    }
   ],
   "source": [
    "# First example from problem.\n",
    "debug_plot('^WNE$')"
   ]
  },
  {
   "cell_type": "code",
   "execution_count": 23,
   "metadata": {},
   "outputs": [
    {
     "name": "stdout",
     "output_type": "stream",
     "text": [
      "#########\n",
      "#.|.|.|.#\n",
      "#-#######\n",
      "#.|.|.|.#\n",
      "#-#####-#\n",
      "#.#.#X|.#\n",
      "#-#-#####\n",
      "#.|.|.|.#\n",
      "#########\n",
      "\n"
     ]
    },
    {
     "data": {
      "text/plain": [
       "[(2, -4), (-2, 0), (2, 2)]"
      ]
     },
     "execution_count": 23,
     "metadata": {},
     "output_type": "execute_result"
    }
   ],
   "source": [
    "# Second example from problem.\n",
    "debug_plot('^ENWWW(NEEE|SSE(EE|N))$', fill=True)"
   ]
  },
  {
   "cell_type": "code",
   "execution_count": 24,
   "metadata": {},
   "outputs": [
    {
     "name": "stdout",
     "output_type": "stream",
     "text": [
      "###########\n",
      "#.|.#.|.#.#\n",
      "#-###-#-#-#\n",
      "#.|.|.#.#.#\n",
      "#-#####-#-#\n",
      "#.#.#X|.#.#\n",
      "#-#-#####-#\n",
      "#.#.|.|.|.#\n",
      "#-###-###-#\n",
      "#.|.|.#.|.#\n",
      "###########\n",
      "\n"
     ]
    },
    {
     "data": {
      "text/plain": [
       "[(4, -4)]"
      ]
     },
     "execution_count": 24,
     "metadata": {},
     "output_type": "execute_result"
    }
   ],
   "source": [
    "# The next example problem. This one has empty group items!\n",
    "debug_plot('^ENNWSWW(NEWS|)SSSEEN(WNSE|)EE(SWEN|)NNN$', fill=True)"
   ]
  },
  {
   "cell_type": "code",
   "execution_count": 25,
   "metadata": {},
   "outputs": [],
   "source": [
    "def plot(regex):\n",
    "    ''' Plot a regex and return a map. '''\n",
    "    tokens = lex_regex(regex)\n",
    "    regex_list = parse_tokens(tokens)\n",
    "    map_ = create_map()\n",
    "    plot_regex_list(regex_list, map_, points=[(0,0)])\n",
    "    map_ = fill_walls(map_)\n",
    "    return map_"
   ]
  },
  {
   "cell_type": "code",
   "execution_count": 35,
   "metadata": {},
   "outputs": [],
   "source": [
    "def map_size(map_, debug=False):\n",
    "    ''' Compute the distance to the room farthest from the origin. '''\n",
    "    stack = [(0,0)]\n",
    "    def fill_map(x, y):\n",
    "        ''' Fill in the distance to the squares adjacent to x,y. '''\n",
    "        dist = map_[x,y] + 1\n",
    "        if map_[x-1,y] == '|':\n",
    "            val = map_[x-2,y]\n",
    "            if val == '.' or val > dist:\n",
    "                map_[x-2,y] = dist\n",
    "                stack.append((x-2,y))\n",
    "        if map_[x+1,y] == '|':\n",
    "            val = map_[x+2,y]\n",
    "            if val == '.' or val > dist:\n",
    "                map_[x+2,y] = dist\n",
    "                stack.append((x+2,y))\n",
    "        if map_[x,y-1] == '-':\n",
    "            val = map_[x,y-2]\n",
    "            if val == '.' or val > dist:\n",
    "                map_[x,y-2] = dist\n",
    "                stack.append((x,y-2))\n",
    "        if map_[x,y+1] == '-':\n",
    "            val = map_[x,y+2]\n",
    "            if val == '.' or val > dist:\n",
    "                map_[x,y+2] = dist\n",
    "                stack.append((x,y+2))\n",
    "    map_ = dict(map_)\n",
    "    map_[0,0] = 0\n",
    "    for x, y in stack:\n",
    "        fill_map(x,y)\n",
    "    if debug:\n",
    "        print_map(map_)\n",
    "    values = [val for val in map_.values() if isinstance(val, int)]\n",
    "    return max(values)\n",
    "\n",
    "def debug_map_size(regex):\n",
    "    map_ = plot(regex)\n",
    "    print_map(map_)\n",
    "    return map_size(map_, debug=True)"
   ]
  },
  {
   "cell_type": "code",
   "execution_count": 36,
   "metadata": {},
   "outputs": [
    {
     "name": "stdout",
     "output_type": "stream",
     "text": [
      "#####\n",
      "#.|.#\n",
      "#-###\n",
      "#.|X#\n",
      "#####\n",
      "\n",
      "#####\n",
      "#2|3#\n",
      "#-###\n",
      "#1|X#\n",
      "#####\n",
      "\n"
     ]
    },
    {
     "data": {
      "text/plain": [
       "3"
      ]
     },
     "execution_count": 36,
     "metadata": {},
     "output_type": "execute_result"
    }
   ],
   "source": [
    "debug_map_size('^WNE$')"
   ]
  },
  {
   "cell_type": "code",
   "execution_count": 37,
   "metadata": {},
   "outputs": [
    {
     "data": {
      "text/plain": [
       "10"
      ]
     },
     "execution_count": 37,
     "metadata": {},
     "output_type": "execute_result"
    }
   ],
   "source": [
    "map_size(plot('^ENWWW(NEEE|SSE(EE|N))$'))"
   ]
  },
  {
   "cell_type": "code",
   "execution_count": 38,
   "metadata": {},
   "outputs": [
    {
     "data": {
      "text/plain": [
       "18"
      ]
     },
     "execution_count": 38,
     "metadata": {},
     "output_type": "execute_result"
    }
   ],
   "source": [
    "map_size(plot('^ENNWSWW(NEWS|)SSSEEN(WNSE|)EE(SWEN|)NNN$'))"
   ]
  },
  {
   "cell_type": "code",
   "execution_count": 39,
   "metadata": {},
   "outputs": [
    {
     "data": {
      "text/plain": [
       "23"
      ]
     },
     "execution_count": 39,
     "metadata": {},
     "output_type": "execute_result"
    }
   ],
   "source": [
    "map_size(plot('^ESSWWN(E|NNENN(EESS(WNSE|)SSS|WWWSSSSE(SW|NNNE)))$'))"
   ]
  },
  {
   "cell_type": "code",
   "execution_count": 40,
   "metadata": {},
   "outputs": [
    {
     "data": {
      "text/plain": [
       "31"
      ]
     },
     "execution_count": 40,
     "metadata": {},
     "output_type": "execute_result"
    }
   ],
   "source": [
    "map_size(plot('^WSSEESWWWNW(S|NENNEEEENN(ESSSSW(NWSW|SSEN)|WSWWN(E|WWS(E|SS))))$'))"
   ]
  },
  {
   "cell_type": "code",
   "execution_count": 41,
   "metadata": {},
   "outputs": [
    {
     "name": "stdout",
     "output_type": "stream",
     "text": [
      "CPU times: user 87.1 ms, sys: 3.66 ms, total: 90.8 ms\n",
      "Wall time: 89.5 ms\n"
     ]
    }
   ],
   "source": [
    "%%time\n",
    "# This was really slow–would not finish after several minutes–the first time\n",
    "# I ran it, then I added deduplication for end points in the plot*() methods \n",
    "# and now it runs almost instantly!\n",
    "with open('input.txt') as input_:\n",
    "    regex = input_.read().strip()\n",
    "map_ = plot(regex)"
   ]
  },
  {
   "cell_type": "code",
   "execution_count": 45,
   "metadata": {},
   "outputs": [],
   "source": [
    "# For debugging\n",
    "with open('output.txt', 'w') as output_:\n",
    "    output_.write(render_map(map_))"
   ]
  },
  {
   "cell_type": "code",
   "execution_count": 46,
   "metadata": {},
   "outputs": [
    {
     "data": {
      "text/plain": [
       "3835"
      ]
     },
     "execution_count": 46,
     "metadata": {},
     "output_type": "execute_result"
    }
   ],
   "source": [
    "map_size(map_)"
   ]
  },
  {
   "cell_type": "markdown",
   "metadata": {},
   "source": [
    "# Part 2"
   ]
  },
  {
   "cell_type": "code",
   "execution_count": 56,
   "metadata": {},
   "outputs": [],
   "source": [
    "def count_paths(map_, threshold):\n",
    "    ''' Compute how many rooms are farther than threshold units away from\n",
    "    the origin. Very similar to map_size() except instead of returning max\n",
    "    distance it filters by distance and counts the number of rooms that\n",
    "    remain. '''\n",
    "    stack = [(0,0)]\n",
    "    def fill_map(x, y):\n",
    "        ''' Fill in the distance to the squares adjacent to x,y. '''\n",
    "        dist = map_[x,y] + 1\n",
    "        if map_[x-1,y] == '|':\n",
    "            val = map_[x-2,y]\n",
    "            if val == '.' or val > dist:\n",
    "                map_[x-2,y] = dist\n",
    "                stack.append((x-2,y))\n",
    "        if map_[x+1,y] == '|':\n",
    "            val = map_[x+2,y]\n",
    "            if val == '.' or val > dist:\n",
    "                map_[x+2,y] = dist\n",
    "                stack.append((x+2,y))\n",
    "        if map_[x,y-1] == '-':\n",
    "            val = map_[x,y-2]\n",
    "            if val == '.' or val > dist:\n",
    "                map_[x,y-2] = dist\n",
    "                stack.append((x,y-2))\n",
    "        if map_[x,y+1] == '-':\n",
    "            val = map_[x,y+2]\n",
    "            if val == '.' or val > dist:\n",
    "                map_[x,y+2] = dist\n",
    "                stack.append((x,y+2))\n",
    "    map_ = dict(map_)\n",
    "    map_[0,0] = 0\n",
    "    for x, y in stack:\n",
    "        fill_map(x,y)\n",
    "    values = [val for val in map_.values() if isinstance(val, int) and val >= 1000]\n",
    "    return len(values)"
   ]
  },
  {
   "cell_type": "code",
   "execution_count": 57,
   "metadata": {},
   "outputs": [],
   "source": [
    "with open('input.txt') as input_:\n",
    "    regex = input_.read().strip()\n",
    "map_ = plot(regex)"
   ]
  },
  {
   "cell_type": "code",
   "execution_count": 58,
   "metadata": {},
   "outputs": [
    {
     "data": {
      "text/plain": [
       "8520"
      ]
     },
     "execution_count": 58,
     "metadata": {},
     "output_type": "execute_result"
    }
   ],
   "source": [
    "count_paths(map_, threshold=1000)"
   ]
  }
 ],
 "metadata": {
  "kernelspec": {
   "display_name": "Python 3",
   "language": "python",
   "name": "python3"
  },
  "language_info": {
   "codemirror_mode": {
    "name": "ipython",
    "version": 3
   },
   "file_extension": ".py",
   "mimetype": "text/x-python",
   "name": "python",
   "nbconvert_exporter": "python",
   "pygments_lexer": "ipython3",
   "version": "3.7.0"
  }
 },
 "nbformat": 4,
 "nbformat_minor": 2
}
