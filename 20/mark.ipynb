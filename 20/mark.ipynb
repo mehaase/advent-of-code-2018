{
 "cells": [
  {
   "cell_type": "markdown",
   "metadata": {},
   "source": [
    "# Part 1"
   ]
  },
  {
   "cell_type": "code",
   "execution_count": 1,
   "metadata": {},
   "outputs": [],
   "source": [
    "# Taken from day 17 and modified for today.\n",
    "def render_map(map_):\n",
    "    ''' Render a section of the [infinite] map. '''\n",
    "    min_x = min(coord[0] for coord in map_.keys())\n",
    "    max_x = max(coord[0] for coord in map_.keys())\n",
    "    min_y = min(coord[1] for coord in map_.keys())\n",
    "    max_y = max(coord[1] for coord in map_.keys())\n",
    "    render = ''\n",
    "    for y in range(min_y, max_y+1):\n",
    "        render += ''.join('X' if x==0 and y==0 else map_.get((x,y),' ') for x in range(min_x, max_x+1))\n",
    "        render += '\\n'\n",
    "    return render\n",
    "\n",
    "def print_map(map_):\n",
    "    print(render_map(map_))"
   ]
  },
  {
   "cell_type": "code",
   "execution_count": 2,
   "metadata": {},
   "outputs": [],
   "source": [
    "def create_map():\n",
    "    ''' Create a blank map with the intial room at 0,0. '''\n",
    "    return {\n",
    "        (-1,-1): '#', ( 0,-1): '?', ( 1,-1): '#',\n",
    "        (-1, 0): '?', ( 0, 0): '.', ( 1, 0): '?',\n",
    "        (-1, 1): '#', ( 0, 1): '?', ( 1, 1): '#',\n",
    "    }"
   ]
  },
  {
   "cell_type": "code",
   "execution_count": 3,
   "metadata": {},
   "outputs": [],
   "source": [
    "def fill_walls(map_):\n",
    "    ''' Replace new map where ? is replaced with #. '''\n",
    "    return {(x, y):('#' if char == '?' else char) for (x,y), char in map_.items()}"
   ]
  },
  {
   "cell_type": "code",
   "execution_count": 4,
   "metadata": {},
   "outputs": [
    {
     "name": "stdout",
     "output_type": "stream",
     "text": [
      "#?#\n",
      "?X?\n",
      "#?#\n",
      "\n",
      "###\n",
      "#X#\n",
      "###\n",
      "\n"
     ]
    }
   ],
   "source": [
    "test_map = create_map()\n",
    "print_map(test_map)\n",
    "print_map(fill_walls(test_map))"
   ]
  },
  {
   "cell_type": "code",
   "execution_count": 5,
   "metadata": {},
   "outputs": [],
   "source": [
    "class Symbol:\n",
    "    def __init__(self, name):\n",
    "        self.name = name\n",
    "        \n",
    "    def __repr__(self):\n",
    "        return 'Symbol({})'.format(self.name)\n",
    "\n",
    "OPEN = Symbol('OPEN')\n",
    "PIPE = Symbol('PIPE')\n",
    "CLOSE = Symbol('CLOSE')\n",
    "    \n",
    "def lex_regex(regex):\n",
    "    ''' Split regex into a sequence of tokens. Ignores start and end specifiers: ^$. '''\n",
    "    tokens = list()\n",
    "    current = list()\n",
    "    for char in regex:\n",
    "        if char in 'NESW':\n",
    "            current.append(char)\n",
    "            continue\n",
    "        if current:\n",
    "            tokens.append(''.join(current))\n",
    "            current = list()\n",
    "        if char == '(':\n",
    "            tokens.append(OPEN)\n",
    "        elif char == '|':\n",
    "            tokens.append(PIPE)\n",
    "        elif char == ')':\n",
    "            tokens.append(CLOSE)\n",
    "    return tokens"
   ]
  },
  {
   "cell_type": "code",
   "execution_count": 6,
   "metadata": {},
   "outputs": [
    {
     "name": "stdout",
     "output_type": "stream",
     "text": [
      "['WNE']\n"
     ]
    }
   ],
   "source": [
    "def debug_lex(regex):\n",
    "    print(lex_regex(regex))\n",
    "    \n",
    "debug_lex('^WNE$')"
   ]
  },
  {
   "cell_type": "code",
   "execution_count": 7,
   "metadata": {},
   "outputs": [
    {
     "name": "stdout",
     "output_type": "stream",
     "text": [
      "['N', Symbol(OPEN), 'E', Symbol(PIPE), 'W', Symbol(CLOSE), 'N']\n"
     ]
    }
   ],
   "source": [
    "debug_lex('^N(E|W)N$')"
   ]
  },
  {
   "cell_type": "code",
   "execution_count": 8,
   "metadata": {},
   "outputs": [
    {
     "name": "stdout",
     "output_type": "stream",
     "text": [
      "['NN', Symbol(OPEN), 'EE', Symbol(PIPE), 'WW', Symbol(OPEN), 'SS', Symbol(PIPE), 'NN', Symbol(CLOSE), Symbol(CLOSE), 'EE']\n"
     ]
    }
   ],
   "source": [
    "debug_lex('^NN(EE|WW(SS|NN))EE$')"
   ]
  },
  {
   "cell_type": "code",
   "execution_count": 85,
   "metadata": {},
   "outputs": [],
   "source": [
    "class RegexList(list):\n",
    "    ''' A list that contains regex strings and groups. '''\n",
    "    def append(self, x):\n",
    "        assert isinstance(x, (str, RegexGroup))\n",
    "        super().append(x)\n",
    "    \n",
    "    def __str__(self, indent=''):\n",
    "        render = '{}RegexList[\\n'.format(indent)\n",
    "        for x in self:\n",
    "            if isinstance(x, str):\n",
    "                render += '  {}{}\\n'.format(indent, x)\n",
    "            else:\n",
    "                render += x.__str__(indent + '  ')\n",
    "        render += '{}]\\n'.format(indent)\n",
    "        return render\n",
    "        \n",
    "class RegexGroup:\n",
    "    ''' A container for RegexList items. '''\n",
    "    def __init__(self):\n",
    "        self._items = list()\n",
    "\n",
    "    def __str__(self, indent=''):\n",
    "        render = '{}RegexGroup{{\\n'.format(indent)\n",
    "        for i in self._items:\n",
    "            render += i.__str__(indent + '  ')\n",
    "        render += '{}}}\\n'.format(indent)\n",
    "        return render\n",
    "        \n",
    "    def add_item(self, item):\n",
    "        assert isinstance(item, RegexList)\n",
    "        self._items.append(item)\n",
    "    \n",
    "    @property\n",
    "    def items(self):\n",
    "        return self._items"
   ]
  },
  {
   "cell_type": "code",
   "execution_count": 86,
   "metadata": {},
   "outputs": [
    {
     "name": "stdout",
     "output_type": "stream",
     "text": [
      "RegexGroup{\n",
      "  RegexList[\n",
      "    NN\n",
      "  ]\n",
      "  RegexList[\n",
      "    SS\n",
      "  ]\n",
      "}\n",
      "\n"
     ]
    }
   ],
   "source": [
    "rg = RegexGroup()\n",
    "rl1 = RegexList()\n",
    "rl1.append('NN')\n",
    "rg.add_item(rl1)\n",
    "rl2 = RegexList()\n",
    "rl2.append('SS')\n",
    "rg.add_item(rl2)\n",
    "print(rg)"
   ]
  },
  {
   "cell_type": "code",
   "execution_count": 87,
   "metadata": {},
   "outputs": [
    {
     "name": "stdout",
     "output_type": "stream",
     "text": [
      "RegexList[\n",
      "  EE\n",
      "  RegexGroup{\n",
      "    RegexList[\n",
      "      NN\n",
      "    ]\n",
      "    RegexList[\n",
      "      SS\n",
      "    ]\n",
      "  }\n",
      "  WW\n",
      "]\n",
      "\n"
     ]
    }
   ],
   "source": [
    "rl = RegexList()\n",
    "rl.append('EE')\n",
    "rl.append(rg)\n",
    "rl.append('WW')\n",
    "print(rl)"
   ]
  },
  {
   "cell_type": "code",
   "execution_count": 88,
   "metadata": {},
   "outputs": [],
   "source": [
    "def parse_tokens(tokens):\n",
    "    ''' Parse tokens and return a RegexList. '''\n",
    "    # Create a stack of regex lists and a stack of groups\n",
    "    root = RegexList()\n",
    "    regex_lists = [root]\n",
    "    groups = []\n",
    "    for token in tokens:\n",
    "        if isinstance(token, Symbol):\n",
    "            if token is OPEN:\n",
    "                # Create a new group and add it to current regex list\n",
    "                group = RegexGroup()\n",
    "                groups.append(group)\n",
    "                regex_lists[-1].append(group)\n",
    "                # Create a new regex list. Add it to group and put it on \n",
    "                # the stack\n",
    "                rl = RegexList()\n",
    "                regex_lists.append(rl)\n",
    "                group.add_item(rl)\n",
    "            elif token is PIPE:\n",
    "                # We have finished a regex list. Pop it off the stack and create\n",
    "                # a new regex list.\n",
    "                regex_list = regex_lists.pop()\n",
    "                rl = RegexList()\n",
    "                groups[-1].add_item(rl)\n",
    "                regex_lists.append(rl)\n",
    "            elif token is CLOSE:\n",
    "                # We have finished a regex list. Pop it off the stack.\n",
    "                regex_list = regex_lists.pop()\n",
    "                # We have finished a group. Pop it off the stack.\n",
    "                group = groups.pop()                \n",
    "        else:\n",
    "            # Token is a plain string. Append to current list.\n",
    "            regex_lists[-1].append(token)\n",
    "    return root\n",
    "\n",
    "def debug_parse(regex):\n",
    "    tokens = lex_regex(regex)\n",
    "    print(tokens)\n",
    "    regex_list = parse_tokens(tokens)\n",
    "    print(regex_list)"
   ]
  },
  {
   "cell_type": "code",
   "execution_count": 89,
   "metadata": {},
   "outputs": [
    {
     "name": "stdout",
     "output_type": "stream",
     "text": [
      "['NN', Symbol(OPEN), 'EE', Symbol(PIPE), 'WW', Symbol(CLOSE), 'SS']\n",
      "RegexList[\n",
      "  NN\n",
      "  RegexGroup{\n",
      "    RegexList[\n",
      "      EE\n",
      "    ]\n",
      "    RegexList[\n",
      "      WW\n",
      "    ]\n",
      "  }\n",
      "  SS\n",
      "]\n",
      "\n"
     ]
    }
   ],
   "source": [
    "debug_parse('^NN(EE|WW)SS$')"
   ]
  },
  {
   "cell_type": "code",
   "execution_count": 90,
   "metadata": {},
   "outputs": [
    {
     "name": "stdout",
     "output_type": "stream",
     "text": [
      "['NN', Symbol(OPEN), 'EE', Symbol(PIPE), 'WW', Symbol(OPEN), 'NN', Symbol(PIPE), 'SS', Symbol(CLOSE), 'WW', Symbol(CLOSE), 'SS']\n",
      "RegexList[\n",
      "  NN\n",
      "  RegexGroup{\n",
      "    RegexList[\n",
      "      EE\n",
      "    ]\n",
      "    RegexList[\n",
      "      WW\n",
      "      RegexGroup{\n",
      "        RegexList[\n",
      "          NN\n",
      "        ]\n",
      "        RegexList[\n",
      "          SS\n",
      "        ]\n",
      "      }\n",
      "      WW\n",
      "    ]\n",
      "  }\n",
      "  SS\n",
      "]\n",
      "\n"
     ]
    }
   ],
   "source": [
    "debug_parse('^NN(EE|WW(NN|SS)WW)SS$')"
   ]
  },
  {
   "cell_type": "code",
   "execution_count": 144,
   "metadata": {},
   "outputs": [],
   "source": [
    "def plot_regex_string(regex, map_, x, y):\n",
    "    ''' Given a regex string that contains only directions (no groups), \n",
    "    plot the corresponding walls, doors, rooms, and question marks on \n",
    "    the map. Returns updated x,y. '''\n",
    "\n",
    "    def question(qx, qy):\n",
    "        ''' If qx,qy not in map, then set it to question mark. '''\n",
    "        if (qx,qy) not in map_:\n",
    "            map_[qx,qy] = '?'\n",
    "\n",
    "    for char in regex:\n",
    "        if char == 'N':\n",
    "            map_[x,  y-1] = '-'\n",
    "            map_[x  ,y-2] = '.'\n",
    "            map_[x-1,y-3] = '#'\n",
    "            map_[x+1,y-3] = '#'\n",
    "            question(x-1, y-2)\n",
    "            question(x+1, y-2)\n",
    "            question(x  , y-3)\n",
    "            y -= 2\n",
    "        elif char == 'S':\n",
    "            map_[x,  y+1] = '-'\n",
    "            map_[x  ,y+2] = '.'\n",
    "            map_[x-1,y+3] = '#'\n",
    "            map_[x+1,y+3] = '#'\n",
    "            question(x-1, y+2)\n",
    "            question(x+1, y+2)\n",
    "            question(x  , y+3)\n",
    "            y += 2\n",
    "        elif char == 'W':\n",
    "            map_[x-1,y  ] = '|'\n",
    "            map_[x-2,y  ] = '.'\n",
    "            map_[x-3,y-1] = '#'\n",
    "            map_[x-3,y+1] = '#'\n",
    "            question(x-2, y-1)\n",
    "            question(x-2, y+1)\n",
    "            question(x-3, y  )\n",
    "            x -= 2\n",
    "        elif char == 'E':\n",
    "            map_[x+1,y  ] = '|'\n",
    "            map_[x+2,y  ] = '.'\n",
    "            map_[x+3,y-1] = '#'\n",
    "            map_[x+3,y+1] = '#'\n",
    "            question(x+2, y-1)\n",
    "            question(x+2, y+1)\n",
    "            question(x+3, y  )\n",
    "            x += 2\n",
    "        else:\n",
    "            raise Exception('Unexpected char=\"{}\"'.format(char))\n",
    "    \n",
    "    return x, y\n",
    "\n",
    "def plot_regex_item(item, map_, points):\n",
    "    ''' Plot a regex item (str or RegexGroup) from each of the given endpoints. \n",
    "    Return new endpoints. '''\n",
    "    new_points = list()\n",
    "    for x, y in points:\n",
    "        if isinstance(item, str):\n",
    "            new_points.append(plot_regex_string(item, map_, x, y))\n",
    "        elif isinstance(item, RegexGroup):\n",
    "            for rl in item.items:\n",
    "                new_points += plot_regex_list(rl, map_, points)\n",
    "    return new_points\n",
    "\n",
    "def debug_plot_regex_item(item, points):\n",
    "    map_ = create_map()\n",
    "    points = plot_regex_item(item, map_, points)\n",
    "    print_map(map_)\n",
    "    return points\n",
    "\n",
    "def plot_regex_list(regex_list, map_, points):\n",
    "    ''' Plot each item of a regex list, starting at the given endpoints. Returns\n",
    "    a list of new endpoints. '''\n",
    "    for item in regex_list:\n",
    "        points += plot_regex_item(item, map_, points)\n",
    "    return points\n",
    "\n",
    "def plot(regex):\n",
    "    tokens = lex_regex(regex)\n",
    "    regex_list = parse_tokens(tokens)\n",
    "    map_ = create_map()\n",
    "    plot_regex_list(regex_list, map_, points=[(0,0)])\n",
    "    print_map(map_)"
   ]
  },
  {
   "cell_type": "code",
   "execution_count": 139,
   "metadata": {},
   "outputs": [
    {
     "name": "stdout",
     "output_type": "stream",
     "text": [
      "#?#\n",
      "?.?\n",
      "#-#\n",
      "?X?\n",
      "#-#\n",
      "?.?\n",
      "#?#\n",
      "\n"
     ]
    }
   ],
   "source": [
    "# Plot N and S.\n",
    "plot('^NSS$')"
   ]
  },
  {
   "cell_type": "code",
   "execution_count": 140,
   "metadata": {},
   "outputs": [
    {
     "name": "stdout",
     "output_type": "stream",
     "text": [
      "#?#?#?#\n",
      "?.|X|.?\n",
      "#?#?#?#\n",
      "\n"
     ]
    }
   ],
   "source": [
    "# Plot E and W\n",
    "plot('^EWW$')"
   ]
  },
  {
   "cell_type": "code",
   "execution_count": 146,
   "metadata": {},
   "outputs": [
    {
     "name": "stdout",
     "output_type": "stream",
     "text": [
      "#?#      \n",
      "?.?      \n",
      " -    #?#\n",
      "?.?   ?.?\n",
      "#-#   #-#\n",
      "?.?   ?X?\n",
      "#?#   #-#\n",
      "      ?.?\n",
      "      #?#\n",
      "\n"
     ]
    },
    {
     "data": {
      "text/plain": [
       "[(0, 2), (-6, 0)]"
      ]
     },
     "execution_count": 146,
     "metadata": {},
     "output_type": "execute_result"
    }
   ],
   "source": [
    "debug_plot_regex_item('NSS', points=[(0,0),(-6,-2)])"
   ]
  },
  {
   "cell_type": "code",
   "execution_count": 148,
   "metadata": {},
   "outputs": [
    {
     "ename": "KeyboardInterrupt",
     "evalue": "",
     "output_type": "error",
     "traceback": [
      "\u001b[0;31m---------------------------------------------------------------------------\u001b[0m",
      "\u001b[0;31mKeyboardInterrupt\u001b[0m                         Traceback (most recent call last)",
      "\u001b[0;32m<ipython-input-148-1e0009d89a48>\u001b[0m in \u001b[0;36m<module>\u001b[0;34m()\u001b[0m\n\u001b[1;32m      6\u001b[0m \u001b[0mrl1\u001b[0m\u001b[0;34m.\u001b[0m\u001b[0mappend\u001b[0m\u001b[0;34m(\u001b[0m\u001b[0;34m'EEE'\u001b[0m\u001b[0;34m)\u001b[0m\u001b[0;34m\u001b[0m\u001b[0;34m\u001b[0m\u001b[0m\n\u001b[1;32m      7\u001b[0m \u001b[0mrg\u001b[0m\u001b[0;34m.\u001b[0m\u001b[0madd_item\u001b[0m\u001b[0;34m(\u001b[0m\u001b[0mrl2\u001b[0m\u001b[0;34m)\u001b[0m\u001b[0;34m\u001b[0m\u001b[0;34m\u001b[0m\u001b[0m\n\u001b[0;32m----> 8\u001b[0;31m \u001b[0mdebug_plot_regex_item\u001b[0m\u001b[0;34m(\u001b[0m\u001b[0mrg\u001b[0m\u001b[0;34m,\u001b[0m \u001b[0mpoints\u001b[0m\u001b[0;34m=\u001b[0m\u001b[0;34m[\u001b[0m\u001b[0;34m(\u001b[0m\u001b[0;36m0\u001b[0m\u001b[0;34m,\u001b[0m\u001b[0;36m0\u001b[0m\u001b[0;34m)\u001b[0m\u001b[0;34m]\u001b[0m\u001b[0;34m)\u001b[0m\u001b[0;34m\u001b[0m\u001b[0;34m\u001b[0m\u001b[0m\n\u001b[0m",
      "\u001b[0;32m<ipython-input-144-0ffd29c537ab>\u001b[0m in \u001b[0;36mdebug_plot_regex_item\u001b[0;34m(item, points)\u001b[0m\n\u001b[1;32m     65\u001b[0m \u001b[0;32mdef\u001b[0m \u001b[0mdebug_plot_regex_item\u001b[0m\u001b[0;34m(\u001b[0m\u001b[0mitem\u001b[0m\u001b[0;34m,\u001b[0m \u001b[0mpoints\u001b[0m\u001b[0;34m)\u001b[0m\u001b[0;34m:\u001b[0m\u001b[0;34m\u001b[0m\u001b[0;34m\u001b[0m\u001b[0m\n\u001b[1;32m     66\u001b[0m     \u001b[0mmap_\u001b[0m \u001b[0;34m=\u001b[0m \u001b[0mcreate_map\u001b[0m\u001b[0;34m(\u001b[0m\u001b[0;34m)\u001b[0m\u001b[0;34m\u001b[0m\u001b[0;34m\u001b[0m\u001b[0m\n\u001b[0;32m---> 67\u001b[0;31m     \u001b[0mpoints\u001b[0m \u001b[0;34m=\u001b[0m \u001b[0mplot_regex_item\u001b[0m\u001b[0;34m(\u001b[0m\u001b[0mitem\u001b[0m\u001b[0;34m,\u001b[0m \u001b[0mmap_\u001b[0m\u001b[0;34m,\u001b[0m \u001b[0mpoints\u001b[0m\u001b[0;34m)\u001b[0m\u001b[0;34m\u001b[0m\u001b[0;34m\u001b[0m\u001b[0m\n\u001b[0m\u001b[1;32m     68\u001b[0m     \u001b[0mprint_map\u001b[0m\u001b[0;34m(\u001b[0m\u001b[0mmap_\u001b[0m\u001b[0;34m)\u001b[0m\u001b[0;34m\u001b[0m\u001b[0;34m\u001b[0m\u001b[0m\n\u001b[1;32m     69\u001b[0m     \u001b[0;32mreturn\u001b[0m \u001b[0mpoints\u001b[0m\u001b[0;34m\u001b[0m\u001b[0;34m\u001b[0m\u001b[0m\n",
      "\u001b[0;32m<ipython-input-144-0ffd29c537ab>\u001b[0m in \u001b[0;36mplot_regex_item\u001b[0;34m(item, map_, points)\u001b[0m\n\u001b[1;32m     60\u001b[0m         \u001b[0;32melif\u001b[0m \u001b[0misinstance\u001b[0m\u001b[0;34m(\u001b[0m\u001b[0mitem\u001b[0m\u001b[0;34m,\u001b[0m \u001b[0mRegexGroup\u001b[0m\u001b[0;34m)\u001b[0m\u001b[0;34m:\u001b[0m\u001b[0;34m\u001b[0m\u001b[0;34m\u001b[0m\u001b[0m\n\u001b[1;32m     61\u001b[0m             \u001b[0;32mfor\u001b[0m \u001b[0mrl\u001b[0m \u001b[0;32min\u001b[0m \u001b[0mitem\u001b[0m\u001b[0;34m.\u001b[0m\u001b[0mitems\u001b[0m\u001b[0;34m:\u001b[0m\u001b[0;34m\u001b[0m\u001b[0;34m\u001b[0m\u001b[0m\n\u001b[0;32m---> 62\u001b[0;31m                 \u001b[0mnew_points\u001b[0m \u001b[0;34m+=\u001b[0m \u001b[0mplot_regex_list\u001b[0m\u001b[0;34m(\u001b[0m\u001b[0mrl\u001b[0m\u001b[0;34m,\u001b[0m \u001b[0mmap_\u001b[0m\u001b[0;34m,\u001b[0m \u001b[0mpoints\u001b[0m\u001b[0;34m)\u001b[0m\u001b[0;34m\u001b[0m\u001b[0;34m\u001b[0m\u001b[0m\n\u001b[0m\u001b[1;32m     63\u001b[0m     \u001b[0;32mreturn\u001b[0m \u001b[0mnew_points\u001b[0m\u001b[0;34m\u001b[0m\u001b[0;34m\u001b[0m\u001b[0m\n\u001b[1;32m     64\u001b[0m \u001b[0;34m\u001b[0m\u001b[0m\n",
      "\u001b[0;32m<ipython-input-144-0ffd29c537ab>\u001b[0m in \u001b[0;36mplot_regex_list\u001b[0;34m(regex_list, map_, points)\u001b[0m\n\u001b[1;32m     73\u001b[0m     a list of new endpoints. '''\n\u001b[1;32m     74\u001b[0m     \u001b[0;32mfor\u001b[0m \u001b[0mitem\u001b[0m \u001b[0;32min\u001b[0m \u001b[0mregex_list\u001b[0m\u001b[0;34m:\u001b[0m\u001b[0;34m\u001b[0m\u001b[0;34m\u001b[0m\u001b[0m\n\u001b[0;32m---> 75\u001b[0;31m         \u001b[0mpoints\u001b[0m \u001b[0;34m+=\u001b[0m \u001b[0mplot_regex_item\u001b[0m\u001b[0;34m(\u001b[0m\u001b[0mitem\u001b[0m\u001b[0;34m,\u001b[0m \u001b[0mmap_\u001b[0m\u001b[0;34m,\u001b[0m \u001b[0mpoints\u001b[0m\u001b[0;34m)\u001b[0m\u001b[0;34m\u001b[0m\u001b[0;34m\u001b[0m\u001b[0m\n\u001b[0m\u001b[1;32m     76\u001b[0m     \u001b[0;32mreturn\u001b[0m \u001b[0mpoints\u001b[0m\u001b[0;34m\u001b[0m\u001b[0;34m\u001b[0m\u001b[0m\n\u001b[1;32m     77\u001b[0m \u001b[0;34m\u001b[0m\u001b[0m\n",
      "\u001b[0;32m<ipython-input-144-0ffd29c537ab>\u001b[0m in \u001b[0;36mplot_regex_item\u001b[0;34m(item, map_, points)\u001b[0m\n\u001b[1;32m     57\u001b[0m     \u001b[0;32mfor\u001b[0m \u001b[0mx\u001b[0m\u001b[0;34m,\u001b[0m \u001b[0my\u001b[0m \u001b[0;32min\u001b[0m \u001b[0mpoints\u001b[0m\u001b[0;34m:\u001b[0m\u001b[0;34m\u001b[0m\u001b[0;34m\u001b[0m\u001b[0m\n\u001b[1;32m     58\u001b[0m         \u001b[0;32mif\u001b[0m \u001b[0misinstance\u001b[0m\u001b[0;34m(\u001b[0m\u001b[0mitem\u001b[0m\u001b[0;34m,\u001b[0m \u001b[0mstr\u001b[0m\u001b[0;34m)\u001b[0m\u001b[0;34m:\u001b[0m\u001b[0;34m\u001b[0m\u001b[0;34m\u001b[0m\u001b[0m\n\u001b[0;32m---> 59\u001b[0;31m             \u001b[0mnew_points\u001b[0m\u001b[0;34m.\u001b[0m\u001b[0mappend\u001b[0m\u001b[0;34m(\u001b[0m\u001b[0mplot_regex_string\u001b[0m\u001b[0;34m(\u001b[0m\u001b[0mitem\u001b[0m\u001b[0;34m,\u001b[0m \u001b[0mmap_\u001b[0m\u001b[0;34m,\u001b[0m \u001b[0mx\u001b[0m\u001b[0;34m,\u001b[0m \u001b[0my\u001b[0m\u001b[0;34m)\u001b[0m\u001b[0;34m)\u001b[0m\u001b[0;34m\u001b[0m\u001b[0;34m\u001b[0m\u001b[0m\n\u001b[0m\u001b[1;32m     60\u001b[0m         \u001b[0;32melif\u001b[0m \u001b[0misinstance\u001b[0m\u001b[0;34m(\u001b[0m\u001b[0mitem\u001b[0m\u001b[0;34m,\u001b[0m \u001b[0mRegexGroup\u001b[0m\u001b[0;34m)\u001b[0m\u001b[0;34m:\u001b[0m\u001b[0;34m\u001b[0m\u001b[0;34m\u001b[0m\u001b[0m\n\u001b[1;32m     61\u001b[0m             \u001b[0;32mfor\u001b[0m \u001b[0mrl\u001b[0m \u001b[0;32min\u001b[0m \u001b[0mitem\u001b[0m\u001b[0;34m.\u001b[0m\u001b[0mitems\u001b[0m\u001b[0;34m:\u001b[0m\u001b[0;34m\u001b[0m\u001b[0;34m\u001b[0m\u001b[0m\n",
      "\u001b[0;32m<ipython-input-144-0ffd29c537ab>\u001b[0m in \u001b[0;36mplot_regex_string\u001b[0;34m(regex, map_, x, y)\u001b[0m\n\u001b[1;32m     12\u001b[0m         \u001b[0;32mif\u001b[0m \u001b[0mchar\u001b[0m \u001b[0;34m==\u001b[0m \u001b[0;34m'N'\u001b[0m\u001b[0;34m:\u001b[0m\u001b[0;34m\u001b[0m\u001b[0;34m\u001b[0m\u001b[0m\n\u001b[1;32m     13\u001b[0m             \u001b[0mmap_\u001b[0m\u001b[0;34m[\u001b[0m\u001b[0mx\u001b[0m\u001b[0;34m,\u001b[0m  \u001b[0my\u001b[0m\u001b[0;34m-\u001b[0m\u001b[0;36m1\u001b[0m\u001b[0;34m]\u001b[0m \u001b[0;34m=\u001b[0m \u001b[0;34m'-'\u001b[0m\u001b[0;34m\u001b[0m\u001b[0;34m\u001b[0m\u001b[0m\n\u001b[0;32m---> 14\u001b[0;31m             \u001b[0mmap_\u001b[0m\u001b[0;34m[\u001b[0m\u001b[0mx\u001b[0m  \u001b[0;34m,\u001b[0m\u001b[0my\u001b[0m\u001b[0;34m-\u001b[0m\u001b[0;36m2\u001b[0m\u001b[0;34m]\u001b[0m \u001b[0;34m=\u001b[0m \u001b[0;34m'.'\u001b[0m\u001b[0;34m\u001b[0m\u001b[0;34m\u001b[0m\u001b[0m\n\u001b[0m\u001b[1;32m     15\u001b[0m             \u001b[0mmap_\u001b[0m\u001b[0;34m[\u001b[0m\u001b[0mx\u001b[0m\u001b[0;34m-\u001b[0m\u001b[0;36m1\u001b[0m\u001b[0;34m,\u001b[0m\u001b[0my\u001b[0m\u001b[0;34m-\u001b[0m\u001b[0;36m3\u001b[0m\u001b[0;34m]\u001b[0m \u001b[0;34m=\u001b[0m \u001b[0;34m'#'\u001b[0m\u001b[0;34m\u001b[0m\u001b[0;34m\u001b[0m\u001b[0m\n\u001b[1;32m     16\u001b[0m             \u001b[0mmap_\u001b[0m\u001b[0;34m[\u001b[0m\u001b[0mx\u001b[0m\u001b[0;34m+\u001b[0m\u001b[0;36m1\u001b[0m\u001b[0;34m,\u001b[0m\u001b[0my\u001b[0m\u001b[0;34m-\u001b[0m\u001b[0;36m3\u001b[0m\u001b[0;34m]\u001b[0m \u001b[0;34m=\u001b[0m \u001b[0;34m'#'\u001b[0m\u001b[0;34m\u001b[0m\u001b[0;34m\u001b[0m\u001b[0m\n",
      "\u001b[0;31mKeyboardInterrupt\u001b[0m: "
     ]
    }
   ],
   "source": [
    "rg = RegexGroup()\n",
    "rl1 = RegexList()\n",
    "rl1.append('NNN')\n",
    "rg.add_item(rl1)\n",
    "rl1 = RegexList()\n",
    "rl1.append('EEE')\n",
    "rg.add_item(rl2)\n",
    "debug_plot_regex_item(rg, points=[(0,0)])"
   ]
  },
  {
   "cell_type": "code",
   "execution_count": 149,
   "metadata": {},
   "outputs": [
    {
     "ename": "KeyboardInterrupt",
     "evalue": "",
     "output_type": "error",
     "traceback": [
      "\u001b[0;31m---------------------------------------------------------------------------\u001b[0m",
      "\u001b[0;31mKeyboardInterrupt\u001b[0m                         Traceback (most recent call last)",
      "\u001b[0;32m<ipython-input-149-509b8d82bf9d>\u001b[0m in \u001b[0;36m<module>\u001b[0;34m()\u001b[0m\n\u001b[1;32m      1\u001b[0m \u001b[0;31m# Basic tests for groups. This should make a Y shape.\u001b[0m\u001b[0;34m\u001b[0m\u001b[0;34m\u001b[0m\u001b[0;34m\u001b[0m\u001b[0m\n\u001b[0;32m----> 2\u001b[0;31m \u001b[0mplot\u001b[0m\u001b[0;34m(\u001b[0m\u001b[0;34m'^NN(EE|WW)NN$'\u001b[0m\u001b[0;34m)\u001b[0m\u001b[0;34m\u001b[0m\u001b[0;34m\u001b[0m\u001b[0m\n\u001b[0m",
      "\u001b[0;32m<ipython-input-144-0ffd29c537ab>\u001b[0m in \u001b[0;36mplot\u001b[0;34m(regex)\u001b[0m\n\u001b[1;32m     80\u001b[0m     \u001b[0mregex_list\u001b[0m \u001b[0;34m=\u001b[0m \u001b[0mparse_tokens\u001b[0m\u001b[0;34m(\u001b[0m\u001b[0mtokens\u001b[0m\u001b[0;34m)\u001b[0m\u001b[0;34m\u001b[0m\u001b[0;34m\u001b[0m\u001b[0m\n\u001b[1;32m     81\u001b[0m     \u001b[0mmap_\u001b[0m \u001b[0;34m=\u001b[0m \u001b[0mcreate_map\u001b[0m\u001b[0;34m(\u001b[0m\u001b[0;34m)\u001b[0m\u001b[0;34m\u001b[0m\u001b[0;34m\u001b[0m\u001b[0m\n\u001b[0;32m---> 82\u001b[0;31m     \u001b[0mplot_regex_list\u001b[0m\u001b[0;34m(\u001b[0m\u001b[0mregex_list\u001b[0m\u001b[0;34m,\u001b[0m \u001b[0mmap_\u001b[0m\u001b[0;34m,\u001b[0m \u001b[0mpoints\u001b[0m\u001b[0;34m=\u001b[0m\u001b[0;34m[\u001b[0m\u001b[0;34m(\u001b[0m\u001b[0;36m0\u001b[0m\u001b[0;34m,\u001b[0m\u001b[0;36m0\u001b[0m\u001b[0;34m)\u001b[0m\u001b[0;34m]\u001b[0m\u001b[0;34m)\u001b[0m\u001b[0;34m\u001b[0m\u001b[0;34m\u001b[0m\u001b[0m\n\u001b[0m\u001b[1;32m     83\u001b[0m     \u001b[0mprint_map\u001b[0m\u001b[0;34m(\u001b[0m\u001b[0mmap_\u001b[0m\u001b[0;34m)\u001b[0m\u001b[0;34m\u001b[0m\u001b[0;34m\u001b[0m\u001b[0m\n",
      "\u001b[0;32m<ipython-input-144-0ffd29c537ab>\u001b[0m in \u001b[0;36mplot_regex_list\u001b[0;34m(regex_list, map_, points)\u001b[0m\n\u001b[1;32m     73\u001b[0m     a list of new endpoints. '''\n\u001b[1;32m     74\u001b[0m     \u001b[0;32mfor\u001b[0m \u001b[0mitem\u001b[0m \u001b[0;32min\u001b[0m \u001b[0mregex_list\u001b[0m\u001b[0;34m:\u001b[0m\u001b[0;34m\u001b[0m\u001b[0;34m\u001b[0m\u001b[0m\n\u001b[0;32m---> 75\u001b[0;31m         \u001b[0mpoints\u001b[0m \u001b[0;34m+=\u001b[0m \u001b[0mplot_regex_item\u001b[0m\u001b[0;34m(\u001b[0m\u001b[0mitem\u001b[0m\u001b[0;34m,\u001b[0m \u001b[0mmap_\u001b[0m\u001b[0;34m,\u001b[0m \u001b[0mpoints\u001b[0m\u001b[0;34m)\u001b[0m\u001b[0;34m\u001b[0m\u001b[0;34m\u001b[0m\u001b[0m\n\u001b[0m\u001b[1;32m     76\u001b[0m     \u001b[0;32mreturn\u001b[0m \u001b[0mpoints\u001b[0m\u001b[0;34m\u001b[0m\u001b[0;34m\u001b[0m\u001b[0m\n\u001b[1;32m     77\u001b[0m \u001b[0;34m\u001b[0m\u001b[0m\n",
      "\u001b[0;32m<ipython-input-144-0ffd29c537ab>\u001b[0m in \u001b[0;36mplot_regex_item\u001b[0;34m(item, map_, points)\u001b[0m\n\u001b[1;32m     60\u001b[0m         \u001b[0;32melif\u001b[0m \u001b[0misinstance\u001b[0m\u001b[0;34m(\u001b[0m\u001b[0mitem\u001b[0m\u001b[0;34m,\u001b[0m \u001b[0mRegexGroup\u001b[0m\u001b[0;34m)\u001b[0m\u001b[0;34m:\u001b[0m\u001b[0;34m\u001b[0m\u001b[0;34m\u001b[0m\u001b[0m\n\u001b[1;32m     61\u001b[0m             \u001b[0;32mfor\u001b[0m \u001b[0mrl\u001b[0m \u001b[0;32min\u001b[0m \u001b[0mitem\u001b[0m\u001b[0;34m.\u001b[0m\u001b[0mitems\u001b[0m\u001b[0;34m:\u001b[0m\u001b[0;34m\u001b[0m\u001b[0;34m\u001b[0m\u001b[0m\n\u001b[0;32m---> 62\u001b[0;31m                 \u001b[0mnew_points\u001b[0m \u001b[0;34m+=\u001b[0m \u001b[0mplot_regex_list\u001b[0m\u001b[0;34m(\u001b[0m\u001b[0mrl\u001b[0m\u001b[0;34m,\u001b[0m \u001b[0mmap_\u001b[0m\u001b[0;34m,\u001b[0m \u001b[0mpoints\u001b[0m\u001b[0;34m)\u001b[0m\u001b[0;34m\u001b[0m\u001b[0;34m\u001b[0m\u001b[0m\n\u001b[0m\u001b[1;32m     63\u001b[0m     \u001b[0;32mreturn\u001b[0m \u001b[0mnew_points\u001b[0m\u001b[0;34m\u001b[0m\u001b[0;34m\u001b[0m\u001b[0m\n\u001b[1;32m     64\u001b[0m \u001b[0;34m\u001b[0m\u001b[0m\n",
      "\u001b[0;32m<ipython-input-144-0ffd29c537ab>\u001b[0m in \u001b[0;36mplot_regex_list\u001b[0;34m(regex_list, map_, points)\u001b[0m\n\u001b[1;32m     73\u001b[0m     a list of new endpoints. '''\n\u001b[1;32m     74\u001b[0m     \u001b[0;32mfor\u001b[0m \u001b[0mitem\u001b[0m \u001b[0;32min\u001b[0m \u001b[0mregex_list\u001b[0m\u001b[0;34m:\u001b[0m\u001b[0;34m\u001b[0m\u001b[0;34m\u001b[0m\u001b[0m\n\u001b[0;32m---> 75\u001b[0;31m         \u001b[0mpoints\u001b[0m \u001b[0;34m+=\u001b[0m \u001b[0mplot_regex_item\u001b[0m\u001b[0;34m(\u001b[0m\u001b[0mitem\u001b[0m\u001b[0;34m,\u001b[0m \u001b[0mmap_\u001b[0m\u001b[0;34m,\u001b[0m \u001b[0mpoints\u001b[0m\u001b[0;34m)\u001b[0m\u001b[0;34m\u001b[0m\u001b[0;34m\u001b[0m\u001b[0m\n\u001b[0m\u001b[1;32m     76\u001b[0m     \u001b[0;32mreturn\u001b[0m \u001b[0mpoints\u001b[0m\u001b[0;34m\u001b[0m\u001b[0;34m\u001b[0m\u001b[0m\n\u001b[1;32m     77\u001b[0m \u001b[0;34m\u001b[0m\u001b[0m\n",
      "\u001b[0;32m<ipython-input-144-0ffd29c537ab>\u001b[0m in \u001b[0;36mplot_regex_item\u001b[0;34m(item, map_, points)\u001b[0m\n\u001b[1;32m     57\u001b[0m     \u001b[0;32mfor\u001b[0m \u001b[0mx\u001b[0m\u001b[0;34m,\u001b[0m \u001b[0my\u001b[0m \u001b[0;32min\u001b[0m \u001b[0mpoints\u001b[0m\u001b[0;34m:\u001b[0m\u001b[0;34m\u001b[0m\u001b[0;34m\u001b[0m\u001b[0m\n\u001b[1;32m     58\u001b[0m         \u001b[0;32mif\u001b[0m \u001b[0misinstance\u001b[0m\u001b[0;34m(\u001b[0m\u001b[0mitem\u001b[0m\u001b[0;34m,\u001b[0m \u001b[0mstr\u001b[0m\u001b[0;34m)\u001b[0m\u001b[0;34m:\u001b[0m\u001b[0;34m\u001b[0m\u001b[0;34m\u001b[0m\u001b[0m\n\u001b[0;32m---> 59\u001b[0;31m             \u001b[0mnew_points\u001b[0m\u001b[0;34m.\u001b[0m\u001b[0mappend\u001b[0m\u001b[0;34m(\u001b[0m\u001b[0mplot_regex_string\u001b[0m\u001b[0;34m(\u001b[0m\u001b[0mitem\u001b[0m\u001b[0;34m,\u001b[0m \u001b[0mmap_\u001b[0m\u001b[0;34m,\u001b[0m \u001b[0mx\u001b[0m\u001b[0;34m,\u001b[0m \u001b[0my\u001b[0m\u001b[0;34m)\u001b[0m\u001b[0;34m)\u001b[0m\u001b[0;34m\u001b[0m\u001b[0;34m\u001b[0m\u001b[0m\n\u001b[0m\u001b[1;32m     60\u001b[0m         \u001b[0;32melif\u001b[0m \u001b[0misinstance\u001b[0m\u001b[0;34m(\u001b[0m\u001b[0mitem\u001b[0m\u001b[0;34m,\u001b[0m \u001b[0mRegexGroup\u001b[0m\u001b[0;34m)\u001b[0m\u001b[0;34m:\u001b[0m\u001b[0;34m\u001b[0m\u001b[0;34m\u001b[0m\u001b[0m\n\u001b[1;32m     61\u001b[0m             \u001b[0;32mfor\u001b[0m \u001b[0mrl\u001b[0m \u001b[0;32min\u001b[0m \u001b[0mitem\u001b[0m\u001b[0;34m.\u001b[0m\u001b[0mitems\u001b[0m\u001b[0;34m:\u001b[0m\u001b[0;34m\u001b[0m\u001b[0;34m\u001b[0m\u001b[0m\n",
      "\u001b[0;32m<ipython-input-144-0ffd29c537ab>\u001b[0m in \u001b[0;36mplot_regex_string\u001b[0;34m(regex, map_, x, y)\u001b[0m\n\u001b[1;32m      9\u001b[0m             \u001b[0mmap_\u001b[0m\u001b[0;34m[\u001b[0m\u001b[0mqx\u001b[0m\u001b[0;34m,\u001b[0m\u001b[0mqy\u001b[0m\u001b[0;34m]\u001b[0m \u001b[0;34m=\u001b[0m \u001b[0;34m'?'\u001b[0m\u001b[0;34m\u001b[0m\u001b[0;34m\u001b[0m\u001b[0m\n\u001b[1;32m     10\u001b[0m \u001b[0;34m\u001b[0m\u001b[0m\n\u001b[0;32m---> 11\u001b[0;31m     \u001b[0;32mfor\u001b[0m \u001b[0mchar\u001b[0m \u001b[0;32min\u001b[0m \u001b[0mregex\u001b[0m\u001b[0;34m:\u001b[0m\u001b[0;34m\u001b[0m\u001b[0;34m\u001b[0m\u001b[0m\n\u001b[0m\u001b[1;32m     12\u001b[0m         \u001b[0;32mif\u001b[0m \u001b[0mchar\u001b[0m \u001b[0;34m==\u001b[0m \u001b[0;34m'N'\u001b[0m\u001b[0;34m:\u001b[0m\u001b[0;34m\u001b[0m\u001b[0;34m\u001b[0m\u001b[0m\n\u001b[1;32m     13\u001b[0m             \u001b[0mmap_\u001b[0m\u001b[0;34m[\u001b[0m\u001b[0mx\u001b[0m\u001b[0;34m,\u001b[0m  \u001b[0my\u001b[0m\u001b[0;34m-\u001b[0m\u001b[0;36m1\u001b[0m\u001b[0;34m]\u001b[0m \u001b[0;34m=\u001b[0m \u001b[0;34m'-'\u001b[0m\u001b[0;34m\u001b[0m\u001b[0;34m\u001b[0m\u001b[0m\n",
      "\u001b[0;31mKeyboardInterrupt\u001b[0m: "
     ]
    }
   ],
   "source": [
    "# Basic tests for groups. This should make a Y shape.\n",
    "plot('^NN(EE|WW)NN$')"
   ]
  },
  {
   "cell_type": "code",
   "execution_count": null,
   "metadata": {},
   "outputs": [],
   "source": []
  },
  {
   "cell_type": "code",
   "execution_count": null,
   "metadata": {},
   "outputs": [],
   "source": []
  },
  {
   "cell_type": "code",
   "execution_count": null,
   "metadata": {},
   "outputs": [],
   "source": []
  },
  {
   "cell_type": "code",
   "execution_count": null,
   "metadata": {},
   "outputs": [],
   "source": []
  },
  {
   "cell_type": "code",
   "execution_count": null,
   "metadata": {},
   "outputs": [],
   "source": []
  },
  {
   "cell_type": "markdown",
   "metadata": {},
   "source": [
    "# Part 2"
   ]
  },
  {
   "cell_type": "code",
   "execution_count": null,
   "metadata": {},
   "outputs": [],
   "source": []
  },
  {
   "cell_type": "code",
   "execution_count": null,
   "metadata": {},
   "outputs": [],
   "source": []
  },
  {
   "cell_type": "code",
   "execution_count": null,
   "metadata": {},
   "outputs": [],
   "source": []
  },
  {
   "cell_type": "code",
   "execution_count": null,
   "metadata": {},
   "outputs": [],
   "source": []
  },
  {
   "cell_type": "code",
   "execution_count": null,
   "metadata": {},
   "outputs": [],
   "source": []
  }
 ],
 "metadata": {
  "kernelspec": {
   "display_name": "Python 3",
   "language": "python",
   "name": "python3"
  },
  "language_info": {
   "codemirror_mode": {
    "name": "ipython",
    "version": 3
   },
   "file_extension": ".py",
   "mimetype": "text/x-python",
   "name": "python",
   "nbconvert_exporter": "python",
   "pygments_lexer": "ipython3",
   "version": "3.6.7"
  }
 },
 "nbformat": 4,
 "nbformat_minor": 2
}
