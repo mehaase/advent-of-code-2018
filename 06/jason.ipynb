{
 "cells": [
  {
   "cell_type": "code",
   "execution_count": 46,
   "metadata": {
    "collapsed": true
   },
   "outputs": [],
   "source": [
    "from pprint import pprint\n",
    "import numpy as np"
   ]
  },
  {
   "cell_type": "code",
   "execution_count": null,
   "metadata": {
    "collapsed": true
   },
   "outputs": [],
   "source": []
  },
  {
   "cell_type": "code",
   "execution_count": 42,
   "metadata": {
    "collapsed": false
   },
   "outputs": [],
   "source": [
    "with open('jason.1.input') as f:\n",
    "    data = [ (int(line.rstrip().strip().split(', ')[0]),int(line.rstrip().strip().split(', ')[1])) for line in f.readlines()]"
   ]
  },
  {
   "cell_type": "code",
   "execution_count": 57,
   "metadata": {
    "collapsed": false
   },
   "outputs": [
    {
     "name": "stdout",
     "output_type": "stream",
     "text": [
      "max X: 355\n",
      "max y: 353\n"
     ]
    }
   ],
   "source": [
    "print('max X:',max([int(e[0]) for e in data]))\n",
    "print('max y:',max([int(e[1]) for e in data]))"
   ]
  },
  {
   "cell_type": "code",
   "execution_count": 56,
   "metadata": {
    "collapsed": false
   },
   "outputs": [
    {
     "name": "stdout",
     "output_type": "stream",
     "text": [
      "3010\n",
      "48034\n"
     ]
    }
   ],
   "source": [
    "area_counts = [0 for i in range(len(data))]\n",
    "grid_x = 400\n",
    "grid_y = 400\n",
    "grid = [ ['.' for j in range(grid_y)] for i in range(grid_x)]\n",
    "infinite = [0 for i in range(len(data))]\n",
    "\n",
    "for i in range(grid_x):\n",
    "    for j in range(grid_y):\n",
    "        distances = [ abs(i-x)+abs(j-y) for x,y in data]\n",
    "        grid[i][j] = int(sum(distances) < 10000)\n",
    "        di = distances.index( min(distances))\n",
    "        if distances.count(min(distances))==1:            \n",
    "            area_counts[ di ] += 1\n",
    "            if i==grid_x-1 or j==grid_y-1 or i==0 or j==0:\n",
    "                infinite[di] = 1\n",
    "for i in range(len(area_counts)):\n",
    "    if infinite[i]:\n",
    "        area_counts[i] = 0\n",
    "        \n",
    "print(area_counts[area_counts.index(max(area_counts))])\n",
    "print(np.sum(np.array(grid)))"
   ]
  },
  {
   "cell_type": "code",
   "execution_count": null,
   "metadata": {
    "collapsed": false
   },
   "outputs": [],
   "source": []
  },
  {
   "cell_type": "code",
   "execution_count": 44,
   "metadata": {
    "collapsed": false
   },
   "outputs": [],
   "source": []
  },
  {
   "cell_type": "code",
   "execution_count": null,
   "metadata": {
    "collapsed": true
   },
   "outputs": [],
   "source": []
  },
  {
   "cell_type": "code",
   "execution_count": null,
   "metadata": {
    "collapsed": true
   },
   "outputs": [],
   "source": []
  }
 ],
 "metadata": {
  "kernelspec": {
   "display_name": "Python 3",
   "language": "python",
   "name": "python3"
  },
  "language_info": {
   "codemirror_mode": {
    "name": "ipython",
    "version": 3
   },
   "file_extension": ".py",
   "mimetype": "text/x-python",
   "name": "python",
   "nbconvert_exporter": "python",
   "pygments_lexer": "ipython3",
   "version": "3.5.4"
  }
 },
 "nbformat": 4,
 "nbformat_minor": 2
}
