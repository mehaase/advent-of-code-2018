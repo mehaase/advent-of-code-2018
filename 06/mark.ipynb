{
 "cells": [
  {
   "cell_type": "markdown",
   "metadata": {},
   "source": [
    "# Part 1\n",
    "\n",
    "I solved several challenges with dense matrices, so today I'm making a dense matrix class."
   ]
  },
  {
   "cell_type": "code",
   "execution_count": 1,
   "metadata": {},
   "outputs": [],
   "source": [
    "import itertools\n",
    "\n",
    "class Matrix:\n",
    "    def __init__(self, rows, cols, initial=None):\n",
    "        self._rows = rows\n",
    "        self._cols = cols\n",
    "        self._cells = [[initial] * cols for _ in range(rows)]\n",
    "    \n",
    "    def __repr__(self):\n",
    "        return 'Matrix<{}x{}>'.format(self.rows, self.cols)\n",
    "    \n",
    "    def __str__(self):\n",
    "        render = ''\n",
    "        for row in self._cells:\n",
    "            render += ''.join('·' if v is None else str(v) for v in row) + '\\n'\n",
    "        return render\n",
    "\n",
    "    def __getitem__(self, key):\n",
    "        row, col = key\n",
    "        if row < 0 or row >= self._rows or col < 0 or col >= self._cols:\n",
    "            raise KeyError(key)\n",
    "        return self._cells[row][col]\n",
    "    \n",
    "    def __setitem__(self, key, val):\n",
    "        row, col = key\n",
    "        if row < 0 or row >= self._rows or col < 0 or col >= self._cols:\n",
    "            raise KeyError(key)\n",
    "        self._cells[row][col] = val\n",
    "    \n",
    "    def clone(self):\n",
    "        m = Matrix(self._rows, self._cols)\n",
    "        for row, col in itertools.product(range(self._rows), range(self._cols)):\n",
    "            m[row,col] = self[row,col]\n",
    "        return m\n",
    "\n",
    "    def get(self, row, col, default=None):\n",
    "        try:\n",
    "            return self[row,col]\n",
    "        except (IndexError,KeyError):\n",
    "            return default\n",
    "    \n",
    "    @property\n",
    "    def size(self):\n",
    "        return self._rows, self._cols\n",
    "\n",
    "    def values(self):\n",
    "        for row, col in itertools.product(range(self._rows), range(self._cols)):\n",
    "            yield self[row, col]"
   ]
  },
  {
   "cell_type": "code",
   "execution_count": 2,
   "metadata": {},
   "outputs": [
    {
     "name": "stdout",
     "output_type": "stream",
     "text": [
      "·····\n",
      "·····\n",
      "·····\n",
      "\n",
      "(3, 5)\n"
     ]
    }
   ],
   "source": [
    "m = Matrix(3, 5)\n",
    "print(m)\n",
    "print(m.size)"
   ]
  },
  {
   "cell_type": "code",
   "execution_count": 3,
   "metadata": {},
   "outputs": [
    {
     "name": "stdout",
     "output_type": "stream",
     "text": [
      "A····\n",
      "·B···\n",
      "····C\n",
      "\n",
      "A····\n",
      "·B···\n",
      "·····\n",
      "\n"
     ]
    }
   ],
   "source": [
    "m[0,0] = 'A'\n",
    "m[1,1] = 'B'\n",
    "m2 = m.clone()\n",
    "m[2,4] = 'C'\n",
    "print(m)\n",
    "print(m2)"
   ]
  },
  {
   "cell_type": "code",
   "execution_count": 4,
   "metadata": {},
   "outputs": [
    {
     "name": "stdout",
     "output_type": "stream",
     "text": [
      "['A', None, None, None, None, None, 'B', None, None, None, None, None, None, None, None]\n"
     ]
    }
   ],
   "source": [
    "print(list(m2.values()))"
   ]
  },
  {
   "cell_type": "markdown",
   "metadata": {},
   "source": [
    "My biggest question is how big the input will be. How many coordinates? How big of a matrix?"
   ]
  },
  {
   "cell_type": "code",
   "execution_count": 5,
   "metadata": {},
   "outputs": [
    {
     "name": "stdout",
     "output_type": "stream",
     "text": [
      "[(292, 152), (90, 163), (65, 258), (147, 123), (42, 342)]\n",
      "50\n"
     ]
    }
   ],
   "source": [
    "# I've flipped each coordinate, because I like the (row,column) coordinates.\n",
    "coordinates = list()\n",
    "with open('input.txt') as input_:\n",
    "    for line in input_:\n",
    "        col, row = tuple(map(int, line.split(',')))\n",
    "        coordinates.append((row, col))\n",
    "print(coordinates[:5])\n",
    "print(len(coordinates))"
   ]
  },
  {
   "cell_type": "code",
   "execution_count": 6,
   "metadata": {},
   "outputs": [
    {
     "name": "stdout",
     "output_type": "stream",
     "text": [
      "min row 42\n",
      "max row 356\n",
      "min col 40\n",
      "max col 359\n"
     ]
    }
   ],
   "source": [
    "print('min row', min(c[0] for c in coordinates))\n",
    "print('max row', max(c[0] for c in coordinates))\n",
    "print('min col', min(c[1] for c in coordinates))\n",
    "print('max col', max(c[1] for c in coordinates))"
   ]
  },
  {
   "cell_type": "markdown",
   "metadata": {},
   "source": [
    "Ok so I think I should take each cell and compute its manhattan distance to each coordinate. This seems pretty expensive: R * C * len(coordinates) but maybe it could work."
   ]
  },
  {
   "cell_type": "code",
   "execution_count": 7,
   "metadata": {},
   "outputs": [],
   "source": [
    "import collections\n",
    "import heapq\n",
    "import string\n",
    "\n",
    "names = string.ascii_uppercase + string.ascii_lowercase\n",
    "\n",
    "def manhattan(mat, coordinates):\n",
    "    ''' Label each cell with its closest coordinate. '''\n",
    "    rows, cols = mat.size\n",
    "    for mrow, mcol in itertools.product(range(0, rows), range(0, cols)):\n",
    "        # Create a heap, where each value is a tuple (dist, name)\n",
    "        distances = list()\n",
    "        for i, (crow, ccol) in enumerate(coordinates):\n",
    "            name = names[i]\n",
    "            dist = abs(mrow-crow) + abs(mcol-ccol)\n",
    "            heapq.heappush(distances, (dist, name))\n",
    "        first = heapq.heappop(distances)\n",
    "        second = heapq.heappop(distances)\n",
    "        # We only save a value if the first and second values are different, i.e.\n",
    "        # one of the coordinates is closer than the other.\n",
    "        if first[0] != second[0]:\n",
    "            mat[mrow, mcol] = first[1]"
   ]
  },
  {
   "cell_type": "code",
   "execution_count": 8,
   "metadata": {},
   "outputs": [
    {
     "name": "stdout",
     "output_type": "stream",
     "text": [
      "··········\n",
      "·0········\n",
      "··········\n",
      "········2·\n",
      "···3······\n",
      "·····4····\n",
      "·1········\n",
      "··········\n",
      "··········\n",
      "········5·\n",
      "··········\n",
      "\n"
     ]
    }
   ],
   "source": [
    "# I've flipped each coordinate, because I like the (row,column) coordinates.\n",
    "test = [\n",
    "    (1, 1),\n",
    "    (6, 1),\n",
    "    (3, 8),\n",
    "    (4, 3),\n",
    "    (5, 5),\n",
    "    (9, 8),\n",
    "]\n",
    "m = Matrix(11, 10)\n",
    "for i, c in enumerate(test):\n",
    "    m[c] = i\n",
    "print(m)"
   ]
  },
  {
   "cell_type": "code",
   "execution_count": 9,
   "metadata": {},
   "outputs": [
    {
     "name": "stdout",
     "output_type": "stream",
     "text": [
      "CPU times: user 324 µs, sys: 44 µs, total: 368 µs\n",
      "Wall time: 370 µs\n"
     ]
    }
   ],
   "source": [
    "%%time\n",
    "manhattan(m, test)"
   ]
  },
  {
   "cell_type": "code",
   "execution_count": 10,
   "metadata": {},
   "outputs": [
    {
     "name": "stdout",
     "output_type": "stream",
     "text": [
      "AAAAA·CCCC\n",
      "AAAAA·CCCC\n",
      "AAADDECCCC\n",
      "AADDDECCCC\n",
      "··DDDEECCC\n",
      "BB·DEEEECC\n",
      "BBB·EEEE··\n",
      "BBB·EEEFFF\n",
      "BBB·EEFFFF\n",
      "BBB·FFFFFF\n",
      "BBB·FFFFFF\n",
      "\n"
     ]
    }
   ],
   "source": [
    "print(m)"
   ]
  },
  {
   "cell_type": "markdown",
   "metadata": {},
   "source": [
    "Great, this matches the test case! Now let's try it on the full data set."
   ]
  },
  {
   "cell_type": "code",
   "execution_count": 11,
   "metadata": {},
   "outputs": [
    {
     "name": "stdout",
     "output_type": "stream",
     "text": [
      "CPU times: user 2.87 s, sys: 0 ns, total: 2.87 s\n",
      "Wall time: 2.87 s\n"
     ]
    }
   ],
   "source": [
    "%%time\n",
    "m = Matrix(400, 400)\n",
    "manhattan(m, coordinates)"
   ]
  },
  {
   "cell_type": "code",
   "execution_count": null,
   "metadata": {},
   "outputs": [],
   "source": [
    "# helpful for debugging but takes up a lot of space:\n",
    "# print(m)"
   ]
  },
  {
   "cell_type": "code",
   "execution_count": 12,
   "metadata": {},
   "outputs": [
    {
     "name": "stdout",
     "output_type": "stream",
     "text": [
      "[('Z', 11095), ('i', 8627), ('c', 7507)]\n"
     ]
    }
   ],
   "source": [
    "# Now lets count how many of each letter there are in the matrix\n",
    "name_count = collections.Counter(m.values())\n",
    "print(name_count.most_common(3))"
   ]
  },
  {
   "cell_type": "markdown",
   "metadata": {},
   "source": [
    "I can verify the name counts by printing the matrix, putting into a text editor, and doing a case-sensitive search for the letter Z. I get the same result: 11,095.\n"
   ]
  },
  {
   "cell_type": "code",
   "execution_count": 16,
   "metadata": {},
   "outputs": [],
   "source": [
    "# Now we need to remove all letters that touch the edges.\n",
    "def get_edge_names(mat):\n",
    "    ''' Return set of names of all areas that touch the edge of the matrix. '''\n",
    "    edge_names = set()\n",
    "    rows, cols = mat.size\n",
    "    for row in range(rows):\n",
    "        edge_names.add(mat[row,0])\n",
    "        edge_names.add(mat[row,cols-1])\n",
    "    for col in range(cols):\n",
    "        edge_names.add(mat[0,col])\n",
    "        edge_names.add(mat[rows-1,col])\n",
    "    return edge_names"
   ]
  },
  {
   "cell_type": "code",
   "execution_count": 18,
   "metadata": {},
   "outputs": [
    {
     "name": "stdout",
     "output_type": "stream",
     "text": [
      "25\n",
      "{'o', 'Z', 'F', 'r', 'G', 'h', 'q', 'K', 'H', 'j', 'M', None, 'W', 'Q', 'f', 'C', 'S', 't', 'c', 'P', 's', 'x', 'i', 'n', 'E'}\n"
     ]
    }
   ],
   "source": [
    "edge_names = get_edge_names(m)\n",
    "print(len(edge_names))\n",
    "print(edge_names)"
   ]
  },
  {
   "cell_type": "code",
   "execution_count": 19,
   "metadata": {},
   "outputs": [
    {
     "name": "stdout",
     "output_type": "stream",
     "text": [
      "51\n",
      "26\n"
     ]
    }
   ],
   "source": [
    "print(len(name_count))\n",
    "for edge_name in edge_names:\n",
    "    name_count.pop(edge_name)\n",
    "print(len(name_count))"
   ]
  },
  {
   "cell_type": "code",
   "execution_count": 20,
   "metadata": {},
   "outputs": [
    {
     "data": {
      "text/plain": [
       "[('V', 3687)]"
      ]
     },
     "execution_count": 20,
     "metadata": {},
     "output_type": "execute_result"
    }
   ],
   "source": [
    "# Now the count of most common name should be the solution:\n",
    "name_count.most_common(1)"
   ]
  },
  {
   "cell_type": "markdown",
   "metadata": {},
   "source": [
    "# Part 2"
   ]
  },
  {
   "cell_type": "code",
   "execution_count": 21,
   "metadata": {},
   "outputs": [],
   "source": [
    "def manhattan2(mat, coordinates, threshold):\n",
    "    ''' Label cells that have cumulative distance < threshold. '''\n",
    "    rows, cols = mat.size\n",
    "    for mrow, mcol in itertools.product(range(0, rows), range(0, cols)):\n",
    "        distance = 0\n",
    "        for i, (crow, ccol) in enumerate(coordinates):\n",
    "            distance += abs(mrow-crow) + abs(mcol-ccol)\n",
    "        if distance < threshold:\n",
    "            mat[mrow, mcol] = '#'"
   ]
  },
  {
   "cell_type": "code",
   "execution_count": 22,
   "metadata": {},
   "outputs": [
    {
     "name": "stdout",
     "output_type": "stream",
     "text": [
      "··········\n",
      "·0········\n",
      "··········\n",
      "········2·\n",
      "···3······\n",
      "·····4····\n",
      "·1········\n",
      "··········\n",
      "··········\n",
      "········5·\n",
      "··········\n",
      "\n"
     ]
    }
   ],
   "source": [
    "# I've flipped each coordinate, because I like the (row,column) coordinates.\n",
    "test = [\n",
    "    (1, 1),\n",
    "    (6, 1),\n",
    "    (3, 8),\n",
    "    (4, 3),\n",
    "    (5, 5),\n",
    "    (9, 8),\n",
    "]\n",
    "m = Matrix(11, 10)\n",
    "for i, c in enumerate(test):\n",
    "    m[c] = i\n",
    "print(m)"
   ]
  },
  {
   "cell_type": "code",
   "execution_count": 23,
   "metadata": {},
   "outputs": [
    {
     "name": "stdout",
     "output_type": "stream",
     "text": [
      "··········\n",
      "·0········\n",
      "··········\n",
      "···###··2·\n",
      "··#####···\n",
      "··#####···\n",
      "·1·###····\n",
      "··········\n",
      "··········\n",
      "········5·\n",
      "··········\n",
      "\n",
      "CPU times: user 429 µs, sys: 11 µs, total: 440 µs\n",
      "Wall time: 423 µs\n"
     ]
    }
   ],
   "source": [
    "%%time\n",
    "manhattan2(m, test, 32)\n",
    "print(m)"
   ]
  },
  {
   "cell_type": "markdown",
   "metadata": {},
   "source": [
    "This matches the test case, so let's move onto full data set."
   ]
  },
  {
   "cell_type": "code",
   "execution_count": 24,
   "metadata": {},
   "outputs": [
    {
     "name": "stdout",
     "output_type": "stream",
     "text": [
      "CPU times: user 1.34 s, sys: 0 ns, total: 1.34 s\n",
      "Wall time: 1.34 s\n"
     ]
    }
   ],
   "source": [
    "%%time\n",
    "m = Matrix(400, 400)\n",
    "manhattan2(m, coordinates, 10_000)"
   ]
  },
  {
   "cell_type": "code",
   "execution_count": null,
   "metadata": {},
   "outputs": [],
   "source": [
    "# helpful for debugging but takes up a lot of space:\n",
    "# print(m)"
   ]
  },
  {
   "cell_type": "code",
   "execution_count": 26,
   "metadata": {},
   "outputs": [
    {
     "name": "stdout",
     "output_type": "stream",
     "text": [
      "[('#', 40134)]\n"
     ]
    }
   ],
   "source": [
    "# Count the number of '#' characters\n",
    "hash_count = collections.Counter(m.values())\n",
    "hash_count.pop(None)\n",
    "print(hash_count.most_common(1))"
   ]
  }
 ],
 "metadata": {
  "kernelspec": {
   "display_name": "Python 3",
   "language": "python",
   "name": "python3"
  },
  "language_info": {
   "codemirror_mode": {
    "name": "ipython",
    "version": 3
   },
   "file_extension": ".py",
   "mimetype": "text/x-python",
   "name": "python",
   "nbconvert_exporter": "python",
   "pygments_lexer": "ipython3",
   "version": "3.6.7"
  }
 },
 "nbformat": 4,
 "nbformat_minor": 2
}
