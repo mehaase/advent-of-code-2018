{
 "cells": [
  {
   "cell_type": "markdown",
   "metadata": {},
   "source": [
    "# Part 1"
   ]
  },
  {
   "cell_type": "code",
   "execution_count": 1,
   "metadata": {},
   "outputs": [],
   "source": [
    "import re\n",
    "\n",
    "step_re = re.compile(r'^Step (\\w) must be finished before step (\\w) can begin.$')\n",
    "\n",
    "def parse_step(text):\n",
    "    ''' Parse a line and return a tuple. '''\n",
    "    match = step_re.match(text)\n",
    "    if not match:\n",
    "        raise Exception('Cannot parse step: {}'.format(text))\n",
    "    return match.group(1,2)"
   ]
  },
  {
   "cell_type": "code",
   "execution_count": 2,
   "metadata": {},
   "outputs": [
    {
     "data": {
      "text/plain": [
       "('T', 'X')"
      ]
     },
     "execution_count": 2,
     "metadata": {},
     "output_type": "execute_result"
    }
   ],
   "source": [
    "parse_step('Step T must be finished before step X can begin.')"
   ]
  },
  {
   "cell_type": "code",
   "execution_count": 3,
   "metadata": {},
   "outputs": [],
   "source": [
    "test_text = '''Step C must be finished before step A can begin.\n",
    "Step C must be finished before step F can begin.\n",
    "Step A must be finished before step B can begin.\n",
    "Step A must be finished before step D can begin.\n",
    "Step B must be finished before step E can begin.\n",
    "Step D must be finished before step E can begin.\n",
    "Step F must be finished before step E can begin.'''"
   ]
  },
  {
   "cell_type": "code",
   "execution_count": 4,
   "metadata": {},
   "outputs": [],
   "source": [
    "import collections\n",
    "\n",
    "def parse_steps(text):\n",
    "    '''\n",
    "    Build up a tree from a list of instructions.\n",
    "    \n",
    "    The tree is a dictionary where the key is a step name\n",
    "    and the value is a list of steps that depend on that step.\n",
    "    i.e. {'A':['B','C']} means that A is the root and has edges pointing at B\n",
    "    and C.\n",
    "    '''\n",
    "    steps = collections.defaultdict(list)\n",
    "    for line in text.split('\\n'):\n",
    "        parent, child = parse_step(line)\n",
    "        steps[parent].append(child)\n",
    "    return steps"
   ]
  },
  {
   "cell_type": "code",
   "execution_count": 5,
   "metadata": {},
   "outputs": [
    {
     "name": "stdout",
     "output_type": "stream",
     "text": [
      "defaultdict(<class 'list'>, {'C': ['A', 'F'], 'A': ['B', 'D'], 'B': ['E'], 'D': ['E'], 'F': ['E']})\n"
     ]
    }
   ],
   "source": [
    "test_steps = parse_steps(test_text)\n",
    "print(test_steps)"
   ]
  },
  {
   "cell_type": "code",
   "execution_count": 6,
   "metadata": {},
   "outputs": [],
   "source": [
    "def find_roots(steps):\n",
    "    ''' For a given list of steps, find the root nodes, i.e. the ones with \n",
    "    zero inbound edges. '''\n",
    "    parent_nodes = set(steps.keys())\n",
    "    child_nodes = set()\n",
    "    for parent, children in steps.items():\n",
    "        child_nodes.update(children)\n",
    "    return parent_nodes - child_nodes"
   ]
  },
  {
   "cell_type": "code",
   "execution_count": 7,
   "metadata": {},
   "outputs": [
    {
     "name": "stdout",
     "output_type": "stream",
     "text": [
      "{'C'}\n"
     ]
    }
   ],
   "source": [
    "print(find_roots(test_steps))"
   ]
  },
  {
   "cell_type": "code",
   "execution_count": 8,
   "metadata": {},
   "outputs": [],
   "source": [
    "def order_steps(steps):\n",
    "    ''' Starting from root, traverse the tree and return a list of nodes. '''\n",
    "    # Construct tree with reversed edges:\n",
    "    backlinks = collections.defaultdict(set)\n",
    "    for parent, children in steps.items():\n",
    "        for child in children:\n",
    "            backlinks[child].add(parent)\n",
    "    roots = find_roots(steps)\n",
    "    for root in roots:\n",
    "        backlinks[root] = set()\n",
    "    # The problem roughly describes the algorithm to use, so I've tried to translate\n",
    "    # that prose into code.\n",
    "    available = roots\n",
    "    visited = set()\n",
    "    ordered = list()\n",
    "    while available:\n",
    "        # Find a node who's dependencies are satisfied:\n",
    "        for node in sorted(available):\n",
    "            if backlinks[node].issubset(visited):\n",
    "                ordered.append(node)\n",
    "                visited.add(node)\n",
    "                available.remove(node)\n",
    "                available.update(steps[node])\n",
    "                break\n",
    "        else:\n",
    "            raise Exception('Did not find a suitable node')\n",
    "    return ''.join(ordered)"
   ]
  },
  {
   "cell_type": "code",
   "execution_count": 9,
   "metadata": {},
   "outputs": [
    {
     "name": "stdout",
     "output_type": "stream",
     "text": [
      "CABDFE\n"
     ]
    }
   ],
   "source": [
    "print(order_steps(test_steps))"
   ]
  },
  {
   "cell_type": "code",
   "execution_count": 10,
   "metadata": {},
   "outputs": [],
   "source": [
    "with open('input.txt') as input_:\n",
    "    steps = parse_steps(input_.read().strip())"
   ]
  },
  {
   "cell_type": "code",
   "execution_count": 11,
   "metadata": {},
   "outputs": [
    {
     "name": "stdout",
     "output_type": "stream",
     "text": [
      "GKPTSLUXBIJMNCADFOVHEWYQRZ\n"
     ]
    }
   ],
   "source": [
    "print(order_steps(steps))"
   ]
  },
  {
   "cell_type": "markdown",
   "metadata": {},
   "source": [
    "# Part 2"
   ]
  },
  {
   "cell_type": "code",
   "execution_count": 12,
   "metadata": {},
   "outputs": [],
   "source": [
    "import itertools\n",
    "\n",
    "def time_steps(steps, n_workers, step_time=60, debug=False):\n",
    "    ''' Starting from root, traverse the tree and return a list of nodes. '''\n",
    "    # Construct tree with reversed edges:\n",
    "    backlinks = collections.defaultdict(set)\n",
    "    for parent, children in steps.items():\n",
    "        for child in children:\n",
    "            backlinks[child].add(parent)\n",
    "    roots = find_roots(steps)\n",
    "    for root in roots:\n",
    "        backlinks[root] = set()\n",
    "    # The problem roughly describes the algorithm to use, so I've tried to translate\n",
    "    # that prose into code.\n",
    "    available = roots\n",
    "    visited = set()\n",
    "    ordered = list()\n",
    "    worker_tasks = [None] * n_workers\n",
    "    \n",
    "    def next_task():\n",
    "        for task in sorted(available):\n",
    "            if backlinks[task].issubset(visited):\n",
    "                available.remove(task)\n",
    "                return task\n",
    "        return None\n",
    "    \n",
    "    for t in itertools.count():\n",
    "        # Assign steps to idle workers\n",
    "        for i in range(len(worker_tasks)):\n",
    "            if worker_tasks[i] is None:\n",
    "                task = next_task()\n",
    "                if task is None:\n",
    "                    break\n",
    "                worker_tasks[i] = task, ord(task) - 64 + step_time\n",
    "        \n",
    "        # For debugging, print the same table as shown in the problem:\n",
    "        if debug:\n",
    "            task_debug = ' '.join('{}-{:02}'.format(*t) if t else '   .' for t in worker_tasks)\n",
    "            print('{:02} {} {}'.format(t, task_debug, ''.join(ordered)))\n",
    "        \n",
    "        # Decrement each task's remaining time\n",
    "        for i in range(len(worker_tasks)):\n",
    "            if worker_tasks[i] is not None:\n",
    "                worker_tasks[i] = worker_tasks[i][0], worker_tasks[i][1] - 1\n",
    "                if worker_tasks[i][1] == 0:\n",
    "                    name = worker_tasks[i][0]\n",
    "                    ordered.append(name)\n",
    "                    visited.add(name)\n",
    "                    available.update(steps[name])\n",
    "                    worker_tasks[i] = None\n",
    "        \n",
    "        # End when all tasks are complete\n",
    "        if not available and not any(worker_tasks):\n",
    "            break\n",
    "    return t + 1"
   ]
  },
  {
   "cell_type": "code",
   "execution_count": 13,
   "metadata": {},
   "outputs": [
    {
     "name": "stdout",
     "output_type": "stream",
     "text": [
      "00 C-03    . \n",
      "01 C-02    . \n",
      "02 C-01    . \n",
      "03 A-01 F-06 C\n",
      "04 B-02 F-05 CA\n",
      "05 B-01 F-04 CA\n",
      "06 D-04 F-03 CAB\n",
      "07 D-03 F-02 CAB\n",
      "08 D-02 F-01 CAB\n",
      "09 D-01    . CABF\n",
      "10 E-05    . CABFD\n",
      "11 E-04    . CABFD\n",
      "12 E-03    . CABFD\n",
      "13 E-02    . CABFD\n",
      "14 E-01    . CABFD\n"
     ]
    },
    {
     "data": {
      "text/plain": [
       "15"
      ]
     },
     "execution_count": 13,
     "metadata": {},
     "output_type": "execute_result"
    }
   ],
   "source": [
    "time_steps(test_steps, 2, step_time=0, debug=True)"
   ]
  },
  {
   "cell_type": "code",
   "execution_count": 14,
   "metadata": {},
   "outputs": [
    {
     "data": {
      "text/plain": [
       "920"
      ]
     },
     "execution_count": 14,
     "metadata": {},
     "output_type": "execute_result"
    }
   ],
   "source": [
    "time_steps(steps, 5)"
   ]
  }
 ],
 "metadata": {
  "kernelspec": {
   "display_name": "Python 3",
   "language": "python",
   "name": "python3"
  },
  "language_info": {
   "codemirror_mode": {
    "name": "ipython",
    "version": 3
   },
   "file_extension": ".py",
   "mimetype": "text/x-python",
   "name": "python",
   "nbconvert_exporter": "python",
   "pygments_lexer": "ipython3",
   "version": "3.6.7"
  }
 },
 "nbformat": 4,
 "nbformat_minor": 2
}
